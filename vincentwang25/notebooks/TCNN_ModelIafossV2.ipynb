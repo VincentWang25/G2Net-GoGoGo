{
 "cells": [
  {
   "cell_type": "markdown",
   "metadata": {
    "id": "dd22902b-841f-41c9-a66f-77395174ae4c"
   },
   "source": [
    "# library"
   ]
  },
  {
   "cell_type": "code",
   "execution_count": 1,
   "metadata": {
    "executionInfo": {
     "elapsed": 43765,
     "status": "ok",
     "timestamp": 1632413909383,
     "user": {
      "displayName": "Vincent wang",
      "photoUrl": "https://lh3.googleusercontent.com/a/default-user=s64",
      "userId": "14844584715436552936"
     },
     "user_tz": 240
    },
    "id": "55bb6b65-2c6f-453d-8b6f-c6bf386f446a"
   },
   "outputs": [],
   "source": [
    "# %%capture\n",
    "# # !pip install -q nnAudio\n",
    "# !pip install -q --upgrade wandb\n",
    "# !pip install -q grad-cam\n",
    "# # !pip install -q ttach\n",
    "# # !pip install efficientnet_pytorch\n",
    "# # !pip install albumentations\n",
    "# !pip install line_profiler\n",
    "# !pip install transformers\n",
    "# !pip install audiomentations\n",
    "# !pip3 install pydub\n",
    "# !pip install \"ipykernel<6\"\n",
    "# !pip install \"jupyterlab<3.1\"\n",
    "# !pip3 install pickle5 #!!"
   ]
  },
  {
   "cell_type": "code",
   "execution_count": 2,
   "metadata": {},
   "outputs": [],
   "source": [
    "%load_ext autoreload\n",
    "%autoreload 2"
   ]
  },
  {
   "cell_type": "code",
   "execution_count": 3,
   "metadata": {
    "executionInfo": {
     "elapsed": 5231,
     "status": "ok",
     "timestamp": 1632413914603,
     "user": {
      "displayName": "Vincent wang",
      "photoUrl": "https://lh3.googleusercontent.com/a/default-user=s64",
      "userId": "14844584715436552936"
     },
     "user_tz": 240
    },
    "id": "171b030f-1a09-489c-8b3a-c574d306ade7"
   },
   "outputs": [
    {
     "name": "stderr",
     "output_type": "stream",
     "text": [
      "/opt/conda/lib/python3.8/site-packages/pydub/utils.py:170: RuntimeWarning: Couldn't find ffmpeg or avconv - defaulting to ffmpeg, but may not work\n",
      "  warn(\"Couldn't find ffmpeg or avconv - defaulting to ffmpeg, but may not work\", RuntimeWarning)\n"
     ]
    }
   ],
   "source": [
    "import os\n",
    "import gc\n",
    "import json\n",
    "import random\n",
    "from datetime import datetime\n",
    "import time\n",
    "import collections\n",
    "import itertools\n",
    "from itertools import chain, combinations\n",
    "import sys\n",
    "import json\n",
    "import wandb\n",
    "\n",
    "import h5py\n",
    "from glob import glob\n",
    "#import pickle\n",
    "import pickle5 as pickle #!!\n",
    "\n",
    "import scipy as sp\n",
    "import numpy as np\n",
    "np.set_printoptions(precision=5, suppress=True) \n",
    "\n",
    "from tqdm import tqdm\n",
    "\n",
    "import pandas as pd\n",
    "import matplotlib.pyplot as plt\n",
    "#import seaborn as sns\n",
    "from sklearn.metrics import roc_auc_score\n",
    "from sklearn.model_selection import StratifiedKFold, GroupKFold, KFold\n",
    "from scipy import signal\n",
    "\n",
    "import IPython.display\n",
    "from tqdm.auto import tqdm\n",
    "from skimage.transform import resize\n",
    "\n",
    "import torch\n",
    "from torch import nn\n",
    "from torch.utils.data import DataLoader, Dataset\n",
    "from torch.nn import functional as torch_functional\n",
    "from torch.optim import Adam, SGD, AdamW\n",
    "from torch.optim.lr_scheduler import (CosineAnnealingWarmRestarts,\n",
    "                    CosineAnnealingLR, ReduceLROnPlateau,_LRScheduler,CyclicLR)\n",
    "from torch.cuda.amp import autocast, GradScaler\n",
    "\n",
    "from transformers import get_cosine_schedule_with_warmup\n",
    "\n",
    "from torch.optim.swa_utils import update_bn, AveragedModel, SWALR\n",
    "\n",
    "import audiomentations as A\n",
    "from audiomentations import Compose, AddGaussianNoise, TimeStretch, PitchShift, Shift, PolarityInversion\n",
    "\n",
    "from time import sleep\n",
    "\n",
    "from models import *\n",
    "from util import TTA"
   ]
  },
  {
   "cell_type": "code",
   "execution_count": 4,
   "metadata": {},
   "outputs": [],
   "source": [
    "from jarviscloud import jarviscloud"
   ]
  },
  {
   "cell_type": "code",
   "execution_count": 5,
   "metadata": {
    "executionInfo": {
     "elapsed": 19,
     "status": "ok",
     "timestamp": 1632413914607,
     "user": {
      "displayName": "Vincent wang",
      "photoUrl": "https://lh3.googleusercontent.com/a/default-user=s64",
      "userId": "14844584715436552936"
     },
     "user_tz": 240
    },
    "id": "cd075088-f395-437c-a176-da7bf90a4fb3"
   },
   "outputs": [],
   "source": [
    "%load_ext line_profiler"
   ]
  },
  {
   "cell_type": "code",
   "execution_count": 6,
   "metadata": {
    "colab": {
     "base_uri": "https://localhost:8080/"
    },
    "executionInfo": {
     "elapsed": 72707,
     "status": "ok",
     "timestamp": 1632415147616,
     "user": {
      "displayName": "Vincent wang",
      "photoUrl": "https://lh3.googleusercontent.com/a/default-user=s64",
      "userId": "14844584715436552936"
     },
     "user_tz": 240
    },
    "id": "8g5LzY4qgY0c",
    "outputId": "c066a74e-462d-47c8-fd85-e89c01113d14"
   },
   "outputs": [
    {
     "data": {
      "text/plain": [
       "300000"
      ]
     },
     "execution_count": 6,
     "metadata": {},
     "output_type": "execute_result"
    }
   ],
   "source": [
    "with open('./input/GW_sim_300k.pkl', 'rb') as handle:\n",
    "    SIGNAL_DICT = pickle.load(handle)\n",
    "len(SIGNAL_DICT)"
   ]
  },
  {
   "cell_type": "code",
   "execution_count": 7,
   "metadata": {
    "colab": {
     "base_uri": "https://localhost:8080/",
     "height": 281
    },
    "executionInfo": {
     "elapsed": 378,
     "status": "ok",
     "timestamp": 1632415147979,
     "user": {
      "displayName": "Vincent wang",
      "photoUrl": "https://lh3.googleusercontent.com/a/default-user=s64",
      "userId": "14844584715436552936"
     },
     "user_tz": 240
    },
    "id": "hNYduix9gakU",
    "outputId": "3c969359-0f75-4c14-db81-59dbe4f07a08"
   },
   "outputs": [
    {
     "data": {
      "text/plain": [
       "[<matplotlib.lines.Line2D at 0x7effe09c1f40>]"
      ]
     },
     "execution_count": 7,
     "metadata": {},
     "output_type": "execute_result"
    },
    {
     "data": {
      "image/png": "[encoded data removed]",
      "text/plain": [
       "<Figure size 432x288 with 1 Axes>"
      ]
     },
     "metadata": {
      "needs_background": "light"
     },
     "output_type": "display_data"
    }
   ],
   "source": [
    "plt.plot(SIGNAL_DICT[0][0])"
   ]
  },
  {
   "cell_type": "markdown",
   "metadata": {
    "id": "e8e3e2de-86a7-4a6f-ad50-ef450f241250"
   },
   "source": [
    "# Configuration"
   ]
  },
  {
   "cell_type": "code",
   "execution_count": 8,
   "metadata": {
    "colab": {
     "base_uri": "https://localhost:8080/",
     "height": 35
    },
    "executionInfo": {
     "elapsed": 128,
     "status": "ok",
     "timestamp": 1632427771886,
     "user": {
      "displayName": "Vincent wang",
      "photoUrl": "https://lh3.googleusercontent.com/a/default-user=s64",
      "userId": "14844584715436552936"
     },
     "user_tz": 240
    },
    "id": "c74b277a-2cf0-4edc-8d36-75d33f89d081",
    "outputId": "1fc61769-afdb-4a45-9b56-83c24b501727"
   },
   "outputs": [
    {
     "data": {
      "text/plain": [
       "'./output_model/main_82nd_V2_c16_sGW_vflip_sc01_PL/'"
      ]
     },
     "metadata": {},
     "output_type": "display_data"
    }
   ],
   "source": [
    "class Config:\n",
    "\n",
    "    #frequently changed \n",
    "    model_name = 'TCNN'\n",
    "    model_version = \"main_82nd_V2_c16_sGW_vflip_sc01_PL\" \n",
    "    model_module = 'ModelIafossV2'\n",
    "    \n",
    "    use_PL=False \n",
    "    pseudo_label_folder = \"./PL_fold/\"\n",
    "    use_GW=False #!!\n",
    "    use_raw_wave=True #!!\n",
    "\n",
    "    use_checkpoint = False\n",
    "    prev_model_folder = None #!!\n",
    "    use_lr_finder = False\n",
    "    \n",
    "    debug = False\n",
    "    use_subset = False \n",
    "    subset_frac = 0.4\n",
    "\n",
    "    #preproc related\n",
    "    #augmentation\n",
    "    vflip = True\n",
    "    shuffle01 = True    \n",
    "    \n",
    "    time_shift = False\n",
    "    time_stretch = False\n",
    "    shuffle_channels = False  # need normalization first\n",
    "    add_gaussian_noise = False # need normalization first\n",
    "    timemask = False\n",
    "    shift_channel = False    \n",
    "    pitch_shift = False\n",
    "    use_mixup = False\n",
    "    mixup_alpha = 0.1\n",
    "    cropping = False\n",
    "\n",
    "    #logistic\n",
    "    seed = 48\n",
    "    target_size = 1\n",
    "    target_col = 'target'\n",
    "    n_fold = 5\n",
    "    gdrive = './input/'\n",
    "    kaggle_json_path = './kaggle/kaggle.json'\n",
    "    output_dir = \"./output_model/\"\n",
    "    \n",
    "    #logger\n",
    "    print_num_steps=350\n",
    "    \n",
    "    #training related\n",
    "    train_folds = [0,1,2,3,4]\n",
    "    epochs = 6\n",
    "    batch_size = 256\n",
    "    \n",
    "    lr= 7e-3#2e-3\n",
    "    weight_decay= 1e-4 #1e-4  # Optimizer, default value 0.01\n",
    "    gradient_accumulation_steps=1 # Optimizer\n",
    "    scheduler='cosineWithWarmUp' # warm up ratio 0.1 of total steps \n",
    "\n",
    "    # Add SWA\n",
    "    use_swa = False\n",
    "    swa_lr_ratio = 0 # in terms of max lr\n",
    "    swa_start_step_epoch = 3\n",
    "    swa_anneal_ratio =  999, # 999 means anneal til the end of the training\n",
    "\n",
    "\n",
    "    #speedup\n",
    "    num_workers=8\n",
    "    non_blocking=False\n",
    "    amp=True\n",
    "    use_cudnn = True \n",
    "    use_tpu = False\n",
    "    use_ram = False\n",
    "    \n",
    "    #CNN structure\n",
    "    channels = 16\n",
    "    reduction = 4.0\n",
    "    stochastic_final_layer_proba = 0.5\n",
    "\n",
    "# no need to change below\n",
    "Config.swa_lr = Config.lr * Config.swa_lr_ratio\n",
    "\n",
    "Config.model_output_folder = Config.output_dir + Config.model_version + \"/\"\n",
    "if Config.prev_model_folder is not None:\n",
    "    # !!\n",
    "    Config.prev_model_folder = Config.output_dir + Config.prev_model_folder + \"/\"\n",
    "else:\n",
    "    Config.prev_model_folder = Config.model_output_folder \n",
    "\n",
    "if not os.path.exists(Config.output_dir):\n",
    "    os.mkdir(Config.output_dir)\n",
    "if not os.path.exists(Config.model_output_folder):\n",
    "    os.mkdir(Config.model_output_folder)\n",
    "\n",
    "torch.backends.cudnn.benchmark = Config.use_cudnn \n",
    "display(Config.model_output_folder)"
   ]
  },
  {
   "cell_type": "code",
   "execution_count": 9,
   "metadata": {
    "executionInfo": {
     "elapsed": 176,
     "status": "ok",
     "timestamp": 1632427772543,
     "user": {
      "displayName": "Vincent wang",
      "photoUrl": "https://lh3.googleusercontent.com/a/default-user=s64",
      "userId": "14844584715436552936"
     },
     "user_tz": 240
    },
    "id": "f2fd5ddd-01f0-4e0c-a483-fe055e23bc43"
   },
   "outputs": [],
   "source": [
    "# run once for Fold 0, save it in RAM and then do experiments multiple times\n",
    "# if Config.train_folds == [0]:\n",
    "#     if Config.use_pseudo_label:\n",
    "#         with open('fold_0_data_PL.npy', 'rb') as f:\n",
    "#             fold_0_data_PL = np.load(f)\n",
    "#     else:\n",
    "#         with open('fold_0_data.npy', 'rb') as f:\n",
    "#             fold_0_data = np.load(f)"
   ]
  },
  {
   "cell_type": "code",
   "execution_count": 10,
   "metadata": {
    "executionInfo": {
     "elapsed": 11,
     "status": "ok",
     "timestamp": 1632427772545,
     "user": {
      "displayName": "Vincent wang",
      "photoUrl": "https://lh3.googleusercontent.com/a/default-user=s64",
      "userId": "14844584715436552936"
     },
     "user_tz": 240
    },
    "id": "08b1bd21-a513-4b67-9181-01e1468b1a66"
   },
   "outputs": [],
   "source": [
    "def save_object(obj, filename):\n",
    "    with open(filename, 'wb') as outp:  # Overwrites any existing file.\n",
    "        pickle.dump(obj, outp, pickle.HIGHEST_PROTOCOL)\n",
    "\n",
    "def class2dict(f):\n",
    "    return dict((name, getattr(f, name)) for name in dir(f) if not name.startswith('__'))\n",
    "\n",
    "save_object(class2dict(Config), Config.model_output_folder + \"Config.pkl\")"
   ]
  },
  {
   "cell_type": "markdown",
   "metadata": {
    "id": "04f52f10-a321-463e-be55-6f1267407999"
   },
   "source": [
    "# Data path"
   ]
  },
  {
   "cell_type": "code",
   "execution_count": 11,
   "metadata": {
    "executionInfo": {
     "elapsed": 10,
     "status": "ok",
     "timestamp": 1632427772546,
     "user": {
      "displayName": "Vincent wang",
      "photoUrl": "https://lh3.googleusercontent.com/a/default-user=s64",
      "userId": "14844584715436552936"
     },
     "user_tz": 240
    },
    "id": "4ba86f1b-6607-4b9d-a251-f79d9cb7b406"
   },
   "outputs": [],
   "source": [
    "def id_2_path(file_id: str, train=True) -> str:\n",
    "    if train:\n",
    "        return \"./input/whiten-train/{}.npy\".format(file_id)\n",
    "    else:\n",
    "        return \"./input/whiten-test/{}.npy\".format(file_id)\n",
    "\n",
    "def id_2_path_wave(file_id: str, train=True) -> str:\n",
    "    #!!\n",
    "    if train:\n",
    "        return \"./input/train-float32/{}.npy\".format(file_id)\n",
    "    else:\n",
    "        return \"./input/test-float32/{}.npy\".format(file_id)"
   ]
  },
  {
   "cell_type": "code",
   "execution_count": 12,
   "metadata": {
    "executionInfo": {
     "elapsed": 836,
     "status": "ok",
     "timestamp": 1632427773373,
     "user": {
      "displayName": "Vincent wang",
      "photoUrl": "https://lh3.googleusercontent.com/a/default-user=s64",
      "userId": "14844584715436552936"
     },
     "user_tz": 240
    },
    "id": "93a20a41-a049-4ce9-aaf7-61856e1d1305"
   },
   "outputs": [],
   "source": [
    "train_df = pd.read_csv(Config.gdrive + '/training_labels.csv')\n",
    "test_df = pd.read_csv(Config.gdrive + '/sample_submission.csv')\n",
    "\n",
    "if Config.debug:\n",
    "    Config.epochs = 1\n",
    "    train_df = train_df.sample(n=50000, random_state=Config.seed).reset_index(drop=True)\n",
    "    \n",
    "if Config.use_subset:\n",
    "    train_df = train_df.sample(frac=Config.subset_frac, random_state=Config.seed).reset_index(drop=True)\n",
    "\n",
    "if Config.use_raw_wave:\n",
    "    train_df['file_path'] = train_df['id'].apply(lambda x :id_2_path_wave(x))\n",
    "    test_df['file_path'] = test_df['id'].apply(lambda x :id_2_path_wave(x,False))\n",
    "else:\n",
    "    train_df['file_path'] = train_df['id'].apply(lambda x :id_2_path(x))\n",
    "    test_df['file_path'] = test_df['id'].apply(lambda x :id_2_path(x,False))"
   ]
  },
  {
   "cell_type": "code",
   "execution_count": 13,
   "metadata": {},
   "outputs": [],
   "source": [
    "TRAIN_DATA = {}\n",
    "if Config.use_ram:\n",
    "    print(\"Use RAM to load train data\")\n",
    "    for i,path in tqdm(enumerate(train_df.file_path)):\n",
    "        waves = np.load(path)\n",
    "        TRAIN_DATA[path] = waves"
   ]
  },
  {
   "cell_type": "code",
   "execution_count": 14,
   "metadata": {
    "colab": {
     "base_uri": "https://localhost:8080/"
    },
    "executionInfo": {
     "elapsed": 19,
     "status": "ok",
     "timestamp": 1632427773374,
     "user": {
      "displayName": "Vincent wang",
      "photoUrl": "https://lh3.googleusercontent.com/a/default-user=s64",
      "userId": "14844584715436552936"
     },
     "user_tz": 240
    },
    "id": "adcdac68-2ef7-46b7-91b4-bd52e2585fa7",
    "outputId": "3e1fc44c-e760-440d-8ae7-cc7e8fd0f201"
   },
   "outputs": [
    {
     "data": {
      "image/png": "[encoded data removed]",
      "text/plain": [
       "<Figure size 864x648 with 6 Axes>"
      ]
     },
     "metadata": {
      "needs_background": "light"
     },
     "output_type": "display_data"
    }
   ],
   "source": [
    "# checking magnitude of waves\n",
    "num_files = 6\n",
    "sites = ['H1',\"L1\",\"V1\"]\n",
    "input_file_paths = train_df['file_path'].values[:num_files]\n",
    "plt.figure(figsize=(12,9))\n",
    "for i,input_file_path in enumerate(input_file_paths[:num_files]):\n",
    "    file_name = input_file_path.split('/')[-1].split('.npy')[0]\n",
    "    waves = np.load(input_file_path)\n",
    "    plt.subplot(2,3,i+1)\n",
    "    for j in range(3):\n",
    "        plt.plot(waves[j], label=sites[j])\n",
    "    plt.legend()"
   ]
  },
  {
   "cell_type": "code",
   "execution_count": 15,
   "metadata": {
    "colab": {
     "base_uri": "https://localhost:8080/"
    },
    "executionInfo": {
     "elapsed": 143,
     "status": "ok",
     "timestamp": 1632427773512,
     "user": {
      "displayName": "Vincent wang",
      "photoUrl": "https://lh3.googleusercontent.com/a/default-user=s64",
      "userId": "14844584715436552936"
     },
     "user_tz": 240
    },
    "id": "99e6d52c-c6fe-4ef7-bae2-e5dbfcffed6b",
    "outputId": "1620005b-aa77-41f6-9da5-96af40c9740e"
   },
   "outputs": [
    {
     "data": {
      "text/plain": [
       "fold   \n",
       "0     0    0.500125\n",
       "      1    0.499875\n",
       "1     0    0.500125\n",
       "      1    0.499875\n",
       "2     0    0.500125\n",
       "      1    0.499875\n",
       "3     0    0.500125\n",
       "      1    0.499875\n",
       "4     0    0.500125\n",
       "      1    0.499875\n",
       "Name: target, dtype: float64"
      ]
     },
     "execution_count": 15,
     "metadata": {},
     "output_type": "execute_result"
    }
   ],
   "source": [
    "skf = StratifiedKFold(n_splits=Config.n_fold, shuffle=True, random_state=Config.seed)\n",
    "splits = skf.split(train_df, train_df[\"target\"])\n",
    "train_df['fold'] = -1\n",
    "for fold, (train_index, valid_index) in enumerate(splits):\n",
    "    train_df.loc[valid_index,\"fold\"] = fold\n",
    "train_df.groupby('fold')['target'].apply(lambda s: s.value_counts(normalize=True))"
   ]
  },
  {
   "cell_type": "code",
   "execution_count": 16,
   "metadata": {
    "colab": {
     "base_uri": "https://localhost:8080/",
     "height": 408
    },
    "executionInfo": {
     "elapsed": 5,
     "status": "ok",
     "timestamp": 1632427773657,
     "user": {
      "displayName": "Vincent wang",
      "photoUrl": "https://lh3.googleusercontent.com/a/default-user=s64",
      "userId": "14844584715436552936"
     },
     "user_tz": 240
    },
    "id": "e7621283-4686-41fc-a66f-c99b7bfa6143",
    "outputId": "7ce42c46-53c2-4597-8912-6f1869b3f56b"
   },
   "outputs": [
    {
     "data": {
      "text/html": [
       "<div>\n",
       "<style scoped>\n",
       "    .dataframe tbody tr th:only-of-type {\n",
       "        vertical-align: middle;\n",
       "    }\n",
       "\n",
       "    .dataframe tbody tr th {\n",
       "        vertical-align: top;\n",
       "    }\n",
       "\n",
       "    .dataframe thead th {\n",
       "        text-align: right;\n",
       "    }\n",
       "</style>\n",
       "<table border=\"1\" class=\"dataframe\">\n",
       "  <thead>\n",
       "    <tr style=\"text-align: right;\">\n",
       "      <th></th>\n",
       "      <th>id</th>\n",
       "      <th>target</th>\n",
       "      <th>file_path</th>\n",
       "      <th>fold</th>\n",
       "    </tr>\n",
       "  </thead>\n",
       "  <tbody>\n",
       "    <tr>\n",
       "      <th>0</th>\n",
       "      <td>00000e74ad</td>\n",
       "      <td>1</td>\n",
       "      <td>./input/train-float32/00000e74ad.npy</td>\n",
       "      <td>3</td>\n",
       "    </tr>\n",
       "    <tr>\n",
       "      <th>1</th>\n",
       "      <td>00001f4945</td>\n",
       "      <td>0</td>\n",
       "      <td>./input/train-float32/00001f4945.npy</td>\n",
       "      <td>0</td>\n",
       "    </tr>\n",
       "    <tr>\n",
       "      <th>2</th>\n",
       "      <td>0000661522</td>\n",
       "      <td>0</td>\n",
       "      <td>./input/train-float32/0000661522.npy</td>\n",
       "      <td>4</td>\n",
       "    </tr>\n",
       "    <tr>\n",
       "      <th>3</th>\n",
       "      <td>00007a006a</td>\n",
       "      <td>0</td>\n",
       "      <td>./input/train-float32/00007a006a.npy</td>\n",
       "      <td>0</td>\n",
       "    </tr>\n",
       "    <tr>\n",
       "      <th>4</th>\n",
       "      <td>0000a38978</td>\n",
       "      <td>1</td>\n",
       "      <td>./input/train-float32/0000a38978.npy</td>\n",
       "      <td>4</td>\n",
       "    </tr>\n",
       "    <tr>\n",
       "      <th>...</th>\n",
       "      <td>...</td>\n",
       "      <td>...</td>\n",
       "      <td>...</td>\n",
       "      <td>...</td>\n",
       "    </tr>\n",
       "    <tr>\n",
       "      <th>559995</th>\n",
       "      <td>ffff9a5645</td>\n",
       "      <td>1</td>\n",
       "      <td>./input/train-float32/ffff9a5645.npy</td>\n",
       "      <td>3</td>\n",
       "    </tr>\n",
       "    <tr>\n",
       "      <th>559996</th>\n",
       "      <td>ffffab0c27</td>\n",
       "      <td>0</td>\n",
       "      <td>./input/train-float32/ffffab0c27.npy</td>\n",
       "      <td>1</td>\n",
       "    </tr>\n",
       "    <tr>\n",
       "      <th>559997</th>\n",
       "      <td>ffffcf161a</td>\n",
       "      <td>1</td>\n",
       "      <td>./input/train-float32/ffffcf161a.npy</td>\n",
       "      <td>2</td>\n",
       "    </tr>\n",
       "    <tr>\n",
       "      <th>559998</th>\n",
       "      <td>ffffd2c403</td>\n",
       "      <td>0</td>\n",
       "      <td>./input/train-float32/ffffd2c403.npy</td>\n",
       "      <td>1</td>\n",
       "    </tr>\n",
       "    <tr>\n",
       "      <th>559999</th>\n",
       "      <td>fffff2180b</td>\n",
       "      <td>0</td>\n",
       "      <td>./input/train-float32/fffff2180b.npy</td>\n",
       "      <td>4</td>\n",
       "    </tr>\n",
       "  </tbody>\n",
       "</table>\n",
       "<p>560000 rows × 4 columns</p>\n",
       "</div>"
      ],
      "text/plain": [
       "                id  target                             file_path  fold\n",
       "0       00000e74ad       1  ./input/train-float32/00000e74ad.npy     3\n",
       "1       00001f4945       0  ./input/train-float32/00001f4945.npy     0\n",
       "2       0000661522       0  ./input/train-float32/0000661522.npy     4\n",
       "3       00007a006a       0  ./input/train-float32/00007a006a.npy     0\n",
       "4       0000a38978       1  ./input/train-float32/0000a38978.npy     4\n",
       "...            ...     ...                                   ...   ...\n",
       "559995  ffff9a5645       1  ./input/train-float32/ffff9a5645.npy     3\n",
       "559996  ffffab0c27       0  ./input/train-float32/ffffab0c27.npy     1\n",
       "559997  ffffcf161a       1  ./input/train-float32/ffffcf161a.npy     2\n",
       "559998  ffffd2c403       0  ./input/train-float32/ffffd2c403.npy     1\n",
       "559999  fffff2180b       0  ./input/train-float32/fffff2180b.npy     4\n",
       "\n",
       "[560000 rows x 4 columns]"
      ]
     },
     "execution_count": 16,
     "metadata": {},
     "output_type": "execute_result"
    }
   ],
   "source": [
    "train_df"
   ]
  },
  {
   "cell_type": "markdown",
   "metadata": {
    "id": "392b11e6-fe2c-4dcb-80c5-6f6e5acf3903"
   },
   "source": [
    "# dataset"
   ]
  },
  {
   "cell_type": "code",
   "execution_count": 17,
   "metadata": {
    "executionInfo": {
     "elapsed": 466,
     "status": "ok",
     "timestamp": 1632427774119,
     "user": {
      "displayName": "Vincent wang",
      "photoUrl": "https://lh3.googleusercontent.com/a/default-user=s64",
      "userId": "14844584715436552936"
     },
     "user_tz": 240
    },
    "id": "8f6f8d25-feda-4576-9080-b2e40228ccbb"
   },
   "outputs": [],
   "source": [
    "transform_list = []\n",
    "if Config.add_gaussian_noise:\n",
    "    transform_list.append(A.AddGaussianNoise(min_amplitude=0.001, max_amplitude=0.015, p=0.5))\n",
    "if Config.time_shift:\n",
    "    transform_list.append(A.Shift(min_fraction=-512*1.0/4096, max_fraction=-1*1.0/4096, p=0.5,rollover=False))#<0 means shift towards left,  fraction of total sound length\n",
    "if Config.pitch_shift:\n",
    "    transform_list.append(A.PitchShift(min_semitones=-1, max_semitones=1, p=0.5))\n",
    "if Config.time_stretch:\n",
    "    transform_list.append(A.TimeStretch(min_rate=0.98, max_rate=1.02,leave_length_unchanged=True, p=0.5))\n",
    "if Config.timemask:\n",
    "    transform_list.append(A.TimeMask(min_band_part=0.0, max_band_part=0.01, fade=False, p=0.5))#try 0.03 next time\n",
    "train_transform = A.Compose(transform_list)\n",
    "test_transform = A.Compose([])\n",
    "\n",
    "class DataRetriever(Dataset):\n",
    "    def __init__(self, paths, targets, transforms=None, synthetic=None):\n",
    "        self.paths = paths\n",
    "        self.targets = targets\n",
    "        self.transforms = transforms\n",
    "        #!!\n",
    "        if synthetic is not None:\n",
    "            self.synthetic = synthetic\n",
    "            self.synthetic_keys = list(self.synthetic.keys())\n",
    "        else:\n",
    "            self.synthetic = None\n",
    "            self.synthetic_keys = None\n",
    "        self.neg_idxes = [i for i, t in enumerate(targets) if t == 0]\n",
    "                \n",
    "            # saving Fold 0 data for later use\n",
    "#         with open('fold_0_data_PL.npy', 'wb') as f:\n",
    "#             np.save(f, self.data)\n",
    "\n",
    "\n",
    "#           #reading data for fold 0 for fast iteration\n",
    "#         if Config.train_folds == [0]:\n",
    "#             if Config.use_pseudo_label:\n",
    "#                 self.data = fold_0_data_PL\n",
    "#             else:\n",
    "#                 self.data = fold_0_data\n",
    "#         else:\n",
    "#             raise RuntimeError('wrong data!')\n",
    "#             print(time.time()-start_time)\n",
    "\n",
    "\n",
    "    def __len__(self):\n",
    "        return len(self.paths)\n",
    "    \n",
    "    def __getitem__(self, index):\n",
    "        target = self.targets[index]\n",
    "        path = self.paths[index]\n",
    "        if target > 0 and Config.use_GW: \n",
    "            path = self.paths[random.choice(self.neg_idxes)]                \n",
    "        waves = TRAIN_DATA[path] if (Config.use_ram and path in TRAIN_DATA) else np.load(path)\n",
    "        \n",
    "        if Config.cropping:\n",
    "            waves = waves[:,1792:3840+1]\n",
    "\n",
    "        if Config.shuffle_channels:#nn.ChannelShuffle\n",
    "            if np.random.random()<0.5:\n",
    "                np.random.shuffle(waves)\n",
    "        if Config.shuffle01:\n",
    "            if np.random.random()<0.5:\n",
    "                waves[[0,1]]=waves[[1,0]]\n",
    "        if Config.vflip:\n",
    "            if np.random.random()<0.5:\n",
    "                waves = -waves\n",
    "              \n",
    "        if self.transforms is not None:\n",
    "            waves= self.transforms(waves,sample_rate=2048)\n",
    "\n",
    "        if Config.use_raw_wave:\n",
    "            #!!\n",
    "            x = torch.FloatTensor(waves*1e20)\n",
    "        else:\n",
    "            x = torch.FloatTensor(waves)\n",
    "        \n",
    "        \n",
    "        if target > 0 and Config.use_GW:\n",
    "            #!!\n",
    "            w = torch.FloatTensor((self.synthetic[random.choice(self.synthetic_keys)]))\n",
    "            w = w * max(random.gauss(3.6,1),1)\n",
    "            shift_place = 512+384-random.randrange(0,768)\n",
    "            w = np.pad(w[:,shift_place:],[(0,0),(0,shift_place)],mode='constant')\n",
    "            x += w\n",
    "        target = torch.tensor(target,dtype=torch.float)#device=device,\n",
    "        return (x, target)\n",
    "\n",
    "class DataRetrieverTest(Dataset):\n",
    "    def __init__(self, paths, targets, transforms=None):\n",
    "        self.paths = paths\n",
    "        self.targets = targets\n",
    "        self.transforms = transforms\n",
    "        if Config.use_ram:\n",
    "            array_shape = (len(self.paths),3,4096)\n",
    "            self.data = np.zeros(array_shape,dtype=np.float32)\n",
    "            for i,path in enumerate(self.paths):\n",
    "                waves = np.load(path)\n",
    "                self.data[i,:] = waves  \n",
    "\n",
    "    def __len__(self):\n",
    "        return len(self.paths)\n",
    "    \n",
    "    def __getitem__(self, index):\n",
    "        path = self.paths[index] \n",
    "        waves = TRAIN_DATA[path] if Config.use_ram else np.load(path)\n",
    "        target = self.targets[index]\n",
    "            \n",
    "        if Config.cropping:\n",
    "            waves = waves[:,1792:3840+1]\n",
    "            \n",
    "        if self.transforms is not None:\n",
    "            waves= self.transforms(waves,sample_rate=2048)\n",
    "\n",
    "        if Config.use_raw_wave:\n",
    "            #!!\n",
    "            x = torch.FloatTensor(waves*1e20)\n",
    "        else:\n",
    "            x = torch.FloatTensor(waves)\n",
    "        target = torch.tensor(target,dtype=torch.float)#device=device, \n",
    "        #print(path) \n",
    "        return (x, target)"
   ]
  },
  {
   "cell_type": "markdown",
   "metadata": {
    "id": "62cd2ba5-d403-4abf-b971-2303a92ea8ea"
   },
   "source": [
    "# Models"
   ]
  },
  {
   "cell_type": "code",
   "execution_count": 18,
   "metadata": {
    "executionInfo": {
     "elapsed": 3,
     "status": "ok",
     "timestamp": 1632427778742,
     "user": {
      "displayName": "Vincent wang",
      "photoUrl": "https://lh3.googleusercontent.com/a/default-user=s64",
      "userId": "14844584715436552936"
     },
     "user_tz": 240
    },
    "id": "7e1528ce-06af-4d53-84d9-bbbcaf4991b5"
   },
   "outputs": [],
   "source": [
    "def Model():\n",
    "    model_name = Config.model_module \n",
    "    if model_name == 'Model1DCNN':\n",
    "        model = Model1DCNN(Config.channels)\n",
    "    elif model_name == 'Model1DCNNGEM':\n",
    "        model = Model1DCNNGEM(Config.channels)\n",
    "    elif model_name == 'ModelIafoss':\n",
    "        model = ModelIafoss(Config.channels)\n",
    "    elif model_name == 'ModelIafossV1':\n",
    "        model = ModelIafossV1(Config.channels)\n",
    "    elif model_name == 'ModelIafossV1SE':\n",
    "        model = ModelIafossV1SE(Config.channels)\n",
    "    elif model_name == 'ModelIafossV1CBAM':\n",
    "        model = ModelIafossV1CBAM(Config.channels)\n",
    "    elif model_name == 'ModelIafossV1Pool':\n",
    "        model = ModelIafossV1Pool(Config.channels)\n",
    "    elif model_name == 'ModelIafossV1GeM':\n",
    "        model = ModelIafossV1GeM(Config.channels)\n",
    "    elif model_name == 'ModelIafossV1GeMAll':\n",
    "        model = ModelIafossV1GeMAll(Config.channels)\n",
    "    elif model_name == 'ModelGeMx3':\n",
    "        model = ModelGeMx3(Config.channels)\n",
    "    elif model_name == 'ModelIafossV1GeMAllDeep':\n",
    "        model = ModelIafossV1GeMAllDeep(Config.channels)\n",
    "    elif model_name == 'DeepStochastic':\n",
    "        model = DeepStochastic(Config.channels)\n",
    "    elif model_name == 'Deeper':\n",
    "        model = Deeper(Config.channels)\n",
    "    elif model_name == 'Deeper2':\n",
    "        model = Deeper2(Config.channels)\n",
    "    elif model_name == 'ModelIafossV2':\n",
    "        model = ModelIafossV2(Config.channels, use_raw_wave=Config.use_raw_wave)\n",
    "    elif model_name == 'ModelIafossV2Mish':\n",
    "        model = ModelIafossV2(Config.channels,act=Mish())\n",
    "    elif model_name == 'ModelIafossV2Elu':\n",
    "        model = ModelIafossV2(Config.channels,act=torch.nn.ELU())\n",
    "    elif model_name == 'V2StochasticDepth':\n",
    "        model = V2StochasticDepth(Config.channels)    \n",
    "    return model"
   ]
  },
  {
   "cell_type": "code",
   "execution_count": 19,
   "metadata": {
    "colab": {
     "base_uri": "https://localhost:8080/"
    },
    "executionInfo": {
     "elapsed": 182,
     "status": "ok",
     "timestamp": 1632427778922,
     "user": {
      "displayName": "Vincent wang",
      "photoUrl": "https://lh3.googleusercontent.com/a/default-user=s64",
      "userId": "14844584715436552936"
     },
     "user_tz": 240
    },
    "id": "2ce418f8-18dc-40c4-ac7b-fe4384f44245",
    "outputId": "67c8fee4-59a9-4e83-d97c-b7b81460cfe1"
   },
   "outputs": [
    {
     "data": {
      "text/plain": [
       "1581137"
      ]
     },
     "execution_count": 19,
     "metadata": {},
     "output_type": "execute_result"
    }
   ],
   "source": [
    "def get_n_params(model):\n",
    "    pp=0\n",
    "    for p in list(model.parameters()):\n",
    "        nn=1\n",
    "        for s in list(p.size()):\n",
    "            nn = nn*s\n",
    "        pp += nn\n",
    "    return pp\n",
    "model = Model()#can possibly call random\n",
    "get_n_params(model)"
   ]
  },
  {
   "cell_type": "code",
   "execution_count": 34,
   "metadata": {},
   "outputs": [
    {
     "data": {
      "text/plain": [
       "BatchNorm1d(256, eps=1e-05, momentum=0.1, affine=True, track_running_stats=True)"
      ]
     },
     "execution_count": 34,
     "metadata": {},
     "output_type": "execute_result"
    }
   ],
   "source": []
  },
  {
   "cell_type": "code",
   "execution_count": 35,
   "metadata": {},
   "outputs": [
    {
     "data": {
      "text/plain": [
       "Sequential(\n",
       "  (0): AdaptiveConcatPool1d(\n",
       "    (ap): AdaptiveAvgPool1d(output_size=1)\n",
       "    (mp): AdaptiveMaxPool1d(output_size=1)\n",
       "  )\n",
       "  (1): Flatten(start_dim=1, end_dim=-1)\n",
       "  (2): Linear(in_features=256, out_features=256, bias=True)\n",
       "  (3): BatchNorm1d(256, eps=1e-05, momentum=0.1, affine=True, track_running_stats=True)\n",
       "  (4): Dropout(p=0.5, inplace=False)\n",
       "  (5): SiLU(inplace=True)\n",
       "  (6): Linear(in_features=256, out_features=256, bias=True)\n",
       "  (7): BatchNorm1d(256, eps=1e-05, momentum=0.1, affine=True, track_running_stats=True)\n",
       "  (8): Dropout(p=0.5, inplace=False)\n",
       "  (9): SiLU(inplace=True)\n",
       "  (10): Linear(in_features=256, out_features=1, bias=True)\n",
       ")"
      ]
     },
     "execution_count": 35,
     "metadata": {},
     "output_type": "execute_result"
    }
   ],
   "source": []
  },
  {
   "cell_type": "markdown",
   "metadata": {
    "id": "b68c9f2c-fc5f-41ee-afa5-2dfbec2ef82f"
   },
   "source": [
    "# Util"
   ]
  },
  {
   "cell_type": "code",
   "execution_count": 20,
   "metadata": {
    "executionInfo": {
     "elapsed": 7,
     "status": "ok",
     "timestamp": 1632427778923,
     "user": {
      "displayName": "Vincent wang",
      "photoUrl": "https://lh3.googleusercontent.com/a/default-user=s64",
      "userId": "14844584715436552936"
     },
     "user_tz": 240
    },
    "id": "2b76b69f-3f6d-40dd-92e9-b04be3232814"
   },
   "outputs": [],
   "source": [
    "def get_score(y_true, y_pred):\n",
    "    score = roc_auc_score(y_true, y_pred)\n",
    "    return score\n",
    "\n",
    "def seed_torch(seed=42):\n",
    "    random.seed(seed)\n",
    "    os.environ['PYTHONHASHSEED'] = str(seed)\n",
    "    np.random.seed(seed)\n",
    "    torch.manual_seed(seed)\n",
    "    torch.cuda.manual_seed(seed)\n",
    "    torch.backends.cudnn.deterministic = True\n",
    "    \n",
    "seed_torch(seed=Config.seed)\n",
    "\n",
    "def get_scheduler(optimizer, train_size):\n",
    "    epoch_step = train_size/Config.batch_size\n",
    "    num_warmup_steps = int(0.1 * epoch_step * Config.epochs)\n",
    "    num_training_steps = int(epoch_step * Config.epochs)\n",
    "    scheduler = get_cosine_schedule_with_warmup(optimizer, \n",
    "                                                num_warmup_steps=num_warmup_steps, \n",
    "                                                num_training_steps=num_training_steps)      \n",
    "    return scheduler\n",
    "\n",
    "def mixed_criterion(loss_fn, pred, y_a, y_b, lam):\n",
    "    return lam * loss_fn(pred, y_a) + (1 - lam) * loss_fn(pred, y_b)\n",
    "\n",
    "def mixup_data(x, y, alpha=1.0):\n",
    "    \"\"\"Returns mixed inputs, pairs of targets, and lambda\"\"\"\n",
    "    lam = np.random.beta(alpha, alpha)\n",
    "    batch_size = x.size()[0]\n",
    "    index = torch.randperm(batch_size, requires_grad=False).to(x.device,non_blocking=Config.non_blocking)\n",
    "\n",
    "    mixed_x = lam * x + (1 - lam) * x[index, :]\n",
    "    y_a, y_b = y, y[index]\n",
    "    return mixed_x, y_a, y_b, lam"
   ]
  },
  {
   "cell_type": "code",
   "execution_count": 46,
   "metadata": {
    "colab": {
     "base_uri": "https://localhost:8080/"
    },
    "executionInfo": {
     "elapsed": 6,
     "status": "ok",
     "timestamp": 1632427778923,
     "user": {
      "displayName": "Vincent wang",
      "photoUrl": "https://lh3.googleusercontent.com/a/default-user=s64",
      "userId": "14844584715436552936"
     },
     "user_tz": 240
    },
    "id": "498ba49a-52a8-4e90-9b51-4fb267a03350",
    "outputId": "1e571bd2-85a1-4396-8e55-06236eab8a77"
   },
   "outputs": [
    {
     "name": "stdout",
     "output_type": "stream",
     "text": [
      "Using device: cuda\n",
      "Number of device: 2\n",
      "NVIDIA RTX A6000\n",
      "Memory Usage:\n",
      "Allocated: 0.0 GB\n",
      "Reserved:    0.0 GB\n"
     ]
    }
   ],
   "source": [
    "device = torch.device('cuda' if torch.cuda.is_available() else 'cpu')\n",
    "print('Using device:', device)\n",
    "print('Number of device:', torch.cuda.device_count())\n",
    "\n",
    "#Additional Info when using cuda\n",
    "# watch nvidia-smi\n",
    "if device.type == 'cuda':\n",
    "    print(torch.cuda.get_device_name(1))\n",
    "    print('Memory Usage:')\n",
    "    print('Allocated:', round(torch.cuda.memory_allocated(0)/1024**3,1), 'GB')\n",
    "    print('Reserved:   ', round(torch.cuda.memory_reserved(0)/1024**3,1), 'GB')"
   ]
  },
  {
   "cell_type": "markdown",
   "metadata": {
    "id": "9588c2fb-6f2f-4a71-ae80-af4e7facbf40"
   },
   "source": [
    "# LR Finder"
   ]
  },
  {
   "cell_type": "code",
   "execution_count": 23,
   "metadata": {
    "executionInfo": {
     "elapsed": 172,
     "status": "ok",
     "timestamp": 1632427779093,
     "user": {
      "displayName": "Vincent wang",
      "photoUrl": "https://lh3.googleusercontent.com/a/default-user=s64",
      "userId": "14844584715436552936"
     },
     "user_tz": 240
    },
    "id": "1791f02a-cd63-448f-ad07-a216643c196f"
   },
   "outputs": [],
   "source": [
    "class LRFinder:\n",
    "    def __init__(self, model, optimizer, criterion, device):\n",
    "        self.optimizer = optimizer\n",
    "        self.model = model\n",
    "        self.criterion = criterion\n",
    "        self.device = device\n",
    "        torch.save(model.state_dict(), f'{Config.model_output_folder}/init_params.pt')\n",
    "\n",
    "    def range_test(self, loader, end_lr = 10, num_iter = 100, \n",
    "                   smooth_f = 0.05, diverge_th = 5):\n",
    "        lrs = []\n",
    "        losses = []\n",
    "        best_loss = float('inf')\n",
    "        lr_scheduler = ExponentialLR(self.optimizer, end_lr, num_iter)\n",
    "        for step, batch in enumerate(loader):\n",
    "            if step == num_iter:\n",
    "                break\n",
    "            loss = self._train_batch(batch)\n",
    "            lrs.append(lr_scheduler.get_last_lr()[0])\n",
    "            #update lr\n",
    "            lr_scheduler.step()\n",
    "            if step > 0:\n",
    "                loss = smooth_f * loss + (1 - smooth_f) * losses[-1]\n",
    "            if loss < best_loss:\n",
    "                best_loss = loss\n",
    "            losses.append(loss)\n",
    "            if loss > diverge_th * best_loss:\n",
    "                print(\"Stopping early, the loss has diverged\")\n",
    "                break\n",
    "        #reset model to initial parameters\n",
    "        model.load_state_dict(torch.load(f'{Config.model_output_folder}/init_params.pt'))\n",
    "        return lrs, losses\n",
    "\n",
    "    def _train_batch(self, batch):\n",
    "        self.model.train()\n",
    "        self.optimizer.zero_grad()\n",
    "        scaler = GradScaler()\n",
    "        X = batch[0].to(self.device,non_blocking=Config.non_blocking)\n",
    "        targets = batch[1].to(self.device,non_blocking=Config.non_blocking)\n",
    "        \n",
    "        if Config.use_mixup:\n",
    "            (X_mix, targets_a, targets_b, lam) = mixup_data(\n",
    "                X, targets, Config.mixup_alpha\n",
    "            )\n",
    "            with autocast(enabled=False):\n",
    "                outputs = self.model(X_mix).squeeze()\n",
    "                loss = mixed_criterion(self.criterion, outputs, targets_a, targets_b, lam)\n",
    "        else:\n",
    "            with autocast(enabled=False):\n",
    "                outputs = self.model(X).squeeze()\n",
    "                loss = self.criterion(outputs, targets)\n",
    "        #loss.backward()\n",
    "        scaler.scale(loss).backward()\n",
    "        \n",
    "        if Config.use_tpu:\n",
    "            xm.optimizer_step(self.optimizer, barrier=True)  # Note: TPU-specific code! \n",
    "        else:\n",
    "            scaler.step(self.optimizer)\n",
    "            scaler.update()\n",
    "#             self.optimizer.step()\n",
    "        return loss.item()\n",
    "    \n",
    "                    \n",
    "class ExponentialLR(_LRScheduler):\n",
    "    def __init__(self, optimizer, end_lr, num_iter, last_epoch=-1):\n",
    "        self.end_lr = end_lr\n",
    "        self.num_iter = num_iter\n",
    "        super(ExponentialLR, self).__init__(optimizer, last_epoch)\n",
    "    def get_lr(self):\n",
    "        curr_iter = self.last_epoch\n",
    "        r = curr_iter / self.num_iter\n",
    "        return [base_lr * (self.end_lr / base_lr) ** r for base_lr in self.base_lrs]\n",
    "\n",
    "def plot_lr_finder(lrs, losses, skip_start = 0, skip_end = 0):\n",
    "    if skip_end == 0:\n",
    "        lrs = lrs[skip_start:]\n",
    "        losses = losses[skip_start:]\n",
    "    else:\n",
    "        lrs = lrs[skip_start:-skip_end]\n",
    "        losses = losses[skip_start:-skip_end]\n",
    "    fig = plt.figure(figsize = (16,8))\n",
    "    ax = fig.add_subplot(1,1,1)\n",
    "    ax.plot(lrs, losses)\n",
    "    ax.set_xscale('log')\n",
    "    ax.set_xlabel('Learning rate')\n",
    "    ax.set_ylabel('Loss')\n",
    "    ax.grid(True, 'both', 'x')\n",
    "    plt.show()"
   ]
  },
  {
   "cell_type": "code",
   "execution_count": 24,
   "metadata": {
    "executionInfo": {
     "elapsed": 15,
     "status": "ok",
     "timestamp": 1632427779095,
     "user": {
      "displayName": "Vincent wang",
      "photoUrl": "https://lh3.googleusercontent.com/a/default-user=s64",
      "userId": "14844584715436552936"
     },
     "user_tz": 240
    },
    "id": "0acca149-21fd-4ee7-9195-6e9c4ab3343b"
   },
   "outputs": [],
   "source": [
    "if Config.use_lr_finder:\n",
    "    START_LR = 1e-7\n",
    "    model = Model()\n",
    "    model.to(device,non_blocking=Config.non_blocking)\n",
    "    #if torch.cuda.device_count() == 2:\n",
    "    #    model = nn.DataParallel(model)\n",
    "    optimizer = AdamW(model.parameters(), lr=START_LR, weight_decay=Config.weight_decay, amsgrad=False)\n",
    "    criterion = torch_functional.binary_cross_entropy_with_logits\n",
    "\n",
    "    train_data_retriever = DataRetriever(train_df['file_path'], train_df[\"target\"].values)\n",
    "    train_loader = DataLoader(train_data_retriever,\n",
    "                                batch_size=Config.batch_size, \n",
    "                                shuffle=True, \n",
    "                                num_workers=Config.num_workers, pin_memory=True, drop_last=True)"
   ]
  },
  {
   "cell_type": "code",
   "execution_count": 25,
   "metadata": {
    "colab": {
     "base_uri": "https://localhost:8080/"
    },
    "executionInfo": {
     "elapsed": 14,
     "status": "ok",
     "timestamp": 1632427779095,
     "user": {
      "displayName": "Vincent wang",
      "photoUrl": "https://lh3.googleusercontent.com/a/default-user=s64",
      "userId": "14844584715436552936"
     },
     "user_tz": 240
    },
    "id": "13a2e828-f63d-4564-874b-b56924fb62e2",
    "outputId": "61c5b1cd-9a7f-4360-f1cd-f109a2448d45"
   },
   "outputs": [
    {
     "name": "stdout",
     "output_type": "stream",
     "text": [
      "CPU times: user 1e+03 ns, sys: 2 µs, total: 3 µs\n",
      "Wall time: 6.91 µs\n"
     ]
    }
   ],
   "source": [
    "%%time\n",
    "if Config.use_lr_finder:\n",
    "    try:\n",
    "        END_LR = 10\n",
    "        NUM_ITER = 150\n",
    "        lr_finder = LRFinder(model, optimizer, criterion, device)\n",
    "        lrs, losses = lr_finder.range_test(train_loader, END_LR, NUM_ITER)\n",
    "    except (RuntimeError, KeyboardInterrupt) as e:\n",
    "        del model, optimizer, criterion, train_data_retriever, train_loader, lr_finder\n",
    "        gc.collect()\n",
    "        torch.cuda.empty_cache() \n",
    "        print(e)"
   ]
  },
  {
   "cell_type": "code",
   "execution_count": 26,
   "metadata": {
    "executionInfo": {
     "elapsed": 5,
     "status": "ok",
     "timestamp": 1632427779096,
     "user": {
      "displayName": "Vincent wang",
      "photoUrl": "https://lh3.googleusercontent.com/a/default-user=s64",
      "userId": "14844584715436552936"
     },
     "user_tz": 240
    },
    "id": "9c0570b0-2648-4761-993f-66b8aa6e5118"
   },
   "outputs": [],
   "source": [
    "if Config.use_lr_finder:\n",
    "    plot_lr_finder(lrs[:-18], losses[:-18])"
   ]
  },
  {
   "cell_type": "markdown",
   "metadata": {
    "id": "54dfb7f1-6e67-4dbe-9244-2d08a880b108"
   },
   "source": [
    "# Trainer"
   ]
  },
  {
   "cell_type": "code",
   "execution_count": 27,
   "metadata": {
    "executionInfo": {
     "elapsed": 5,
     "status": "ok",
     "timestamp": 1632427779096,
     "user": {
      "displayName": "Vincent wang",
      "photoUrl": "https://lh3.googleusercontent.com/a/default-user=s64",
      "userId": "14844584715436552936"
     },
     "user_tz": 240
    },
    "id": "X8gOq_SXBayZ"
   },
   "outputs": [],
   "source": [
    "def get_swa(model, optimizer):\n",
    "    swa_model = AveragedModel(model)\n",
    "    train_size = int(train_df.shape[0] / Config.n_fold * (Config.n_fold-1))\n",
    "    epoch_step = train_size/Config.batch_size        \n",
    "    swa_start_step =  epoch_step * Config.swa_start_step_epoch\n",
    "    swa_scheduler = torch.optim.swa_utils.SWALR(optimizer,\n",
    "                                                anneal_strategy=\"cos\", \n",
    "                                                anneal_epochs=int(epoch_step * (Config.epochs-1)), \n",
    "                                                swa_lr=Config.swa_lr)\n",
    "    return swa_model, swa_scheduler\n",
    "\n",
    "def do_swa_scheduler(step, swa_scheduler):\n",
    "    if (swa_scheduler is not None) and (step >= int(Config.swa_start_step_epoch * len(train_df) * (1 - 1/Config.n_fold))//Config.batch_size  ):\n",
    "        return True\n",
    "    else:\n",
    "        return False"
   ]
  },
  {
   "cell_type": "code",
   "execution_count": 28,
   "metadata": {
    "executionInfo": {
     "elapsed": 286,
     "status": "ok",
     "timestamp": 1632427779377,
     "user": {
      "displayName": "Vincent wang",
      "photoUrl": "https://lh3.googleusercontent.com/a/default-user=s64",
      "userId": "14844584715436552936"
     },
     "user_tz": 240
    },
    "id": "70036313-ffa6-4249-a4b8-faadad8bafa8"
   },
   "outputs": [],
   "source": [
    "class Trainer:\n",
    "    def __init__(\n",
    "        self, \n",
    "        model, \n",
    "        device, \n",
    "        optimizer, \n",
    "        criterion, \n",
    "        scheduler,\n",
    "        valid_labels,\n",
    "        best_valid_score,\n",
    "        fold,\n",
    "        swa_model=None,\n",
    "        swa_scheduler=None,\n",
    "    ):\n",
    "        self.model = model\n",
    "        self.device = device\n",
    "        self.optimizer = optimizer\n",
    "        self.criterion = criterion\n",
    "        self.scheduler = scheduler\n",
    "        self.best_valid_score = best_valid_score\n",
    "        self.valid_labels = valid_labels\n",
    "        self.fold = fold\n",
    "\n",
    "        self.swa_model = swa_model\n",
    "        self.swa_scheduler = swa_scheduler\n",
    "        self.step = 0 # for swa\n",
    "\n",
    "    \n",
    "    def fit(self, epochs, train_loader, valid_loader, save_path): \n",
    "        train_losses = []\n",
    "        valid_losses = []\n",
    "        for n_epoch in range(epochs):\n",
    "            start_time = time.time()\n",
    "            print('Epoch: ', n_epoch)\n",
    "            train_loss, train_preds = self.train_epoch(train_loader)\n",
    "            valid_loss, valid_preds = self.valid_epoch(valid_loader, self.model)\n",
    "\n",
    "            if self.swa_model is not None:\n",
    "                if n_epoch >= Config.swa_start_step_epoch:\n",
    "                    print(f\"Epoch {n_epoch}, update swa model\")\n",
    "                    self.swa_model.update_parameters(self.model)\n",
    "\n",
    "\n",
    "            train_losses.append(train_loss)\n",
    "            valid_losses.append(valid_loss)\n",
    "\n",
    "            if isinstance(self.scheduler, ReduceLROnPlateau):\n",
    "                self.scheduler.step(valid_loss)\n",
    "            valid_score = get_score(self.valid_labels, valid_preds)            \n",
    "\n",
    "            if self.best_valid_score < valid_score:\n",
    "                self.best_valid_score = valid_score\n",
    "                self.save_model(n_epoch, save_path+f'best_model.pth', train_preds, valid_preds)\n",
    "\n",
    "            print('train_loss: ',train_loss)\n",
    "            print('valid_loss: ',valid_loss)\n",
    "            print('valid_score: ',valid_score)\n",
    "            print('best_valid_score: ',self.best_valid_score)\n",
    "            print('time used: ', time.time()-start_time)\n",
    "\n",
    "            wandb.log({f\"[fold{self.fold}] epoch\": n_epoch+1, \n",
    "                      f\"[fold{self.fold}] avg_train_loss\": train_loss, \n",
    "                      f\"[fold{self.fold}] avg_val_loss\": valid_loss,\n",
    "                      f\"[fold{self.fold}] val_score\": valid_score})        \n",
    "        # save swa\n",
    "        if self.swa_model is not None:\n",
    "            update_bn(train_loader, self.swa_model, device=self.device)\n",
    "            valid_loss_swa, valid_preds_swa = self.valid_epoch(valid_loader, self.swa_model)\n",
    "            valid_score_swa = get_score(self.valid_labels, valid_preds_swa)\n",
    "            wandb.log({f\"[fold{self.fold}] avg_val_loss_swa\": valid_loss_swa, \n",
    "                      f\"[fold{self.fold}] val_score_swa\": valid_score_swa}) \n",
    "            print(\"SWA: Valid Loss {:.5f}, Valid Score {:.5f}\".format(valid_loss_swa, valid_score_swa))\n",
    "            # update batch normalization\n",
    "            save_dict = {\n",
    "                \"swa_model_state_dict\" : self.swa_model.state_dict(),                \n",
    "                \"swa_scheduler\" : self.swa_scheduler.state_dict(),\n",
    "                \"valid_loss_swa\" : valid_loss_swa,\n",
    "                \"valid_score_swa\" : valid_score_swa,\n",
    "            }\n",
    "            torch.save(save_dict, save_path + f'swa_model.pth')        \n",
    "            \n",
    "    def train_epoch(self, train_loader):\n",
    "        if Config.amp:\n",
    "            scaler = GradScaler()\n",
    "        self.model.train()\n",
    "        losses = []\n",
    "        train_loss = 0\n",
    "        # preds = []\n",
    "        for step, batch in enumerate(train_loader, 1):\n",
    "            self.step += 1\n",
    "            self.optimizer.zero_grad()\n",
    "            X = batch[0].to(self.device,non_blocking=Config.non_blocking)\n",
    "            targets = batch[1].to(self.device,non_blocking=Config.non_blocking)\n",
    "            \n",
    "            if Config.use_mixup:\n",
    "                (X_mix, targets_a, targets_b, lam) = mixup_data(\n",
    "                    X, targets, Config.mixup_alpha\n",
    "                )\n",
    "                with autocast(enabled=False):\n",
    "                    outputs = self.model(X_mix).squeeze()\n",
    "                    loss = mixed_criterion(self.criterion, outputs, targets_a, targets_b, lam)\n",
    "            else:\n",
    "                with autocast(enabled=False):\n",
    "                    outputs = self.model(X).squeeze()\n",
    "                    loss = self.criterion(outputs, targets)\n",
    "                    \n",
    "            if Config.gradient_accumulation_steps > 1:\n",
    "                loss = loss / Config.gradient_accumulation_steps\n",
    "            scaler.scale(loss).backward()\n",
    "          \n",
    "            if (step) % Config.gradient_accumulation_steps == 0:\n",
    "                scaler.step(self.optimizer)\n",
    "                scaler.update()\n",
    "            \n",
    "\n",
    "            if not do_swa_scheduler(self.step, self.swa_scheduler):\n",
    "                self.scheduler.step()\n",
    "                lr2 = self.scheduler.get_last_lr()[0]\n",
    "            else:\n",
    "                self.swa_scheduler.step()\n",
    "                lr2 = self.swa_scheduler.get_last_lr()[0]\n",
    "\n",
    "\n",
    "            loss2 = loss.detach()\n",
    "\n",
    "            wandb.log({f\"[fold{self.fold}] loss\": loss2,\n",
    "                       f\"[fold{self.fold}] lr\": lr2})            \n",
    "\n",
    "            losses.append(loss2)\n",
    "            train_loss += loss2\n",
    "\n",
    "            if (step) % Config.print_num_steps == 0:\n",
    "                train_loss = train_loss.item() #synch once per print_num_steps instead of once per batch\n",
    "                print(f'[{step}/{len(train_loader)}] ', \n",
    "                      f'avg loss: ',train_loss/step,\n",
    "                      f'inst loss: ', loss2.item())\n",
    "                        \n",
    "        return train_loss / step, None\n",
    "\n",
    "    def valid_epoch(self, valid_loader, model):\n",
    "        model.eval()      \n",
    "        valid_loss = []\n",
    "        preds = []\n",
    "        for step, batch in enumerate(valid_loader, 1):\n",
    "            with torch.no_grad():\n",
    "                X = batch[0].to(self.device,non_blocking=Config.non_blocking)\n",
    "                targets = batch[1].to(self.device,non_blocking=Config.non_blocking)\n",
    "                outputs = model(X).squeeze()\n",
    "                loss = self.criterion(outputs, targets)\n",
    "                if Config.gradient_accumulation_steps > 1:\n",
    "                    loss = loss / Config.gradient_accumulation_steps\n",
    "                valid_loss.append(loss.detach().item())\n",
    "                preds.append(outputs.sigmoid().to('cpu').numpy())\n",
    "        predictions = np.concatenate(preds)\n",
    "        return np.mean(valid_loss), predictions\n",
    "\n",
    "    def save_model(self, n_epoch, save_path, train_preds, valid_preds):\n",
    "        print(\"Save Model\")\n",
    "        torch.save(\n",
    "            {\n",
    "                \"model_state_dict\": self.model.state_dict(),\n",
    "                \"optimizer_state_dict\": self.optimizer.state_dict(),\n",
    "                \"best_valid_score\": self.best_valid_score,\n",
    "                \"n_epoch\": n_epoch,\n",
    "                'scheduler': self.scheduler.state_dict(),\n",
    "                'train_preds': train_preds,\n",
    "                'valid_preds': valid_preds,\n",
    "            },\n",
    "            save_path,\n",
    "        )"
   ]
  },
  {
   "cell_type": "markdown",
   "metadata": {
    "id": "7f0dfd0b-83ea-48f9-aca0-7e84b3346689"
   },
   "source": [
    "# Training loop"
   ]
  },
  {
   "cell_type": "code",
   "execution_count": 29,
   "metadata": {
    "executionInfo": {
     "elapsed": 5,
     "status": "ok",
     "timestamp": 1632427779378,
     "user": {
      "displayName": "Vincent wang",
      "photoUrl": "https://lh3.googleusercontent.com/a/default-user=s64",
      "userId": "14844584715436552936"
     },
     "user_tz": 240
    },
    "id": "0f26270c-7a97-4d8a-80bd-db5ec6ad345d"
   },
   "outputs": [],
   "source": [
    "seed_torch(seed=Config.seed)"
   ]
  },
  {
   "cell_type": "code",
   "execution_count": 30,
   "metadata": {
    "executionInfo": {
     "elapsed": 4,
     "status": "ok",
     "timestamp": 1632427779378,
     "user": {
      "displayName": "Vincent wang",
      "photoUrl": "https://lh3.googleusercontent.com/a/default-user=s64",
      "userId": "14844584715436552936"
     },
     "user_tz": 240
    },
    "id": "14d354a8-d7e3-4bbb-85ee-f5e6a0126652"
   },
   "outputs": [],
   "source": [
    "def generate_PL(fold, train_df,test_df):\n",
    "    pseudo_label_df = pd.read_csv(Config.pseudo_label_folder + f\"test_Fold_{fold}.csv\")     \n",
    "    if Config.use_raw_wave:\n",
    "        pseudo_label_df['file_path'] = pseudo_label_df['id'].apply(lambda x :id_2_path_wave(x,False))\n",
    "    else:\n",
    "        pseudo_label_df['file_path'] = pseudo_label_df['id'].apply(lambda x :id_2_path(x,False))    \n",
    "    pseudo_label_df[\"target\"] = pseudo_label_df[f'preds_Fold_{fold}']\n",
    "    test_df_2 = pseudo_label_df.copy()\n",
    "    test_df_2['fold'] = -1\n",
    "    PL_train_df = pd.concat([train_df, test_df_2]).reset_index(drop=True)\n",
    "    PL_train_df.reset_index(inplace=True, drop=True)\n",
    "    return PL_train_df"
   ]
  },
  {
   "cell_type": "code",
   "execution_count": 31,
   "metadata": {
    "executionInfo": {
     "elapsed": 4,
     "status": "ok",
     "timestamp": 1632427779379,
     "user": {
      "displayName": "Vincent wang",
      "photoUrl": "https://lh3.googleusercontent.com/a/default-user=s64",
      "userId": "14844584715436552936"
     },
     "user_tz": 240
    },
    "id": "b1aff774-130a-4ba1-9132-5a7a60553992"
   },
   "outputs": [],
   "source": [
    "def training_loop(train_df, use_checkpoint=Config.use_checkpoint):\n",
    "    kf = StratifiedKFold(n_splits=Config.n_fold, shuffle=True, random_state=Config.seed)\n",
    "    avg_best_valid_score = 0\n",
    "    folds_val_score = []\n",
    "    original_train_df = train_df.copy()#for PL\n",
    "    for fold in range(Config.n_fold): \n",
    "        if Config.use_PL:\n",
    "            PL_train_df = generate_PL(fold, original_train_df.copy(),test_df)   \n",
    "            train_df = PL_train_df\n",
    "        train_index, valid_index = train_df.query(f\"fold!={fold}\").index, train_df.query(f\"fold=={fold}\").index #fold means fold_valid \n",
    "        print('Fold: ', fold)\n",
    "        if fold not in Config.train_folds:\n",
    "            print(\"skip\")\n",
    "            continue\n",
    "        train_X, valid_X = train_df.loc[train_index], train_df.loc[valid_index]\n",
    "        valid_labels = train_df.loc[valid_index,Config.target_col].values\n",
    "        oof = pd.DataFrame()\n",
    "        oof['id'] = train_df.loc[valid_index,'id']\n",
    "        oof['id'] = valid_X['id'].values.copy()\n",
    "        oof = oof.reset_index()\n",
    "        oof['preds'] = valid_labels\n",
    "        oof.to_csv(f'{Config.model_output_folder}/Fold_{fold}_oof_pred.csv')\n",
    "\n",
    "        print('training data samples, val data samples: ', len(train_X) ,len(valid_X))\n",
    "        if Config.use_GW:\n",
    "            #!!\n",
    "            train_data_retriever = DataRetriever(train_X[\"file_path\"].values, train_X[\"target\"].values, transforms=train_transform,synthetic=SIGNAL_DICT)\n",
    "        else:\n",
    "            train_data_retriever = DataRetriever(train_X[\"file_path\"].values, train_X[\"target\"].values, transforms=train_transform)\n",
    "\n",
    "        valid_data_retriever = DataRetrieverTest(valid_X[\"file_path\"].values, valid_X[\"target\"].values, transforms=test_transform)       \n",
    "        \n",
    "        train_loader = DataLoader(train_data_retriever,\n",
    "                                  batch_size=Config.batch_size, \n",
    "                                  shuffle=True, \n",
    "                                  num_workers=Config.num_workers, pin_memory=True, drop_last=False)\n",
    "        valid_loader = DataLoader(valid_data_retriever, \n",
    "                                  batch_size=Config.batch_size * 2, \n",
    "                                  shuffle=False, \n",
    "                                  num_workers=Config.num_workers, pin_memory=True, drop_last=False)\n",
    "\n",
    "        model = Model()\n",
    "        model.to(device,non_blocking=Config.non_blocking)\n",
    "        #if torch.cuda.device_count() == 2:\n",
    "        #    model = nn.DataParallel(model)\n",
    "        optimizer = AdamW(model.parameters(), lr=Config.lr,eps=1e-08, weight_decay=Config.weight_decay, amsgrad=False) #eps to avoid NaN/Inf in training loss\n",
    "        scheduler = get_scheduler(optimizer, len(train_X))\n",
    "        swa_model, swa_scheduler = None, None\n",
    "        best_valid_score = -np.inf\n",
    "        if use_checkpoint:\n",
    "            #!!\n",
    "            model_folder = Config.model_output_folder if Config.prev_model_folder is None else Config.prev_model_folder\n",
    "            print(f\"Load Checkpoint from folder: {model_folder}\")\n",
    "            checkpoint = torch.load(f'{Config.model_output_folder}/Fold_{fold}_best_model.pth')\n",
    "            model.load_state_dict(checkpoint['model_state_dict'])\n",
    "            optimizer.load_state_dict(checkpoint['optimizer_state_dict'])\n",
    "            best_valid_score = float(checkpoint['best_valid_score'])\n",
    "        if Config.use_swa:\n",
    "            print(\"Use SWA\")\n",
    "            swa_model, swa_scheduler = get_swa(model, optimizer)\n",
    "        scheduler = get_scheduler(optimizer, len(train_X))\n",
    "        \n",
    "        \n",
    "        criterion = torch_functional.binary_cross_entropy_with_logits\n",
    "        \n",
    "\n",
    "        trainer = Trainer(\n",
    "            model, \n",
    "            device, \n",
    "            optimizer, \n",
    "            criterion,\n",
    "            scheduler,\n",
    "            valid_labels,\n",
    "            best_valid_score,\n",
    "            fold,\n",
    "            swa_model,\n",
    "            swa_scheduler\n",
    "        )\n",
    "\n",
    "        history = trainer.fit(\n",
    "            epochs=Config.epochs, \n",
    "            train_loader=train_loader, \n",
    "            valid_loader=valid_loader,\n",
    "            save_path=f'{Config.model_output_folder}/Fold_{fold}_',\n",
    "        )\n",
    "        folds_val_score.append(trainer.best_valid_score)\n",
    "    wandb.finish()\n",
    "    print('folds score:', folds_val_score)\n",
    "    print(\"Avg: {:.5f}\".format(np.mean(folds_val_score)))\n",
    "    print(\"Std: {:.5f}\".format(np.std(folds_val_score)))"
   ]
  },
  {
   "cell_type": "markdown",
   "metadata": {
    "id": "b36681e6-4f7d-4d6c-b54f-57d800d63016"
   },
   "source": [
    "# Weight & Bias Initialization"
   ]
  },
  {
   "cell_type": "code",
   "execution_count": 32,
   "metadata": {
    "colab": {
     "base_uri": "https://localhost:8080/"
    },
    "executionInfo": {
     "elapsed": 146,
     "status": "ok",
     "timestamp": 1632427779675,
     "user": {
      "displayName": "Vincent wang",
      "photoUrl": "https://lh3.googleusercontent.com/a/default-user=s64",
      "userId": "14844584715436552936"
     },
     "user_tz": 240
    },
    "id": "d285326b-438d-40af-a1db-eb618cf145c9",
    "outputId": "52980af6-2fd3-4e05-bf57-7515d771edc3"
   },
   "outputs": [
    {
     "name": "stderr",
     "output_type": "stream",
     "text": [
      "\u001b[34m\u001b[1mwandb\u001b[0m: W&B API key is configured (use `wandb login --relogin` to force relogin)\n",
      "\u001b[34m\u001b[1mwandb\u001b[0m: \u001b[33mWARNING\u001b[0m If you're specifying your api key in code, ensure this code is not shared publically.\n",
      "\u001b[34m\u001b[1mwandb\u001b[0m: \u001b[33mWARNING\u001b[0m Consider setting the WANDB_API_KEY environment variable, or running `wandb login` from the command line.\n",
      "\u001b[34m\u001b[1mwandb\u001b[0m: Appending key for api.wandb.ai to your netrc file: /home/.netrc\n"
     ]
    },
    {
     "data": {
      "text/plain": [
       "True"
      ]
     },
     "execution_count": 32,
     "metadata": {},
     "output_type": "execute_result"
    }
   ],
   "source": [
    "wandb.login(key=\"\")"
   ]
  },
  {
   "cell_type": "markdown",
   "metadata": {
    "id": "e13f8adc-4368-48be-8015-cf9e1e9719ab"
   },
   "source": [
    "# Train"
   ]
  },
  {
   "cell_type": "markdown",
   "metadata": {},
   "source": [
    "## Pretraining"
   ]
  },
  {
   "cell_type": "code",
   "execution_count": 65,
   "metadata": {
    "executionInfo": {
     "elapsed": 2,
     "status": "ok",
     "timestamp": 1632427779675,
     "user": {
      "displayName": "Vincent wang",
      "photoUrl": "https://lh3.googleusercontent.com/a/default-user=s64",
      "userId": "14844584715436552936"
     },
     "user_tz": 240
    },
    "id": "3560abc6-3e87-4021-84e8-abddfd72130a"
   },
   "outputs": [
    {
     "data": {
      "text/html": [
       "Finishing last run (ID:273mz9zm) before initializing another..."
      ],
      "text/plain": [
       "<IPython.core.display.HTML object>"
      ]
     },
     "metadata": {},
     "output_type": "display_data"
    },
    {
     "data": {
      "text/html": [
       "<br/>Waiting for W&B process to finish, PID 20976<br/>Program ended successfully."
      ],
      "text/plain": [
       "<IPython.core.display.HTML object>"
      ]
     },
     "metadata": {},
     "output_type": "display_data"
    },
    {
     "data": {
      "application/vnd.jupyter.widget-view+json": {
       "model_id": "5d3aa73fd0b54af597af5905cc494d3d",
       "version_major": 2,
       "version_minor": 0
      },
      "text/plain": [
       "VBox(children=(Label(value=' 0.00MB of 0.00MB uploaded (0.00MB deduped)\\r'), FloatProgress(value=1.0, max=1.0)…"
      ]
     },
     "metadata": {},
     "output_type": "display_data"
    },
    {
     "name": "stderr",
     "output_type": "stream",
     "text": [
      "\u001b[34m\u001b[1mwandb\u001b[0m: \u001b[32m\u001b[41mERROR\u001b[0m Control-C detected -- Run data was not synced\n"
     ]
    },
    {
     "data": {
      "text/html": [
       "...Successfully finished last run (ID:273mz9zm). Initializing new run:<br/><br/>"
      ],
      "text/plain": [
       "<IPython.core.display.HTML object>"
      ]
     },
     "metadata": {},
     "output_type": "display_data"
    },
    {
     "data": {
      "text/html": [
       "\n",
       "                Tracking run with wandb version 0.12.2<br/>\n",
       "                Syncing run <strong style=\"color:#cdcd00\">main_82nd_V2_c16_sGW_vflip_sc01_PL_pretrain</strong> to <a href=\"https://wandb.ai\" target=\"_blank\">Weights & Biases</a> <a href=\"https://docs.wandb.com/integrations/jupyter.html\" target=\"_blank\">(Documentation)</a>.<br/>\n",
       "                Project page: <a href=\"https://wandb.ai/vincentwang25/G2Net\" target=\"_blank\">https://wandb.ai/vincentwang25/G2Net</a><br/>\n",
       "                Run page: <a href=\"https://wandb.ai/vincentwang25/G2Net/runs/19lwihmh\" target=\"_blank\">https://wandb.ai/vincentwang25/G2Net/runs/19lwihmh</a><br/>\n",
       "                Run data is saved locally in <code>/home/wandb/run-20210925_034759-19lwihmh</code><br/><br/>\n",
       "            "
      ],
      "text/plain": [
       "<IPython.core.display.HTML object>"
      ]
     },
     "metadata": {},
     "output_type": "display_data"
    },
    {
     "name": "stdout",
     "output_type": "stream",
     "text": [
      "Fold:  0\n",
      "training data samples, val data samples:  448000 112000\n",
      "Epoch:  0\n",
      "[350/1750]  avg loss:  0.5997528512137277 inst loss:  0.4607737064361572\n"
     ]
    },
    {
     "data": {
      "text/html": [
       "<br/>Waiting for W&B process to finish, PID 23767<br/>Program ended successfully."
      ],
      "text/plain": [
       "<IPython.core.display.HTML object>"
      ]
     },
     "metadata": {},
     "output_type": "display_data"
    },
    {
     "data": {
      "application/vnd.jupyter.widget-view+json": {
       "model_id": "",
       "version_major": 2,
       "version_minor": 0
      },
      "text/plain": [
       "VBox(children=(Label(value=' 0.00MB of 0.00MB uploaded (0.00MB deduped)\\r'), FloatProgress(value=1.0, max=1.0)…"
      ]
     },
     "metadata": {},
     "output_type": "display_data"
    },
    {
     "data": {
      "text/html": [
       "Find user logs for this run at: <code>/home/wandb/run-20210925_034759-19lwihmh/logs/debug.log</code>"
      ],
      "text/plain": [
       "<IPython.core.display.HTML object>"
      ]
     },
     "metadata": {},
     "output_type": "display_data"
    },
    {
     "data": {
      "text/html": [
       "Find internal logs for this run at: <code>/home/wandb/run-20210925_034759-19lwihmh/logs/debug-internal.log</code>"
      ],
      "text/plain": [
       "<IPython.core.display.HTML object>"
      ]
     },
     "metadata": {},
     "output_type": "display_data"
    },
    {
     "data": {
      "text/html": [
       "<h3>Run summary:</h3><br/><style>\n",
       "    table.wandb td:nth-child(1) { padding: 0 10px; text-align: right }\n",
       "    </style><table class=\"wandb\">\n",
       "<tr><td>[fold0] loss</td><td>0.50899</td></tr><tr><td>[fold0] lr</td><td>0.001</td></tr></table>"
      ],
      "text/plain": [
       "<IPython.core.display.HTML object>"
      ]
     },
     "metadata": {},
     "output_type": "display_data"
    },
    {
     "data": {
      "text/html": [
       "<h3>Run history:</h3><br/><style>\n",
       "    table.wandb td:nth-child(1) { padding: 0 10px; text-align: right }\n",
       "    </style><table class=\"wandb\">\n",
       "<tr><td>[fold0] loss</td><td>██▇███▇▇▇▆▆▆▇▅▆▃▅▄▅▅▂▃▂▃▂▂▂▂▃▃▂▃▂▃▂▂▁▁▁▂</td></tr><tr><td>[fold0] lr</td><td>▁▁▁▂▂▂▂▂▃▃▃▃▄▄▄▄▄▅▅▅▅▆▆▆▆▆▇▇▇▇▇█████████</td></tr></table><br/>"
      ],
      "text/plain": [
       "<IPython.core.display.HTML object>"
      ]
     },
     "metadata": {},
     "output_type": "display_data"
    },
    {
     "data": {
      "text/html": [
       "Synced 5 W&B file(s), 0 media file(s), 0 artifact file(s) and 0 other file(s)"
      ],
      "text/plain": [
       "<IPython.core.display.HTML object>"
      ]
     },
     "metadata": {},
     "output_type": "display_data"
    },
    {
     "data": {
      "text/html": [
       "\n",
       "                    <br/>Synced <strong style=\"color:#cdcd00\">main_82nd_V2_c16_sGW_vflip_sc01_PL_pretrain</strong>: <a href=\"https://wandb.ai/vincentwang25/G2Net/runs/19lwihmh\" target=\"_blank\">https://wandb.ai/vincentwang25/G2Net/runs/19lwihmh</a><br/>\n",
       "                "
      ],
      "text/plain": [
       "<IPython.core.display.HTML object>"
      ]
     },
     "metadata": {},
     "output_type": "display_data"
    },
    {
     "name": "stdout",
     "output_type": "stream",
     "text": [
      "\n",
      "CPU times: user 1min 1s, sys: 15.8 s, total: 1min 17s\n",
      "Wall time: 1min 18s\n"
     ]
    }
   ],
   "source": [
    "%%time\n",
    "Config.epochs = 2\n",
    "Config.use_GW = True\n",
    "Config.use_PL = False\n",
    "Config.use_checkpoint = False\n",
    "Config.use_swa = False\n",
    "run = wandb.init(project=\"G2Net\", name=Config.model_version + \"_pretrain\" , config=class2dict(Config), group=Config.model_name, job_type=Config.model_version)\n",
    "try:\n",
    "#     %lprun -f DataRetriever.__getitem__ -f Trainer.train_epoch -f Trainer.fit -f Trainer.valid_epoch training_loop() \n",
    "    training_loop(train_df.copy(),Config.use_checkpoint)\n",
    "except (ValueError, RuntimeError, KeyboardInterrupt) as e:\n",
    "    wandb.finish()    \n",
    "    gc.collect()\n",
    "    torch.cuda.empty_cache()   \n",
    "    print(e)# saving oof predictions"
   ]
  },
  {
   "cell_type": "markdown",
   "metadata": {},
   "source": [
    "## Training"
   ]
  },
  {
   "cell_type": "code",
   "execution_count": 33,
   "metadata": {
    "colab": {
     "base_uri": "https://localhost:8080/",
     "height": 180
    },
    "id": "8a03bfac-e977-4cc1-908f-fd91ad857903",
    "outputId": "99533fa0-311b-4264-f0bf-1dde8beae052"
   },
   "outputs": [
    {
     "data": {
      "text/html": [
       "\n",
       "                Tracking run with wandb version 0.12.2<br/>\n",
       "                Syncing run <strong style=\"color:#cdcd00\">main_82nd_V2_c16_sGW_vflip_sc01_PL</strong> to <a href=\"https://wandb.ai\" target=\"_blank\">Weights & Biases</a> <a href=\"https://docs.wandb.com/integrations/jupyter.html\" target=\"_blank\">(Documentation)</a>.<br/>\n",
       "                Project page: <a href=\"https://wandb.ai/vincentwang25/G2Net\" target=\"_blank\">https://wandb.ai/vincentwang25/G2Net</a><br/>\n",
       "                Run page: <a href=\"https://wandb.ai/vincentwang25/G2Net/runs/375teynr\" target=\"_blank\">https://wandb.ai/vincentwang25/G2Net/runs/375teynr</a><br/>\n",
       "                Run data is saved locally in <code>/home/wandb/run-20210925_084853-375teynr</code><br/><br/>\n",
       "            "
      ],
      "text/plain": [
       "<IPython.core.display.HTML object>"
      ]
     },
     "metadata": {},
     "output_type": "display_data"
    },
    {
     "name": "stdout",
     "output_type": "stream",
     "text": [
      "Fold:  0\n",
      "skip\n",
      "Fold:  1\n",
      "skip\n",
      "Fold:  2\n",
      "skip\n",
      "Fold:  3\n",
      "training data samples, val data samples:  674000 112000\n",
      "Load Checkpoint from folder: ./output_model/main_82nd_V2_c16_sGW_vflip_sc01_PL/\n",
      "Epoch:  0\n",
      "[350/2633]  avg loss:  0.4309755597795759 inst loss:  0.39097654819488525\n",
      "[700/2633]  avg loss:  0.4222847638811384 inst loss:  0.37013253569602966\n",
      "[1050/2633]  avg loss:  0.41821765718005954 inst loss:  0.4016340970993042\n",
      "[1400/2633]  avg loss:  0.4163144792829241 inst loss:  0.3964075446128845\n",
      "[1750/2633]  avg loss:  0.41506452287946427 inst loss:  0.41499608755111694\n",
      "[2100/2633]  avg loss:  0.4135993884858631 inst loss:  0.3914918899536133\n",
      "[2450/2633]  avg loss:  0.4127164879623724 inst loss:  0.4088508188724518\n",
      "Save Model\n",
      "train_loss:  tensor(0.4123, device='cuda:1')\n",
      "valid_loss:  0.42440014138613663\n",
      "valid_score:  0.872757114655738\n",
      "best_valid_score:  0.872757114655738\n",
      "time used:  582.3987035751343\n",
      "Epoch:  1\n",
      "[350/2633]  avg loss:  0.4017556326729911 inst loss:  0.43669742345809937\n",
      "[700/2633]  avg loss:  0.40279959542410715 inst loss:  0.4042561948299408\n",
      "[1050/2633]  avg loss:  0.40174563453311013 inst loss:  0.4506707191467285\n",
      "[1400/2633]  avg loss:  0.40226261683872766 inst loss:  0.34944427013397217\n",
      "[1750/2633]  avg loss:  0.40172405133928574 inst loss:  0.40523651242256165\n",
      "[2100/2633]  avg loss:  0.4015652029854911 inst loss:  0.40378832817077637\n",
      "[2450/2633]  avg loss:  0.4015510901626276 inst loss:  0.35716354846954346\n",
      "Save Model\n",
      "train_loss:  tensor(0.4015, device='cuda:1')\n",
      "valid_loss:  0.4164237439904583\n",
      "valid_score:  0.8790904741076955\n",
      "best_valid_score:  0.8790904741076955\n",
      "time used:  572.9758267402649\n",
      "Epoch:  2\n",
      "[350/2633]  avg loss:  0.39496961321149554 inst loss:  0.4281226694583893\n",
      "[700/2633]  avg loss:  0.3967698451450893 inst loss:  0.39958345890045166\n",
      "[1050/2633]  avg loss:  0.39630275181361607 inst loss:  0.40990149974823\n",
      "[1400/2633]  avg loss:  0.39671016148158483 inst loss:  0.4244173765182495\n",
      "[1750/2633]  avg loss:  0.3968071986607143 inst loss:  0.3745752274990082\n",
      "[2100/2633]  avg loss:  0.396764410109747 inst loss:  0.4261130094528198\n",
      "[2450/2633]  avg loss:  0.39658997827646686 inst loss:  0.40156543254852295\n",
      "Save Model\n",
      "train_loss:  tensor(0.3966, device='cuda:1')\n",
      "valid_loss:  0.4067586101081273\n",
      "valid_score:  0.8805103759821535\n",
      "best_valid_score:  0.8805103759821535\n",
      "time used:  573.717390537262\n",
      "Epoch:  3\n",
      "[350/2633]  avg loss:  0.3932855224609375 inst loss:  0.3567808270454407\n",
      "[700/2633]  avg loss:  0.3926476614815848 inst loss:  0.41709595918655396\n",
      "[1050/2633]  avg loss:  0.39356299990699406 inst loss:  0.39041125774383545\n",
      "[1400/2633]  avg loss:  0.3935585675920759 inst loss:  0.40876585245132446\n",
      "[1750/2633]  avg loss:  0.3935341099330357 inst loss:  0.32944247126579285\n",
      "[2100/2633]  avg loss:  0.39273896716889883 inst loss:  0.38110414147377014\n",
      "[2450/2633]  avg loss:  0.39240809849330355 inst loss:  0.35804349184036255\n",
      "train_loss:  tensor(0.3924, device='cuda:1')\n",
      "valid_loss:  0.3950583353706691\n",
      "valid_score:  0.880477295782382\n",
      "best_valid_score:  0.8805103759821535\n",
      "time used:  576.2856333255768\n",
      "Epoch:  4\n",
      "[350/2633]  avg loss:  0.3894927106584821 inst loss:  0.33855223655700684\n",
      "[700/2633]  avg loss:  0.38957663399832587 inst loss:  0.381473183631897\n",
      "[1050/2633]  avg loss:  0.3879309372674851 inst loss:  0.4049641191959381\n",
      "[1400/2633]  avg loss:  0.3875062779017857 inst loss:  0.36186888813972473\n",
      "[1750/2633]  avg loss:  0.38760135323660716 inst loss:  0.40823712944984436\n",
      "[2100/2633]  avg loss:  0.38732110886346727 inst loss:  0.3997010886669159\n",
      "[2450/2633]  avg loss:  0.3875150470344388 inst loss:  0.4365604519844055\n",
      "Save Model\n",
      "train_loss:  tensor(0.3874, device='cuda:1')\n",
      "valid_loss:  0.39958440617883584\n",
      "valid_score:  0.8823003338427504\n",
      "best_valid_score:  0.8823003338427504\n",
      "time used:  578.7917351722717\n",
      "Epoch:  5\n",
      "[350/2633]  avg loss:  0.38311854771205356 inst loss:  0.430672824382782\n",
      "[700/2633]  avg loss:  0.38499581473214284 inst loss:  0.41335469484329224\n",
      "[1050/2633]  avg loss:  0.3840443638392857 inst loss:  0.393665611743927\n",
      "[1400/2633]  avg loss:  0.38421112060546875 inst loss:  0.3755202889442444\n",
      "[1750/2633]  avg loss:  0.3839316755022321 inst loss:  0.36845070123672485\n",
      "[2100/2633]  avg loss:  0.3838960774739583 inst loss:  0.41681617498397827\n",
      "[2450/2633]  avg loss:  0.3842305086096939 inst loss:  0.37378638982772827\n",
      "Save Model\n",
      "train_loss:  tensor(0.3842, device='cuda:1')\n",
      "valid_loss:  0.39676753339702137\n",
      "valid_score:  0.8825857960736021\n",
      "best_valid_score:  0.8825857960736021\n",
      "time used:  576.7604904174805\n",
      "Fold:  4\n",
      "training data samples, val data samples:  674000 112000\n",
      "Load Checkpoint from folder: ./output_model/main_82nd_V2_c16_sGW_vflip_sc01_PL/\n",
      "Epoch:  0\n",
      "[350/2633]  avg loss:  0.43109488351004466 inst loss:  0.3587394952774048\n",
      "[700/2633]  avg loss:  0.42227002825055804 inst loss:  0.44681084156036377\n",
      "[1050/2633]  avg loss:  0.4197255161830357 inst loss:  0.4197031855583191\n",
      "[1400/2633]  avg loss:  0.41797010149274555 inst loss:  0.3773193359375\n",
      "[1750/2633]  avg loss:  0.416178466796875 inst loss:  0.45382755994796753\n",
      "[2100/2633]  avg loss:  0.4152475120907738 inst loss:  0.3901185989379883\n",
      "[2450/2633]  avg loss:  0.41436421297034437 inst loss:  0.3892644941806793\n",
      "Save Model\n",
      "train_loss:  tensor(0.4143, device='cuda:1')\n",
      "valid_loss:  0.4216242086941793\n",
      "valid_score:  0.8725894241159207\n",
      "best_valid_score:  0.8725894241159207\n",
      "time used:  573.6366555690765\n",
      "Epoch:  1\n",
      "[350/2633]  avg loss:  0.40328098842075893 inst loss:  0.3517950177192688\n",
      "[700/2633]  avg loss:  0.40294481549944194 inst loss:  0.3764668405056\n",
      "[1050/2633]  avg loss:  0.40395926339285715 inst loss:  0.42996710538864136\n",
      "[1400/2633]  avg loss:  0.40404719761439734 inst loss:  0.39063912630081177\n",
      "[1750/2633]  avg loss:  0.40390625 inst loss:  0.3870934844017029\n",
      "[2100/2633]  avg loss:  0.4041776529947917 inst loss:  0.4648824632167816\n",
      "[2450/2633]  avg loss:  0.4038483288823342 inst loss:  0.4397795796394348\n",
      "Save Model\n",
      "train_loss:  tensor(0.4037, device='cuda:1')\n",
      "valid_loss:  0.47388954753200757\n",
      "valid_score:  0.8769431680104787\n",
      "best_valid_score:  0.8769431680104787\n",
      "time used:  573.6233685016632\n",
      "Epoch:  2\n",
      "[350/2633]  avg loss:  0.40032030378069194 inst loss:  0.36927223205566406\n",
      "[700/2633]  avg loss:  0.399735107421875 inst loss:  0.4103682041168213\n",
      "[1050/2633]  avg loss:  0.3989031982421875 inst loss:  0.4177458882331848\n",
      "[1400/2633]  avg loss:  0.39935612269810267 inst loss:  0.3883987367153168\n",
      "[1750/2633]  avg loss:  0.399447265625 inst loss:  0.36018383502960205\n",
      "[2100/2633]  avg loss:  0.39945289248511906 inst loss:  0.42937466502189636\n",
      "[2450/2633]  avg loss:  0.39900460379464286 inst loss:  0.3387928009033203\n",
      "Save Model\n",
      "train_loss:  tensor(0.3989, device='cuda:1')\n",
      "valid_loss:  0.4052869206694163\n",
      "valid_score:  0.8778358523774958\n",
      "best_valid_score:  0.8778358523774958\n",
      "time used:  574.2051889896393\n",
      "Epoch:  3\n",
      "[350/2633]  avg loss:  0.3964412580217634 inst loss:  0.3826853930950165\n",
      "[700/2633]  avg loss:  0.39527422223772324 inst loss:  0.39010316133499146\n",
      "[1050/2633]  avg loss:  0.3951146298363095 inst loss:  0.3842379152774811\n",
      "[1400/2633]  avg loss:  0.3950264195033482 inst loss:  0.3660174012184143\n",
      "[1750/2633]  avg loss:  0.3949826311383929 inst loss:  0.3283427357673645\n",
      "[2100/2633]  avg loss:  0.3951563953218006 inst loss:  0.37459492683410645\n",
      "[2450/2633]  avg loss:  0.3948231973453444 inst loss:  0.3730264902114868\n",
      "Save Model\n",
      "train_loss:  tensor(0.3948, device='cuda:1')\n",
      "valid_loss:  0.3997888795044868\n",
      "valid_score:  0.8797327810674824\n",
      "best_valid_score:  0.8797327810674824\n",
      "time used:  573.2970633506775\n",
      "Epoch:  4\n",
      "[350/2633]  avg loss:  0.3910569109235491 inst loss:  0.3740859627723694\n",
      "[700/2633]  avg loss:  0.3905491856166295 inst loss:  0.369432270526886\n",
      "[1050/2633]  avg loss:  0.3905861118861607 inst loss:  0.3989129662513733\n",
      "[1400/2633]  avg loss:  0.39053009033203123 inst loss:  0.40133535861968994\n",
      "[1750/2633]  avg loss:  0.39072042410714286 inst loss:  0.4139517545700073\n",
      "[2100/2633]  avg loss:  0.3904510498046875 inst loss:  0.46085432171821594\n",
      "[2450/2633]  avg loss:  0.39023347815688775 inst loss:  0.39178749918937683\n",
      "Save Model\n",
      "train_loss:  tensor(0.3902, device='cuda:1')\n",
      "valid_loss:  0.408636342717088\n",
      "valid_score:  0.8809138273785427\n",
      "best_valid_score:  0.8809138273785427\n",
      "time used:  573.726624250412\n",
      "Epoch:  5\n",
      "[350/2633]  avg loss:  0.38720467703683037 inst loss:  0.38487353920936584\n",
      "[700/2633]  avg loss:  0.38819737025669643 inst loss:  0.3591909408569336\n",
      "[1050/2633]  avg loss:  0.38768731980096727 inst loss:  0.39234355092048645\n",
      "[1400/2633]  avg loss:  0.3877024187360491 inst loss:  0.3679875135421753\n",
      "[1750/2633]  avg loss:  0.3871853724888393 inst loss:  0.39275237917900085\n",
      "[2100/2633]  avg loss:  0.3868861316499256 inst loss:  0.3562147617340088\n",
      "[2450/2633]  avg loss:  0.38707507075095665 inst loss:  0.39293378591537476\n",
      "Save Model\n",
      "train_loss:  tensor(0.3869, device='cuda:1')\n",
      "valid_loss:  0.397721077209194\n",
      "valid_score:  0.8811434645102421\n",
      "best_valid_score:  0.8811434645102421\n",
      "time used:  573.9787142276764\n"
     ]
    },
    {
     "data": {
      "text/html": [
       "<br/>Waiting for W&B process to finish, PID 375<br/>Program ended successfully."
      ],
      "text/plain": [
       "<IPython.core.display.HTML object>"
      ]
     },
     "metadata": {},
     "output_type": "display_data"
    },
    {
     "data": {
      "application/vnd.jupyter.widget-view+json": {
       "model_id": "",
       "version_major": 2,
       "version_minor": 0
      },
      "text/plain": [
       "VBox(children=(Label(value=' 0.00MB of 0.00MB uploaded (0.00MB deduped)\\r'), FloatProgress(value=1.0, max=1.0)…"
      ]
     },
     "metadata": {},
     "output_type": "display_data"
    },
    {
     "data": {
      "text/html": [
       "Find user logs for this run at: <code>/home/wandb/run-20210925_084853-375teynr/logs/debug.log</code>"
      ],
      "text/plain": [
       "<IPython.core.display.HTML object>"
      ]
     },
     "metadata": {},
     "output_type": "display_data"
    },
    {
     "data": {
      "text/html": [
       "Find internal logs for this run at: <code>/home/wandb/run-20210925_084853-375teynr/logs/debug-internal.log</code>"
      ],
      "text/plain": [
       "<IPython.core.display.HTML object>"
      ]
     },
     "metadata": {},
     "output_type": "display_data"
    },
    {
     "data": {
      "text/html": [
       "<h3>Run summary:</h3><br/><style>\n",
       "    table.wandb td:nth-child(1) { padding: 0 10px; text-align: right }\n",
       "    </style><table class=\"wandb\">\n",
       "<tr><td>[fold3] avg_train_loss</td><td>0.38416</td></tr><tr><td>[fold3] avg_val_loss</td><td>0.39677</td></tr><tr><td>[fold3] epoch</td><td>6</td></tr><tr><td>[fold3] loss</td><td>0.41883</td></tr><tr><td>[fold3] lr</td><td>0.0</td></tr><tr><td>[fold3] val_score</td><td>0.88259</td></tr><tr><td>[fold4] avg_train_loss</td><td>0.38686</td></tr><tr><td>[fold4] avg_val_loss</td><td>0.39772</td></tr><tr><td>[fold4] epoch</td><td>6</td></tr><tr><td>[fold4] loss</td><td>0.38585</td></tr><tr><td>[fold4] lr</td><td>0.0</td></tr><tr><td>[fold4] val_score</td><td>0.88114</td></tr></table>"
      ],
      "text/plain": [
       "<IPython.core.display.HTML object>"
      ]
     },
     "metadata": {},
     "output_type": "display_data"
    },
    {
     "data": {
      "text/html": [
       "<h3>Run history:</h3><br/><style>\n",
       "    table.wandb td:nth-child(1) { padding: 0 10px; text-align: right }\n",
       "    </style><table class=\"wandb\">\n",
       "<tr><td>[fold3] avg_train_loss</td><td>█▅▄▃▂▁</td></tr><tr><td>[fold3] avg_val_loss</td><td>█▆▄▁▂▁</td></tr><tr><td>[fold3] epoch</td><td>▁▂▄▅▇█</td></tr><tr><td>[fold3] loss</td><td>█▆▇▅▄▅▆▄▄▅▆▄▆▅▆▁▆▆▅▄▆▄▅▃▃▅▄▆▄▄▄▃▃▃▇▄▄▄▁▄</td></tr><tr><td>[fold3] lr</td><td>▂▃▅▇██████▇▇▇▇▇▆▆▆▆▅▅▅▄▄▄▃▃▃▃▂▂▂▂▂▁▁▁▁▁▁</td></tr><tr><td>[fold3] val_score</td><td>▁▆▇▆██</td></tr><tr><td>[fold4] avg_train_loss</td><td>█▅▄▃▂▁</td></tr><tr><td>[fold4] avg_val_loss</td><td>▃█▂▁▂▁</td></tr><tr><td>[fold4] epoch</td><td>▁▂▄▅▇█</td></tr><tr><td>[fold4] loss</td><td>▆▆█▄▅▅▇▅▂▃▅▄▅▄▃▅▃▄▃▃▄▂▇▂▁▄▁▂▂▂▁▄▂▃▂▃▁▃▃▄</td></tr><tr><td>[fold4] lr</td><td>▂▃▅▇██████▇▇▇▇▇▆▆▆▆▅▅▅▄▄▄▃▃▃▃▂▂▂▂▂▁▁▁▁▁▁</td></tr><tr><td>[fold4] val_score</td><td>▁▅▅▇██</td></tr></table><br/>"
      ],
      "text/plain": [
       "<IPython.core.display.HTML object>"
      ]
     },
     "metadata": {},
     "output_type": "display_data"
    },
    {
     "data": {
      "text/html": [
       "Synced 5 W&B file(s), 0 media file(s), 0 artifact file(s) and 0 other file(s)"
      ],
      "text/plain": [
       "<IPython.core.display.HTML object>"
      ]
     },
     "metadata": {},
     "output_type": "display_data"
    },
    {
     "data": {
      "text/html": [
       "\n",
       "                    <br/>Synced <strong style=\"color:#cdcd00\">main_82nd_V2_c16_sGW_vflip_sc01_PL</strong>: <a href=\"https://wandb.ai/vincentwang25/G2Net/runs/375teynr\" target=\"_blank\">https://wandb.ai/vincentwang25/G2Net/runs/375teynr</a><br/>\n",
       "                "
      ],
      "text/plain": [
       "<IPython.core.display.HTML object>"
      ]
     },
     "metadata": {},
     "output_type": "display_data"
    },
    {
     "name": "stdout",
     "output_type": "stream",
     "text": [
      "folds score: [0.8825857960736021, 0.8811434645102421]\n",
      "Avg: 0.88186\n",
      "Std: 0.00072\n"
     ]
    }
   ],
   "source": [
    "# %%time\n",
    "Config.epochs = 6\n",
    "Config.use_PL = True\n",
    "Config.use_checkpoint = True\n",
    "Config.use_GW = False\n",
    "Config.use_swa = False\n",
    "\n",
    "run_error = False\n",
    "run = wandb.init(project=\"G2Net\", name=Config.model_version, config=class2dict(Config), group=Config.model_name, job_type=Config.model_version)\n",
    "try:\n",
    "#     %lprun -f DataRetriever.__getitem__ -f Trainer.train_epoch -f Trainer.fit -f Trainer.valid_epoch training_loop() \n",
    "    training_loop(train_df.copy(),Config.use_checkpoint)\n",
    "except (ValueError, RuntimeError, KeyboardInterrupt) as e:\n",
    "    wandb.finish()\n",
    "    run_error=True\n",
    "    gc.collect()\n",
    "    torch.cuda.empty_cache()   \n",
    "    print(e)# saving oof predictions"
   ]
  },
  {
   "cell_type": "markdown",
   "metadata": {},
   "source": [
    "# Bug"
   ]
  },
  {
   "cell_type": "code",
   "execution_count": 34,
   "metadata": {},
   "outputs": [
    {
     "data": {
      "text/html": [
       "\n",
       "                Tracking run with wandb version 0.12.2<br/>\n",
       "                Syncing run <strong style=\"color:#cdcd00\">main_82nd_V2_c16_sGW_vflip_sc01_PL_pretrain</strong> to <a href=\"https://wandb.ai\" target=\"_blank\">Weights & Biases</a> <a href=\"https://docs.wandb.com/integrations/jupyter.html\" target=\"_blank\">(Documentation)</a>.<br/>\n",
       "                Project page: <a href=\"https://wandb.ai/vincentwang25/G2Net\" target=\"_blank\">https://wandb.ai/vincentwang25/G2Net</a><br/>\n",
       "                Run page: <a href=\"https://wandb.ai/vincentwang25/G2Net/runs/3jam4jos\" target=\"_blank\">https://wandb.ai/vincentwang25/G2Net/runs/3jam4jos</a><br/>\n",
       "                Run data is saved locally in <code>/home/wandb/run-20210925_104414-3jam4jos</code><br/><br/>\n",
       "            "
      ],
      "text/plain": [
       "<IPython.core.display.HTML object>"
      ]
     },
     "metadata": {},
     "output_type": "display_data"
    },
    {
     "name": "stdout",
     "output_type": "stream",
     "text": [
      "Fold:  0\n",
      "skip\n",
      "Fold:  1\n",
      "training data samples, val data samples:  448000 112000\n",
      "Epoch:  0\n",
      "[350/1750]  avg loss:  0.5482647705078125 inst loss:  0.5389760732650757\n",
      "[700/1750]  avg loss:  0.5128021240234375 inst loss:  0.44510766863822937\n",
      "[1050/1750]  avg loss:  0.4977411179315476 inst loss:  0.5369569659233093\n",
      "[1400/1750]  avg loss:  0.48705814906529016 inst loss:  0.44739216566085815\n",
      "[1750/1750]  avg loss:  0.4786155482700893 inst loss:  0.49801668524742126\n",
      "Save Model\n",
      "train_loss:  0.4786155482700893\n",
      "valid_loss:  0.4659000120750845\n",
      "valid_score:  0.8430031904428015\n",
      "best_valid_score:  0.8430031904428015\n",
      "time used:  391.1699206829071\n",
      "Epoch:  1\n",
      "[350/1750]  avg loss:  0.4411916242327009 inst loss:  0.40609151124954224\n",
      "[700/1750]  avg loss:  0.43676413399832587 inst loss:  0.4666467308998108\n",
      "[1050/1750]  avg loss:  0.4343990652901786 inst loss:  0.42360779643058777\n",
      "[1400/1750]  avg loss:  0.43209599086216516 inst loss:  0.45467907190322876\n",
      "[1750/1750]  avg loss:  0.43009776088169643 inst loss:  0.47110825777053833\n",
      "Save Model\n",
      "train_loss:  0.43009776088169643\n",
      "valid_loss:  0.4638515068515795\n",
      "valid_score:  0.845944547450616\n",
      "best_valid_score:  0.845944547450616\n",
      "time used:  393.45751190185547\n",
      "Fold:  2\n",
      "training data samples, val data samples:  448000 112000\n",
      "Epoch:  0\n",
      "[350/1750]  avg loss:  0.5521141270228794 inst loss:  0.476418137550354\n",
      "[700/1750]  avg loss:  0.5164588710239956 inst loss:  0.5048050880432129\n",
      "[1050/1750]  avg loss:  0.49891915457589286 inst loss:  0.503777027130127\n",
      "[1400/1750]  avg loss:  0.48717219761439734 inst loss:  0.493610143661499\n",
      "[1750/1750]  avg loss:  0.47871951729910717 inst loss:  0.43009671568870544\n",
      "Save Model\n",
      "train_loss:  0.47871951729910717\n",
      "valid_loss:  0.4895753573337102\n",
      "valid_score:  0.8474504740434607\n",
      "best_valid_score:  0.8474504740434607\n",
      "time used:  393.37328267097473\n",
      "Epoch:  1\n",
      "[350/1750]  avg loss:  0.43895603724888393 inst loss:  0.428891658782959\n",
      "[700/1750]  avg loss:  0.4360879080636161 inst loss:  0.4376511573791504\n",
      "[1050/1750]  avg loss:  0.43342168898809524 inst loss:  0.4168030321598053\n",
      "[1400/1750]  avg loss:  0.4313997541155134 inst loss:  0.44737309217453003\n",
      "[1750/1750]  avg loss:  0.4303468191964286 inst loss:  0.4687550663948059\n",
      "Save Model\n",
      "train_loss:  0.4303468191964286\n",
      "valid_loss:  0.4575560309299051\n",
      "valid_score:  0.8481522596421692\n",
      "best_valid_score:  0.8481522596421692\n",
      "time used:  393.243670463562\n",
      "Fold:  3\n",
      "skip\n",
      "Fold:  4\n",
      "skip\n"
     ]
    },
    {
     "data": {
      "text/html": [
       "<br/>Waiting for W&B process to finish, PID 10125<br/>Program ended successfully."
      ],
      "text/plain": [
       "<IPython.core.display.HTML object>"
      ]
     },
     "metadata": {},
     "output_type": "display_data"
    },
    {
     "data": {
      "application/vnd.jupyter.widget-view+json": {
       "model_id": "",
       "version_major": 2,
       "version_minor": 0
      },
      "text/plain": [
       "VBox(children=(Label(value=' 0.00MB of 0.00MB uploaded (0.00MB deduped)\\r'), FloatProgress(value=1.0, max=1.0)…"
      ]
     },
     "metadata": {},
     "output_type": "display_data"
    },
    {
     "data": {
      "text/html": [
       "Find user logs for this run at: <code>/home/wandb/run-20210925_104414-3jam4jos/logs/debug.log</code>"
      ],
      "text/plain": [
       "<IPython.core.display.HTML object>"
      ]
     },
     "metadata": {},
     "output_type": "display_data"
    },
    {
     "data": {
      "text/html": [
       "Find internal logs for this run at: <code>/home/wandb/run-20210925_104414-3jam4jos/logs/debug-internal.log</code>"
      ],
      "text/plain": [
       "<IPython.core.display.HTML object>"
      ]
     },
     "metadata": {},
     "output_type": "display_data"
    },
    {
     "data": {
      "text/html": [
       "<h3>Run summary:</h3><br/><style>\n",
       "    table.wandb td:nth-child(1) { padding: 0 10px; text-align: right }\n",
       "    </style><table class=\"wandb\">\n",
       "<tr><td>[fold1] avg_train_loss</td><td>0.4301</td></tr><tr><td>[fold1] avg_val_loss</td><td>0.46385</td></tr><tr><td>[fold1] epoch</td><td>2</td></tr><tr><td>[fold1] loss</td><td>0.47111</td></tr><tr><td>[fold1] lr</td><td>0.0</td></tr><tr><td>[fold1] val_score</td><td>0.84594</td></tr><tr><td>[fold2] avg_train_loss</td><td>0.43035</td></tr><tr><td>[fold2] avg_val_loss</td><td>0.45756</td></tr><tr><td>[fold2] epoch</td><td>2</td></tr><tr><td>[fold2] loss</td><td>0.46876</td></tr><tr><td>[fold2] lr</td><td>0.0</td></tr><tr><td>[fold2] val_score</td><td>0.84815</td></tr></table>"
      ],
      "text/plain": [
       "<IPython.core.display.HTML object>"
      ]
     },
     "metadata": {},
     "output_type": "display_data"
    },
    {
     "data": {
      "text/html": [
       "<h3>Run history:</h3><br/><style>\n",
       "    table.wandb td:nth-child(1) { padding: 0 10px; text-align: right }\n",
       "    </style><table class=\"wandb\">\n",
       "<tr><td>[fold1] avg_train_loss</td><td>█▁</td></tr><tr><td>[fold1] avg_val_loss</td><td>█▁</td></tr><tr><td>[fold1] epoch</td><td>▁█</td></tr><tr><td>[fold1] loss</td><td>█▄▃▂▃▂▄▃▃▃▃▂▃▃▂▂▂▄▁▃▃▂▃▃▂▂▁▁▂▂▂▂▂▁▄▂▂▃▂▃</td></tr><tr><td>[fold1] lr</td><td>▂▃▅▇██████▇▇▇▇▇▆▆▆▆▅▅▅▄▄▄▃▃▃▃▂▂▂▂▂▁▁▁▁▁▁</td></tr><tr><td>[fold1] val_score</td><td>▁█</td></tr><tr><td>[fold2] avg_train_loss</td><td>█▁</td></tr><tr><td>[fold2] avg_val_loss</td><td>█▁</td></tr><tr><td>[fold2] epoch</td><td>▁█</td></tr><tr><td>[fold2] loss</td><td>█▅▄▃▂▄▂▃▃▂▃▃▂▃▄▃▃▁▃▂▂▃▃▂▂▁▂▂▂▂▁▂▁▂▂▃▁▂▂▂</td></tr><tr><td>[fold2] lr</td><td>▂▃▅▇██████▇▇▇▇▇▆▆▆▆▅▅▅▄▄▄▃▃▃▃▂▂▂▂▂▁▁▁▁▁▁</td></tr><tr><td>[fold2] val_score</td><td>▁█</td></tr></table><br/>"
      ],
      "text/plain": [
       "<IPython.core.display.HTML object>"
      ]
     },
     "metadata": {},
     "output_type": "display_data"
    },
    {
     "data": {
      "text/html": [
       "Synced 5 W&B file(s), 0 media file(s), 0 artifact file(s) and 0 other file(s)"
      ],
      "text/plain": [
       "<IPython.core.display.HTML object>"
      ]
     },
     "metadata": {},
     "output_type": "display_data"
    },
    {
     "data": {
      "text/html": [
       "\n",
       "                    <br/>Synced <strong style=\"color:#cdcd00\">main_82nd_V2_c16_sGW_vflip_sc01_PL_pretrain</strong>: <a href=\"https://wandb.ai/vincentwang25/G2Net/runs/3jam4jos\" target=\"_blank\">https://wandb.ai/vincentwang25/G2Net/runs/3jam4jos</a><br/>\n",
       "                "
      ],
      "text/plain": [
       "<IPython.core.display.HTML object>"
      ]
     },
     "metadata": {},
     "output_type": "display_data"
    },
    {
     "name": "stdout",
     "output_type": "stream",
     "text": [
      "folds score: [0.845944547450616, 0.8481522596421692]\n",
      "Avg: 0.84705\n",
      "Std: 0.00110\n"
     ]
    }
   ],
   "source": [
    "# retrain fold 1,2\n",
    "Config.train_folds = [1,2]\n",
    "Config.epochs = 2\n",
    "Config.use_GW = True\n",
    "Config.use_PL = False\n",
    "Config.use_checkpoint = False\n",
    "run = wandb.init(project=\"G2Net\", name=Config.model_version + \"_pretrain\" , config=class2dict(Config), group=Config.model_name, job_type=Config.model_version)\n",
    "try:\n",
    "#     %lprun -f DataRetriever.__getitem__ -f Trainer.train_epoch -f Trainer.fit -f Trainer.valid_epoch training_loop() \n",
    "    training_loop(train_df.copy(),Config.use_checkpoint)\n",
    "except (ValueError, RuntimeError, KeyboardInterrupt) as e:\n",
    "    wandb.finish()    \n",
    "    gc.collect()\n",
    "    torch.cuda.empty_cache()   \n",
    "    print(e)# saving oof predictions"
   ]
  },
  {
   "cell_type": "code",
   "execution_count": 35,
   "metadata": {},
   "outputs": [
    {
     "data": {
      "text/html": [
       "\n",
       "                Tracking run with wandb version 0.12.2<br/>\n",
       "                Syncing run <strong style=\"color:#cdcd00\">main_82nd_V2_c16_sGW_vflip_sc01_PL</strong> to <a href=\"https://wandb.ai\" target=\"_blank\">Weights & Biases</a> <a href=\"https://docs.wandb.com/integrations/jupyter.html\" target=\"_blank\">(Documentation)</a>.<br/>\n",
       "                Project page: <a href=\"https://wandb.ai/vincentwang25/G2Net\" target=\"_blank\">https://wandb.ai/vincentwang25/G2Net</a><br/>\n",
       "                Run page: <a href=\"https://wandb.ai/vincentwang25/G2Net/runs/eye8etal\" target=\"_blank\">https://wandb.ai/vincentwang25/G2Net/runs/eye8etal</a><br/>\n",
       "                Run data is saved locally in <code>/home/wandb/run-20210925_111036-eye8etal</code><br/><br/>\n",
       "            "
      ],
      "text/plain": [
       "<IPython.core.display.HTML object>"
      ]
     },
     "metadata": {},
     "output_type": "display_data"
    },
    {
     "name": "stdout",
     "output_type": "stream",
     "text": [
      "Fold:  0\n",
      "skip\n",
      "Fold:  1\n",
      "training data samples, val data samples:  674000 112000\n",
      "Load Checkpoint from folder: ./output_model/main_82nd_V2_c16_sGW_vflip_sc01_PL/\n",
      "Epoch:  0\n",
      "[350/2633]  avg loss:  0.4309885951450893 inst loss:  0.37467652559280396\n",
      "[700/2633]  avg loss:  0.4201111275809152 inst loss:  0.4037328362464905\n",
      "[1050/2633]  avg loss:  0.41719642275855656 inst loss:  0.39339831471443176\n",
      "[1400/2633]  avg loss:  0.4153073992047991 inst loss:  0.37072569131851196\n",
      "[1750/2633]  avg loss:  0.41401953125 inst loss:  0.43175622820854187\n",
      "[2100/2633]  avg loss:  0.4124234735398066 inst loss:  0.4121675193309784\n",
      "[2450/2633]  avg loss:  0.4114999701052296 inst loss:  0.41421109437942505\n",
      "Save Model\n",
      "train_loss:  tensor(0.4111, device='cuda:1')\n",
      "valid_loss:  0.4505674731513681\n",
      "valid_score:  0.8716528944017752\n",
      "best_valid_score:  0.8716528944017752\n",
      "time used:  579.42112159729\n",
      "Epoch:  1\n",
      "[350/2633]  avg loss:  0.4032002476283482 inst loss:  0.4235500395298004\n",
      "[700/2633]  avg loss:  0.40209712437220985 inst loss:  0.36128056049346924\n",
      "[1050/2633]  avg loss:  0.40164757138206847 inst loss:  0.3789716362953186\n",
      "[1400/2633]  avg loss:  0.40171072823660714 inst loss:  0.3667491674423218\n",
      "[1750/2633]  avg loss:  0.40101262555803574 inst loss:  0.35191604495048523\n",
      "[2100/2633]  avg loss:  0.4007185291108631 inst loss:  0.3745151162147522\n",
      "[2450/2633]  avg loss:  0.4005915676817602 inst loss:  0.4059939682483673\n",
      "Save Model\n",
      "train_loss:  tensor(0.4005, device='cuda:1')\n",
      "valid_loss:  0.4176588572867929\n",
      "valid_score:  0.8752629187026569\n",
      "best_valid_score:  0.8752629187026569\n",
      "time used:  579.5047256946564\n",
      "Epoch:  2\n",
      "[350/2633]  avg loss:  0.3965818568638393 inst loss:  0.3749743700027466\n",
      "[700/2633]  avg loss:  0.3957859584263393 inst loss:  0.3851168751716614\n",
      "[1050/2633]  avg loss:  0.3961849830264137 inst loss:  0.3908182382583618\n",
      "[1400/2633]  avg loss:  0.3960251726422991 inst loss:  0.3797150254249573\n",
      "[1750/2633]  avg loss:  0.39632230050223216 inst loss:  0.40188315510749817\n",
      "[2100/2633]  avg loss:  0.3959422956194196 inst loss:  0.3983091711997986\n",
      "[2450/2633]  avg loss:  0.3959676438934949 inst loss:  0.35511475801467896\n",
      "Save Model\n",
      "train_loss:  tensor(0.3959, device='cuda:1')\n",
      "valid_loss:  0.4008397489922232\n",
      "valid_score:  0.8768074747622018\n",
      "best_valid_score:  0.8768074747622018\n",
      "time used:  579.5667140483856\n",
      "Epoch:  3\n",
      "[350/2633]  avg loss:  0.3916738019670759 inst loss:  0.3554507791996002\n",
      "[700/2633]  avg loss:  0.39151336669921877 inst loss:  0.3675799071788788\n",
      "[1050/2633]  avg loss:  0.3920059640066964 inst loss:  0.4268980026245117\n",
      "[1400/2633]  avg loss:  0.39207467215401787 inst loss:  0.3990126848220825\n",
      "[1750/2633]  avg loss:  0.39170438058035717 inst loss:  0.433526873588562\n",
      "[2100/2633]  avg loss:  0.3916280401320685 inst loss:  0.34965798258781433\n",
      "[2450/2633]  avg loss:  0.39135829380580356 inst loss:  0.36284956336021423\n",
      "Save Model\n",
      "train_loss:  tensor(0.3914, device='cuda:1')\n",
      "valid_loss:  0.4114086125811485\n",
      "valid_score:  0.8793079819337897\n",
      "best_valid_score:  0.8793079819337897\n",
      "time used:  577.7333462238312\n",
      "Epoch:  4\n",
      "[350/2633]  avg loss:  0.3891481236049107 inst loss:  0.3659385144710541\n",
      "[700/2633]  avg loss:  0.38944383893694196 inst loss:  0.3970785140991211\n",
      "[1050/2633]  avg loss:  0.3885488455636161 inst loss:  0.36231744289398193\n",
      "[1400/2633]  avg loss:  0.3876810128348214 inst loss:  0.42739248275756836\n",
      "[1750/2633]  avg loss:  0.38795064871651785 inst loss:  0.329636812210083\n",
      "[2100/2633]  avg loss:  0.38735589890252975 inst loss:  0.39935487508773804\n",
      "[2450/2633]  avg loss:  0.38700479312818875 inst loss:  0.3683466911315918\n",
      "Save Model\n",
      "train_loss:  tensor(0.3868, device='cuda:1')\n",
      "valid_loss:  0.40964126736606093\n",
      "valid_score:  0.8803824190226256\n",
      "best_valid_score:  0.8803824190226256\n",
      "time used:  576.8923993110657\n",
      "Epoch:  5\n",
      "[350/2633]  avg loss:  0.38530138288225446 inst loss:  0.3760348856449127\n",
      "[700/2633]  avg loss:  0.38405221121651784 inst loss:  0.36392322182655334\n",
      "[1050/2633]  avg loss:  0.38392572312127976 inst loss:  0.3781880736351013\n",
      "[1400/2633]  avg loss:  0.3835338483537946 inst loss:  0.3872324228286743\n",
      "[1750/2633]  avg loss:  0.38334102957589283 inst loss:  0.3898031711578369\n",
      "[2100/2633]  avg loss:  0.3837518601190476 inst loss:  0.3706994652748108\n",
      "[2450/2633]  avg loss:  0.38378998425542094 inst loss:  0.36992570757865906\n",
      "Save Model\n",
      "train_loss:  tensor(0.3836, device='cuda:1')\n",
      "valid_loss:  0.39810175220715943\n",
      "valid_score:  0.8807845158270935\n",
      "best_valid_score:  0.8807845158270935\n",
      "time used:  579.1674995422363\n",
      "Fold:  2\n",
      "training data samples, val data samples:  674000 112000\n",
      "Load Checkpoint from folder: ./output_model/main_82nd_V2_c16_sGW_vflip_sc01_PL/\n",
      "Epoch:  0\n",
      "[350/2633]  avg loss:  0.4309326171875 inst loss:  0.4110853672027588\n",
      "[700/2633]  avg loss:  0.419555184500558 inst loss:  0.4295097589492798\n",
      "[1050/2633]  avg loss:  0.4154543922061012 inst loss:  0.382868230342865\n",
      "[1400/2633]  avg loss:  0.4136778041294643 inst loss:  0.44118422269821167\n",
      "[1750/2633]  avg loss:  0.4127301548549107 inst loss:  0.38570117950439453\n",
      "[2100/2633]  avg loss:  0.4114478992280506 inst loss:  0.3464951813220978\n",
      "[2450/2633]  avg loss:  0.4103566196986607 inst loss:  0.46990537643432617\n",
      "Save Model\n",
      "train_loss:  tensor(0.4100, device='cuda:1')\n",
      "valid_loss:  0.427093327317608\n",
      "valid_score:  0.8689048588346149\n",
      "best_valid_score:  0.8689048588346149\n",
      "time used:  579.9939997196198\n",
      "Epoch:  1\n",
      "[350/2633]  avg loss:  0.40330496651785713 inst loss:  0.4048514664173126\n",
      "[700/2633]  avg loss:  0.40042179652622767 inst loss:  0.33061063289642334\n",
      "[1050/2633]  avg loss:  0.3999214099702381 inst loss:  0.40548133850097656\n",
      "[1400/2633]  avg loss:  0.39966683523995533 inst loss:  0.4087713360786438\n",
      "[1750/2633]  avg loss:  0.39929031808035714 inst loss:  0.4092177748680115\n",
      "[2100/2633]  avg loss:  0.39893255324590776 inst loss:  0.37086230516433716\n",
      "[2450/2633]  avg loss:  0.398774488799426 inst loss:  0.4167930483818054\n",
      "Save Model\n",
      "train_loss:  tensor(0.3987, device='cuda:1')\n",
      "valid_loss:  0.401471541352468\n",
      "valid_score:  0.8761090370591107\n",
      "best_valid_score:  0.8761090370591107\n",
      "time used:  579.5368940830231\n",
      "Epoch:  2\n",
      "[350/2633]  avg loss:  0.3947792707170759 inst loss:  0.3647680878639221\n",
      "[700/2633]  avg loss:  0.3941549246651786 inst loss:  0.3868645429611206\n",
      "[1050/2633]  avg loss:  0.39526454380580356 inst loss:  0.4258207082748413\n",
      "[1400/2633]  avg loss:  0.3952211216517857 inst loss:  0.4015403985977173\n",
      "[1750/2633]  avg loss:  0.39491622488839284 inst loss:  0.39169228076934814\n",
      "[2100/2633]  avg loss:  0.39437494187127975 inst loss:  0.40998363494873047\n",
      "[2450/2633]  avg loss:  0.39390629982461733 inst loss:  0.3706180453300476\n",
      "Save Model\n",
      "train_loss:  tensor(0.3939, device='cuda:1')\n",
      "valid_loss:  0.4200404589851153\n",
      "valid_score:  0.8778447071293247\n",
      "best_valid_score:  0.8778447071293247\n",
      "time used:  579.5440142154694\n",
      "Epoch:  3\n",
      "[350/2633]  avg loss:  0.3894040788922991 inst loss:  0.4311642050743103\n",
      "[700/2633]  avg loss:  0.3903978620256696 inst loss:  0.40913254022598267\n",
      "[1050/2633]  avg loss:  0.3907011486235119 inst loss:  0.4420285224914551\n",
      "[1400/2633]  avg loss:  0.39006735665457587 inst loss:  0.3988981246948242\n",
      "[1750/2633]  avg loss:  0.38983579799107143 inst loss:  0.39747679233551025\n",
      "[2100/2633]  avg loss:  0.3898541259765625 inst loss:  0.3830646276473999\n",
      "[2450/2633]  avg loss:  0.3894385014748087 inst loss:  0.39388829469680786\n",
      "Save Model\n",
      "train_loss:  tensor(0.3893, device='cuda:1')\n",
      "valid_loss:  0.39662046968664755\n",
      "valid_score:  0.8789739076144407\n",
      "best_valid_score:  0.8789739076144407\n",
      "time used:  579.263566493988\n",
      "Epoch:  4\n",
      "[350/2633]  avg loss:  0.38550567626953125 inst loss:  0.40077802538871765\n",
      "[700/2633]  avg loss:  0.3852413504464286 inst loss:  0.3975125849246979\n",
      "[1050/2633]  avg loss:  0.38565513974144344 inst loss:  0.3632964491844177\n",
      "[1400/2633]  avg loss:  0.3857649884905134 inst loss:  0.40655964612960815\n",
      "[1750/2633]  avg loss:  0.3861085030691964 inst loss:  0.3935377895832062\n",
      "[2100/2633]  avg loss:  0.3855515543619792 inst loss:  0.3771769404411316\n",
      "[2450/2633]  avg loss:  0.38474828603316324 inst loss:  0.37535756826400757\n",
      "Save Model\n",
      "train_loss:  tensor(0.3845, device='cuda:1')\n",
      "valid_loss:  0.3994879944411587\n",
      "valid_score:  0.8802285377948957\n",
      "best_valid_score:  0.8802285377948957\n",
      "time used:  579.9660234451294\n",
      "Epoch:  5\n",
      "[350/2633]  avg loss:  0.3796309116908482 inst loss:  0.38468384742736816\n",
      "[700/2633]  avg loss:  0.38148829868861606 inst loss:  0.3574792146682739\n",
      "[1050/2633]  avg loss:  0.3811779203869048 inst loss:  0.4291253983974457\n",
      "[1400/2633]  avg loss:  0.38112056187220983 inst loss:  0.40580520033836365\n",
      "[1750/2633]  avg loss:  0.38093160574776785 inst loss:  0.36842238903045654\n",
      "[2100/2633]  avg loss:  0.3809802536737351 inst loss:  0.4102962017059326\n",
      "[2450/2633]  avg loss:  0.3809992077885842 inst loss:  0.3716678023338318\n",
      "Save Model\n",
      "train_loss:  tensor(0.3810, device='cuda:1')\n",
      "valid_loss:  0.400913754962895\n",
      "valid_score:  0.8804747790411532\n",
      "best_valid_score:  0.8804747790411532\n",
      "time used:  579.4278440475464\n",
      "Fold:  3\n",
      "skip\n",
      "Fold:  4\n",
      "skip\n"
     ]
    },
    {
     "data": {
      "text/html": [
       "<br/>Waiting for W&B process to finish, PID 12806<br/>Program ended successfully."
      ],
      "text/plain": [
       "<IPython.core.display.HTML object>"
      ]
     },
     "metadata": {},
     "output_type": "display_data"
    },
    {
     "data": {
      "application/vnd.jupyter.widget-view+json": {
       "model_id": "",
       "version_major": 2,
       "version_minor": 0
      },
      "text/plain": [
       "VBox(children=(Label(value=' 0.00MB of 0.00MB uploaded (0.00MB deduped)\\r'), FloatProgress(value=1.0, max=1.0)…"
      ]
     },
     "metadata": {},
     "output_type": "display_data"
    },
    {
     "data": {
      "text/html": [
       "Find user logs for this run at: <code>/home/wandb/run-20210925_111036-eye8etal/logs/debug.log</code>"
      ],
      "text/plain": [
       "<IPython.core.display.HTML object>"
      ]
     },
     "metadata": {},
     "output_type": "display_data"
    },
    {
     "data": {
      "text/html": [
       "Find internal logs for this run at: <code>/home/wandb/run-20210925_111036-eye8etal/logs/debug-internal.log</code>"
      ],
      "text/plain": [
       "<IPython.core.display.HTML object>"
      ]
     },
     "metadata": {},
     "output_type": "display_data"
    },
    {
     "data": {
      "text/html": [
       "<h3>Run summary:</h3><br/><style>\n",
       "    table.wandb td:nth-child(1) { padding: 0 10px; text-align: right }\n",
       "    </style><table class=\"wandb\">\n",
       "<tr><td>[fold1] avg_train_loss</td><td>0.38356</td></tr><tr><td>[fold1] avg_val_loss</td><td>0.3981</td></tr><tr><td>[fold1] epoch</td><td>6</td></tr><tr><td>[fold1] loss</td><td>0.41042</td></tr><tr><td>[fold1] lr</td><td>0.0</td></tr><tr><td>[fold1] val_score</td><td>0.88078</td></tr><tr><td>[fold2] avg_train_loss</td><td>0.38097</td></tr><tr><td>[fold2] avg_val_loss</td><td>0.40091</td></tr><tr><td>[fold2] epoch</td><td>6</td></tr><tr><td>[fold2] loss</td><td>0.38469</td></tr><tr><td>[fold2] lr</td><td>0.0</td></tr><tr><td>[fold2] val_score</td><td>0.88047</td></tr></table>"
      ],
      "text/plain": [
       "<IPython.core.display.HTML object>"
      ]
     },
     "metadata": {},
     "output_type": "display_data"
    },
    {
     "data": {
      "text/html": [
       "<h3>Run history:</h3><br/><style>\n",
       "    table.wandb td:nth-child(1) { padding: 0 10px; text-align: right }\n",
       "    </style><table class=\"wandb\">\n",
       "<tr><td>[fold1] avg_train_loss</td><td>█▅▄▃▂▁</td></tr><tr><td>[fold1] avg_val_loss</td><td>█▄▁▃▃▁</td></tr><tr><td>[fold1] epoch</td><td>▁▂▄▅▇█</td></tr><tr><td>[fold1] loss</td><td>▇▄▆█▆▄▄▇▅▆▃▄▅▄▁▄▅▆▂▂▂▄▄▄▁▃▅▇▄▄▃▃▅▄▃▅▂▄▅▂</td></tr><tr><td>[fold1] lr</td><td>▂▃▅▇██████▇▇▇▇▇▆▆▆▆▅▅▅▄▄▄▃▃▃▃▂▂▂▂▂▁▁▁▁▁▁</td></tr><tr><td>[fold1] val_score</td><td>▁▄▅▇██</td></tr><tr><td>[fold2] avg_train_loss</td><td>█▅▄▃▂▁</td></tr><tr><td>[fold2] avg_val_loss</td><td>█▂▆▁▂▂</td></tr><tr><td>[fold2] epoch</td><td>▁▂▄▅▇█</td></tr><tr><td>[fold2] loss</td><td>▆▃▃▄▆▆▅▂█▄▆▅▇▆▄▄▆▇▅▆▇▇▅▃▁▅▇▅▂▅▅▄▄▅▄▅▄▅▄▄</td></tr><tr><td>[fold2] lr</td><td>▂▃▅▇██████▇▇▇▇▇▆▆▆▆▅▅▅▄▄▄▃▃▃▃▂▂▂▂▂▁▁▁▁▁▁</td></tr><tr><td>[fold2] val_score</td><td>▁▅▆▇██</td></tr></table><br/>"
      ],
      "text/plain": [
       "<IPython.core.display.HTML object>"
      ]
     },
     "metadata": {},
     "output_type": "display_data"
    },
    {
     "data": {
      "text/html": [
       "Synced 5 W&B file(s), 0 media file(s), 0 artifact file(s) and 0 other file(s)"
      ],
      "text/plain": [
       "<IPython.core.display.HTML object>"
      ]
     },
     "metadata": {},
     "output_type": "display_data"
    },
    {
     "data": {
      "text/html": [
       "\n",
       "                    <br/>Synced <strong style=\"color:#cdcd00\">main_82nd_V2_c16_sGW_vflip_sc01_PL</strong>: <a href=\"https://wandb.ai/vincentwang25/G2Net/runs/eye8etal\" target=\"_blank\">https://wandb.ai/vincentwang25/G2Net/runs/eye8etal</a><br/>\n",
       "                "
      ],
      "text/plain": [
       "<IPython.core.display.HTML object>"
      ]
     },
     "metadata": {},
     "output_type": "display_data"
    },
    {
     "name": "stdout",
     "output_type": "stream",
     "text": [
      "folds score: [0.8807845158270935, 0.8804747790411532]\n",
      "Avg: 0.88063\n",
      "Std: 0.00015\n"
     ]
    }
   ],
   "source": [
    "# %%time\n",
    "Config.train_folds = [1,2]\n",
    "Config.epochs = 6\n",
    "Config.use_PL = True\n",
    "Config.use_checkpoint = True\n",
    "Config.use_GW = False\n",
    "Config.use_swa = False\n",
    "\n",
    "run_error = False\n",
    "run = wandb.init(project=\"G2Net\", name=Config.model_version, config=class2dict(Config), group=Config.model_name, job_type=Config.model_version)\n",
    "try:\n",
    "#     %lprun -f DataRetriever.__getitem__ -f Trainer.train_epoch -f Trainer.fit -f Trainer.valid_epoch training_loop() \n",
    "    training_loop(train_df.copy(),Config.use_checkpoint)\n",
    "except (ValueError, RuntimeError, KeyboardInterrupt) as e:\n",
    "    wandb.finish()\n",
    "    run_error=True\n",
    "    gc.collect()\n",
    "    torch.cuda.empty_cache()   \n",
    "    print(e)# saving oof predictions"
   ]
  },
  {
   "cell_type": "markdown",
   "metadata": {},
   "source": [
    "# Error Handling"
   ]
  },
  {
   "cell_type": "code",
   "execution_count": 36,
   "metadata": {},
   "outputs": [
    {
     "name": "stderr",
     "output_type": "stream",
     "text": [
      "[autoreload of models failed: Traceback (most recent call last):\n",
      "  File \"/opt/conda/lib/python3.8/site-packages/IPython/extensions/autoreload.py\", line 245, in check\n",
      "    superreload(m, reload, self.old_objects)\n",
      "  File \"/opt/conda/lib/python3.8/site-packages/IPython/extensions/autoreload.py\", line 410, in superreload\n",
      "    update_generic(old_obj, new_obj)\n",
      "  File \"/opt/conda/lib/python3.8/site-packages/IPython/extensions/autoreload.py\", line 347, in update_generic\n",
      "    update(a, b)\n",
      "  File \"/opt/conda/lib/python3.8/site-packages/IPython/extensions/autoreload.py\", line 302, in update_class\n",
      "    if update_generic(old_obj, new_obj): continue\n",
      "  File \"/opt/conda/lib/python3.8/site-packages/IPython/extensions/autoreload.py\", line 347, in update_generic\n",
      "    update(a, b)\n",
      "  File \"/opt/conda/lib/python3.8/site-packages/IPython/extensions/autoreload.py\", line 302, in update_class\n",
      "    if update_generic(old_obj, new_obj): continue\n",
      "  File \"/opt/conda/lib/python3.8/site-packages/IPython/extensions/autoreload.py\", line 347, in update_generic\n",
      "    update(a, b)\n",
      "  File \"/opt/conda/lib/python3.8/site-packages/IPython/extensions/autoreload.py\", line 302, in update_class\n",
      "    if update_generic(old_obj, new_obj): continue\n",
      "  File \"/opt/conda/lib/python3.8/site-packages/IPython/extensions/autoreload.py\", line 347, in update_generic\n",
      "    update(a, b)\n",
      "  File \"/opt/conda/lib/python3.8/site-packages/IPython/extensions/autoreload.py\", line 302, in update_class\n",
      "    if update_generic(old_obj, new_obj): continue\n",
      "RecursionError: maximum recursion depth exceeded while calling a Python object\n",
      "]\n"
     ]
    }
   ],
   "source": [
    "if run_error:\n",
    "    sleep(120)\n",
    "    jarviscloud.pause()"
   ]
  },
  {
   "cell_type": "markdown",
   "metadata": {
    "id": "6d6afe6c-0be0-485b-a2e2-a899024b8a80"
   },
   "source": [
    "# add TTA"
   ]
  },
  {
   "cell_type": "code",
   "execution_count": 68,
   "metadata": {
    "id": "0e95c39f-c917-4d9b-afe8-dc89d5d8f003"
   },
   "outputs": [],
   "source": [
    "def get_before_head(x, model):\n",
    "    with torch.no_grad():\n",
    "        with torch.cuda.amp.autocast(enabled=False):\n",
    "            shape = x.shape\n",
    "            c = x.view(shape[0]*shape[1],-1)\n",
    "            c = torch.cat([-c.flip(-1)[:,4096-2049:-1]+2*c[:,0].unsqueeze(-1),c,\n",
    "                              -c.flip(-1)[:,1:2049]+2*c[:,-1].unsqueeze(-1)],1)\n",
    "            avr_spec = model.avr_spec.repeat(shape[0],1).view(-1,model.avr_spec.shape[-1])\n",
    "            x = torch.fft.ifft(torch.fft.fft(c*model.window)/avr_spec).real\n",
    "            x = x.view(shape[0],shape[1],x.shape[-1])\n",
    "            x = x[:,:,2048:-2048]\n",
    "    x0 = [model.ex[0](x[:,0].unsqueeze(1)),model.ex[0](x[:,1].unsqueeze(1)),\n",
    "          model.ex[1](x[:,2].unsqueeze(1))]\n",
    "    x1 = [model.conv1[0](x0[0]),model.conv1[0](x0[1]),model.conv1[1](x0[2]),\n",
    "          model.conv1[2](torch.cat([x0[0],x0[1],x0[2]],1))]\n",
    "    x2 = torch.cat(x1,1)\n",
    "    return model.conv2(x2)\n",
    "    \n",
    "def get_pred(loader, model):\n",
    "    model.head[4].train()\n",
    "    model.head[8].train()\n",
    "    preds = []\n",
    "    for step, batch in enumerate(loader, 1):\n",
    "        if step % Config.print_num_steps == 0:\n",
    "            print(\"step {}/{}\".format(step, len(loader)))\n",
    "        with torch.no_grad():\n",
    "            X = batch[0].to(device,non_blocking=Config.non_blocking)\n",
    "            x2 = get_before_head(X, model)\n",
    "            preds_MC = [model.head(x2) for i in range(64)]\n",
    "            outputs = torch.stack(preds_MC,0).mean(0)\n",
    "            outputs = outputs.squeeze().sigmoid().cpu().detach().numpy()\n",
    "            preds.append(outputs)\n",
    "    predictions = np.concatenate(preds)\n",
    "    return predictions\n",
    "\n",
    "def get_tta_pred(df,model,**transforms):\n",
    "    data_retriever = TTA(df['file_path'].values, df['target'].values, **transforms)\n",
    "    loader = DataLoader(data_retriever, \n",
    "                            batch_size=Config.batch_size * 2, \n",
    "                            shuffle=False, \n",
    "                            num_workers=Config.num_workers, pin_memory=True, drop_last=False)\n",
    "    return get_pred(loader,model)"
   ]
  },
  {
   "cell_type": "code",
   "execution_count": 69,
   "metadata": {},
   "outputs": [],
   "source": [
    "def get_tta_df(df, model):\n",
    "    df[\"tta_vflip\"] = get_tta_pred(df,model,use_vflip=True)\n",
    "    # df[\"tta_shift\"] = get_tta_pred(df,model,time_shift=True)\n",
    "    # df[\"tta_vflip_shift\"] = get_tta_pred(df,model,use_vflip=True,time_shift=True)\n",
    "    df[\"tta_shuffle01\"] = get_tta_pred(df,model,shuffle01=True)\n",
    "    # df[\"tta_vflip_shuffle01\"] = get_tta_pred(df,model,use_vflip=True,shuffle01=True)\n",
    "    # df[\"tta_shift_shuffle01\"] = get_tta_pred(df,model,time_shift=True,shuffle01=True)\n",
    "    # df[\"tta_vflip_shift_shuffle01\"] = get_tta_pred(df,model,use_vflip=True,time_shift=True,shuffle01=True)\n",
    "    return df"
   ]
  },
  {
   "cell_type": "code",
   "execution_count": 70,
   "metadata": {
    "id": "6c09fa2a-7afc-4c7d-9fbe-fa02890d73a3"
   },
   "outputs": [
    {
     "data": {
      "application/vnd.jupyter.widget-view+json": {
       "model_id": "bd4c35fd1d274756be1f5effa3823f92",
       "version_major": 2,
       "version_minor": 0
      },
      "text/plain": [
       "HBox(children=(HTML(value=''), FloatProgress(value=0.0, max=5.0), HTML(value='')))"
      ]
     },
     "metadata": {},
     "output_type": "display_data"
    },
    {
     "name": "stdout",
     "output_type": "stream",
     "text": [
      "\n"
     ]
    }
   ],
   "source": [
    "model = Model()\n",
    "oof_all = pd.DataFrame()\n",
    "for fold in tqdm(Config.train_folds):\n",
    "    oof = train_df.query(f\"fold=={fold}\").copy()\n",
    "    oof['preds'] = torch.load(f'{Config.model_output_folder}/Fold_{fold}_best_model.pth')['valid_preds']\n",
    "    oof['file_path'] = train_df['id'].apply(lambda x :id_2_path_wave(x))\n",
    "    # display(oof)    \n",
    "    if Config.use_swa:\n",
    "        swa_model = AveragedModel(model)\n",
    "        checkpoint = torch.load(f'{Config.model_output_folder}/Fold_{fold}_swa_model.pth')\n",
    "        model = swa_model\n",
    "        model.load_state_dict(checkpoint['model_swa_state_dict'])\n",
    "    else:\n",
    "        checkpoint = torch.load(f'{Config.model_output_folder}/Fold_{fold}_best_model.pth')\n",
    "        model.load_state_dict(checkpoint['model_state_dict'])\n",
    "        \n",
    "    model.to(device=device,non_blocking=Config.non_blocking)\n",
    "    #if torch.cuda.device_count() == 2:\n",
    "    #    model = nn.DataParallel(model)\n",
    "    model.eval()\n",
    "    oof = get_tta_df(oof, model)\n",
    "    oof.to_csv(Config.model_output_folder + f\"/oof_Fold_{fold}.csv\", index=False)\n",
    "    oof_all = pd.concat([oof_all,oof])"
   ]
  },
  {
   "cell_type": "code",
   "execution_count": 71,
   "metadata": {
    "id": "b58d522e-6a49-4ac4-921d-d1610fcdfbb1"
   },
   "outputs": [
    {
     "name": "stdout",
     "output_type": "stream",
     "text": [
      "Original: 0.8813320316202418\n",
      "tta_vflip 0.8812914000998449\n",
      "tta_shuffle01 0.8813289773598468\n",
      "preds_tta_avg: 0.8815615002315222\n"
     ]
    }
   ],
   "source": [
    "print(\"Original:\",roc_auc_score(oof_all['target'], oof_all['preds']))\n",
    "\n",
    "for col in oof.columns:\n",
    "    if \"tta\" in col:\n",
    "        print(col,roc_auc_score(oof_all['target'], oof_all[col]))\n",
    "\n",
    "avg_cols = [col for col in oof_all.columns if \"tta\" in col or \"preds\" in col]\n",
    "oof_all['avg']=oof_all[avg_cols].mean(axis=1)\n",
    "print(\"preds_tta_avg:\",roc_auc_score(oof_all['target'], oof_all['avg']))\n",
    "CV_SCORE = roc_auc_score(oof_all['target'], oof_all['avg'])\n",
    "oof_all.to_csv(Config.model_output_folder + \"/oof_all.csv\", index=False)\n",
    "oof_all[['id','fold','avg']].rename(columns={'id':'id','fold':'fold','avg':'prediction'}).to_csv(Config.model_output_folder + \"/oof_final.csv\", index=False)"
   ]
  },
  {
   "cell_type": "code",
   "execution_count": 72,
   "metadata": {},
   "outputs": [
    {
     "data": {
      "text/plain": [
       "fold\n",
       "0    0.882199\n",
       "1    0.881066\n",
       "2    0.880728\n",
       "3    0.882769\n",
       "4    0.881391\n",
       "dtype: float64"
      ]
     },
     "execution_count": 72,
     "metadata": {},
     "output_type": "execute_result"
    }
   ],
   "source": [
    "oof_all.groupby(\"fold\").apply(lambda df: roc_auc_score(df['target'],df['avg']))"
   ]
  },
  {
   "cell_type": "code",
   "execution_count": 73,
   "metadata": {},
   "outputs": [
    {
     "data": {
      "text/plain": [
       "0.8816305529335422"
      ]
     },
     "execution_count": 73,
     "metadata": {},
     "output_type": "execute_result"
    }
   ],
   "source": [
    "oof_all.groupby(\"fold\").apply(lambda df: roc_auc_score(df['target'],df['avg'])).mean()"
   ]
  },
  {
   "cell_type": "code",
   "execution_count": 74,
   "metadata": {},
   "outputs": [
    {
     "data": {
      "text/plain": [
       "<AxesSubplot:>"
      ]
     },
     "execution_count": 74,
     "metadata": {},
     "output_type": "execute_result"
    },
    {
     "data": {
      "image/png": "[encoded data removed]",
      "text/plain": [
       "<Figure size 576x288 with 1 Axes>"
      ]
     },
     "metadata": {
      "needs_background": "light"
     },
     "output_type": "display_data"
    }
   ],
   "source": [
    "oof_all['avg'].hist(bins=100, figsize=(8,4))"
   ]
  },
  {
   "cell_type": "code",
   "execution_count": 75,
   "metadata": {
    "id": "7b0a1c70-e352-435b-8767-3c397d4bd0f2"
   },
   "outputs": [
    {
     "data": {
      "application/vnd.jupyter.widget-view+json": {
       "model_id": "f6fe4e348cf745f98c354b958053c90f",
       "version_major": 2,
       "version_minor": 0
      },
      "text/plain": [
       "HBox(children=(HTML(value=''), FloatProgress(value=0.0, max=5.0), HTML(value='')))"
      ]
     },
     "metadata": {},
     "output_type": "display_data"
    },
    {
     "name": "stdout",
     "output_type": "stream",
     "text": [
      "step 350/442\n",
      "step 350/442\n",
      "step 350/442\n",
      "step 350/442\n",
      "step 350/442\n",
      "step 350/442\n",
      "step 350/442\n",
      "step 350/442\n",
      "step 350/442\n",
      "step 350/442\n",
      "step 350/442\n",
      "step 350/442\n",
      "step 350/442\n",
      "step 350/442\n",
      "step 350/442\n",
      "\n",
      "CPU times: user 9min 5s, sys: 2min 37s, total: 11min 43s\n",
      "Wall time: 10min 51s\n"
     ]
    }
   ],
   "source": [
    "%%time \n",
    "test_df['target'] = 0  \n",
    "model = Model()\n",
    "test_avg = test_df[['id', 'target']].copy()\n",
    "test_avg_rank = test_df[['id', 'target']].copy()\n",
    "count = 0\n",
    "for fold in tqdm(Config.train_folds):\n",
    "    test_df2 = test_df.copy()\n",
    "    if Config.use_swa:\n",
    "        swa_model = AveragedModel(model)\n",
    "        checkpoint = torch.load(f'{Config.model_output_folder}/Fold_{fold}_swa_model.pth')\n",
    "        model = swa_model\n",
    "        model.load_state_dict(checkpoint['model_swa_state_dict'])\n",
    "    else:\n",
    "        checkpoint = torch.load(f'{Config.model_output_folder}/Fold_{fold}_best_model.pth')\n",
    "        model.load_state_dict(checkpoint['model_state_dict'])\n",
    "\n",
    "    model.to(device=device,non_blocking=Config.non_blocking)\n",
    "    #if torch.cuda.device_count() == 2:\n",
    "    #    model = nn.DataParallel(model)\n",
    "    model.eval()\n",
    "    test_df2['preds'+f'_Fold_{fold}'] = get_tta_pred(test_df2,model)\n",
    "    test_df2 = get_tta_df(test_df2, model)\n",
    "    test_df2.to_csv(Config.model_output_folder + f\"/test_Fold_{fold}.csv\", index=False)\n",
    "    for col in test_df2.columns:\n",
    "        if \"tta\" in col or 'preds' in col: \n",
    "            count+=1\n",
    "            test_avg['target'] += test_df2[col]\n",
    "            test_avg_rank['target'] += test_df2[col].rank(pct=True)\n",
    "test_avg['target'] /= count\n",
    "test_avg_rank['target'] /= count"
   ]
  },
  {
   "cell_type": "code",
   "execution_count": 76,
   "metadata": {},
   "outputs": [
    {
     "data": {
      "text/plain": [
       "count    226000.000000\n",
       "mean          0.473130\n",
       "std           0.348724\n",
       "min           0.064974\n",
       "25%           0.178883\n",
       "50%           0.308362\n",
       "75%           0.944317\n",
       "max           1.000000\n",
       "Name: target, dtype: float64"
      ]
     },
     "metadata": {},
     "output_type": "display_data"
    },
    {
     "data": {
      "text/plain": [
       "<AxesSubplot:>"
      ]
     },
     "execution_count": 76,
     "metadata": {},
     "output_type": "execute_result"
    },
    {
     "data": {
      "image/png": "[encoded data removed]",
      "text/plain": [
       "<Figure size 432x288 with 1 Axes>"
      ]
     },
     "metadata": {
      "needs_background": "light"
     },
     "output_type": "display_data"
    }
   ],
   "source": [
    "display(test_avg[\"target\"].describe())\n",
    "test_avg['target'].hist(bins=100, alpha=.5)"
   ]
  },
  {
   "cell_type": "code",
   "execution_count": 77,
   "metadata": {},
   "outputs": [],
   "source": [
    "assert test_avg['target'].isna().sum() == 0"
   ]
  },
  {
   "cell_type": "code",
   "execution_count": 78,
   "metadata": {
    "id": "d50a2c45-3493-49b5-a750-d4bb4b33303c"
   },
   "outputs": [
    {
     "name": "stdout",
     "output_type": "stream",
     "text": [
      "./output_model/main_82nd_V2_c16_sGW_vflip_sc01_PL//submission_CV88156.csv\n"
     ]
    }
   ],
   "source": [
    "test_avg[['id', 'target']].to_csv(Config.model_output_folder + f\"/submission_CV{CV_SCORE * 1e5:.0f}.csv\", index=False)\n",
    "test_avg_rank[['id', 'target']].to_csv(Config.model_output_folder + f\"/submission_CV{CV_SCORE * 1e5:.0f}_rank.csv\", index=False)\n",
    "print(Config.model_output_folder + f\"/submission_CV{CV_SCORE * 1e5:.0f}.csv\")"
   ]
  },
  {
   "cell_type": "code",
   "execution_count": 79,
   "metadata": {},
   "outputs": [
    {
     "data": {
      "text/html": [
       "<div>\n",
       "<style scoped>\n",
       "    .dataframe tbody tr th:only-of-type {\n",
       "        vertical-align: middle;\n",
       "    }\n",
       "\n",
       "    .dataframe tbody tr th {\n",
       "        vertical-align: top;\n",
       "    }\n",
       "\n",
       "    .dataframe thead th {\n",
       "        text-align: right;\n",
       "    }\n",
       "</style>\n",
       "<table border=\"1\" class=\"dataframe\">\n",
       "  <thead>\n",
       "    <tr style=\"text-align: right;\">\n",
       "      <th></th>\n",
       "      <th>id</th>\n",
       "      <th>target</th>\n",
       "    </tr>\n",
       "  </thead>\n",
       "  <tbody>\n",
       "    <tr>\n",
       "      <th>0</th>\n",
       "      <td>00005bced6</td>\n",
       "      <td>0.999981</td>\n",
       "    </tr>\n",
       "    <tr>\n",
       "      <th>1</th>\n",
       "      <td>0000806717</td>\n",
       "      <td>0.949283</td>\n",
       "    </tr>\n",
       "    <tr>\n",
       "      <th>2</th>\n",
       "      <td>0000ef4fe1</td>\n",
       "      <td>0.301550</td>\n",
       "    </tr>\n",
       "    <tr>\n",
       "      <th>3</th>\n",
       "      <td>00020de251</td>\n",
       "      <td>0.950649</td>\n",
       "    </tr>\n",
       "    <tr>\n",
       "      <th>4</th>\n",
       "      <td>00024887b5</td>\n",
       "      <td>0.117942</td>\n",
       "    </tr>\n",
       "    <tr>\n",
       "      <th>...</th>\n",
       "      <td>...</td>\n",
       "      <td>...</td>\n",
       "    </tr>\n",
       "    <tr>\n",
       "      <th>225995</th>\n",
       "      <td>ffff4125f1</td>\n",
       "      <td>0.206387</td>\n",
       "    </tr>\n",
       "    <tr>\n",
       "      <th>225996</th>\n",
       "      <td>ffff9d32a6</td>\n",
       "      <td>0.258170</td>\n",
       "    </tr>\n",
       "    <tr>\n",
       "      <th>225997</th>\n",
       "      <td>ffff9f4c1f</td>\n",
       "      <td>0.240307</td>\n",
       "    </tr>\n",
       "    <tr>\n",
       "      <th>225998</th>\n",
       "      <td>ffffa19693</td>\n",
       "      <td>0.999975</td>\n",
       "    </tr>\n",
       "    <tr>\n",
       "      <th>225999</th>\n",
       "      <td>ffffebbfe2</td>\n",
       "      <td>0.085757</td>\n",
       "    </tr>\n",
       "  </tbody>\n",
       "</table>\n",
       "<p>226000 rows × 2 columns</p>\n",
       "</div>"
      ],
      "text/plain": [
       "                id    target\n",
       "0       00005bced6  0.999981\n",
       "1       0000806717  0.949283\n",
       "2       0000ef4fe1  0.301550\n",
       "3       00020de251  0.950649\n",
       "4       00024887b5  0.117942\n",
       "...            ...       ...\n",
       "225995  ffff4125f1  0.206387\n",
       "225996  ffff9d32a6  0.258170\n",
       "225997  ffff9f4c1f  0.240307\n",
       "225998  ffffa19693  0.999975\n",
       "225999  ffffebbfe2  0.085757\n",
       "\n",
       "[226000 rows x 2 columns]"
      ]
     },
     "execution_count": 79,
     "metadata": {},
     "output_type": "execute_result"
    }
   ],
   "source": [
    "test_avg[['id', 'target']]"
   ]
  },
  {
   "cell_type": "code",
   "execution_count": null,
   "metadata": {
    "id": "bd2f74d3-2783-4014-9b37-a0d6997797ad"
   },
   "outputs": [],
   "source": [
    "# test_avg[['id', 'target']].to_csv(\"./submission.csv\", index=False)\n",
    "# !mkdir -p ~/.kaggle/ && cp $Config.kaggle_json_path ~/.kaggle/ && chmod 600 ~/.kaggle/kaggle.json\n",
    "#!kaggle competitions submit -c g2net-gravitational-wave-detection -f ./submission.csv -m $Config.model_version"
   ]
  },
  {
   "cell_type": "code",
   "execution_count": null,
   "metadata": {
    "id": "33e5651b-ade8-4462-84ed-b61f33fb284b"
   },
   "outputs": [],
   "source": [
    "# test_avg"
   ]
  },
  {
   "cell_type": "markdown",
   "metadata": {
    "id": "55a6966b-8273-46fa-bc42-ec36bf4b2462"
   },
   "source": [
    "# Pause"
   ]
  },
  {
   "cell_type": "code",
   "execution_count": null,
   "metadata": {},
   "outputs": [],
   "source": [
    "%%javascript\n",
    "import Ipython\n",
    "IPython.notebook.save_notebook()"
   ]
  },
  {
   "cell_type": "code",
   "execution_count": null,
   "metadata": {},
   "outputs": [],
   "source": [
    "\n",
    "sleep(120)"
   ]
  },
  {
   "cell_type": "code",
   "execution_count": null,
   "metadata": {},
   "outputs": [],
   "source": [
    "\n",
    "jarviscloud.pause()"
   ]
  },
  {
   "cell_type": "code",
   "execution_count": null,
   "metadata": {},
   "outputs": [],
   "source": []
  }
 ],
 "metadata": {
  "accelerator": "GPU",
  "colab": {
   "collapsed_sections": [],
   "machine_shape": "hm",
   "name": "TCNN_jarvis_82nd_sGW-SWA.ipynb",
   "provenance": [],
   "toc_visible": true
  },
  "kernelspec": {
   "display_name": "Python 3 (ipykernel)",
   "language": "python",
   "name": "python3"
  },
  "language_info": {
   "codemirror_mode": {
    "name": "ipython",
    "version": 3
   },
   "file_extension": ".py",
   "mimetype": "text/x-python",
   "name": "python",
   "nbconvert_exporter": "python",
   "pygments_lexer": "ipython3",
   "version": "3.8.10"
  },
  "toc": {
   "base_numbering": 1,
   "nav_menu": {},
   "number_sections": true,
   "sideBar": true,
   "skip_h1_title": false,
   "title_cell": "Table of Contents",
   "title_sidebar": "Contents",
   "toc_cell": false,
   "toc_position": {},
   "toc_section_display": true,
   "toc_window_display": false
  }
 },
 "nbformat": 4,
 "nbformat_minor": 5
}
