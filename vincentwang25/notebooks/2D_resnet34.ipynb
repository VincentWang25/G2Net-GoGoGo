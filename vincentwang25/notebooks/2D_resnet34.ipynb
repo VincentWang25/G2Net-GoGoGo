{
 "cells": [
  {
   "cell_type": "markdown",
   "metadata": {
    "id": "dd22902b-841f-41c9-a66f-77395174ae4c"
   },
   "source": [
    "# library"
   ]
  },
  {
   "cell_type": "code",
   "execution_count": 20,
   "metadata": {
    "executionInfo": {
     "elapsed": 43765,
     "status": "ok",
     "timestamp": 1632413909383,
     "user": {
      "displayName": "Vincent wang",
      "photoUrl": "https://lh3.googleusercontent.com/a/default-user=s64",
      "userId": "14844584715436552936"
     },
     "user_tz": 240
    },
    "id": "55bb6b65-2c6f-453d-8b6f-c6bf386f446a"
   },
   "outputs": [],
   "source": [
    "# %%capture\n",
    "# # !pip install -q nnAudio\n",
    "# !pip install -q --upgrade wandb\n",
    "# !pip install -q grad-cam\n",
    "# !pip install -q ttach\n",
    "# !pip install efficientnet_pytorch\n",
    "# # !pip install albumentations\n",
    "# !pip install line_profiler\n",
    "# !pip install transformers\n",
    "# !pip install audiomentations\n",
    "# !pip3 install pydub\n",
    "# !pip install \"ipykernel<6\"\n",
    "# !pip install \"jupyterlab<3.1\"\n",
    "# !pip3 install pickle5 #!!\n",
    "# !pip3 install timm\n",
    "# !pip3 install nnAudio\n",
    "# !pip3 -q install pickle5\n",
    "# !pip3 -q install wandb\n",
    "# !pip3 install scikit-image\n",
    "# !pip3 install transformers"
   ]
  },
  {
   "cell_type": "code",
   "execution_count": 2,
   "metadata": {},
   "outputs": [],
   "source": [
    "%load_ext autoreload\n",
    "%autoreload 2"
   ]
  },
  {
   "cell_type": "code",
   "execution_count": 19,
   "metadata": {
    "executionInfo": {
     "elapsed": 5231,
     "status": "ok",
     "timestamp": 1632413914603,
     "user": {
      "displayName": "Vincent wang",
      "photoUrl": "https://lh3.googleusercontent.com/a/default-user=s64",
      "userId": "14844584715436552936"
     },
     "user_tz": 240
    },
    "id": "171b030f-1a09-489c-8b3a-c574d306ade7"
   },
   "outputs": [],
   "source": [
    "import os\n",
    "import gc\n",
    "import json\n",
    "import random\n",
    "from datetime import datetime\n",
    "import time\n",
    "import collections\n",
    "import itertools\n",
    "from itertools import chain, combinations\n",
    "import sys\n",
    "import json\n",
    "import wandb\n",
    "\n",
    "import h5py\n",
    "from glob import glob\n",
    "#import pickle\n",
    "import pickle5 as pickle #!!\n",
    "\n",
    "import scipy as sp\n",
    "import numpy as np\n",
    "np.set_printoptions(precision=5, suppress=True) \n",
    "\n",
    "from tqdm import tqdm\n",
    "\n",
    "import pandas as pd\n",
    "import matplotlib.pyplot as plt\n",
    "#import seaborn as sns\n",
    "from sklearn.metrics import roc_auc_score\n",
    "from sklearn.model_selection import StratifiedKFold, GroupKFold, KFold\n",
    "from scipy import signal\n",
    "\n",
    "import IPython.display\n",
    "from tqdm.auto import tqdm\n",
    "from skimage.transform import resize\n",
    "\n",
    "import torch\n",
    "from torch import nn\n",
    "from torch.utils.data import DataLoader, Dataset\n",
    "from torch.nn import functional as torch_functional\n",
    "from torch.optim import Adam, SGD, AdamW\n",
    "from torch.optim.lr_scheduler import (CosineAnnealingWarmRestarts,\n",
    "                    CosineAnnealingLR, ReduceLROnPlateau,_LRScheduler,CyclicLR)\n",
    "from torch.cuda.amp import autocast, GradScaler\n",
    "\n",
    "from transformers import get_cosine_schedule_with_warmup\n",
    "\n",
    "from torch.optim.swa_utils import update_bn, AveragedModel, SWALR\n",
    "\n",
    "import sys\n",
    "sys.path.append('../src/')\n",
    "\n",
    "from models import *\n",
    "import models_1d2d\n",
    "from util import TTA"
   ]
  },
  {
   "cell_type": "code",
   "execution_count": 21,
   "metadata": {
    "executionInfo": {
     "elapsed": 19,
     "status": "ok",
     "timestamp": 1632413914607,
     "user": {
      "displayName": "Vincent wang",
      "photoUrl": "https://lh3.googleusercontent.com/a/default-user=s64",
      "userId": "14844584715436552936"
     },
     "user_tz": 240
    },
    "id": "cd075088-f395-437c-a176-da7bf90a4fb3"
   },
   "outputs": [],
   "source": [
    "%load_ext line_profiler"
   ]
  },
  {
   "cell_type": "code",
   "execution_count": 22,
   "metadata": {
    "colab": {
     "base_uri": "https://localhost:8080/"
    },
    "executionInfo": {
     "elapsed": 72707,
     "status": "ok",
     "timestamp": 1632415147616,
     "user": {
      "displayName": "Vincent wang",
      "photoUrl": "https://lh3.googleusercontent.com/a/default-user=s64",
      "userId": "14844584715436552936"
     },
     "user_tz": 240
    },
    "id": "8g5LzY4qgY0c",
    "outputId": "c066a74e-462d-47c8-fd85-e89c01113d14"
   },
   "outputs": [],
   "source": [
    "with open('./input/GW_sim_300k.pkl', 'rb') as handle:\n",
    "    SIGNAL_DICT = pickle.load(handle)\n",
    "len(SIGNAL_DICT)"
   ]
  },
  {
   "cell_type": "code",
   "execution_count": 23,
   "metadata": {
    "colab": {
     "base_uri": "https://localhost:8080/",
     "height": 281
    },
    "executionInfo": {
     "elapsed": 378,
     "status": "ok",
     "timestamp": 1632415147979,
     "user": {
      "displayName": "Vincent wang",
      "photoUrl": "https://lh3.googleusercontent.com/a/default-user=s64",
      "userId": "14844584715436552936"
     },
     "user_tz": 240
    },
    "id": "hNYduix9gakU",
    "outputId": "3c969359-0f75-4c14-db81-59dbe4f07a08"
   },
   "outputs": [],
   "source": [
    "plt.plot(SIGNAL_DICT[0][0])"
   ]
  },
  {
   "cell_type": "markdown",
   "metadata": {
    "id": "e8e3e2de-86a7-4a6f-ad50-ef450f241250"
   },
   "source": [
    "# Configuration"
   ]
  },
  {
   "cell_type": "code",
   "execution_count": 24,
   "metadata": {
    "colab": {
     "base_uri": "https://localhost:8080/",
     "height": 35
    },
    "executionInfo": {
     "elapsed": 128,
     "status": "ok",
     "timestamp": 1632427771886,
     "user": {
      "displayName": "Vincent wang",
      "photoUrl": "https://lh3.googleusercontent.com/a/default-user=s64",
      "userId": "14844584715436552936"
     },
     "user_tz": 240
    },
    "id": "c74b277a-2cf0-4edc-8d36-75d33f89d081",
    "outputId": "1fc61769-afdb-4a45-9b56-83c24b501727"
   },
   "outputs": [
    {
     "data": {
      "text/plain": [
       "'./output_model/resnet34-sGW2ep-PL-sc01-5ep/'"
      ]
     },
     "metadata": {},
     "output_type": "display_data"
    }
   ],
   "source": [
    "class Config:\n",
    "\n",
    "    #frequently changed \n",
    "    model_name = 'Model_2D'\n",
    "    model_version = \"resnet34-sGW2ep-PL-sc01-5ep\" \n",
    "    model_2D_encoder = 'resnet34'\n",
    "    \n",
    "    \n",
    "    use_PL=False \n",
    "    pseudo_label_folder = \"./PL_fold/\"\n",
    "    use_GW=False #!!\n",
    "\n",
    "    cut_612=False\n",
    "\n",
    "    use_checkpoint = False\n",
    "    prev_model_folder = None #!!\n",
    "    use_lr_finder = False\n",
    "    \n",
    "    debug = False\n",
    "    use_subset = False \n",
    "    subset_frac = 0.4\n",
    "\n",
    "    #preproc related\n",
    "    #augmentation\n",
    "    vflip = False\n",
    "    shuffle01 = True \n",
    "    \n",
    "    time_shift = False\n",
    "    time_stretch = False\n",
    "\n",
    "    shuffle_channels = False  # need normalization first\n",
    "    add_gaussian_noise = False # need normalization first\n",
    "    timemask = False\n",
    "    shift_channel = False    \n",
    "    pitch_shift = False\n",
    "    use_mixup = False\n",
    "    mixup_alpha = 0.1\n",
    "    cropping = False\n",
    "\n",
    "    #logistic\n",
    "    seed = 48\n",
    "    target_size = 1\n",
    "    target_col = 'target'\n",
    "    n_fold = 5\n",
    "    gdrive = './input/'\n",
    "    kaggle_json_path = './kaggle/kaggle.json'\n",
    "    output_dir = \"./output_model/\"\n",
    "    \n",
    "    #logger\n",
    "    print_num_steps=350\n",
    "    \n",
    "    #training related\n",
    "    train_folds = [0]\n",
    "    epochs = 5\n",
    "    batch_size = 256\n",
    "    \n",
    "    lr= 1e-3#2e-3\n",
    "    weight_decay= 1e-4 #1e-4  # Optimizer, default value 0.01\n",
    "    gradient_accumulation_steps=1 # Optimizer\n",
    "    scheduler='cosineWithWarmUp' # warm up ratio 0.1 of total steps \n",
    "\n",
    "    # Add SWA\n",
    "    use_swa = False\n",
    "    swa_lr_ratio = 0 # in terms of max lr\n",
    "    swa_start_step_epoch = 3\n",
    "    swa_anneal_ratio =  999, # 999 means anneal til the end of the training\n",
    "\n",
    "\n",
    "    #speedup\n",
    "    num_workers=8\n",
    "    non_blocking=False\n",
    "    amp=True\n",
    "    use_cudnn = True \n",
    "    use_tpu = False\n",
    "    use_ram = False\n",
    "    \n",
    "    #CNN structure\n",
    "    channels = 16\n",
    "    reduction = 4.0\n",
    "    proba_final_layer=0.8\n",
    "\n",
    "# no need to change below\n",
    "Config.swa_lr = Config.lr * Config.swa_lr_ratio\n",
    "\n",
    "Config.model_output_folder = Config.output_dir + Config.model_version + \"/\"\n",
    "if Config.prev_model_folder is not None:\n",
    "    # !!\n",
    "    Config.prev_model_folder = Config.output_dir + Config.prev_model_folder + \"/\"\n",
    "else:\n",
    "    Config.prev_model_folder = Config.model_output_folder \n",
    "\n",
    "if not os.path.exists(Config.output_dir):\n",
    "    os.mkdir(Config.output_dir)\n",
    "if not os.path.exists(Config.model_output_folder):\n",
    "    os.mkdir(Config.model_output_folder)\n",
    "\n",
    "torch.backends.cudnn.benchmark = Config.use_cudnn \n",
    "display(Config.model_output_folder)"
   ]
  },
  {
   "cell_type": "code",
   "execution_count": 19,
   "metadata": {
    "executionInfo": {
     "elapsed": 176,
     "status": "ok",
     "timestamp": 1632427772543,
     "user": {
      "displayName": "Vincent wang",
      "photoUrl": "https://lh3.googleusercontent.com/a/default-user=s64",
      "userId": "14844584715436552936"
     },
     "user_tz": 240
    },
    "id": "f2fd5ddd-01f0-4e0c-a483-fe055e23bc43"
   },
   "outputs": [],
   "source": [
    "# run once for Fold 0, save it in RAM and then do experiments multiple times\n",
    "# if Config.train_folds == [0]:\n",
    "#     if Config.use_pseudo_label:\n",
    "#         with open('fold_0_data_PL.npy', 'rb') as f:\n",
    "#             fold_0_data_PL = np.load(f)\n",
    "#     else:\n",
    "#         with open('fold_0_data.npy', 'rb') as f:\n",
    "#             fold_0_data = np.load(f)"
   ]
  },
  {
   "cell_type": "code",
   "execution_count": 20,
   "metadata": {
    "executionInfo": {
     "elapsed": 11,
     "status": "ok",
     "timestamp": 1632427772545,
     "user": {
      "displayName": "Vincent wang",
      "photoUrl": "https://lh3.googleusercontent.com/a/default-user=s64",
      "userId": "14844584715436552936"
     },
     "user_tz": 240
    },
    "id": "08b1bd21-a513-4b67-9181-01e1468b1a66"
   },
   "outputs": [],
   "source": [
    "def save_object(obj, filename):\n",
    "    with open(filename, 'wb') as outp:  # Overwrites any existing file.\n",
    "        pickle.dump(obj, outp, pickle.HIGHEST_PROTOCOL)\n",
    "\n",
    "def class2dict(f):\n",
    "    return dict((name, getattr(f, name)) for name in dir(f) if not name.startswith('__'))\n",
    "\n",
    "save_object(class2dict(Config), Config.model_output_folder + \"Config.pkl\")"
   ]
  },
  {
   "cell_type": "code",
   "execution_count": 28,
   "metadata": {},
   "outputs": [],
   "source": [
    "class Config_test:\n",
    "    a=1"
   ]
  },
  {
   "cell_type": "code",
   "execution_count": 32,
   "metadata": {},
   "outputs": [
    {
     "data": {
      "text/plain": [
       "__main__.Config_test"
      ]
     },
     "execution_count": 32,
     "metadata": {},
     "output_type": "execute_result"
    }
   ],
   "source": [
    "Config_test"
   ]
  },
  {
   "cell_type": "code",
   "execution_count": 26,
   "metadata": {},
   "outputs": [],
   "source": [
    "with open('../model_weights/resnet34-sGW2ep-PL-sc01-5ep/Config.pkl', 'rb') as handle:\n",
    "    config_dict = pickle.load(handle)\n"
   ]
  },
  {
   "cell_type": "code",
   "execution_count": 27,
   "metadata": {},
   "outputs": [
    {
     "data": {
      "text/plain": [
       "{'add_gaussian_noise': False,\n",
       " 'amp': True,\n",
       " 'batch_size': 256,\n",
       " 'channels': 16,\n",
       " 'cropping': False,\n",
       " 'cut_612': False,\n",
       " 'debug': False,\n",
       " 'epochs': 5,\n",
       " 'gdrive': './input/',\n",
       " 'gradient_accumulation_steps': 1,\n",
       " 'kaggle_json_path': './kaggle/kaggle.json',\n",
       " 'lr': 0.001,\n",
       " 'mixup_alpha': 0.1,\n",
       " 'model_2D_encoder': 'resnet34',\n",
       " 'model_name': 'Model_2D',\n",
       " 'model_output_folder': './output_model/resnet34-sGW2ep-PL-sc01-5ep/',\n",
       " 'model_version': 'resnet34-sGW2ep-PL-sc01-5ep',\n",
       " 'n_fold': 5,\n",
       " 'non_blocking': False,\n",
       " 'num_workers': 8,\n",
       " 'output_dir': './output_model/',\n",
       " 'pitch_shift': False,\n",
       " 'prev_model_folder': './output_model/resnet34-sGW2ep-PL-sc01-5ep/',\n",
       " 'print_num_steps': 350,\n",
       " 'proba_final_layer': 0.8,\n",
       " 'pseudo_label_folder': './PL_fold/',\n",
       " 'reduction': 4.0,\n",
       " 'scheduler': 'cosineWithWarmUp',\n",
       " 'seed': 48,\n",
       " 'shift_channel': False,\n",
       " 'shuffle01': True,\n",
       " 'shuffle_channels': False,\n",
       " 'subset_frac': 0.4,\n",
       " 'swa_anneal_ratio': (999,),\n",
       " 'swa_lr': 0.0,\n",
       " 'swa_lr_ratio': 0,\n",
       " 'swa_start_step_epoch': 3,\n",
       " 'target_col': 'target',\n",
       " 'target_size': 1,\n",
       " 'time_shift': False,\n",
       " 'time_stretch': False,\n",
       " 'timemask': False,\n",
       " 'train_folds': [0],\n",
       " 'use_GW': False,\n",
       " 'use_PL': False,\n",
       " 'use_checkpoint': False,\n",
       " 'use_cudnn': True,\n",
       " 'use_lr_finder': False,\n",
       " 'use_mixup': False,\n",
       " 'use_ram': False,\n",
       " 'use_subset': False,\n",
       " 'use_swa': False,\n",
       " 'use_tpu': False,\n",
       " 'vflip': False,\n",
       " 'weight_decay': 0.0001}"
      ]
     },
     "execution_count": 27,
     "metadata": {},
     "output_type": "execute_result"
    }
   ],
   "source": [
    "config_dict"
   ]
  },
  {
   "cell_type": "markdown",
   "metadata": {
    "id": "04f52f10-a321-463e-be55-6f1267407999"
   },
   "source": [
    "# Data path"
   ]
  },
  {
   "cell_type": "code",
   "execution_count": 21,
   "metadata": {
    "executionInfo": {
     "elapsed": 10,
     "status": "ok",
     "timestamp": 1632427772546,
     "user": {
      "displayName": "Vincent wang",
      "photoUrl": "https://lh3.googleusercontent.com/a/default-user=s64",
      "userId": "14844584715436552936"
     },
     "user_tz": 240
    },
    "id": "4ba86f1b-6607-4b9d-a251-f79d9cb7b406"
   },
   "outputs": [],
   "source": [
    "def id_2_path_wave(file_id: str, train=True) -> str:\n",
    "    #!!\n",
    "    if train:\n",
    "        return \"./input/train-float32/{}.npy\".format(file_id)\n",
    "    else:\n",
    "        return \"./input/test-float32/{}.npy\".format(file_id)"
   ]
  },
  {
   "cell_type": "code",
   "execution_count": 22,
   "metadata": {
    "executionInfo": {
     "elapsed": 836,
     "status": "ok",
     "timestamp": 1632427773373,
     "user": {
      "displayName": "Vincent wang",
      "photoUrl": "https://lh3.googleusercontent.com/a/default-user=s64",
      "userId": "14844584715436552936"
     },
     "user_tz": 240
    },
    "id": "93a20a41-a049-4ce9-aaf7-61856e1d1305"
   },
   "outputs": [],
   "source": [
    "train_df = pd.read_csv(Config.gdrive + '/training_labels.csv')\n",
    "test_df = pd.read_csv(Config.gdrive + '/sample_submission.csv')\n",
    "\n",
    "if Config.debug:\n",
    "    Config.epochs = 1\n",
    "    train_df = train_df.sample(n=50000, random_state=Config.seed).reset_index(drop=True)\n",
    "    \n",
    "if Config.use_subset:\n",
    "    train_df = train_df.sample(frac=Config.subset_frac, random_state=Config.seed).reset_index(drop=True)\n",
    "\n",
    "train_df['file_path'] = train_df['id'].apply(lambda x :id_2_path_wave(x))\n",
    "test_df['file_path'] = test_df['id'].apply(lambda x :id_2_path_wave(x,False))"
   ]
  },
  {
   "cell_type": "code",
   "execution_count": 23,
   "metadata": {},
   "outputs": [],
   "source": [
    "TRAIN_DATA = {}\n",
    "if Config.use_ram:\n",
    "    print(\"Use RAM to load train data\")\n",
    "    for i,path in tqdm(enumerate(train_df.file_path)):\n",
    "        waves = np.load(path)\n",
    "        TRAIN_DATA[path] = waves"
   ]
  },
  {
   "cell_type": "code",
   "execution_count": 24,
   "metadata": {
    "colab": {
     "base_uri": "https://localhost:8080/"
    },
    "executionInfo": {
     "elapsed": 19,
     "status": "ok",
     "timestamp": 1632427773374,
     "user": {
      "displayName": "Vincent wang",
      "photoUrl": "https://lh3.googleusercontent.com/a/default-user=s64",
      "userId": "14844584715436552936"
     },
     "user_tz": 240
    },
    "id": "adcdac68-2ef7-46b7-91b4-bd52e2585fa7",
    "outputId": "3e1fc44c-e760-440d-8ae7-cc7e8fd0f201"
   },
   "outputs": [
    {
     "data": {
      "image/png": "[encoded data removed]",
      "text/plain": [
       "<Figure size 864x648 with 6 Axes>"
      ]
     },
     "metadata": {
      "needs_background": "light"
     },
     "output_type": "display_data"
    }
   ],
   "source": [
    "# checking magnitude of waves\n",
    "num_files = 6\n",
    "sites = ['H1',\"L1\",\"V1\"]\n",
    "input_file_paths = train_df['file_path'].values[:num_files]\n",
    "plt.figure(figsize=(12,9))\n",
    "for i,input_file_path in enumerate(input_file_paths[:num_files]):\n",
    "    file_name = input_file_path.split('/')[-1].split('.npy')[0]\n",
    "    waves = np.load(input_file_path)\n",
    "    plt.subplot(2,3,i+1)\n",
    "    for j in range(3):\n",
    "        plt.plot(waves[j], label=sites[j])\n",
    "    plt.legend()"
   ]
  },
  {
   "cell_type": "code",
   "execution_count": 25,
   "metadata": {
    "colab": {
     "base_uri": "https://localhost:8080/"
    },
    "executionInfo": {
     "elapsed": 143,
     "status": "ok",
     "timestamp": 1632427773512,
     "user": {
      "displayName": "Vincent wang",
      "photoUrl": "https://lh3.googleusercontent.com/a/default-user=s64",
      "userId": "14844584715436552936"
     },
     "user_tz": 240
    },
    "id": "99e6d52c-c6fe-4ef7-bae2-e5dbfcffed6b",
    "outputId": "1620005b-aa77-41f6-9da5-96af40c9740e"
   },
   "outputs": [
    {
     "data": {
      "text/plain": [
       "fold   \n",
       "0     0    0.500125\n",
       "      1    0.499875\n",
       "1     0    0.500125\n",
       "      1    0.499875\n",
       "2     0    0.500125\n",
       "      1    0.499875\n",
       "3     0    0.500125\n",
       "      1    0.499875\n",
       "4     0    0.500125\n",
       "      1    0.499875\n",
       "Name: target, dtype: float64"
      ]
     },
     "execution_count": 25,
     "metadata": {},
     "output_type": "execute_result"
    }
   ],
   "source": [
    "skf = StratifiedKFold(n_splits=Config.n_fold, shuffle=True, random_state=Config.seed)\n",
    "splits = skf.split(train_df, train_df[\"target\"])\n",
    "train_df['fold'] = -1\n",
    "for fold, (train_index, valid_index) in enumerate(splits):\n",
    "    train_df.loc[valid_index,\"fold\"] = fold\n",
    "train_df.groupby('fold')['target'].apply(lambda s: s.value_counts(normalize=True))"
   ]
  },
  {
   "cell_type": "markdown",
   "metadata": {
    "id": "392b11e6-fe2c-4dcb-80c5-6f6e5acf3903"
   },
   "source": [
    "# dataset"
   ]
  },
  {
   "cell_type": "code",
   "execution_count": 26,
   "metadata": {
    "executionInfo": {
     "elapsed": 466,
     "status": "ok",
     "timestamp": 1632427774119,
     "user": {
      "displayName": "Vincent wang",
      "photoUrl": "https://lh3.googleusercontent.com/a/default-user=s64",
      "userId": "14844584715436552936"
     },
     "user_tz": 240
    },
    "id": "8f6f8d25-feda-4576-9080-b2e40228ccbb"
   },
   "outputs": [],
   "source": [
    "transform_list = []\n",
    "if Config.add_gaussian_noise:\n",
    "    transform_list.append(A.AddGaussianNoise(min_amplitude=0.001, max_amplitude=0.015, p=0.5))\n",
    "if Config.time_shift:\n",
    "    transform_list.append(A.Shift(min_fraction=-512*1.0/4096, max_fraction=-1*1.0/4096, p=0.5,rollover=False))#<0 means shift towards left,  fraction of total sound length\n",
    "if Config.pitch_shift:\n",
    "    transform_list.append(A.PitchShift(min_semitones=-1, max_semitones=1, p=0.5))\n",
    "if Config.time_stretch:\n",
    "    transform_list.append(A.TimeStretch(min_rate=0.98, max_rate=1.02,leave_length_unchanged=True, p=0.5))\n",
    "if Config.timemask:\n",
    "    transform_list.append(A.TimeMask(min_band_part=0.0, max_band_part=0.01, fade=False, p=0.5))#try 0.03 next time\n",
    "train_transform = A.Compose(transform_list)\n",
    "test_transform = A.Compose([])\n",
    "\n",
    "class DataRetriever(Dataset):\n",
    "    def __init__(self, paths, targets, transforms=None, synthetic=None):\n",
    "        self.paths = paths\n",
    "        self.targets = targets\n",
    "        self.transforms = transforms\n",
    "        #!!\n",
    "        if synthetic is not None:\n",
    "            self.synthetic = synthetic\n",
    "            self.synthetic_keys = list(self.synthetic.keys())\n",
    "        else:\n",
    "            self.synthetic = None\n",
    "            self.synthetic_keys = None\n",
    "        self.neg_idxes = [i for i, t in enumerate(targets) if t == 0]\n",
    "\n",
    "    def __len__(self):\n",
    "        return len(self.paths)\n",
    "    \n",
    "    def __getitem__(self, index):\n",
    "        target = self.targets[index]\n",
    "        path = self.paths[index]\n",
    "        if target > 0 and Config.use_GW: \n",
    "            path = self.paths[random.choice(self.neg_idxes)]                \n",
    "        waves = TRAIN_DATA[path] if (Config.use_ram and path in TRAIN_DATA) else np.load(path)\n",
    "        \n",
    "        if Config.cropping:\n",
    "            waves = waves[:,1792:3840+1]\n",
    "\n",
    "        if Config.shuffle_channels:#nn.ChannelShuffle\n",
    "            if np.random.random()<0.5:\n",
    "                np.random.shuffle(waves)\n",
    "        if Config.shuffle01:\n",
    "            if np.random.random()<0.5:\n",
    "                waves[[0,1]]=waves[[1,0]]\n",
    "        if Config.vflip:\n",
    "            if np.random.random()<0.5:\n",
    "                waves = -waves\n",
    "              \n",
    "        if self.transforms is not None:\n",
    "            waves= self.transforms(waves,sample_rate=2048)\n",
    "\n",
    "        x = torch.FloatTensor(waves*1e20)\n",
    "        \n",
    "        if target > 0 and Config.use_GW:\n",
    "            #!!\n",
    "            w = torch.FloatTensor((self.synthetic[random.choice(self.synthetic_keys)]))\n",
    "            w = w * max(random.gauss(3.6,1),1)\n",
    "            shift_place = 512+384-random.randrange(0,768)\n",
    "            w = np.pad(w[:,shift_place:],[(0,0),(0,shift_place)],mode='constant')\n",
    "            x += w\n",
    "        target = torch.tensor(target,dtype=torch.float)#device=device,\n",
    "        return (x, target)\n",
    "\n",
    "class DataRetrieverTest(Dataset):\n",
    "    def __init__(self, paths, targets, transforms=None):\n",
    "        self.paths = paths\n",
    "        self.targets = targets\n",
    "        self.transforms = transforms\n",
    "        if Config.use_ram:\n",
    "            array_shape = (len(self.paths),3,4096)\n",
    "            self.data = np.zeros(array_shape,dtype=np.float32)\n",
    "            for i,path in enumerate(self.paths):\n",
    "                waves = np.load(path)\n",
    "                self.data[i,:] = waves  \n",
    "\n",
    "    def __len__(self):\n",
    "        return len(self.paths)\n",
    "    \n",
    "    def __getitem__(self, index):\n",
    "        path = self.paths[index] \n",
    "        waves = TRAIN_DATA[path] if Config.use_ram else np.load(path)\n",
    "        target = self.targets[index]\n",
    "            \n",
    "        if Config.cropping:\n",
    "            waves = waves[:,1792:3840+1]\n",
    "            \n",
    "        if self.transforms is not None:\n",
    "            waves= self.transforms(waves,sample_rate=2048)\n",
    "\n",
    "        x = torch.FloatTensor(waves*1e20)\n",
    "        target = torch.tensor(target,dtype=torch.float)#device=device, \n",
    "        #print(path) \n",
    "        return (x, target)"
   ]
  },
  {
   "cell_type": "markdown",
   "metadata": {
    "id": "62cd2ba5-d403-4abf-b971-2303a92ea8ea"
   },
   "source": [
    "# Models"
   ]
  },
  {
   "cell_type": "code",
   "execution_count": 28,
   "metadata": {
    "executionInfo": {
     "elapsed": 3,
     "status": "ok",
     "timestamp": 1632427778742,
     "user": {
      "displayName": "Vincent wang",
      "photoUrl": "https://lh3.googleusercontent.com/a/default-user=s64",
      "userId": "14844584715436552936"
     },
     "user_tz": 240
    },
    "id": "7e1528ce-06af-4d53-84d9-bbbcaf4991b5"
   },
   "outputs": [],
   "source": [
    "def Model_2D():\n",
    "    if Config.model_name=='Model_2D':\n",
    "        model = models_1d2d.Model_2D(encoder=Config.model_2D_encoder, use_raw_wave=True)\n",
    "    elif Config.model_name=='Model_2D_fmin22':\n",
    "        model = models_1d2d.Model_2D_fmin22(encoder=Config.model_2D_encoder, use_raw_wave=True, cut_612=Config.cut_612)\n",
    "    return model    "
   ]
  },
  {
   "cell_type": "code",
   "execution_count": 29,
   "metadata": {
    "colab": {
     "base_uri": "https://localhost:8080/"
    },
    "executionInfo": {
     "elapsed": 182,
     "status": "ok",
     "timestamp": 1632427778922,
     "user": {
      "displayName": "Vincent wang",
      "photoUrl": "https://lh3.googleusercontent.com/a/default-user=s64",
      "userId": "14844584715436552936"
     },
     "user_tz": 240
    },
    "id": "2ce418f8-18dc-40c4-ac7b-fe4384f44245",
    "outputId": "67c8fee4-59a9-4e83-d97c-b7b81460cfe1"
   },
   "outputs": [
    {
     "name": "stdout",
     "output_type": "stream",
     "text": [
      "CQT kernels created, time used = 0.0148 seconds\n"
     ]
    },
    {
     "data": {
      "text/plain": [
       "21321089"
      ]
     },
     "execution_count": 29,
     "metadata": {},
     "output_type": "execute_result"
    }
   ],
   "source": [
    "def get_n_params(model):\n",
    "    pp=0\n",
    "    for p in list(model.parameters()):\n",
    "        nn=1\n",
    "        for s in list(p.size()):\n",
    "            nn = nn*s\n",
    "        pp += nn\n",
    "    return pp\n",
    "model = Model_2D()#can possibly call random\n",
    "get_n_params(model)"
   ]
  },
  {
   "cell_type": "markdown",
   "metadata": {
    "id": "b68c9f2c-fc5f-41ee-afa5-2dfbec2ef82f"
   },
   "source": [
    "# Util"
   ]
  },
  {
   "cell_type": "code",
   "execution_count": 30,
   "metadata": {
    "executionInfo": {
     "elapsed": 7,
     "status": "ok",
     "timestamp": 1632427778923,
     "user": {
      "displayName": "Vincent wang",
      "photoUrl": "https://lh3.googleusercontent.com/a/default-user=s64",
      "userId": "14844584715436552936"
     },
     "user_tz": 240
    },
    "id": "2b76b69f-3f6d-40dd-92e9-b04be3232814"
   },
   "outputs": [],
   "source": [
    "def get_score(y_true, y_pred):\n",
    "    score = roc_auc_score(y_true, y_pred)\n",
    "    return score\n",
    "\n",
    "def seed_torch(seed=42):\n",
    "    random.seed(seed)\n",
    "    os.environ['PYTHONHASHSEED'] = str(seed)\n",
    "    np.random.seed(seed)\n",
    "    torch.manual_seed(seed)\n",
    "    torch.cuda.manual_seed(seed)\n",
    "    torch.backends.cudnn.deterministic = True\n",
    "    \n",
    "seed_torch(seed=Config.seed)\n",
    "\n",
    "def get_scheduler(optimizer, train_size):\n",
    "    epoch_step = train_size/Config.batch_size\n",
    "    num_warmup_steps = int(0.1 * epoch_step * Config.epochs)\n",
    "    num_training_steps = int(epoch_step * Config.epochs)\n",
    "    scheduler = get_cosine_schedule_with_warmup(optimizer, \n",
    "                                                num_warmup_steps=num_warmup_steps, \n",
    "                                                num_training_steps=num_training_steps)      \n",
    "    return scheduler\n",
    "\n",
    "def mixed_criterion(loss_fn, pred, y_a, y_b, lam):\n",
    "    return lam * loss_fn(pred, y_a) + (1 - lam) * loss_fn(pred, y_b)\n",
    "\n",
    "def mixup_data(x, y, alpha=1.0):\n",
    "    \"\"\"Returns mixed inputs, pairs of targets, and lambda\"\"\"\n",
    "    lam = np.random.beta(alpha, alpha)\n",
    "    batch_size = x.size()[0]\n",
    "    index = torch.randperm(batch_size, requires_grad=False).to(x.device,non_blocking=Config.non_blocking)\n",
    "\n",
    "    mixed_x = lam * x + (1 - lam) * x[index, :]\n",
    "    y_a, y_b = y, y[index]\n",
    "    return mixed_x, y_a, y_b, lam"
   ]
  },
  {
   "cell_type": "code",
   "execution_count": 31,
   "metadata": {
    "colab": {
     "base_uri": "https://localhost:8080/"
    },
    "executionInfo": {
     "elapsed": 6,
     "status": "ok",
     "timestamp": 1632427778923,
     "user": {
      "displayName": "Vincent wang",
      "photoUrl": "https://lh3.googleusercontent.com/a/default-user=s64",
      "userId": "14844584715436552936"
     },
     "user_tz": 240
    },
    "id": "498ba49a-52a8-4e90-9b51-4fb267a03350",
    "outputId": "1e571bd2-85a1-4396-8e55-06236eab8a77"
   },
   "outputs": [
    {
     "name": "stdout",
     "output_type": "stream",
     "text": [
      "Using device: cuda\n",
      "Number of device: 2\n",
      "NVIDIA RTX A6000\n",
      "Memory Usage:\n",
      "Allocated: 0.0 GB\n",
      "Reserved:    0.0 GB\n"
     ]
    }
   ],
   "source": [
    "device = torch.device('cuda' if torch.cuda.is_available() else 'cpu')\n",
    "print('Using device:', device)\n",
    "print('Number of device:', torch.cuda.device_count())\n",
    "\n",
    "#Additional Info when using cuda\n",
    "# watch nvidia-smi\n",
    "if device.type == 'cuda':\n",
    "    print(torch.cuda.get_device_name(0))\n",
    "    print('Memory Usage:')\n",
    "    print('Allocated:', round(torch.cuda.memory_allocated(0)/1024**3,1), 'GB')\n",
    "    print('Reserved:   ', round(torch.cuda.memory_reserved(0)/1024**3,1), 'GB')"
   ]
  },
  {
   "cell_type": "code",
   "execution_count": 32,
   "metadata": {},
   "outputs": [
    {
     "data": {
      "text/plain": [
       "device(type='cuda', index=1)"
      ]
     },
     "execution_count": 32,
     "metadata": {},
     "output_type": "execute_result"
    }
   ],
   "source": [
    "device = torch.device(\"cuda:1\")\n",
    "device"
   ]
  },
  {
   "cell_type": "markdown",
   "metadata": {
    "id": "9588c2fb-6f2f-4a71-ae80-af4e7facbf40",
    "toc-hr-collapsed": true
   },
   "source": [
    "# LR Finder"
   ]
  },
  {
   "cell_type": "code",
   "execution_count": 33,
   "metadata": {
    "executionInfo": {
     "elapsed": 172,
     "status": "ok",
     "timestamp": 1632427779093,
     "user": {
      "displayName": "Vincent wang",
      "photoUrl": "https://lh3.googleusercontent.com/a/default-user=s64",
      "userId": "14844584715436552936"
     },
     "user_tz": 240
    },
    "id": "1791f02a-cd63-448f-ad07-a216643c196f"
   },
   "outputs": [],
   "source": [
    "class LRFinder:\n",
    "    def __init__(self, model, optimizer, criterion, device):\n",
    "        self.optimizer = optimizer\n",
    "        self.model = model\n",
    "        self.criterion = criterion\n",
    "        self.device = device\n",
    "        torch.save(model.state_dict(), f'{Config.model_output_folder}/init_params.pt')\n",
    "\n",
    "    def range_test(self, loader, end_lr = 10, num_iter = 100, \n",
    "                   smooth_f = 0.05, diverge_th = 5):\n",
    "        lrs = []\n",
    "        losses = []\n",
    "        best_loss = float('inf')\n",
    "        lr_scheduler = ExponentialLR(self.optimizer, end_lr, num_iter)\n",
    "        for step, batch in enumerate(loader):\n",
    "            if step == num_iter:\n",
    "                break\n",
    "            loss = self._train_batch(batch)\n",
    "            lrs.append(lr_scheduler.get_last_lr()[0])\n",
    "            #update lr\n",
    "            lr_scheduler.step()\n",
    "            if step > 0:\n",
    "                loss = smooth_f * loss + (1 - smooth_f) * losses[-1]\n",
    "            if loss < best_loss:\n",
    "                best_loss = loss\n",
    "            losses.append(loss)\n",
    "            if loss > diverge_th * best_loss:\n",
    "                print(\"Stopping early, the loss has diverged\")\n",
    "                break\n",
    "        #reset model to initial parameters\n",
    "        model.load_state_dict(torch.load(f'{Config.model_output_folder}/init_params.pt'))\n",
    "        return lrs, losses\n",
    "\n",
    "    def _train_batch(self, batch):\n",
    "        self.model.train()\n",
    "        self.optimizer.zero_grad()\n",
    "        scaler = GradScaler()\n",
    "        X = batch[0].to(self.device,non_blocking=Config.non_blocking)\n",
    "        targets = batch[1].to(self.device,non_blocking=Config.non_blocking)\n",
    "        \n",
    "        if Config.use_mixup:\n",
    "            (X_mix, targets_a, targets_b, lam) = mixup_data(\n",
    "                X, targets, Config.mixup_alpha\n",
    "            )\n",
    "            with autocast(enabled=False):\n",
    "                outputs = self.model(X_mix).squeeze()\n",
    "                loss = mixed_criterion(self.criterion, outputs, targets_a, targets_b, lam)\n",
    "        else:\n",
    "            with autocast(enabled=False):\n",
    "                outputs = self.model(X).squeeze()\n",
    "                loss = self.criterion(outputs, targets)\n",
    "        #loss.backward()\n",
    "        scaler.scale(loss).backward()\n",
    "        \n",
    "        if Config.use_tpu:\n",
    "            xm.optimizer_step(self.optimizer, barrier=True)  # Note: TPU-specific code! \n",
    "        else:\n",
    "            scaler.step(self.optimizer)\n",
    "            scaler.update()\n",
    "#             self.optimizer.step()\n",
    "        return loss.item()\n",
    "    \n",
    "                    \n",
    "class ExponentialLR(_LRScheduler):\n",
    "    def __init__(self, optimizer, end_lr, num_iter, last_epoch=-1):\n",
    "        self.end_lr = end_lr\n",
    "        self.num_iter = num_iter\n",
    "        super(ExponentialLR, self).__init__(optimizer, last_epoch)\n",
    "    def get_lr(self):\n",
    "        curr_iter = self.last_epoch\n",
    "        r = curr_iter / self.num_iter\n",
    "        return [base_lr * (self.end_lr / base_lr) ** r for base_lr in self.base_lrs]\n",
    "\n",
    "def plot_lr_finder(lrs, losses, skip_start = 0, skip_end = 0):\n",
    "    if skip_end == 0:\n",
    "        lrs = lrs[skip_start:]\n",
    "        losses = losses[skip_start:]\n",
    "    else:\n",
    "        lrs = lrs[skip_start:-skip_end]\n",
    "        losses = losses[skip_start:-skip_end]\n",
    "    fig = plt.figure(figsize = (16,8))\n",
    "    ax = fig.add_subplot(1,1,1)\n",
    "    ax.plot(lrs, losses)\n",
    "    ax.set_xscale('log')\n",
    "    ax.set_xlabel('Learning rate')\n",
    "    ax.set_ylabel('Loss')\n",
    "    ax.grid(True, 'both', 'x')\n",
    "    plt.show()"
   ]
  },
  {
   "cell_type": "code",
   "execution_count": 34,
   "metadata": {
    "executionInfo": {
     "elapsed": 15,
     "status": "ok",
     "timestamp": 1632427779095,
     "user": {
      "displayName": "Vincent wang",
      "photoUrl": "https://lh3.googleusercontent.com/a/default-user=s64",
      "userId": "14844584715436552936"
     },
     "user_tz": 240
    },
    "id": "0acca149-21fd-4ee7-9195-6e9c4ab3343b"
   },
   "outputs": [],
   "source": [
    "if Config.use_lr_finder:\n",
    "    START_LR = 1e-7\n",
    "    model = Model_2D()\n",
    "    model.to(device,non_blocking=Config.non_blocking)\n",
    "#     if torch.cuda.device_count() == 2:\n",
    "#         model = nn.DataParallel(model)\n",
    "    optimizer = AdamW(model.parameters(), lr=START_LR, weight_decay=Config.weight_decay, amsgrad=False)\n",
    "    criterion = torch_functional.binary_cross_entropy_with_logits\n",
    "\n",
    "    train_data_retriever = DataRetriever(train_df['file_path'], train_df[\"target\"].values)\n",
    "    train_loader = DataLoader(train_data_retriever,\n",
    "                                batch_size=Config.batch_size, \n",
    "                                shuffle=True, \n",
    "                                num_workers=Config.num_workers, pin_memory=True, drop_last=True)"
   ]
  },
  {
   "cell_type": "code",
   "execution_count": 35,
   "metadata": {
    "colab": {
     "base_uri": "https://localhost:8080/"
    },
    "executionInfo": {
     "elapsed": 14,
     "status": "ok",
     "timestamp": 1632427779095,
     "user": {
      "displayName": "Vincent wang",
      "photoUrl": "https://lh3.googleusercontent.com/a/default-user=s64",
      "userId": "14844584715436552936"
     },
     "user_tz": 240
    },
    "id": "13a2e828-f63d-4564-874b-b56924fb62e2",
    "outputId": "61c5b1cd-9a7f-4360-f1cd-f109a2448d45"
   },
   "outputs": [
    {
     "name": "stdout",
     "output_type": "stream",
     "text": [
      "CPU times: user 5 µs, sys: 1e+03 ns, total: 6 µs\n",
      "Wall time: 8.82 µs\n"
     ]
    }
   ],
   "source": [
    "%%time\n",
    "if Config.use_lr_finder:\n",
    "    try:\n",
    "        END_LR = 10\n",
    "        NUM_ITER = 150\n",
    "        lr_finder = LRFinder(model, optimizer, criterion, device)\n",
    "        lrs, losses = lr_finder.range_test(train_loader, END_LR, NUM_ITER)\n",
    "    except RuntimeError as e:\n",
    "        del model, optimizer, criterion, train_data_retriever, train_loader, lr_finder\n",
    "        gc.collect()\n",
    "        torch.cuda.empty_cache() \n",
    "        print(e)"
   ]
  },
  {
   "cell_type": "code",
   "execution_count": 36,
   "metadata": {
    "executionInfo": {
     "elapsed": 5,
     "status": "ok",
     "timestamp": 1632427779096,
     "user": {
      "displayName": "Vincent wang",
      "photoUrl": "https://lh3.googleusercontent.com/a/default-user=s64",
      "userId": "14844584715436552936"
     },
     "user_tz": 240
    },
    "id": "9c0570b0-2648-4761-993f-66b8aa6e5118"
   },
   "outputs": [],
   "source": [
    "if Config.use_lr_finder:\n",
    "    plot_lr_finder(lrs[:-5], losses[:-5])"
   ]
  },
  {
   "cell_type": "markdown",
   "metadata": {
    "id": "54dfb7f1-6e67-4dbe-9244-2d08a880b108"
   },
   "source": [
    "# Trainer"
   ]
  },
  {
   "cell_type": "code",
   "execution_count": 37,
   "metadata": {
    "executionInfo": {
     "elapsed": 5,
     "status": "ok",
     "timestamp": 1632427779096,
     "user": {
      "displayName": "Vincent wang",
      "photoUrl": "https://lh3.googleusercontent.com/a/default-user=s64",
      "userId": "14844584715436552936"
     },
     "user_tz": 240
    },
    "id": "X8gOq_SXBayZ"
   },
   "outputs": [],
   "source": [
    "def get_swa(model, optimizer):\n",
    "    swa_model = AveragedModel(model)\n",
    "    train_size = int(train_df.shape[0] / Config.n_fold * (Config.n_fold-1))\n",
    "    epoch_step = train_size/Config.batch_size        \n",
    "    swa_start_step =  epoch_step * Config.swa_start_step_epoch\n",
    "    swa_scheduler = torch.optim.swa_utils.SWALR(optimizer,\n",
    "                                                anneal_strategy=\"cos\", \n",
    "                                                anneal_epochs=int(epoch_step * (Config.epochs-1)), \n",
    "                                                swa_lr=Config.swa_lr)\n",
    "    return swa_model, swa_scheduler\n",
    "\n",
    "def do_swa_scheduler(step, swa_scheduler):\n",
    "    if (swa_scheduler is not None) and (step >= int(Config.swa_start_step_epoch * len(train_df) * (1 - 1/Config.n_fold))//Config.batch_size  ):\n",
    "        return True\n",
    "    else:\n",
    "        return False"
   ]
  },
  {
   "cell_type": "code",
   "execution_count": 38,
   "metadata": {
    "executionInfo": {
     "elapsed": 286,
     "status": "ok",
     "timestamp": 1632427779377,
     "user": {
      "displayName": "Vincent wang",
      "photoUrl": "https://lh3.googleusercontent.com/a/default-user=s64",
      "userId": "14844584715436552936"
     },
     "user_tz": 240
    },
    "id": "70036313-ffa6-4249-a4b8-faadad8bafa8"
   },
   "outputs": [],
   "source": [
    "class Trainer:\n",
    "    def __init__(\n",
    "        self, \n",
    "        model, \n",
    "        device, \n",
    "        optimizer, \n",
    "        criterion, \n",
    "        scheduler,\n",
    "        valid_labels,\n",
    "        best_valid_score,\n",
    "        fold,\n",
    "        swa_model=None,\n",
    "        swa_scheduler=None,\n",
    "    ):\n",
    "        self.model = model\n",
    "        self.device = device\n",
    "        self.optimizer = optimizer\n",
    "        self.criterion = criterion\n",
    "        self.scheduler = scheduler\n",
    "        self.best_valid_score = best_valid_score\n",
    "        self.valid_labels = valid_labels\n",
    "        self.fold = fold\n",
    "\n",
    "        self.swa_model = swa_model\n",
    "        self.swa_scheduler = swa_scheduler\n",
    "        self.step = 0 # for swa\n",
    "\n",
    "    \n",
    "    def fit(self, epochs, train_loader, valid_loader, save_path): \n",
    "        train_losses = []\n",
    "        valid_losses = []\n",
    "        for n_epoch in range(epochs):\n",
    "            start_time = time.time()\n",
    "            print('Epoch: ', n_epoch)\n",
    "            train_loss, train_preds = self.train_epoch(train_loader)\n",
    "            valid_loss, valid_preds = self.valid_epoch(valid_loader, self.model)\n",
    "\n",
    "            if self.swa_model is not None:\n",
    "                if n_epoch >= Config.swa_start_step_epoch:\n",
    "                    print(f\"Epoch {n_epoch}, update swa model\")\n",
    "                    self.swa_model.update_parameters(self.model)\n",
    "\n",
    "\n",
    "            train_losses.append(train_loss)\n",
    "            valid_losses.append(valid_loss)\n",
    "\n",
    "            if isinstance(self.scheduler, ReduceLROnPlateau):\n",
    "                self.scheduler.step(valid_loss)\n",
    "            valid_score = get_score(self.valid_labels, valid_preds)            \n",
    "\n",
    "            if self.best_valid_score < valid_score:\n",
    "                self.best_valid_score = valid_score\n",
    "                self.save_model(n_epoch, save_path+f'best_model.pth', train_preds, valid_preds)\n",
    "\n",
    "            print('train_loss: ',train_loss)\n",
    "            print('valid_loss: ',valid_loss)\n",
    "            print('valid_score: ',valid_score)\n",
    "            print('best_valid_score: ',self.best_valid_score)\n",
    "            print('time used: ', time.time()-start_time)\n",
    "\n",
    "            wandb.log({f\"[fold{self.fold}] epoch\": n_epoch+1, \n",
    "                      f\"[fold{self.fold}] avg_train_loss\": train_loss, \n",
    "                      f\"[fold{self.fold}] avg_val_loss\": valid_loss,\n",
    "                      f\"[fold{self.fold}] val_score\": valid_score})        \n",
    "        # save swa\n",
    "        if self.swa_model is not None:\n",
    "            update_bn(train_loader, self.swa_model, device=self.device)\n",
    "            valid_loss_swa, valid_preds_swa = self.valid_epoch(valid_loader, self.swa_model)\n",
    "            valid_score_swa = get_score(self.valid_labels, valid_preds_swa)\n",
    "            wandb.log({f\"[fold{self.fold}] avg_val_loss_swa\": valid_loss_swa, \n",
    "                      f\"[fold{self.fold}] val_score_swa\": valid_score_swa}) \n",
    "            print(\"SWA: Valid Loss {:.5f}, Valid Score {:.5f}\".format(valid_loss_swa, valid_score_swa))\n",
    "            # update batch normalization\n",
    "            save_dict = {\n",
    "                \"swa_model_state_dict\" : self.swa_model.state_dict(),                \n",
    "                \"swa_scheduler\" : self.swa_scheduler.state_dict(),\n",
    "                \"valid_loss_swa\" : valid_loss_swa,\n",
    "                \"valid_score_swa\" : valid_score_swa,\n",
    "            }\n",
    "            torch.save(save_dict, save_path + f'swa_model.pth')        \n",
    "            \n",
    "    def train_epoch(self, train_loader):\n",
    "        if Config.amp:\n",
    "            scaler = GradScaler()\n",
    "        self.model.train()\n",
    "        losses = []\n",
    "        train_loss = 0\n",
    "        # preds = []\n",
    "        for step, batch in enumerate(train_loader, 1):\n",
    "            self.step += 1\n",
    "            self.optimizer.zero_grad()\n",
    "            X = batch[0].to(self.device,non_blocking=Config.non_blocking)\n",
    "            targets = batch[1].to(self.device,non_blocking=Config.non_blocking)\n",
    "            \n",
    "            if Config.use_mixup:\n",
    "                (X_mix, targets_a, targets_b, lam) = mixup_data(\n",
    "                    X, targets, Config.mixup_alpha\n",
    "                )\n",
    "                with autocast(enabled=False):\n",
    "                    outputs = self.model(X_mix).squeeze()\n",
    "                    loss = mixed_criterion(self.criterion, outputs, targets_a, targets_b, lam)\n",
    "            else:\n",
    "                with autocast(enabled=False):\n",
    "                    outputs = self.model(X).squeeze()\n",
    "                    loss = self.criterion(outputs, targets)\n",
    "                    \n",
    "            if Config.gradient_accumulation_steps > 1:\n",
    "                loss = loss / Config.gradient_accumulation_steps\n",
    "            scaler.scale(loss).backward()\n",
    "          \n",
    "            if (step) % Config.gradient_accumulation_steps == 0:\n",
    "                scaler.step(self.optimizer)\n",
    "                scaler.update()\n",
    "            \n",
    "\n",
    "            if not do_swa_scheduler(self.step, self.swa_scheduler):\n",
    "                self.scheduler.step()\n",
    "                lr2 = self.scheduler.get_last_lr()[0]\n",
    "            else:\n",
    "                self.swa_scheduler.step()\n",
    "                lr2 = self.swa_scheduler.get_last_lr()[0]\n",
    "\n",
    "\n",
    "            loss2 = loss.detach()\n",
    "\n",
    "            wandb.log({f\"[fold{self.fold}] loss\": loss2,\n",
    "                       f\"[fold{self.fold}] lr\": lr2})            \n",
    "\n",
    "            losses.append(loss2)\n",
    "            train_loss += loss2\n",
    "\n",
    "            if (step) % Config.print_num_steps == 0:\n",
    "                train_loss = train_loss.item() #synch once per print_num_steps instead of once per batch\n",
    "                print(f'[{step}/{len(train_loader)}] ', \n",
    "                      f'avg loss: ',train_loss/step,\n",
    "                      f'inst loss: ', loss2.item())\n",
    "                        \n",
    "        return train_loss / step, None\n",
    "\n",
    "    def valid_epoch(self, valid_loader, model):\n",
    "        model.eval()      \n",
    "        valid_loss = []\n",
    "        preds = []\n",
    "        for step, batch in enumerate(valid_loader, 1):\n",
    "            with torch.no_grad():\n",
    "                X = batch[0].to(self.device,non_blocking=Config.non_blocking)\n",
    "                targets = batch[1].to(self.device,non_blocking=Config.non_blocking)\n",
    "                outputs = model(X).squeeze()\n",
    "                loss = self.criterion(outputs, targets)\n",
    "                if Config.gradient_accumulation_steps > 1:\n",
    "                    loss = loss / Config.gradient_accumulation_steps\n",
    "                valid_loss.append(loss.detach().item())\n",
    "                preds.append(outputs.sigmoid().to('cpu').numpy())\n",
    "        predictions = np.concatenate(preds)\n",
    "        return np.mean(valid_loss), predictions\n",
    "\n",
    "    def save_model(self, n_epoch, save_path, train_preds, valid_preds):\n",
    "        print(\"Save Model\")\n",
    "        torch.save(\n",
    "            {\n",
    "                \"model_state_dict\": self.model.state_dict(),\n",
    "                \"optimizer_state_dict\": self.optimizer.state_dict(),\n",
    "                \"best_valid_score\": self.best_valid_score,\n",
    "                \"n_epoch\": n_epoch,\n",
    "                'scheduler': self.scheduler.state_dict(),\n",
    "                'train_preds': train_preds,\n",
    "                'valid_preds': valid_preds,\n",
    "            },\n",
    "            save_path,\n",
    "        )"
   ]
  },
  {
   "cell_type": "markdown",
   "metadata": {
    "id": "7f0dfd0b-83ea-48f9-aca0-7e84b3346689"
   },
   "source": [
    "# Training loop"
   ]
  },
  {
   "cell_type": "code",
   "execution_count": 39,
   "metadata": {
    "executionInfo": {
     "elapsed": 5,
     "status": "ok",
     "timestamp": 1632427779378,
     "user": {
      "displayName": "Vincent wang",
      "photoUrl": "https://lh3.googleusercontent.com/a/default-user=s64",
      "userId": "14844584715436552936"
     },
     "user_tz": 240
    },
    "id": "0f26270c-7a97-4d8a-80bd-db5ec6ad345d"
   },
   "outputs": [],
   "source": [
    "seed_torch(seed=Config.seed)"
   ]
  },
  {
   "cell_type": "code",
   "execution_count": 40,
   "metadata": {
    "executionInfo": {
     "elapsed": 4,
     "status": "ok",
     "timestamp": 1632427779378,
     "user": {
      "displayName": "Vincent wang",
      "photoUrl": "https://lh3.googleusercontent.com/a/default-user=s64",
      "userId": "14844584715436552936"
     },
     "user_tz": 240
    },
    "id": "14d354a8-d7e3-4bbb-85ee-f5e6a0126652"
   },
   "outputs": [],
   "source": [
    "def generate_PL(fold, train_df,test_df):\n",
    "    pseudo_label_df = pd.read_csv(Config.pseudo_label_folder + f\"test_Fold_{fold}.csv\")     \n",
    "    pseudo_label_df['file_path'] = pseudo_label_df['id'].apply(lambda x :id_2_path_wave(x,False))\n",
    "    pseudo_label_df[\"target\"] = pseudo_label_df[f'preds_Fold_{fold}']\n",
    "    test_df_2 = pseudo_label_df.copy()\n",
    "    test_df_2['fold'] = -1\n",
    "    PL_train_df = pd.concat([train_df, test_df_2]).reset_index(drop=True)\n",
    "    PL_train_df.reset_index(inplace=True, drop=True)\n",
    "    return PL_train_df"
   ]
  },
  {
   "cell_type": "code",
   "execution_count": 41,
   "metadata": {
    "executionInfo": {
     "elapsed": 4,
     "status": "ok",
     "timestamp": 1632427779379,
     "user": {
      "displayName": "Vincent wang",
      "photoUrl": "https://lh3.googleusercontent.com/a/default-user=s64",
      "userId": "14844584715436552936"
     },
     "user_tz": 240
    },
    "id": "b1aff774-130a-4ba1-9132-5a7a60553992"
   },
   "outputs": [],
   "source": [
    "def training_loop(train_df, use_checkpoint=Config.use_checkpoint):\n",
    "    kf = StratifiedKFold(n_splits=Config.n_fold, shuffle=True, random_state=Config.seed)\n",
    "    avg_best_valid_score = 0\n",
    "    folds_val_score = []\n",
    "    original_train_df = train_df.copy()#for PL\n",
    "    for fold in range(Config.n_fold): \n",
    "        if Config.use_PL:\n",
    "            PL_train_df = generate_PL(fold,original_train_df.copy(),test_df)   \n",
    "            train_df = PL_train_df\n",
    "        train_index, valid_index = train_df.query(f\"fold!={fold}\").index, train_df.query(f\"fold=={fold}\").index #fold means fold_valid \n",
    "        print('Fold: ', fold)\n",
    "        if fold not in Config.train_folds:\n",
    "            print(\"skip\")\n",
    "            continue\n",
    "        train_X, valid_X = train_df.loc[train_index], train_df.loc[valid_index]\n",
    "        valid_labels = train_df.loc[valid_index,Config.target_col].values\n",
    "        oof = pd.DataFrame()\n",
    "        oof['id'] = train_df.loc[valid_index,'id']\n",
    "        oof['id'] = valid_X['id'].values.copy()\n",
    "        oof = oof.reset_index()\n",
    "        oof['preds'] = valid_labels\n",
    "        oof.to_csv(f'{Config.model_output_folder}/Fold_{fold}_oof_pred.csv')\n",
    "\n",
    "        print('training data samples, val data samples: ', len(train_X) ,len(valid_X))\n",
    "        if Config.use_GW:\n",
    "            #!!\n",
    "            train_data_retriever = DataRetriever(train_X[\"file_path\"].values, train_X[\"target\"].values, transforms=train_transform,synthetic=SIGNAL_DICT)\n",
    "        else:\n",
    "            train_data_retriever = DataRetriever(train_X[\"file_path\"].values, train_X[\"target\"].values, transforms=train_transform)\n",
    "\n",
    "        valid_data_retriever = DataRetrieverTest(valid_X[\"file_path\"].values, valid_X[\"target\"].values, transforms=test_transform)       \n",
    "        \n",
    "        train_loader = DataLoader(train_data_retriever,\n",
    "                                  batch_size=Config.batch_size, \n",
    "                                  shuffle=True, \n",
    "                                  num_workers=Config.num_workers, pin_memory=True, drop_last=False)\n",
    "        valid_loader = DataLoader(valid_data_retriever, \n",
    "                                  batch_size=Config.batch_size * 2, \n",
    "                                  shuffle=False, \n",
    "                                  num_workers=Config.num_workers, pin_memory=True, drop_last=False)\n",
    "\n",
    "        model = Model_2D()\n",
    "        model.to(device,non_blocking=Config.non_blocking)\n",
    "        #if torch.cuda.device_count() == 2:\n",
    "        #    model = nn.DataParallel(model)\n",
    "        optimizer = AdamW(model.parameters(), lr=Config.lr,eps=1e-08, weight_decay=Config.weight_decay, amsgrad=False) #eps to avoid NaN/Inf in training loss\n",
    "        scheduler = get_scheduler(optimizer, len(train_X))\n",
    "        swa_model, swa_scheduler = None, None\n",
    "        best_valid_score = -np.inf\n",
    "        if use_checkpoint:\n",
    "            #!!\n",
    "            model_folder = Config.model_output_folder if Config.prev_model_folder is None else Config.prev_model_folder\n",
    "            print(f\"Load Checkpoint from folder: {model_folder}\")\n",
    "            checkpoint = torch.load(f'{Config.model_output_folder}/Fold_{fold}_best_model.pth')\n",
    "            model.load_state_dict(checkpoint['model_state_dict'])\n",
    "            optimizer.load_state_dict(checkpoint['optimizer_state_dict'])\n",
    "            best_valid_score = float(checkpoint['best_valid_score'])\n",
    "        if Config.use_swa:\n",
    "            print(\"Use SWA\")\n",
    "            swa_model, swa_scheduler = get_swa(model, optimizer)\n",
    "        scheduler = get_scheduler(optimizer, len(train_X))\n",
    "        \n",
    "        \n",
    "        criterion = torch_functional.binary_cross_entropy_with_logits\n",
    "        \n",
    "\n",
    "        trainer = Trainer(\n",
    "            model, \n",
    "            device, \n",
    "            optimizer, \n",
    "            criterion,\n",
    "            scheduler,\n",
    "            valid_labels,\n",
    "            best_valid_score,\n",
    "            fold,\n",
    "            swa_model,\n",
    "            swa_scheduler\n",
    "        )\n",
    "\n",
    "        history = trainer.fit(\n",
    "            epochs=Config.epochs, \n",
    "            train_loader=train_loader, \n",
    "            valid_loader=valid_loader,\n",
    "            save_path=f'{Config.model_output_folder}/Fold_{fold}_',\n",
    "        )\n",
    "        folds_val_score.append(trainer.best_valid_score)\n",
    "    wandb.finish()\n",
    "    print('folds score:', folds_val_score)\n",
    "    print(\"Avg: {:.5f}\".format(np.mean(folds_val_score)))\n",
    "    print(\"Std: {:.5f}\".format(np.std(folds_val_score)))"
   ]
  },
  {
   "cell_type": "markdown",
   "metadata": {
    "id": "b36681e6-4f7d-4d6c-b54f-57d800d63016"
   },
   "source": [
    "# Weight & Bias Initialization"
   ]
  },
  {
   "cell_type": "code",
   "execution_count": 42,
   "metadata": {
    "colab": {
     "base_uri": "https://localhost:8080/"
    },
    "executionInfo": {
     "elapsed": 146,
     "status": "ok",
     "timestamp": 1632427779675,
     "user": {
      "displayName": "Vincent wang",
      "photoUrl": "https://lh3.googleusercontent.com/a/default-user=s64",
      "userId": "14844584715436552936"
     },
     "user_tz": 240
    },
    "id": "d285326b-438d-40af-a1db-eb618cf145c9",
    "outputId": "52980af6-2fd3-4e05-bf57-7515d771edc3"
   },
   "outputs": [
    {
     "name": "stderr",
     "output_type": "stream",
     "text": [
      "\u001b[34m\u001b[1mwandb\u001b[0m: Currently logged in as: \u001b[33mvincentwang25\u001b[0m (use `wandb login --relogin` to force relogin)\n",
      "\u001b[34m\u001b[1mwandb\u001b[0m: \u001b[33mWARNING\u001b[0m If you're specifying your api key in code, ensure this code is not shared publically.\n",
      "\u001b[34m\u001b[1mwandb\u001b[0m: \u001b[33mWARNING\u001b[0m Consider setting the WANDB_API_KEY environment variable, or running `wandb login` from the command line.\n",
      "\u001b[34m\u001b[1mwandb\u001b[0m: Appending key for api.wandb.ai to your netrc file: /home/.netrc\n"
     ]
    },
    {
     "data": {
      "text/plain": [
       "True"
      ]
     },
     "execution_count": 42,
     "metadata": {},
     "output_type": "execute_result"
    }
   ],
   "source": [
    "wandb.login(key=\"\")"
   ]
  },
  {
   "cell_type": "markdown",
   "metadata": {
    "id": "e13f8adc-4368-48be-8015-cf9e1e9719ab"
   },
   "source": [
    "# Train"
   ]
  },
  {
   "cell_type": "markdown",
   "metadata": {},
   "source": [
    "## Pretraining"
   ]
  },
  {
   "cell_type": "code",
   "execution_count": 43,
   "metadata": {
    "executionInfo": {
     "elapsed": 2,
     "status": "ok",
     "timestamp": 1632427779675,
     "user": {
      "displayName": "Vincent wang",
      "photoUrl": "https://lh3.googleusercontent.com/a/default-user=s64",
      "userId": "14844584715436552936"
     },
     "user_tz": 240
    },
    "id": "3560abc6-3e87-4021-84e8-abddfd72130a"
   },
   "outputs": [],
   "source": [
    "# %%time\n",
    "# Config.epochs = 2\n",
    "# Config.use_GW = True\n",
    "# Config.use_PL = False\n",
    "# Config.use_checkpoint = False\n",
    "# Config.use_swa = False\n",
    "# run = wandb.init(project=\"G2Net\", name=Config.model_version + \"_pretrain\" , config=class2dict(Config), group=Config.model_name, job_type=Config.model_version)\n",
    "# try:\n",
    "# #     %lprun -f DataRetriever.__getitem__ -f Trainer.train_epoch -f Trainer.fit -f Trainer.valid_epoch training_loop() \n",
    "#     training_loop(train_df.copy(),Config.use_checkpoint)\n",
    "# except (ValueError, RuntimeError, KeyboardInterrupt) as e:\n",
    "#     wandb.finish()    \n",
    "#     gc.collect()\n",
    "#     torch.cuda.empty_cache()   \n",
    "#     print(e)# saving oof predictions"
   ]
  },
  {
   "cell_type": "markdown",
   "metadata": {},
   "source": [
    "## Training"
   ]
  },
  {
   "cell_type": "code",
   "execution_count": 44,
   "metadata": {
    "colab": {
     "base_uri": "https://localhost:8080/",
     "height": 180
    },
    "id": "8a03bfac-e977-4cc1-908f-fd91ad857903",
    "outputId": "99533fa0-311b-4264-f0bf-1dde8beae052"
   },
   "outputs": [
    {
     "data": {
      "text/html": [
       "\n",
       "                Tracking run with wandb version 0.12.2<br/>\n",
       "                Syncing run <strong style=\"color:#cdcd00\">resnet34-fmin22-ep4</strong> to <a href=\"https://wandb.ai\" target=\"_blank\">Weights & Biases</a> <a href=\"https://docs.wandb.com/integrations/jupyter.html\" target=\"_blank\">(Documentation)</a>.<br/>\n",
       "                Project page: <a href=\"https://wandb.ai/vincentwang25/G2Net\" target=\"_blank\">https://wandb.ai/vincentwang25/G2Net</a><br/>\n",
       "                Run page: <a href=\"https://wandb.ai/vincentwang25/G2Net/runs/2fqdu8n9\" target=\"_blank\">https://wandb.ai/vincentwang25/G2Net/runs/2fqdu8n9</a><br/>\n",
       "                Run data is saved locally in <code>/home/wandb/run-20210926_202206-2fqdu8n9</code><br/><br/>\n",
       "            "
      ],
      "text/plain": [
       "<IPython.core.display.HTML object>"
      ]
     },
     "metadata": {},
     "output_type": "display_data"
    },
    {
     "name": "stdout",
     "output_type": "stream",
     "text": [
      "Fold:  0\n",
      "training data samples, val data samples:  448000 112000\n",
      "CQT kernels created, time used = 0.0148 seconds\n",
      "Epoch:  0\n"
     ]
    },
    {
     "name": "stderr",
     "output_type": "stream",
     "text": [
      "/opt/conda/lib/python3.8/site-packages/torch/nn/functional.py:718: UserWarning: Named tensors and all their associated APIs are an experimental feature and subject to change. Please do not use them for anything important until they are released as stable. (Triggered internally at  ../c10/core/TensorImpl.h:1153.)\n",
      "  return torch.max_pool2d(input, kernel_size, stride, padding, dilation, ceil_mode)\n"
     ]
    },
    {
     "name": "stdout",
     "output_type": "stream",
     "text": [
      "[350/1750]  avg loss:  0.4790022495814732 inst loss:  0.4300946891307831\n",
      "[700/1750]  avg loss:  0.4532602800641741 inst loss:  0.48799753189086914\n",
      "[1050/1750]  avg loss:  0.44401721772693453 inst loss:  0.3786649703979492\n",
      "[1400/1750]  avg loss:  0.43736332484654017 inst loss:  0.41919827461242676\n",
      "[1750/1750]  avg loss:  0.4328866489955357 inst loss:  0.4228212237358093\n",
      "Save Model\n",
      "train_loss:  0.4328866489955357\n",
      "valid_loss:  0.418924433727787\n",
      "valid_score:  0.8709513729931342\n",
      "best_valid_score:  0.8709513729931342\n",
      "time used:  739.6181964874268\n",
      "Epoch:  1\n",
      "[350/1750]  avg loss:  0.4108201817103795 inst loss:  0.3891768753528595\n",
      "[700/1750]  avg loss:  0.41144784109933036 inst loss:  0.39694613218307495\n",
      "[1050/1750]  avg loss:  0.4115652320498512 inst loss:  0.4135272204875946\n",
      "[1400/1750]  avg loss:  0.41085030691964286 inst loss:  0.39553719758987427\n",
      "[1750/1750]  avg loss:  0.40992239815848214 inst loss:  0.33664625883102417\n",
      "Save Model\n",
      "train_loss:  0.40992239815848214\n",
      "valid_loss:  0.4078415683959717\n",
      "valid_score:  0.8725091449336073\n",
      "best_valid_score:  0.8725091449336073\n",
      "time used:  1071.34317445755\n",
      "Epoch:  2\n",
      "[350/1750]  avg loss:  0.4053334699358259 inst loss:  0.3927159309387207\n",
      "[700/1750]  avg loss:  0.40333748953683035 inst loss:  0.43507716059684753\n",
      "[1050/1750]  avg loss:  0.4033126685732887 inst loss:  0.3801463842391968\n",
      "[1400/1750]  avg loss:  0.4028235299246652 inst loss:  0.3961103558540344\n",
      "[1750/1750]  avg loss:  0.40241678292410715 inst loss:  0.4151816964149475\n",
      "Save Model\n",
      "train_loss:  0.40241678292410715\n",
      "valid_loss:  0.4006200221847726\n",
      "valid_score:  0.8761839367768023\n",
      "best_valid_score:  0.8761839367768023\n",
      "time used:  803.9517526626587\n",
      "Epoch:  3\n",
      "[350/1750]  avg loss:  0.39241629464285716 inst loss:  0.4094943404197693\n",
      "[700/1750]  avg loss:  0.39151441301618306 inst loss:  0.3320162892341614\n",
      "[1050/1750]  avg loss:  0.3917158435639881 inst loss:  0.355593204498291\n",
      "[1400/1750]  avg loss:  0.3911993844168527 inst loss:  0.4617314338684082\n",
      "[1750/1750]  avg loss:  0.3911463448660714 inst loss:  0.3793998956680298\n",
      "Save Model\n",
      "train_loss:  0.3911463448660714\n",
      "valid_loss:  0.3993455845199219\n",
      "valid_score:  0.8766257921934487\n",
      "best_valid_score:  0.8766257921934487\n",
      "time used:  736.5254759788513\n",
      "Fold:  1\n",
      "skip\n",
      "Fold:  2\n",
      "skip\n",
      "Fold:  3\n",
      "skip\n",
      "Fold:  4\n",
      "skip\n"
     ]
    },
    {
     "data": {
      "text/html": [
       "<br/>Waiting for W&B process to finish, PID 1356<br/>Program ended successfully."
      ],
      "text/plain": [
       "<IPython.core.display.HTML object>"
      ]
     },
     "metadata": {},
     "output_type": "display_data"
    },
    {
     "data": {
      "application/vnd.jupyter.widget-view+json": {
       "model_id": "",
       "version_major": 2,
       "version_minor": 0
      },
      "text/plain": [
       "VBox(children=(Label(value=' 0.00MB of 0.00MB uploaded (0.00MB deduped)\\r'), FloatProgress(value=1.0, max=1.0)…"
      ]
     },
     "metadata": {},
     "output_type": "display_data"
    },
    {
     "data": {
      "text/html": [
       "Find user logs for this run at: <code>/home/wandb/run-20210926_202206-2fqdu8n9/logs/debug.log</code>"
      ],
      "text/plain": [
       "<IPython.core.display.HTML object>"
      ]
     },
     "metadata": {},
     "output_type": "display_data"
    },
    {
     "data": {
      "text/html": [
       "Find internal logs for this run at: <code>/home/wandb/run-20210926_202206-2fqdu8n9/logs/debug-internal.log</code>"
      ],
      "text/plain": [
       "<IPython.core.display.HTML object>"
      ]
     },
     "metadata": {},
     "output_type": "display_data"
    },
    {
     "data": {
      "text/html": [
       "<h3>Run summary:</h3><br/><style>\n",
       "    table.wandb td:nth-child(1) { padding: 0 10px; text-align: right }\n",
       "    </style><table class=\"wandb\">\n",
       "<tr><td>[fold0] avg_train_loss</td><td>0.39115</td></tr><tr><td>[fold0] avg_val_loss</td><td>0.39935</td></tr><tr><td>[fold0] epoch</td><td>4</td></tr><tr><td>[fold0] loss</td><td>0.3794</td></tr><tr><td>[fold0] lr</td><td>0.0</td></tr><tr><td>[fold0] val_score</td><td>0.87663</td></tr></table>"
      ],
      "text/plain": [
       "<IPython.core.display.HTML object>"
      ]
     },
     "metadata": {},
     "output_type": "display_data"
    },
    {
     "data": {
      "text/html": [
       "<h3>Run history:</h3><br/><style>\n",
       "    table.wandb td:nth-child(1) { padding: 0 10px; text-align: right }\n",
       "    </style><table class=\"wandb\">\n",
       "<tr><td>[fold0] avg_train_loss</td><td>█▄▃▁</td></tr><tr><td>[fold0] avg_val_loss</td><td>█▄▁▁</td></tr><tr><td>[fold0] epoch</td><td>▁▃▆█</td></tr><tr><td>[fold0] loss</td><td>█▇▆▆▇▆▅▃▄▃▆▅▄▅▃▄▄▆▃▄▄▃▅▅▁▄▄▆▆▄▅▆▇▄▄▆▄▅▃▃</td></tr><tr><td>[fold0] lr</td><td>▂▃▅▇██████▇▇▇▇▇▆▆▆▆▅▅▅▄▄▄▃▃▃▃▂▂▂▂▂▁▁▁▁▁▁</td></tr><tr><td>[fold0] val_score</td><td>▁▃▇█</td></tr></table><br/>"
      ],
      "text/plain": [
       "<IPython.core.display.HTML object>"
      ]
     },
     "metadata": {},
     "output_type": "display_data"
    },
    {
     "data": {
      "text/html": [
       "Synced 5 W&B file(s), 0 media file(s), 0 artifact file(s) and 0 other file(s)"
      ],
      "text/plain": [
       "<IPython.core.display.HTML object>"
      ]
     },
     "metadata": {},
     "output_type": "display_data"
    },
    {
     "data": {
      "text/html": [
       "\n",
       "                    <br/>Synced <strong style=\"color:#cdcd00\">resnet34-fmin22-ep4</strong>: <a href=\"https://wandb.ai/vincentwang25/G2Net/runs/2fqdu8n9\" target=\"_blank\">https://wandb.ai/vincentwang25/G2Net/runs/2fqdu8n9</a><br/>\n",
       "                "
      ],
      "text/plain": [
       "<IPython.core.display.HTML object>"
      ]
     },
     "metadata": {},
     "output_type": "display_data"
    },
    {
     "name": "stdout",
     "output_type": "stream",
     "text": [
      "folds score: [0.8766257921934487]\n",
      "Avg: 0.87663\n",
      "Std: 0.00000\n",
      "CPU times: user 56min 18s, sys: 1min 17s, total: 57min 36s\n",
      "Wall time: 56min 4s\n"
     ]
    }
   ],
   "source": [
    "%%time\n",
    "\n",
    "Config.epochs = 4\n",
    "Config.cut_612 = False\n",
    "\n",
    "Config.use_PL = False\n",
    "Config.use_checkpoint = False\n",
    "Config.use_GW = False\n",
    "Config.use_swa = False\n",
    "\n",
    "run_error = False\n",
    "run = wandb.init(project=\"G2Net\", name=Config.model_version , config=class2dict(Config), group=Config.model_name, job_type=Config.model_version)\n",
    "try:\n",
    "#     %lprun -f DataRetriever.__getitem__ -f Trainer.train_epoch -f Trainer.fit -f Trainer.valid_epoch training_loop() \n",
    "    training_loop(train_df.copy(),Config.use_checkpoint)\n",
    "except (ValueError, RuntimeError, KeyboardInterrupt) as e:\n",
    "    wandb.finish()\n",
    "    run_error=True\n",
    "    gc.collect()\n",
    "    torch.cuda.empty_cache()   \n",
    "    print(e)# saving oof predictions"
   ]
  },
  {
   "cell_type": "code",
   "execution_count": 46,
   "metadata": {},
   "outputs": [
    {
     "data": {
      "text/html": [
       "Finishing last run (ID:3ugz17c4) before initializing another..."
      ],
      "text/plain": [
       "<IPython.core.display.HTML object>"
      ]
     },
     "metadata": {},
     "output_type": "display_data"
    },
    {
     "data": {
      "text/html": [
       "<br/>Waiting for W&B process to finish, PID 9510<br/>Program ended successfully."
      ],
      "text/plain": [
       "<IPython.core.display.HTML object>"
      ]
     },
     "metadata": {},
     "output_type": "display_data"
    },
    {
     "data": {
      "application/vnd.jupyter.widget-view+json": {
       "model_id": "",
       "version_major": 2,
       "version_minor": 0
      },
      "text/plain": [
       "VBox(children=(Label(value=' 0.00MB of 0.00MB uploaded (0.00MB deduped)\\r'), FloatProgress(value=1.0, max=1.0)…"
      ]
     },
     "metadata": {},
     "output_type": "display_data"
    },
    {
     "data": {
      "text/html": [
       "Find user logs for this run at: <code>/home/wandb/run-20210926_212208-3ugz17c4/logs/debug.log</code>"
      ],
      "text/plain": [
       "<IPython.core.display.HTML object>"
      ]
     },
     "metadata": {},
     "output_type": "display_data"
    },
    {
     "data": {
      "text/html": [
       "Find internal logs for this run at: <code>/home/wandb/run-20210926_212208-3ugz17c4/logs/debug-internal.log</code>"
      ],
      "text/plain": [
       "<IPython.core.display.HTML object>"
      ]
     },
     "metadata": {},
     "output_type": "display_data"
    },
    {
     "data": {
      "text/html": [
       "Synced 5 W&B file(s), 0 media file(s), 0 artifact file(s) and 0 other file(s)"
      ],
      "text/plain": [
       "<IPython.core.display.HTML object>"
      ]
     },
     "metadata": {},
     "output_type": "display_data"
    },
    {
     "data": {
      "text/html": [
       "\n",
       "                    <br/>Synced <strong style=\"color:#cdcd00\">resnet34-fmin22-ep4_cut612</strong>: <a href=\"https://wandb.ai/vincentwang25/G2Net/runs/3ugz17c4\" target=\"_blank\">https://wandb.ai/vincentwang25/G2Net/runs/3ugz17c4</a><br/>\n",
       "                "
      ],
      "text/plain": [
       "<IPython.core.display.HTML object>"
      ]
     },
     "metadata": {},
     "output_type": "display_data"
    },
    {
     "data": {
      "text/html": [
       "...Successfully finished last run (ID:3ugz17c4). Initializing new run:<br/><br/>"
      ],
      "text/plain": [
       "<IPython.core.display.HTML object>"
      ]
     },
     "metadata": {},
     "output_type": "display_data"
    },
    {
     "data": {
      "text/html": [
       "\n",
       "                Tracking run with wandb version 0.12.2<br/>\n",
       "                Syncing run <strong style=\"color:#cdcd00\">resnet34-fmin22-ep4_cut612</strong> to <a href=\"https://wandb.ai\" target=\"_blank\">Weights & Biases</a> <a href=\"https://docs.wandb.com/integrations/jupyter.html\" target=\"_blank\">(Documentation)</a>.<br/>\n",
       "                Project page: <a href=\"https://wandb.ai/vincentwang25/G2Net\" target=\"_blank\">https://wandb.ai/vincentwang25/G2Net</a><br/>\n",
       "                Run page: <a href=\"https://wandb.ai/vincentwang25/G2Net/runs/2y3eldfn\" target=\"_blank\">https://wandb.ai/vincentwang25/G2Net/runs/2y3eldfn</a><br/>\n",
       "                Run data is saved locally in <code>/home/wandb/run-20210926_212231-2y3eldfn</code><br/><br/>\n",
       "            "
      ],
      "text/plain": [
       "<IPython.core.display.HTML object>"
      ]
     },
     "metadata": {},
     "output_type": "display_data"
    },
    {
     "name": "stdout",
     "output_type": "stream",
     "text": [
      "Fold:  0\n",
      "training data samples, val data samples:  448000 112000\n",
      "CQT kernels created, time used = 0.0156 seconds\n",
      "Cut 612 frequency range\n",
      "Epoch:  0\n",
      "[350/1750]  avg loss:  0.4735546875 inst loss:  0.41856780648231506\n",
      "[700/1750]  avg loss:  0.4520217023577009 inst loss:  0.4355897307395935\n",
      "[1050/1750]  avg loss:  0.4427425420851935 inst loss:  0.38543298840522766\n",
      "[1400/1750]  avg loss:  0.4367357962472098 inst loss:  0.4505072832107544\n",
      "[1750/1750]  avg loss:  0.4325429338727679 inst loss:  0.3898415267467499\n",
      "Save Model\n",
      "train_loss:  0.4325429338727679\n",
      "valid_loss:  0.4128577506433339\n",
      "valid_score:  0.8707776555077871\n",
      "best_valid_score:  0.8707776555077871\n",
      "time used:  1238.8589725494385\n",
      "Epoch:  1\n",
      "[350/1750]  avg loss:  0.4128870936802455 inst loss:  0.3921718895435333\n",
      "[700/1750]  avg loss:  0.41140638078962055 inst loss:  0.45730307698249817\n",
      "[1050/1750]  avg loss:  0.4122132800874256 inst loss:  0.38512957096099854\n",
      "[1400/1750]  avg loss:  0.41132193429129466 inst loss:  0.4302365779876709\n",
      "[1750/1750]  avg loss:  0.4100924595424107 inst loss:  0.3894262909889221\n",
      "Save Model\n",
      "train_loss:  0.4100924595424107\n",
      "valid_loss:  0.4065443628454862\n",
      "valid_score:  0.8737633918232222\n",
      "best_valid_score:  0.8737633918232222\n",
      "time used:  1579.5875680446625\n",
      "Epoch:  2\n",
      "[350/1750]  avg loss:  0.4032215227399554 inst loss:  0.3829110264778137\n",
      "[700/1750]  avg loss:  0.403426513671875 inst loss:  0.35150036215782166\n",
      "[1050/1750]  avg loss:  0.40417224702380955 inst loss:  0.35815659165382385\n",
      "[1400/1750]  avg loss:  0.4031452287946429 inst loss:  0.40460824966430664\n",
      "[1750/1750]  avg loss:  0.40262105887276783 inst loss:  0.42132318019866943\n",
      "Save Model\n",
      "train_loss:  0.40262105887276783\n",
      "valid_loss:  0.4007386214112582\n",
      "valid_score:  0.8764480968698427\n",
      "best_valid_score:  0.8764480968698427\n",
      "time used:  860.1164739131927\n",
      "Epoch:  3\n",
      "[350/1750]  avg loss:  0.3957867431640625 inst loss:  0.35047751665115356\n",
      "[700/1750]  avg loss:  0.3940996878487723 inst loss:  0.34414392709732056\n",
      "[1050/1750]  avg loss:  0.3930997140066964 inst loss:  0.44866621494293213\n",
      "[1400/1750]  avg loss:  0.392493896484375 inst loss:  0.37421250343322754\n",
      "[1750/1750]  avg loss:  0.3919381626674107 inst loss:  0.3799594044685364\n",
      "Save Model\n",
      "train_loss:  0.3919381626674107\n",
      "valid_loss:  0.3987083205077202\n",
      "valid_score:  0.8769906263999243\n",
      "best_valid_score:  0.8769906263999243\n",
      "time used:  739.8708996772766\n",
      "Fold:  1\n",
      "skip\n",
      "Fold:  2\n",
      "skip\n",
      "Fold:  3\n",
      "skip\n",
      "Fold:  4\n",
      "skip\n"
     ]
    },
    {
     "data": {
      "text/html": [
       "<br/>Waiting for W&B process to finish, PID 9592<br/>Program ended successfully."
      ],
      "text/plain": [
       "<IPython.core.display.HTML object>"
      ]
     },
     "metadata": {},
     "output_type": "display_data"
    },
    {
     "data": {
      "application/vnd.jupyter.widget-view+json": {
       "model_id": "",
       "version_major": 2,
       "version_minor": 0
      },
      "text/plain": [
       "VBox(children=(Label(value=' 0.00MB of 0.00MB uploaded (0.00MB deduped)\\r'), FloatProgress(value=1.0, max=1.0)…"
      ]
     },
     "metadata": {},
     "output_type": "display_data"
    },
    {
     "data": {
      "text/html": [
       "Find user logs for this run at: <code>/home/wandb/run-20210926_212231-2y3eldfn/logs/debug.log</code>"
      ],
      "text/plain": [
       "<IPython.core.display.HTML object>"
      ]
     },
     "metadata": {},
     "output_type": "display_data"
    },
    {
     "data": {
      "text/html": [
       "Find internal logs for this run at: <code>/home/wandb/run-20210926_212231-2y3eldfn/logs/debug-internal.log</code>"
      ],
      "text/plain": [
       "<IPython.core.display.HTML object>"
      ]
     },
     "metadata": {},
     "output_type": "display_data"
    },
    {
     "data": {
      "text/html": [
       "<h3>Run summary:</h3><br/><style>\n",
       "    table.wandb td:nth-child(1) { padding: 0 10px; text-align: right }\n",
       "    </style><table class=\"wandb\">\n",
       "<tr><td>[fold0] avg_train_loss</td><td>0.39194</td></tr><tr><td>[fold0] avg_val_loss</td><td>0.39871</td></tr><tr><td>[fold0] epoch</td><td>4</td></tr><tr><td>[fold0] loss</td><td>0.37996</td></tr><tr><td>[fold0] lr</td><td>0.0</td></tr><tr><td>[fold0] val_score</td><td>0.87699</td></tr></table>"
      ],
      "text/plain": [
       "<IPython.core.display.HTML object>"
      ]
     },
     "metadata": {},
     "output_type": "display_data"
    },
    {
     "data": {
      "text/html": [
       "<h3>Run history:</h3><br/><style>\n",
       "    table.wandb td:nth-child(1) { padding: 0 10px; text-align: right }\n",
       "    </style><table class=\"wandb\">\n",
       "<tr><td>[fold0] avg_train_loss</td><td>█▄▃▁</td></tr><tr><td>[fold0] avg_val_loss</td><td>█▅▂▁</td></tr><tr><td>[fold0] epoch</td><td>▁▃▆█</td></tr><tr><td>[fold0] loss</td><td>█▇▅▅▅▃▅▃▆▆▄▃▅▃▇▅▆▄▅▄▇▆▃▄▆▄▆▃█▄▅▃▆▅▃▄▅▁▄▃</td></tr><tr><td>[fold0] lr</td><td>▂▃▅▇██████▇▇▇▇▇▆▆▆▆▅▅▅▄▄▄▃▃▃▃▂▂▂▂▂▁▁▁▁▁▁</td></tr><tr><td>[fold0] val_score</td><td>▁▄▇█</td></tr></table><br/>"
      ],
      "text/plain": [
       "<IPython.core.display.HTML object>"
      ]
     },
     "metadata": {},
     "output_type": "display_data"
    },
    {
     "data": {
      "text/html": [
       "Synced 5 W&B file(s), 0 media file(s), 0 artifact file(s) and 0 other file(s)"
      ],
      "text/plain": [
       "<IPython.core.display.HTML object>"
      ]
     },
     "metadata": {},
     "output_type": "display_data"
    },
    {
     "data": {
      "text/html": [
       "\n",
       "                    <br/>Synced <strong style=\"color:#cdcd00\">resnet34-fmin22-ep4_cut612</strong>: <a href=\"https://wandb.ai/vincentwang25/G2Net/runs/2y3eldfn\" target=\"_blank\">https://wandb.ai/vincentwang25/G2Net/runs/2y3eldfn</a><br/>\n",
       "                "
      ],
      "text/plain": [
       "<IPython.core.display.HTML object>"
      ]
     },
     "metadata": {},
     "output_type": "display_data"
    },
    {
     "name": "stdout",
     "output_type": "stream",
     "text": [
      "folds score: [0.8769906263999243]\n",
      "Avg: 0.87699\n",
      "Std: 0.00000\n",
      "CPU times: user 1h 14min 6s, sys: 1min 21s, total: 1h 15min 28s\n",
      "Wall time: 1h 13min 55s\n"
     ]
    }
   ],
   "source": [
    "%%time\n",
    "\n",
    "Config.epochs = 4\n",
    "Config.cut_612 = True\n",
    "\n",
    "Config.use_PL = False\n",
    "Config.use_checkpoint = False\n",
    "Config.use_GW = False\n",
    "Config.use_swa = False\n",
    "\n",
    "run_error = False\n",
    "run = wandb.init(project=\"G2Net\", name=Config.model_version+\"_cut612\" , config=class2dict(Config), group=Config.model_name, job_type=Config.model_version)\n",
    "try:\n",
    "#     %lprun -f DataRetriever.__getitem__ -f Trainer.train_epoch -f Trainer.fit -f Trainer.valid_epoch training_loop() \n",
    "    training_loop(train_df.copy(),Config.use_checkpoint)\n",
    "except (ValueError, RuntimeError, KeyboardInterrupt) as e:\n",
    "    wandb.finish()\n",
    "    run_error=True\n",
    "    gc.collect()\n",
    "    torch.cuda.empty_cache()   \n",
    "    print(e)# saving oof predictions"
   ]
  },
  {
   "cell_type": "markdown",
   "metadata": {
    "id": "6d6afe6c-0be0-485b-a2e2-a899024b8a80"
   },
   "source": [
    "# add TTA"
   ]
  },
  {
   "cell_type": "code",
   "execution_count": 30,
   "metadata": {
    "id": "0e95c39f-c917-4d9b-afe8-dc89d5d8f003"
   },
   "outputs": [],
   "source": [
    "def get_pred(loader,model):\n",
    "    preds = []\n",
    "    for step, batch in enumerate(loader, 1):\n",
    "        if step % Config.print_num_steps == 0:\n",
    "            print(\"step {}/{}\".format(step, len(loader)))\n",
    "        with torch.no_grad():\n",
    "            X = batch[0].to(device,non_blocking=Config.non_blocking)\n",
    "            outputs = model(X).squeeze()\n",
    "            preds.append(outputs.sigmoid().to('cpu').numpy())\n",
    "    predictions = np.concatenate(preds)\n",
    "    return predictions\n",
    "\n",
    "def get_tta_pred(df,model,**transforms):\n",
    "    data_retriever = TTA(df['file_path'].values, df['target'].values, **transforms)\n",
    "    loader = DataLoader(data_retriever, \n",
    "                            batch_size=Config.batch_size * 2, \n",
    "                            shuffle=False, \n",
    "                            num_workers=Config.num_workers, pin_memory=True, drop_last=False)\n",
    "    return get_pred(loader,model)"
   ]
  },
  {
   "cell_type": "code",
   "execution_count": 43,
   "metadata": {},
   "outputs": [],
   "source": [
    "def get_tta_df(df, model):\n",
    "    #df[\"tta_vflip\"] = get_tta_pred(df,model,use_vflip=True)\n",
    "    # df[\"tta_shift\"] = get_tta_pred(df,model,time_shift=True)\n",
    "    # df[\"tta_vflip_shift\"] = get_tta_pred(df,model,use_vflip=True,time_shift=True)\n",
    "    df[\"tta_shuffle01\"] = get_tta_pred(df,model,shuffle01=True)\n",
    "    #df[\"tta_vflip_shuffle01\"] = get_tta_pred(df,model,use_vflip=True,shuffle01=True)\n",
    "    # df[\"tta_shift_shuffle01\"] = get_tta_pred(df,model,time_shift=True,shuffle01=True)\n",
    "    # df[\"tta_vflip_shift_shuffle01\"] = get_tta_pred(df,model,use_vflip=True,time_shift=True,shuffle01=True)\n",
    "    return df"
   ]
  },
  {
   "cell_type": "code",
   "execution_count": 34,
   "metadata": {
    "id": "6c09fa2a-7afc-4c7d-9fbe-fa02890d73a3"
   },
   "outputs": [
    {
     "name": "stdout",
     "output_type": "stream",
     "text": [
      "CQT kernels created, time used = 0.0168 seconds\n"
     ]
    },
    {
     "data": {
      "application/vnd.jupyter.widget-view+json": {
       "model_id": "6559f0abc9e24fd2b68d27f9b3e54641",
       "version_major": 2,
       "version_minor": 0
      },
      "text/plain": [
       "HBox(children=(HTML(value=''), FloatProgress(value=0.0, max=5.0), HTML(value='')))"
      ]
     },
     "metadata": {},
     "output_type": "display_data"
    },
    {
     "name": "stderr",
     "output_type": "stream",
     "text": [
      "/opt/conda/lib/python3.8/site-packages/torch/nn/functional.py:718: UserWarning: Named tensors and all their associated APIs are an experimental feature and subject to change. Please do not use them for anything important until they are released as stable. (Triggered internally at  ../c10/core/TensorImpl.h:1153.)\n",
      "  return torch.max_pool2d(input, kernel_size, stride, padding, dilation, ceil_mode)\n"
     ]
    },
    {
     "name": "stdout",
     "output_type": "stream",
     "text": [
      "\n"
     ]
    }
   ],
   "source": [
    "model = Model_2D()\n",
    "oof_all = pd.DataFrame()\n",
    "for fold in tqdm(Config.train_folds):\n",
    "    oof = train_df.query(f\"fold=={fold}\").copy()\n",
    "    oof['preds'] = torch.load(f'{Config.model_output_folder}/Fold_{fold}_best_model.pth')['valid_preds']\n",
    "    oof['file_path'] = train_df['id'].apply(lambda x :id_2_path_wave(x))\n",
    "    # display(oof)    \n",
    "    if Config.use_swa:\n",
    "        swa_model = AveragedModel(model)\n",
    "        checkpoint = torch.load(f'{Config.model_output_folder}/Fold_{fold}_swa_model.pth')\n",
    "        model = swa_model\n",
    "        model.load_state_dict(checkpoint['model_swa_state_dict'])\n",
    "    else:\n",
    "        checkpoint = torch.load(f'{Config.model_output_folder}/Fold_{fold}_best_model.pth')\n",
    "        model.load_state_dict(checkpoint['model_state_dict'])\n",
    "        \n",
    "    model.to(device=device,non_blocking=Config.non_blocking)\n",
    "    #if torch.cuda.device_count() == 2:\n",
    "    #    model = nn.DataParallel(model)\n",
    "    model.eval()\n",
    "    oof = get_tta_df(oof, model)\n",
    "    oof.to_csv(Config.model_output_folder + f\"/oof_Fold_{fold}.csv\", index=False)\n",
    "    oof_all = pd.concat([oof_all,oof])"
   ]
  },
  {
   "cell_type": "code",
   "execution_count": 36,
   "metadata": {},
   "outputs": [
    {
     "data": {
      "text/plain": [
       "id               0\n",
       "target           0\n",
       "file_path        0\n",
       "fold             0\n",
       "preds            0\n",
       "tta_shuffle01    0\n",
       "avg              0\n",
       "dtype: int64"
      ]
     },
     "execution_count": 36,
     "metadata": {},
     "output_type": "execute_result"
    }
   ],
   "source": [
    "oof_all.isna().sum()"
   ]
  },
  {
   "cell_type": "code",
   "execution_count": 35,
   "metadata": {
    "id": "b58d522e-6a49-4ac4-921d-d1610fcdfbb1"
   },
   "outputs": [
    {
     "name": "stdout",
     "output_type": "stream",
     "text": [
      "Original: 0.8774815909778035\n",
      "tta_shuffle01 0.8775112540089942\n",
      "preds_tta_avg: 0.8775880040265462\n"
     ]
    }
   ],
   "source": [
    "print(\"Original:\",roc_auc_score(oof_all['target'], oof_all['preds']))\n",
    "\n",
    "for col in oof.columns:\n",
    "    if \"tta\" in col:\n",
    "        print(col,roc_auc_score(oof_all['target'], oof_all[col]))\n",
    "\n",
    "avg_cols = [col for col in oof_all.columns if \"tta\" in col or \"preds\" in col]\n",
    "oof_all['avg']=oof_all[avg_cols].mean(axis=1)\n",
    "print(\"preds_tta_avg:\",roc_auc_score(oof_all['target'], oof_all['avg']))\n",
    "CV_SCORE = roc_auc_score(oof_all['target'], oof_all['avg'])\n",
    "oof_all.to_csv(Config.model_output_folder + \"/oof_all.csv\", index=False)\n",
    "oof_all[['id','fold','avg']].rename(columns={'id':'id','fold':'fold','avg':'prediction'}).to_csv(Config.model_output_folder + \"/oof_final.csv\", index=False)"
   ]
  },
  {
   "cell_type": "code",
   "execution_count": 37,
   "metadata": {},
   "outputs": [
    {
     "data": {
      "text/plain": [
       "fold\n",
       "0    0.878338\n",
       "1    0.876807\n",
       "2    0.876766\n",
       "3    0.878762\n",
       "4    0.877551\n",
       "dtype: float64"
      ]
     },
     "execution_count": 37,
     "metadata": {},
     "output_type": "execute_result"
    }
   ],
   "source": [
    "oof_all.groupby(\"fold\").apply(lambda df: roc_auc_score(df['target'],df['avg']))"
   ]
  },
  {
   "cell_type": "code",
   "execution_count": 48,
   "metadata": {},
   "outputs": [
    {
     "data": {
      "text/plain": [
       "0.8776446265683504"
      ]
     },
     "execution_count": 48,
     "metadata": {},
     "output_type": "execute_result"
    }
   ],
   "source": [
    "CV_SCORE = oof_all.groupby(\"fold\").apply(lambda df: roc_auc_score(df['target'],df['avg'])).mean()\n",
    "CV_SCORE"
   ]
  },
  {
   "cell_type": "code",
   "execution_count": 39,
   "metadata": {},
   "outputs": [
    {
     "data": {
      "text/plain": [
       "<AxesSubplot:>"
      ]
     },
     "execution_count": 39,
     "metadata": {},
     "output_type": "execute_result"
    },
    {
     "data": {
      "image/png": "[encoded data removed]",
      "text/plain": [
       "<Figure size 576x288 with 1 Axes>"
      ]
     },
     "metadata": {
      "needs_background": "light"
     },
     "output_type": "display_data"
    }
   ],
   "source": [
    "oof_all['avg'].hist(bins=100, figsize=(8,4))"
   ]
  },
  {
   "cell_type": "code",
   "execution_count": 44,
   "metadata": {
    "id": "7b0a1c70-e352-435b-8767-3c397d4bd0f2"
   },
   "outputs": [
    {
     "name": "stdout",
     "output_type": "stream",
     "text": [
      "CQT kernels created, time used = 0.0236 seconds\n"
     ]
    },
    {
     "data": {
      "application/vnd.jupyter.widget-view+json": {
       "model_id": "a62aeb0f5fa24103b5c2018124b762e1",
       "version_major": 2,
       "version_minor": 0
      },
      "text/plain": [
       "HBox(children=(HTML(value=''), FloatProgress(value=0.0, max=5.0), HTML(value='')))"
      ]
     },
     "metadata": {},
     "output_type": "display_data"
    },
    {
     "name": "stdout",
     "output_type": "stream",
     "text": [
      "step 350/442\n",
      "step 350/442\n",
      "step 350/442\n",
      "step 350/442\n",
      "step 350/442\n",
      "\n",
      "CPU times: user 10min 49s, sys: 37.5 s, total: 11min 26s\n",
      "Wall time: 10min 47s\n"
     ]
    }
   ],
   "source": [
    "%%time \n",
    "test_df['target'] = 0  \n",
    "model = Model_2D()\n",
    "test_avg = test_df[['id', 'target']].copy()\n",
    "test_avg_rank = test_df[['id', 'target']].copy()\n",
    "count = 0\n",
    "for fold in tqdm(Config.train_folds):\n",
    "    test_df2 = test_df.copy()\n",
    "    if Config.use_swa:\n",
    "        swa_model = AveragedModel(model)\n",
    "        checkpoint = torch.load(f'{Config.model_output_folder}/Fold_{fold}_swa_model.pth')\n",
    "        model = swa_model\n",
    "        model.load_state_dict(checkpoint['model_swa_state_dict'])\n",
    "    else:\n",
    "        checkpoint = torch.load(f'{Config.model_output_folder}/Fold_{fold}_best_model.pth')\n",
    "        model.load_state_dict(checkpoint['model_state_dict'])\n",
    "\n",
    "    model.to(device=device,non_blocking=Config.non_blocking)\n",
    "    #if torch.cuda.device_count() == 2:\n",
    "    #    model = nn.DataParallel(model)\n",
    "    model.eval()\n",
    "    test_df2['preds'+f'_Fold_{fold}'] = get_tta_pred(test_df2,model)\n",
    "    test_df2 = get_tta_df(test_df2, model)\n",
    "    test_df2.to_csv(Config.model_output_folder + f\"/test_Fold_{fold}.csv\", index=False)\n",
    "    for col in test_df2.columns:\n",
    "        if \"tta\" in col or 'preds' in col: \n",
    "            count+=1\n",
    "            test_avg['target'] += test_df2[col]\n",
    "            test_avg_rank['target'] += test_df2[col].rank(pct=True)\n",
    "test_avg['target'] /= count\n",
    "test_avg_rank['target'] /= count"
   ]
  },
  {
   "cell_type": "code",
   "execution_count": 45,
   "metadata": {},
   "outputs": [
    {
     "data": {
      "text/plain": [
       "count    226000.000000\n",
       "mean          0.476840\n",
       "std           0.345621\n",
       "min           0.044251\n",
       "25%           0.183877\n",
       "50%           0.317945\n",
       "75%           0.933208\n",
       "max           1.000000\n",
       "Name: target, dtype: float64"
      ]
     },
     "metadata": {},
     "output_type": "display_data"
    },
    {
     "data": {
      "text/plain": [
       "<AxesSubplot:>"
      ]
     },
     "execution_count": 45,
     "metadata": {},
     "output_type": "execute_result"
    },
    {
     "data": {
      "image/png": "[encoded data removed]",
      "text/plain": [
       "<Figure size 432x288 with 1 Axes>"
      ]
     },
     "metadata": {
      "needs_background": "light"
     },
     "output_type": "display_data"
    }
   ],
   "source": [
    "display(test_avg[\"target\"].describe())\n",
    "test_avg['target'].hist(bins=100, alpha=.5)"
   ]
  },
  {
   "cell_type": "code",
   "execution_count": 46,
   "metadata": {},
   "outputs": [],
   "source": [
    "assert test_avg['target'].isna().sum() == 0"
   ]
  },
  {
   "cell_type": "code",
   "execution_count": 47,
   "metadata": {},
   "outputs": [
    {
     "data": {
      "text/html": [
       "<div>\n",
       "<style scoped>\n",
       "    .dataframe tbody tr th:only-of-type {\n",
       "        vertical-align: middle;\n",
       "    }\n",
       "\n",
       "    .dataframe tbody tr th {\n",
       "        vertical-align: top;\n",
       "    }\n",
       "\n",
       "    .dataframe thead th {\n",
       "        text-align: right;\n",
       "    }\n",
       "</style>\n",
       "<table border=\"1\" class=\"dataframe\">\n",
       "  <thead>\n",
       "    <tr style=\"text-align: right;\">\n",
       "      <th></th>\n",
       "      <th>id</th>\n",
       "      <th>target</th>\n",
       "    </tr>\n",
       "  </thead>\n",
       "  <tbody>\n",
       "    <tr>\n",
       "      <th>0</th>\n",
       "      <td>00005bced6</td>\n",
       "      <td>0.999989</td>\n",
       "    </tr>\n",
       "    <tr>\n",
       "      <th>1</th>\n",
       "      <td>0000806717</td>\n",
       "      <td>0.974939</td>\n",
       "    </tr>\n",
       "    <tr>\n",
       "      <th>2</th>\n",
       "      <td>0000ef4fe1</td>\n",
       "      <td>0.241514</td>\n",
       "    </tr>\n",
       "    <tr>\n",
       "      <th>3</th>\n",
       "      <td>00020de251</td>\n",
       "      <td>0.838608</td>\n",
       "    </tr>\n",
       "    <tr>\n",
       "      <th>4</th>\n",
       "      <td>00024887b5</td>\n",
       "      <td>0.149705</td>\n",
       "    </tr>\n",
       "    <tr>\n",
       "      <th>...</th>\n",
       "      <td>...</td>\n",
       "      <td>...</td>\n",
       "    </tr>\n",
       "    <tr>\n",
       "      <th>225995</th>\n",
       "      <td>ffff4125f1</td>\n",
       "      <td>0.292236</td>\n",
       "    </tr>\n",
       "    <tr>\n",
       "      <th>225996</th>\n",
       "      <td>ffff9d32a6</td>\n",
       "      <td>0.276294</td>\n",
       "    </tr>\n",
       "    <tr>\n",
       "      <th>225997</th>\n",
       "      <td>ffff9f4c1f</td>\n",
       "      <td>0.228145</td>\n",
       "    </tr>\n",
       "    <tr>\n",
       "      <th>225998</th>\n",
       "      <td>ffffa19693</td>\n",
       "      <td>0.999904</td>\n",
       "    </tr>\n",
       "    <tr>\n",
       "      <th>225999</th>\n",
       "      <td>ffffebbfe2</td>\n",
       "      <td>0.067165</td>\n",
       "    </tr>\n",
       "  </tbody>\n",
       "</table>\n",
       "<p>226000 rows × 2 columns</p>\n",
       "</div>"
      ],
      "text/plain": [
       "                id    target\n",
       "0       00005bced6  0.999989\n",
       "1       0000806717  0.974939\n",
       "2       0000ef4fe1  0.241514\n",
       "3       00020de251  0.838608\n",
       "4       00024887b5  0.149705\n",
       "...            ...       ...\n",
       "225995  ffff4125f1  0.292236\n",
       "225996  ffff9d32a6  0.276294\n",
       "225997  ffff9f4c1f  0.228145\n",
       "225998  ffffa19693  0.999904\n",
       "225999  ffffebbfe2  0.067165\n",
       "\n",
       "[226000 rows x 2 columns]"
      ]
     },
     "execution_count": 47,
     "metadata": {},
     "output_type": "execute_result"
    }
   ],
   "source": [
    "test_avg[['id', 'target']]"
   ]
  },
  {
   "cell_type": "code",
   "execution_count": 49,
   "metadata": {
    "id": "d50a2c45-3493-49b5-a750-d4bb4b33303c"
   },
   "outputs": [
    {
     "name": "stdout",
     "output_type": "stream",
     "text": [
      "./output_model/resnet34-sGW2ep-PL-sc01-5ep//submission_CV87764.csv\n"
     ]
    }
   ],
   "source": [
    "test_avg[['id', 'target']].to_csv(Config.model_output_folder + f\"/submission_CV{CV_SCORE * 1e5:.0f}.csv\", index=False)\n",
    "test_avg_rank[['id', 'target']].to_csv(Config.model_output_folder + f\"/submission_CV{CV_SCORE * 1e5:.0f}_rank.csv\", index=False)\n",
    "print(Config.model_output_folder + f\"/submission_CV{CV_SCORE * 1e5:.0f}.csv\")"
   ]
  },
  {
   "cell_type": "code",
   "execution_count": null,
   "metadata": {
    "id": "bd2f74d3-2783-4014-9b37-a0d6997797ad"
   },
   "outputs": [],
   "source": [
    "# test_avg[['id', 'target']].to_csv(\"./submission.csv\", index=False)\n",
    "# !mkdir -p ~/.kaggle/ && cp $Config.kaggle_json_path ~/.kaggle/ && chmod 600 ~/.kaggle/kaggle.json\n",
    "#!kaggle competitions submit -c g2net-gravitational-wave-detection -f ./submission.csv -m $Config.model_version"
   ]
  },
  {
   "cell_type": "code",
   "execution_count": null,
   "metadata": {
    "id": "33e5651b-ade8-4462-84ed-b61f33fb284b"
   },
   "outputs": [],
   "source": [
    "# test_avg"
   ]
  },
  {
   "cell_type": "markdown",
   "metadata": {},
   "source": [
    "# Pause"
   ]
  },
  {
   "cell_type": "code",
   "execution_count": null,
   "metadata": {
    "id": "55a6966b-8273-46fa-bc42-ec36bf4b2462"
   },
   "outputs": [],
   "source": [
    "%%javascript\n",
    "import Ipython\n",
    "IPython.notebook.save_notebook()"
   ]
  },
  {
   "cell_type": "code",
   "execution_count": null,
   "metadata": {},
   "outputs": [],
   "source": [
    "from time import sleep\n",
    "sleep(120)"
   ]
  },
  {
   "cell_type": "code",
   "execution_count": null,
   "metadata": {},
   "outputs": [],
   "source": [
    "from jarviscloud import jarviscloud\n",
    "jarviscloud.pause()"
   ]
  }
 ],
 "metadata": {
  "accelerator": "GPU",
  "colab": {
   "collapsed_sections": [],
   "machine_shape": "hm",
   "name": "TCNN_jarvis_82nd_sGW-SWA.ipynb",
   "provenance": [],
   "toc_visible": true
  },
  "kernelspec": {
   "display_name": "Python 3 (ipykernel)",
   "language": "python",
   "name": "python3"
  },
  "language_info": {
   "codemirror_mode": {
    "name": "ipython",
    "version": 3
   },
   "file_extension": ".py",
   "mimetype": "text/x-python",
   "name": "python",
   "nbconvert_exporter": "python",
   "pygments_lexer": "ipython3",
   "version": "3.8.10"
  },
  "toc": {
   "base_numbering": 1,
   "nav_menu": {},
   "number_sections": true,
   "sideBar": true,
   "skip_h1_title": false,
   "title_cell": "Table of Contents",
   "title_sidebar": "Contents",
   "toc_cell": false,
   "toc_position": {},
   "toc_section_display": true,
   "toc_window_display": true
  }
 },
 "nbformat": 4,
 "nbformat_minor": 5
}
