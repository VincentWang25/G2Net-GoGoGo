{
 "cells": [
  {
   "cell_type": "markdown",
   "metadata": {
    "id": "MsGemjpkxsXA"
   },
   "source": [
    "\n",
    "1. The parameters that determine the exact form of a binary black hole waveform are the masses, sky location, **distance**, black hole spins, binary orientation angle, gravitational wave polarisation, time of arrival, and phase at coalescence (merger). These parameters (15 in total) have been randomised according to astrophysically motivated prior distributions and used to generate the simulated signals present in the data, but are not provided as part of the competition data.\n",
    "\n",
    "2. The integrated signal-to noise ratio (SNR) is classically the most informative measure of how detectable a signal is and a typical level of detectability is when this integrated SNR exceeds ~8. This shouldn't confused with the instantaneous SNR - the factor by which the signal rises above the noise - and in nearly all cases the (unlike the first gravitational wave detection GW150914) these signals are not visible by eye in the time series."
   ]
  },
  {
   "cell_type": "code",
   "execution_count": 1,
   "metadata": {},
   "outputs": [
    {
     "data": {
      "text/html": [
       "<style>.container { width:100% !important; }</style>"
      ],
      "text/plain": [
       "<IPython.core.display.HTML object>"
      ]
     },
     "metadata": {},
     "output_type": "display_data"
    }
   ],
   "source": [
    "from IPython.core.display import display, HTML\n",
    "display(HTML(\"<style>.container { width:100% !important; }</style>\"))"
   ]
  },
  {
   "cell_type": "code",
   "execution_count": 2,
   "metadata": {
    "colab": {
     "base_uri": "https://localhost:8080/"
    },
    "id": "RhLN7lhgV8nu",
    "outputId": "afdc4884-de24-43a1-c1c4-83a336497875"
   },
   "outputs": [],
   "source": [
    "import pandas as pd\n",
    "import numpy as np\n",
    "import random\n",
    "\n",
    "import sys\n",
    "\n",
    "import pycbc\n",
    "from pycbc.waveform import get_td_waveform\n",
    "from pycbc.types.frequencyseries import FrequencySeries\n",
    "from pycbc.noise.gaussian import noise_from_psd\n",
    "from pycbc.waveform import td_approximants\n",
    "from pycbc.psd import welch, interpolate\n",
    "from pycbc.psd import interpolate, inverse_spectrum_truncation\n",
    "from pycbc.detector import Detector\n",
    "from pycbc.types import TimeSeries\n",
    "\n",
    "from copy import deepcopy\n",
    "import time\n",
    "\n",
    "import torch\n",
    "from scipy.signal.windows import tukey\n",
    "from nnAudio.Spectrogram import CQT1992v2\n",
    "\n",
    "\n",
    "import math\n",
    "import matplotlib.pyplot as plt"
   ]
  },
  {
   "cell_type": "code",
   "execution_count": 3,
   "metadata": {},
   "outputs": [],
   "source": [
    "import pickle"
   ]
  },
  {
   "cell_type": "code",
   "execution_count": 4,
   "metadata": {
    "id": "f_hjMvb9V8sE"
   },
   "outputs": [],
   "source": [
    "def get_train_file_path(image_id):\n",
    "    return \"{}/train/{}/{}/{}/{}.npy\".format(input_data_folder,\n",
    "        image_id[0], image_id[1], image_id[2], image_id)\n",
    "def get_test_file_path(image_id):\n",
    "    return \"{}/test/{}/{}/{}/{}.npy\".format(input_data_folder,\n",
    "        image_id[0], image_id[1], image_id[2], image_id)"
   ]
  },
  {
   "cell_type": "code",
   "execution_count": 5,
   "metadata": {
    "colab": {
     "base_uri": "https://localhost:8080/",
     "height": 408
    },
    "id": "ZlVCQ2I-V8uP",
    "outputId": "eeeff40d-ef21-4698-e03d-17540b023b39"
   },
   "outputs": [
    {
     "data": {
      "text/html": [
       "<div>\n",
       "<style scoped>\n",
       "    .dataframe tbody tr th:only-of-type {\n",
       "        vertical-align: middle;\n",
       "    }\n",
       "\n",
       "    .dataframe tbody tr th {\n",
       "        vertical-align: top;\n",
       "    }\n",
       "\n",
       "    .dataframe thead th {\n",
       "        text-align: right;\n",
       "    }\n",
       "</style>\n",
       "<table border=\"1\" class=\"dataframe\">\n",
       "  <thead>\n",
       "    <tr style=\"text-align: right;\">\n",
       "      <th></th>\n",
       "      <th>id</th>\n",
       "      <th>target</th>\n",
       "      <th>prediction</th>\n",
       "      <th>path</th>\n",
       "    </tr>\n",
       "  </thead>\n",
       "  <tbody>\n",
       "    <tr>\n",
       "      <th>0</th>\n",
       "      <td>00000e74ad</td>\n",
       "      <td>1</td>\n",
       "      <td>0.573727</td>\n",
       "      <td>../../data//g2net-gravitational-wave-detection...</td>\n",
       "    </tr>\n",
       "    <tr>\n",
       "      <th>1</th>\n",
       "      <td>00001f4945</td>\n",
       "      <td>0</td>\n",
       "      <td>0.287620</td>\n",
       "      <td>../../data//g2net-gravitational-wave-detection...</td>\n",
       "    </tr>\n",
       "    <tr>\n",
       "      <th>2</th>\n",
       "      <td>0000661522</td>\n",
       "      <td>0</td>\n",
       "      <td>0.270036</td>\n",
       "      <td>../../data//g2net-gravitational-wave-detection...</td>\n",
       "    </tr>\n",
       "    <tr>\n",
       "      <th>3</th>\n",
       "      <td>00007a006a</td>\n",
       "      <td>0</td>\n",
       "      <td>0.207989</td>\n",
       "      <td>../../data//g2net-gravitational-wave-detection...</td>\n",
       "    </tr>\n",
       "    <tr>\n",
       "      <th>4</th>\n",
       "      <td>0000a38978</td>\n",
       "      <td>1</td>\n",
       "      <td>0.561720</td>\n",
       "      <td>../../data//g2net-gravitational-wave-detection...</td>\n",
       "    </tr>\n",
       "    <tr>\n",
       "      <th>...</th>\n",
       "      <td>...</td>\n",
       "      <td>...</td>\n",
       "      <td>...</td>\n",
       "      <td>...</td>\n",
       "    </tr>\n",
       "    <tr>\n",
       "      <th>559995</th>\n",
       "      <td>ffff9a5645</td>\n",
       "      <td>1</td>\n",
       "      <td>0.142170</td>\n",
       "      <td>../../data//g2net-gravitational-wave-detection...</td>\n",
       "    </tr>\n",
       "    <tr>\n",
       "      <th>559996</th>\n",
       "      <td>ffffab0c27</td>\n",
       "      <td>0</td>\n",
       "      <td>0.144139</td>\n",
       "      <td>../../data//g2net-gravitational-wave-detection...</td>\n",
       "    </tr>\n",
       "    <tr>\n",
       "      <th>559997</th>\n",
       "      <td>ffffcf161a</td>\n",
       "      <td>1</td>\n",
       "      <td>0.733809</td>\n",
       "      <td>../../data//g2net-gravitational-wave-detection...</td>\n",
       "    </tr>\n",
       "    <tr>\n",
       "      <th>559998</th>\n",
       "      <td>ffffd2c403</td>\n",
       "      <td>0</td>\n",
       "      <td>0.321532</td>\n",
       "      <td>../../data//g2net-gravitational-wave-detection...</td>\n",
       "    </tr>\n",
       "    <tr>\n",
       "      <th>559999</th>\n",
       "      <td>fffff2180b</td>\n",
       "      <td>0</td>\n",
       "      <td>0.342773</td>\n",
       "      <td>../../data//g2net-gravitational-wave-detection...</td>\n",
       "    </tr>\n",
       "  </tbody>\n",
       "</table>\n",
       "<p>560000 rows × 4 columns</p>\n",
       "</div>"
      ],
      "text/plain": [
       "                id  target  prediction  \\\n",
       "0       00000e74ad       1    0.573727   \n",
       "1       00001f4945       0    0.287620   \n",
       "2       0000661522       0    0.270036   \n",
       "3       00007a006a       0    0.207989   \n",
       "4       0000a38978       1    0.561720   \n",
       "...            ...     ...         ...   \n",
       "559995  ffff9a5645       1    0.142170   \n",
       "559996  ffffab0c27       0    0.144139   \n",
       "559997  ffffcf161a       1    0.733809   \n",
       "559998  ffffd2c403       0    0.321532   \n",
       "559999  fffff2180b       0    0.342773   \n",
       "\n",
       "                                                     path  \n",
       "0       ../../data//g2net-gravitational-wave-detection...  \n",
       "1       ../../data//g2net-gravitational-wave-detection...  \n",
       "2       ../../data//g2net-gravitational-wave-detection...  \n",
       "3       ../../data//g2net-gravitational-wave-detection...  \n",
       "4       ../../data//g2net-gravitational-wave-detection...  \n",
       "...                                                   ...  \n",
       "559995  ../../data//g2net-gravitational-wave-detection...  \n",
       "559996  ../../data//g2net-gravitational-wave-detection...  \n",
       "559997  ../../data//g2net-gravitational-wave-detection...  \n",
       "559998  ../../data//g2net-gravitational-wave-detection...  \n",
       "559999  ../../data//g2net-gravitational-wave-detection...  \n",
       "\n",
       "[560000 rows x 4 columns]"
      ]
     },
     "execution_count": 5,
     "metadata": {},
     "output_type": "execute_result"
    }
   ],
   "source": [
    "gdrive='../../data/'\n",
    "input_data_folder = gdrive + \"/g2net-gravitational-wave-detection\"\n",
    "train_df = pd.read_csv(input_data_folder + '/training_labels.csv')\n",
    "oof_pred_df = pd.read_csv(gdrive +\"/oof_8803.csv\")\n",
    "train_df = train_df.merge(oof_pred_df[[\"id\",\"prediction\"]],on=\"id\")\n",
    "train_df[\"prediction\"] = train_df[\"prediction\"].rank(pct=True)\n",
    "train_df[\"path\"] = train_df[\"id\"].apply(get_train_file_path)\n",
    "train_df"
   ]
  },
  {
   "cell_type": "code",
   "execution_count": 6,
   "metadata": {
    "colab": {
     "base_uri": "https://localhost:8080/",
     "height": 200
    },
    "id": "sbJVcitA8iXJ",
    "outputId": "ddadba8e-fbcd-46eb-b41b-a43f5e812f97"
   },
   "outputs": [
    {
     "data": {
      "text/html": [
       "<div>\n",
       "<style scoped>\n",
       "    .dataframe tbody tr th:only-of-type {\n",
       "        vertical-align: middle;\n",
       "    }\n",
       "\n",
       "    .dataframe tbody tr th {\n",
       "        vertical-align: top;\n",
       "    }\n",
       "\n",
       "    .dataframe thead th {\n",
       "        text-align: right;\n",
       "    }\n",
       "</style>\n",
       "<table border=\"1\" class=\"dataframe\">\n",
       "  <thead>\n",
       "    <tr style=\"text-align: right;\">\n",
       "      <th></th>\n",
       "      <th>id</th>\n",
       "      <th>target</th>\n",
       "      <th>prediction</th>\n",
       "      <th>path</th>\n",
       "    </tr>\n",
       "  </thead>\n",
       "  <tbody>\n",
       "    <tr>\n",
       "      <th>1</th>\n",
       "      <td>00001f4945</td>\n",
       "      <td>0</td>\n",
       "      <td>0.287620</td>\n",
       "      <td>../../data//g2net-gravitational-wave-detection...</td>\n",
       "    </tr>\n",
       "    <tr>\n",
       "      <th>2</th>\n",
       "      <td>0000661522</td>\n",
       "      <td>0</td>\n",
       "      <td>0.270036</td>\n",
       "      <td>../../data//g2net-gravitational-wave-detection...</td>\n",
       "    </tr>\n",
       "    <tr>\n",
       "      <th>3</th>\n",
       "      <td>00007a006a</td>\n",
       "      <td>0</td>\n",
       "      <td>0.207989</td>\n",
       "      <td>../../data//g2net-gravitational-wave-detection...</td>\n",
       "    </tr>\n",
       "    <tr>\n",
       "      <th>6</th>\n",
       "      <td>0000c3b9c9</td>\n",
       "      <td>0</td>\n",
       "      <td>0.499568</td>\n",
       "      <td>../../data//g2net-gravitational-wave-detection...</td>\n",
       "    </tr>\n",
       "    <tr>\n",
       "      <th>10</th>\n",
       "      <td>000118b40d</td>\n",
       "      <td>0</td>\n",
       "      <td>0.339396</td>\n",
       "      <td>../../data//g2net-gravitational-wave-detection...</td>\n",
       "    </tr>\n",
       "  </tbody>\n",
       "</table>\n",
       "</div>"
      ],
      "text/plain": [
       "            id  target  prediction  \\\n",
       "1   00001f4945       0    0.287620   \n",
       "2   0000661522       0    0.270036   \n",
       "3   00007a006a       0    0.207989   \n",
       "6   0000c3b9c9       0    0.499568   \n",
       "10  000118b40d       0    0.339396   \n",
       "\n",
       "                                                 path  \n",
       "1   ../../data//g2net-gravitational-wave-detection...  \n",
       "2   ../../data//g2net-gravitational-wave-detection...  \n",
       "3   ../../data//g2net-gravitational-wave-detection...  \n",
       "6   ../../data//g2net-gravitational-wave-detection...  \n",
       "10  ../../data//g2net-gravitational-wave-detection...  "
      ]
     },
     "execution_count": 6,
     "metadata": {},
     "output_type": "execute_result"
    }
   ],
   "source": [
    "train_neg_df = train_df.query(\"target==0\").copy()\n",
    "train_neg_df.head()"
   ]
  },
  {
   "cell_type": "code",
   "execution_count": 7,
   "metadata": {
    "colab": {
     "base_uri": "https://localhost:8080/",
     "height": 200
    },
    "id": "-AtyTeYGUEE8",
    "outputId": "f920e2f7-7bdc-4bc4-8635-47e729410a2b"
   },
   "outputs": [
    {
     "data": {
      "text/html": [
       "<div>\n",
       "<style scoped>\n",
       "    .dataframe tbody tr th:only-of-type {\n",
       "        vertical-align: middle;\n",
       "    }\n",
       "\n",
       "    .dataframe tbody tr th {\n",
       "        vertical-align: top;\n",
       "    }\n",
       "\n",
       "    .dataframe thead th {\n",
       "        text-align: right;\n",
       "    }\n",
       "</style>\n",
       "<table border=\"1\" class=\"dataframe\">\n",
       "  <thead>\n",
       "    <tr style=\"text-align: right;\">\n",
       "      <th></th>\n",
       "      <th>id</th>\n",
       "      <th>target</th>\n",
       "      <th>prediction</th>\n",
       "      <th>path</th>\n",
       "    </tr>\n",
       "  </thead>\n",
       "  <tbody>\n",
       "    <tr>\n",
       "      <th>0</th>\n",
       "      <td>00000e74ad</td>\n",
       "      <td>1</td>\n",
       "      <td>0.573727</td>\n",
       "      <td>../../data//g2net-gravitational-wave-detection...</td>\n",
       "    </tr>\n",
       "    <tr>\n",
       "      <th>4</th>\n",
       "      <td>0000a38978</td>\n",
       "      <td>1</td>\n",
       "      <td>0.561720</td>\n",
       "      <td>../../data//g2net-gravitational-wave-detection...</td>\n",
       "    </tr>\n",
       "    <tr>\n",
       "      <th>5</th>\n",
       "      <td>0000bb9f3e</td>\n",
       "      <td>1</td>\n",
       "      <td>0.835591</td>\n",
       "      <td>../../data//g2net-gravitational-wave-detection...</td>\n",
       "    </tr>\n",
       "    <tr>\n",
       "      <th>7</th>\n",
       "      <td>0000d61b7b</td>\n",
       "      <td>1</td>\n",
       "      <td>0.930327</td>\n",
       "      <td>../../data//g2net-gravitational-wave-detection...</td>\n",
       "    </tr>\n",
       "    <tr>\n",
       "      <th>8</th>\n",
       "      <td>0001016d12</td>\n",
       "      <td>1</td>\n",
       "      <td>0.028005</td>\n",
       "      <td>../../data//g2net-gravitational-wave-detection...</td>\n",
       "    </tr>\n",
       "  </tbody>\n",
       "</table>\n",
       "</div>"
      ],
      "text/plain": [
       "           id  target  prediction  \\\n",
       "0  00000e74ad       1    0.573727   \n",
       "4  0000a38978       1    0.561720   \n",
       "5  0000bb9f3e       1    0.835591   \n",
       "7  0000d61b7b       1    0.930327   \n",
       "8  0001016d12       1    0.028005   \n",
       "\n",
       "                                                path  \n",
       "0  ../../data//g2net-gravitational-wave-detection...  \n",
       "4  ../../data//g2net-gravitational-wave-detection...  \n",
       "5  ../../data//g2net-gravitational-wave-detection...  \n",
       "7  ../../data//g2net-gravitational-wave-detection...  \n",
       "8  ../../data//g2net-gravitational-wave-detection...  "
      ]
     },
     "execution_count": 7,
     "metadata": {},
     "output_type": "execute_result"
    }
   ],
   "source": [
    "train_pos_df = train_df.query(\"target==1\").copy()\n",
    "train_pos_df.head()"
   ]
  },
  {
   "cell_type": "code",
   "execution_count": 8,
   "metadata": {
    "colab": {
     "base_uri": "https://localhost:8080/"
    },
    "id": "1KP5E2pS8q3y",
    "outputId": "63a5c46b-6b4e-4d3c-9f63-e770fac2cd0b"
   },
   "outputs": [
    {
     "data": {
      "text/plain": [
       "(280070, 4)"
      ]
     },
     "execution_count": 8,
     "metadata": {},
     "output_type": "execute_result"
    }
   ],
   "source": [
    "train_neg_df.shape"
   ]
  },
  {
   "cell_type": "markdown",
   "metadata": {
    "id": "FHWlsoGsFTtb"
   },
   "source": [
    "# Get Noise PSD"
   ]
  },
  {
   "cell_type": "code",
   "execution_count": 11,
   "metadata": {
    "colab": {
     "base_uri": "https://localhost:8080/"
    },
    "id": "kSVdDPLhBcyi",
    "outputId": "366c3e22-6d39-4e55-b92a-18407e4be6ee"
   },
   "outputs": [],
   "source": [
    "# get_all_psd\n",
    "from tqdm import tqdm\n",
    "from collections import defaultdict\n",
    "psds = defaultdict(list)\n",
    "\n",
    "def get_psd(wave):\n",
    "    ts = pycbc.types.TimeSeries(wave, epoch=0, delta_t=1.0/2048)\n",
    "    delta_t = 1.0/2048\n",
    "    seg_len = int(1 / delta_t)#1 second\n",
    "    seg_stride = int(seg_len / 2)#50% overlap\n",
    "    estimated_psd = interpolate(welch(ts,\n",
    "                                      seg_len=seg_len,\n",
    "                                      seg_stride=seg_stride), .5)\n",
    "    return estimated_psd\n",
    "\n",
    "for idx in tqdm(range(1000)):\n",
    "    idx = np.random.randint(low=0, high=len(train_neg_df)-1)\n",
    "    path = train_neg_df.iloc[idx,-1]\n",
    "    waves = np.load(path)\n",
    "    for i in range(3):\n",
    "#         sample_ts = pycbc.types.TimeSeries(waves[i],epoch=0, delta_t=1/2048)\n",
    "#         #sample_ts = sample_ts.highpass_fir(15,order=8)\n",
    "#         psd = sample_ts.psd(0.25)\n",
    "#         psd = interpolate(psd, delta_f=.5)\n",
    "        psd =  get_psd(waves[i])\n",
    "        psds[i].append(psd)"
   ]
  },
  {
   "cell_type": "code",
   "execution_count": 10,
   "metadata": {
    "colab": {
     "base_uri": "https://localhost:8080/",
     "height": 1000
    },
    "id": "4vnAgz7YE4U6",
    "outputId": "dcf92e6c-c045-4317-bb89-9b7f63e30bfe"
   },
   "outputs": [
    {
     "ename": "IndexError",
     "evalue": "list index out of range",
     "output_type": "error",
     "traceback": [
      "\u001b[0;31m---------------------------------------------------------------------------\u001b[0m",
      "\u001b[0;31mIndexError\u001b[0m                                Traceback (most recent call last)",
      "\u001b[0;32m/tmp/ipykernel_1403393/601476854.py\u001b[0m in \u001b[0;36m<module>\u001b[0;34m\u001b[0m\n\u001b[1;32m      4\u001b[0m     \u001b[0mplt\u001b[0m\u001b[0;34m.\u001b[0m\u001b[0msubplot\u001b[0m\u001b[0;34m(\u001b[0m\u001b[0;36m3\u001b[0m\u001b[0;34m,\u001b[0m\u001b[0;36m3\u001b[0m\u001b[0;34m,\u001b[0m\u001b[0mi\u001b[0m\u001b[0;34m+\u001b[0m\u001b[0;36m1\u001b[0m\u001b[0;34m)\u001b[0m\u001b[0;34m\u001b[0m\u001b[0;34m\u001b[0m\u001b[0m\n\u001b[1;32m      5\u001b[0m     \u001b[0;32mfor\u001b[0m \u001b[0mj\u001b[0m \u001b[0;32min\u001b[0m \u001b[0mrange\u001b[0m\u001b[0;34m(\u001b[0m\u001b[0;36m3\u001b[0m\u001b[0;34m)\u001b[0m\u001b[0;34m:\u001b[0m\u001b[0;34m\u001b[0m\u001b[0;34m\u001b[0m\u001b[0m\n\u001b[0;32m----> 6\u001b[0;31m         \u001b[0mpsd\u001b[0m \u001b[0;34m=\u001b[0m \u001b[0mpsds\u001b[0m\u001b[0;34m[\u001b[0m\u001b[0mj\u001b[0m\u001b[0;34m]\u001b[0m\u001b[0;34m[\u001b[0m\u001b[0mi\u001b[0m\u001b[0;34m]\u001b[0m\u001b[0;34m\u001b[0m\u001b[0;34m\u001b[0m\u001b[0m\n\u001b[0m\u001b[1;32m      7\u001b[0m         \u001b[0mplt\u001b[0m\u001b[0;34m.\u001b[0m\u001b[0mloglog\u001b[0m\u001b[0;34m(\u001b[0m\u001b[0mpsd\u001b[0m\u001b[0;34m.\u001b[0m\u001b[0msample_frequencies\u001b[0m\u001b[0;34m,\u001b[0m \u001b[0mpsd\u001b[0m\u001b[0;34m.\u001b[0m\u001b[0mdata\u001b[0m\u001b[0;34m,\u001b[0m \u001b[0mlabel\u001b[0m\u001b[0;34m=\u001b[0m\u001b[0msites\u001b[0m\u001b[0;34m[\u001b[0m\u001b[0mj\u001b[0m\u001b[0;34m]\u001b[0m\u001b[0;34m)\u001b[0m\u001b[0;34m\u001b[0m\u001b[0;34m\u001b[0m\u001b[0m\n\u001b[1;32m      8\u001b[0m     \u001b[0mplt\u001b[0m\u001b[0;34m.\u001b[0m\u001b[0mlegend\u001b[0m\u001b[0;34m(\u001b[0m\u001b[0;34m)\u001b[0m\u001b[0;34m\u001b[0m\u001b[0;34m\u001b[0m\u001b[0m\n",
      "\u001b[0;31mIndexError\u001b[0m: list index out of range"
     ]
    },
    {
     "data": {
      "image/png": "[encoded data removed]",
      "text/plain": [
       "<Figure size 1152x1152 with 1 Axes>"
      ]
     },
     "metadata": {
      "needs_background": "light"
     },
     "output_type": "display_data"
    }
   ],
   "source": [
    "sites=[\"H1\",\"L1\",\"V1\"]\n",
    "plt.figure(figsize=(16,16))\n",
    "for i in range(9):\n",
    "    plt.subplot(3,3,i+1)\n",
    "    for j in range(3):\n",
    "        psd = psds[j][i]\n",
    "        plt.loglog(psd.sample_frequencies, psd.data, label=sites[j])\n",
    "    plt.legend()\n",
    "    plt.vlines(x=60,ymin=min(psd.data), ymax=max(psd.data),alpha=0.3)\n",
    "plt.suptitle(\"H1\")\n",
    "plt.show()"
   ]
  },
  {
   "cell_type": "markdown",
   "metadata": {
    "id": "0l-SINxUFWuf"
   },
   "source": [
    "## Calculate average noise psd"
   ]
  },
  {
   "cell_type": "code",
   "execution_count": null,
   "metadata": {
    "id": "eVBCXgrSBc1k"
   },
   "outputs": [],
   "source": [
    "psds_mean = {}\n",
    "for i in range(3):\n",
    "    all_psd = None\n",
    "    for j in range(len(psds[i])):\n",
    "        if all_psd is None:\n",
    "            all_psd = psds[i][j].data\n",
    "        else:\n",
    "            all_psd = all_psd + psds[i][j].data\n",
    "    psd_mean = all_psd / len(psds[i])\n",
    "    psd_mean = pycbc.types.FrequencySeries(psd_mean, delta_f=.5, epoch=0)\n",
    "    psds_mean[i] = psd_mean"
   ]
  },
  {
   "cell_type": "code",
   "execution_count": null,
   "metadata": {
    "colab": {
     "base_uri": "https://localhost:8080/",
     "height": 297
    },
    "id": "5ol23H-cXXqz",
    "outputId": "ba001b66-e6e6-44ac-9f5a-ad46daad620c"
   },
   "outputs": [],
   "source": [
    "sites = (\"H1\",'L1',\"V1\")\n",
    "plt.figure(figsize=(4,4))\n",
    "for i in range(3):\n",
    "    psd = psds_mean[i]\n",
    "    plt.loglog(psd.sample_frequencies, psd.data, label=sites[i])\n",
    "    plt.vlines(x=60,ymin=min(psd.data), ymax=max(psd.data),alpha=0.3)\n",
    "plt.legend()\n",
    "plt.suptitle(\"Average psd\")\n",
    "plt.show()"
   ]
  },
  {
   "cell_type": "markdown",
   "metadata": {
    "id": "2HSEKq7gXdw0"
   },
   "source": [
    "# Noise Generation"
   ]
  },
  {
   "cell_type": "code",
   "execution_count": null,
   "metadata": {
    "id": "M36SqZDaXccH"
   },
   "outputs": [],
   "source": [
    "from pycbc.noise.gaussian import noise_from_psd"
   ]
  },
  {
   "cell_type": "code",
   "execution_count": null,
   "metadata": {
    "colab": {
     "base_uri": "https://localhost:8080/"
    },
    "id": "-0_I_FFjXcgp",
    "outputId": "67f17cc7-1c95-409a-c41d-581f636eae11"
   },
   "outputs": [],
   "source": [
    "# %%timeit\n",
    "# noise_H1_sim = noise_from_psd(4096, 1/2048, psds_mean[0], seed=1)\n",
    "# noise_L1_sim = noise_from_psd(4096, 1/2048, psds_mean[1], seed=2)\n",
    "# noise_V1_sim = noise_from_psd(4096, 1/2048, psds_mean[2], seed=3)"
   ]
  },
  {
   "cell_type": "code",
   "execution_count": null,
   "metadata": {},
   "outputs": [],
   "source": [
    "# psds_mean[0].delta_t"
   ]
  },
  {
   "cell_type": "code",
   "execution_count": null,
   "metadata": {
    "colab": {
     "base_uri": "https://localhost:8080/",
     "height": 923
    },
    "id": "rUB4ddVLXcj1",
    "outputId": "28f71e80-29c1-46e5-ef6c-a515e37cb4c8"
   },
   "outputs": [],
   "source": [
    "plt.figure(figsize=(16,16))\n",
    "for i in range(9):\n",
    "    noise_H1_sim = noise_from_psd(4096, 1/2048, psds_mean[0])\n",
    "    noise_L1_sim = noise_from_psd(4096, 1/2048, psds_mean[1])\n",
    "    noise_V1_sim = noise_from_psd(4096, 1/2048, psds_mean[2])\n",
    "\n",
    "    psd_H1_sim = get_psd(noise_H1_sim) # interpolate(noise_H1_sim.psd(0.25), delta_f=.5)\n",
    "    psd_L1_sim = get_psd(noise_L1_sim) # interpolate(noise_L1_sim.psd(0.25), delta_f=.5)\n",
    "    psd_V1_sim = get_psd(noise_V1_sim) # interpolate(noise_V1_sim.psd(0.25), delta_f=.5)\n",
    "\n",
    "    plt.subplot(3,3,i+1)\n",
    "    plt.loglog(psd_H1_sim.sample_frequencies, psd_H1_sim.data, label=sites[0])\n",
    "    plt.loglog(psd_L1_sim.sample_frequencies, psd_L1_sim.data, label=sites[1])\n",
    "    plt.loglog(psd_V1_sim.sample_frequencies, psd_V1_sim.data, label=sites[2])\n",
    "    plt.vlines(x=60,ymin=min(psd.data), ymax=max(psd.data),alpha=0.3)\n",
    "    plt.legend()\n",
    "plt.show()"
   ]
  },
  {
   "cell_type": "code",
   "execution_count": null,
   "metadata": {
    "colab": {
     "base_uri": "https://localhost:8080/"
    },
    "id": "OYBiL7CWaypc",
    "outputId": "8334b2c9-ca71-4531-bcef-77545112aa42"
   },
   "outputs": [],
   "source": [
    "psds_sim = defaultdict(list)\n",
    "for idx in tqdm(range(1000)):\n",
    "    noise_H1_sim = noise_from_psd(4096, 1/2048, psds_mean[0], seed=i*3+1)\n",
    "    noise_L1_sim = noise_from_psd(4096, 1/2048, psds_mean[1], seed=i*3+2)\n",
    "    noise_V1_sim = noise_from_psd(4096, 1/2048, psds_mean[2], seed=i*3+3)\n",
    "    waves = np.array([noise_H1_sim, noise_L1_sim, noise_V1_sim])\n",
    "    for i in range(3):\n",
    "#         sample_ts = pycbc.types.TimeSeries(waves[i],epoch=0, delta_t=1/2048)\n",
    "#         #sample_ts = sample_ts.highpass_fir(15,order=8)\n",
    "#         psd = sample_ts.psd(0.25)\n",
    "#         psd = interpolate(psd, delta_f=.5)\n",
    "        psd = get_psd(waves[i])\n",
    "        psds_sim[i].append(psd)"
   ]
  },
  {
   "cell_type": "code",
   "execution_count": null,
   "metadata": {
    "colab": {
     "base_uri": "https://localhost:8080/"
    },
    "id": "-5x8PScVcPlp",
    "outputId": "083f2305-f504-43cb-f1ae-d5a1203eee81"
   },
   "outputs": [],
   "source": [
    "len(psds_sim[0])"
   ]
  },
  {
   "cell_type": "code",
   "execution_count": null,
   "metadata": {
    "id": "fROgwlHybCsV"
   },
   "outputs": [],
   "source": [
    "psds_sim_mean = {}\n",
    "for i in range(3):\n",
    "    all_psd = None\n",
    "    for j in range(len(psds_sim[i])):\n",
    "        if all_psd is None:\n",
    "            all_psd = psds_sim[i][j].data\n",
    "        else:\n",
    "            all_psd = all_psd + psds_sim[i][j].data\n",
    "    psd_sim_mean = all_psd / len(psds_sim[i])\n",
    "    psd_sim_mean = pycbc.types.FrequencySeries(psd_sim_mean, delta_f=.5, epoch=0)\n",
    "    psds_sim_mean[i] = psd_sim_mean"
   ]
  },
  {
   "cell_type": "code",
   "execution_count": null,
   "metadata": {
    "colab": {
     "base_uri": "https://localhost:8080/",
     "height": 297
    },
    "id": "bdB0hxWMbCyK",
    "outputId": "f2e8cb28-5803-4e85-b4a0-d5296b8b5f45"
   },
   "outputs": [],
   "source": [
    "sites = (\"H1\",'L1',\"V1\")\n",
    "plt.figure(figsize=(4,4))\n",
    "for i in range(3):\n",
    "    psd = psds_sim_mean[i]\n",
    "    plt.loglog(psd.sample_frequencies, psd.data, label=sites[i] + \" sim\")\n",
    "    plt.vlines(x=60,ymin=min(psd.data), ymax=max(psd.data),alpha=0.3)\n",
    "plt.legend()\n",
    "plt.suptitle(\"Average psd simulation\")\n",
    "plt.show()"
   ]
  },
  {
   "cell_type": "code",
   "execution_count": null,
   "metadata": {
    "colab": {
     "base_uri": "https://localhost:8080/",
     "height": 297
    },
    "id": "8a0tHurvbYqt",
    "outputId": "f6d97bf1-f61e-4922-b1a3-5681fc50beeb"
   },
   "outputs": [],
   "source": [
    "sites = (\"H1\",'L1',\"V1\")\n",
    "plt.figure(figsize=(4,4))\n",
    "for i in range(3):\n",
    "    psd = psds_mean[i]\n",
    "    plt.loglog(psd.sample_frequencies, psd.data, label=sites[i])\n",
    "    plt.vlines(x=60,ymin=min(psd.data), ymax=max(psd.data),alpha=0.3)\n",
    "plt.legend()\n",
    "plt.suptitle(\"Average psd\")\n",
    "plt.show()"
   ]
  },
  {
   "cell_type": "markdown",
   "metadata": {
    "id": "hA_6CBYIFaQJ"
   },
   "source": [
    "# GW Generation"
   ]
  },
  {
   "cell_type": "markdown",
   "metadata": {
    "id": "_bSkaadHMdJ2"
   },
   "source": [
    "## Plot Function"
   ]
  },
  {
   "cell_type": "code",
   "execution_count": null,
   "metadata": {
    "colab": {
     "base_uri": "https://localhost:8080/"
    },
    "id": "4Kv6UFe8WJYb",
    "outputId": "523e0933-fdf2-4b60-916e-0db95d3c5edb"
   },
   "outputs": [],
   "source": [
    "def plot_single_detector(noise, signal, combined, suptitle=\"\", do_wave_plot=True):\n",
    "    if do_wave_plot:\n",
    "        plt.figure(figsize=(20,5))\n",
    "        plt.subplot(1,3,1)\n",
    "        plt.plot(noise.sample_times,noise)\n",
    "        plt.title(\"noise\")\n",
    "\n",
    "        plt.subplot(1,3,2)\n",
    "        plt.plot(signal.sample_times,signal)\n",
    "        plt.title(\"signal\")\n",
    "\n",
    "        plt.subplot(1,3,3)\n",
    "        plt.plot(combined.sample_times,combined)\n",
    "        plt.title(\"synthetic signal\")\n",
    "\n",
    "        plt.suptitle(suptitle)\n",
    "        plt.show()\n",
    "\n",
    "    plt.figure(figsize=(20,5))\n",
    "    for i,(data, title) in enumerate([(combined, 'Synthetic Signal'),\n",
    "                                      (noise, 'Noise')]):\n",
    "        plt.subplot(1,2,i+1)\n",
    "\n",
    "        t, f, p = data.whiten(0.25,0.25).qtransform(delta_t=noise.delta_t,\n",
    "                                  logfsteps=100,\n",
    "                                  qrange=(8, 8),\n",
    "                                  frange=(20, 512))\n",
    "        plt.title(title)\n",
    "        plt.pcolormesh(t, f, p**0.5, vmin=1, vmax=6)\n",
    "        plt.yscale('log')\n",
    "        plt.xlabel('Time (s)')\n",
    "        plt.ylabel('Frequency (Hz)')\n",
    "    plt.suptitle(suptitle)\n",
    "    plt.show()    \n",
    "\n",
    "def plot_CQT_sep(waves_image, waves_sig_image, title):\n",
    "    plt.figure(figsize=(18,6))\n",
    "    sites = (\"H1\",'L1',\"V1\")\n",
    "    for i in range(3):\n",
    "        plt.subplot(1,6,i*2+1)\n",
    "        plt.imshow(np.flipud(waves_image[i]))\n",
    "        plt.title(sites[i] + \" Original\")\n",
    "        plt.subplot(1,6,i*2+2)\n",
    "        plt.imshow(np.flipud(waves_sig_image[i]))\n",
    "        plt.title(sites[i] + \" with signal\")\n",
    "    plt.suptitle(title)\n",
    "    plt.show()\n",
    "\n",
    "def plot_CQT_together(waves_image, waves_sig_image, title):\n",
    "    waves_image_norm = waves_image - waves_image.min()\n",
    "    waves_image_norm = waves_image_norm / waves_image_norm.max()\n",
    "    waves_sig_image_norm = waves_sig_image - waves_sig_image.min()\n",
    "    waves_sig_image_norm = waves_sig_image_norm / waves_sig_image_norm.max()\n",
    "    plt.figure(figsize=(8,6))\n",
    "    plt.subplot(1,2,1)\n",
    "    plt.imshow(np.flipud(waves_image_norm.transpose(1,2,0)))\n",
    "    plt.title(\"original\")\n",
    "    plt.subplot(1,2,2)\n",
    "    plt.imshow(np.flipud(waves_sig_image_norm.transpose(1,2,0)))\n",
    "    plt.title(\"with signal\")\n",
    "    plt.suptitle(title)\n",
    "    plt.show()    \n",
    "\n",
    "\n",
    "Q_TRANSFORM = CQT1992v2(sr=2048, fmin=20, fmax=950, hop_length=64)\n",
    "Q_TRANSFORM_a = CQT1992v2(sr=2048, fmin=20, fmax=1000, window='flattop', bins_per_octave=48, \n",
    "                          filter_scale=0.25, hop_length=8)\n",
    "def get_image(waves):\n",
    "    waves = torch.from_numpy(waves)\n",
    "    image = Q_TRANSFORM_a(waves).squeeze().numpy()\n",
    "    return image "
   ]
  },
  {
   "cell_type": "code",
   "execution_count": null,
   "metadata": {},
   "outputs": [],
   "source": [
    "from pycbc.waveform import td_approximants, fd_approximants\n",
    "print(td_approximants())"
   ]
  },
  {
   "cell_type": "markdown",
   "metadata": {
    "id": "MsJPQOqaMgR0"
   },
   "source": [
    "## Signal Generation Function"
   ]
  },
  {
   "cell_type": "code",
   "execution_count": null,
   "metadata": {
    "id": "sr-01azgAIkL"
   },
   "outputs": [],
   "source": [
    "DET_H1 = Detector('H1')\n",
    "DET_L1 = Detector('L1')\n",
    "DET_V1 = Detector('V1')\n",
    "def pick_4096(signal):\n",
    "    signal = signal.data\n",
    "    signal = signal[-4096:]\n",
    "    remain_len = 4096 - len(signal)\n",
    "    if remain_len > 0:\n",
    "        signal = np.pad(signal, (remain_len,0), mode='constant')\n",
    "    return TimeSeries(signal, delta_t=1/2048)\n",
    "\n",
    "\n",
    "def generate_signal(param_dict):\n",
    "    try:\n",
    "        hp, hc = get_td_waveform(approximant=param_dict['tmp'],\n",
    "                                  delta_t = 1/2048,\n",
    "                                  mass1=param_dict['m1'],\n",
    "                                  mass2=param_dict['m2'],\n",
    "                                  spin1z = param_dict['s1'],\n",
    "                                  spin2z = param_dict['s2'],\n",
    "                                  coa_phase=param_dict['cp'],\n",
    "                                  inclination=param_dict['inc'],\n",
    "                                  distance=param_dict['dis'],\n",
    "                                  f_lower=param_dict['fl']\n",
    "                                )\n",
    "    except:\n",
    "        hp, hc = get_td_waveform(approximant='IMRPhenomPv2',\n",
    "                                  delta_t = 1/2048,\n",
    "                                  mass1=param_dict['m1'],\n",
    "                                  mass2=param_dict['m2'],\n",
    "                                  spin1z = param_dict['s1'],\n",
    "                                  spin2z = param_dict['s2'],\n",
    "                                  coa_phase=param_dict['cp'],\n",
    "                                  inclination=param_dict['inc'],\n",
    "                                  distance=param_dict['dis'],\n",
    "                                  f_lower=param_dict['fl']\n",
    "                                )\n",
    "        \n",
    "    signal_h1 = DET_H1.project_wave(hp, hc,  param_dict['ra'], param_dict['dec'], param_dict['pol'])\n",
    "    signal_l1 = DET_L1.project_wave(hp, hc,  param_dict['ra'], param_dict['dec'], param_dict['pol'])\n",
    "    signal_v1 = DET_V1.project_wave(hp, hc,  param_dict['ra'], param_dict['dec'], param_dict['pol'])\n",
    "    \n",
    "    signal_h1 = pick_4096(signal_h1)\n",
    "    signal_l1 = pick_4096(signal_l1)\n",
    "    signal_v1 = pick_4096(signal_v1)\n",
    "    return signal_h1, signal_l1, signal_v1\n",
    "\n",
    "def get_random_param(seed=None):\n",
    "    if seed is not None:\n",
    "        np.random.seed(seed)\n",
    "    \n",
    "    \n",
    "    tmp = 'SEOBNRv4_opt'\n",
    "#     m1 = np.random.uniform(61,50)\n",
    "#     p = np.random.uniform(0.2,1)\n",
    "#     m2 = m1 * p\n",
    "    m1 = np.random.uniform(10,50)\n",
    "    m2 = np.random.uniform(10,50)\n",
    "    if m1 < m2:\n",
    "        m1, m2 = m2, m1\n",
    "    distance = np.random.uniform(100,1000)\n",
    "\n",
    "    spin1z = np.random.uniform(0, 0.998)\n",
    "    spin2z = np.random.uniform(0, 0.998)\n",
    "    # the coa_phase and the inclination are the\n",
    "    # two angles that specify the location in the sky of the\n",
    "    # detector as seen from this source frame. Their values\n",
    "    # are sampled jointly from a uniform distribution over\n",
    "    # a sphere.\n",
    "    coa_phase = np.random.random() * np.pi * 2\n",
    "    inclination = np.arccos(1 - 2 * np.random.random())\n",
    "    \n",
    "    f_lower = np.random.uniform(15, 25)\n",
    "    # The right ascension of declination defing the position of the source in the sky. \n",
    "    # Both values are sampled together from a uniform distribution over the sky.\n",
    "    ran1, ran2 = np.random.random(2)\n",
    "    ra  = 2 * np.pi * (ran1 - 0.5)\n",
    "    dec = np.arcsin(2.*(ran2-0.5)) # Barry Carter\n",
    "    polarization = np.random.uniform(0, math.pi)\n",
    "\n",
    "    d = dict(\n",
    "        tmp=tmp,\n",
    "        m1=m1,\n",
    "        m2=m2,\n",
    "        s1=spin1z,\n",
    "        s2=spin2z,\n",
    "        cp=coa_phase,\n",
    "        dis=distance,\n",
    "        inc=inclination,\n",
    "        fl=f_lower,\n",
    "        ra=ra,\n",
    "        dec=dec,\n",
    "        pol=polarization,\n",
    "    )\n",
    "    return d\n",
    "\n",
    "from pycbc.filter import sigma\n",
    "def transform_signal(signal, psd, snrp, dt):\n",
    "    # scale the template so that it would have SNR 1 in this data\n",
    "    signal /= sigma(signal, psd=psd)\n",
    "    # Scale the template amplitude and phase to the peak value\n",
    "    if snrp != 1:\n",
    "        signal = (signal.to_frequencyseries() * snrp).to_timeseries()\n",
    "    signal = signal.data\n",
    "    shift_val = int(2048 * dt) # dt is in second\n",
    "    if shift_val > 0:\n",
    "        signal = np.pad(signal[shift_val:], (0,shift_val), mode=\"constant\")\n",
    "    return signal\n",
    "\n",
    "def get_title(snrp, dt, gen_dict):\n",
    "    title= \"snr_{:.1f}\".format(snrp)\n",
    "    title= title + \"@\" + \"dt_{:.1f}\".format(dt)\n",
    "    for key, val in gen_dict.items():\n",
    "        if isinstance(val,str):\n",
    "            title = title + \"@{}_{}\".format(key,val[:3])\n",
    "        else:\n",
    "            title = title + \"@{}_{:.1f}\".format(key,val)\n",
    "    return title"
   ]
  },
  {
   "cell_type": "markdown",
   "metadata": {
    "id": "Gs5a185ZMk-V"
   },
   "source": [
    "## Signal Generation"
   ]
  },
  {
   "cell_type": "code",
   "execution_count": null,
   "metadata": {
    "id": "wjX_Ae6sZalO"
   },
   "outputs": [],
   "source": [
    "avr_w = torch.load(\"./avr_w.pth\")\n",
    "window = torch.FloatTensor(tukey(4096+2*2048,0.5))\n",
    "def process_wave(waves, window, avr_w):\n",
    "    c = torch.FloatTensor(waves)\n",
    "    c = torch.cat([-c.flip(-1)[:,4096-2049:-1]+2*c[:,0].unsqueeze(-1),c,\n",
    "                                      -c.flip(-1)[:,1:2049]+2*c[:,-1].unsqueeze(-1)],1)    \n",
    "    c = torch.fft.ifft(torch.fft.fft((1e20*c*window))/avr_w).real[:,2048:-2048]\n",
    "    return c.numpy()"
   ]
  },
  {
   "cell_type": "code",
   "execution_count": null,
   "metadata": {
    "id": "MbAyk5m3Zb_T"
   },
   "outputs": [],
   "source": [
    "from scipy import signal\n",
    "asd_dct = np.load(\"./design_curves_tukey_0.2.npy\")\n",
    "def process_wave_a(waves,design_curves):\n",
    "    n = waves.shape[-1]\n",
    "    waves = torch.tensor(waves)\n",
    "    waves = waves * signal.windows.tukey(waves.shape[1],0.2)\n",
    "    \n",
    "    spec = torch.fft.fft(waves)\n",
    "    dc_len = design_curves.shape[-1]\n",
    "    whitened = torch.real(torch.fft.ifft(spec[:, :dc_len] / design_curves, n=n))\n",
    "    whitened *= np.sqrt(n / 2)\n",
    "    whitened /= torch.max(torch.abs(whitened), axis=1)[0].reshape(waves.shape[0], 1)\n",
    "    return whitened.to(dtype=torch.float32).numpy()"
   ]
  },
  {
   "cell_type": "code",
   "execution_count": null,
   "metadata": {
    "colab": {
     "base_uri": "https://localhost:8080/"
    },
    "id": "VTLIW5n0MnjU",
    "outputId": "58b091e9-67d4-4264-d18c-49a6e67e68ae"
   },
   "outputs": [],
   "source": [
    "gen_dict_default=dict(\n",
    "    tmp='SEOBNRv4_opt',\n",
    "    m1=24.1,\n",
    "    m2=22.3,\n",
    "    s1=.4,\n",
    "    s2=.3,\n",
    "    cp=6.1,\n",
    "    dis=1,\n",
    "    inc=.8,\n",
    "    fl=23.4,\n",
    "    ra=1.1,\n",
    "    dec=-0.9,\n",
    "    pol=0.6,\n",
    ")\n",
    "\n",
    "snrp = 7 # np.random.uniform(4,10)\n",
    "dt=0.5 # second\n",
    "title = get_title(snrp, dt, gen_dict_default)\n",
    "print(title)"
   ]
  },
  {
   "cell_type": "code",
   "execution_count": null,
   "metadata": {
    "id": "0u5nGDBQRxGO"
   },
   "outputs": [],
   "source": [
    "hp, hc = get_td_waveform(approximant=gen_dict_default['tmp'],\n",
    "                            delta_t = 1/2048,\n",
    "                            mass1=gen_dict_default['m1']+10,\n",
    "                            mass2=gen_dict_default['m2'],\n",
    "                            spin1z = gen_dict_default['s1'],\n",
    "                            spin2z = gen_dict_default['s2'],\n",
    "                            coa_phase=gen_dict_default['cp'],\n",
    "                            inclination=gen_dict_default['inc'],\n",
    "                            f_lower=gen_dict_default['fl']\n",
    "                        )"
   ]
  },
  {
   "cell_type": "code",
   "execution_count": null,
   "metadata": {
    "id": "hNYBs01ZTMa9"
   },
   "outputs": [],
   "source": [
    "# get signal\n",
    "signal_h1, signal_l1, signal_v1 = generate_signal(gen_dict_default)"
   ]
  },
  {
   "cell_type": "code",
   "execution_count": null,
   "metadata": {
    "colab": {
     "base_uri": "https://localhost:8080/",
     "height": 292
    },
    "id": "K5cl3V3_IlJP",
    "outputId": "7d0a398e-15b1-4a9d-e42b-29180f578d49"
   },
   "outputs": [],
   "source": [
    "print(title)\n",
    "plt.figure(figsize=(12,4))\n",
    "plt.plot(signal_h1.sample_times, signal_h1.data, label=\"H1\")\n",
    "plt.plot(signal_l1.sample_times, signal_l1.data, label=\"L1\")\n",
    "plt.plot(signal_v1.sample_times, signal_v1.data, label=\"V1\")\n",
    "plt.legend()\n",
    "plt.show()"
   ]
  },
  {
   "cell_type": "code",
   "execution_count": null,
   "metadata": {
    "colab": {
     "base_uri": "https://localhost:8080/",
     "height": 292
    },
    "id": "b4JoFynBTWtH",
    "outputId": "0b94bc9f-6eae-44b0-a9b0-a74c3675c209"
   },
   "outputs": [],
   "source": [
    "# signal befor injection\n",
    "print(title)\n",
    "snrp=10\n",
    "signal_h1_transformed = transform_signal(signal_h1, psds_mean[0], snrp=snrp, dt=dt)\n",
    "signal_l1_transformed = transform_signal(signal_l1, psds_mean[1], snrp=snrp, dt=dt)\n",
    "signal_v1_transformed = transform_signal(signal_v1, psds_mean[2], snrp=snrp, dt=dt)\n",
    "signal_transformed = np.array([signal_h1_transformed, signal_l1_transformed, signal_v1_transformed])\n",
    "\n",
    "plt.figure(figsize=(12,4))\n",
    "for i in range(3):\n",
    "    plt.plot(signal_transformed[i], label = sites[i])\n",
    "plt.legend()\n",
    "plt.show()"
   ]
  },
  {
   "cell_type": "code",
   "execution_count": null,
   "metadata": {
    "colab": {
     "base_uri": "https://localhost:8080/"
    },
    "id": "NYfiu93TxUD0",
    "outputId": "0cc40205-78cb-40b3-fc54-fe0d44b1f3f5"
   },
   "outputs": [],
   "source": [
    "# inject signal\n",
    "waves = np.load(train_neg_df.iloc[0,-1])\n",
    "waves_sig = (waves * 1e20) + (signal_transformed * 1e20).astype(np.float16)\n",
    "waves_sig.shape"
   ]
  },
  {
   "cell_type": "code",
   "execution_count": null,
   "metadata": {
    "id": "cjrHTlhyy7J-"
   },
   "outputs": [],
   "source": [
    "# Whitening and CQT transform\n",
    "waves_whiten = process_wave_a(waves, asd_dct)\n",
    "waves_sig_whiten = process_wave_a(waves_sig,asd_dct)\n",
    "waves_image = get_image(waves_whiten)\n",
    "waves_sig_image = get_image(waves_sig_whiten)"
   ]
  },
  {
   "cell_type": "code",
   "execution_count": null,
   "metadata": {
    "colab": {
     "base_uri": "https://localhost:8080/",
     "height": 483
    },
    "id": "08QCvTHYAzsB",
    "outputId": "6ad2a087-e80c-436d-ed4a-ec6445af45af"
   },
   "outputs": [],
   "source": [
    "print(title)\n",
    "plot_CQT_sep(waves_image, waves_sig_image, \"\")\n",
    "plot_CQT_together(waves_image, waves_sig_image, \"\")"
   ]
  },
  {
   "cell_type": "markdown",
   "metadata": {
    "id": "UoMOTcTZUKQN"
   },
   "source": [
    "# Check Some positive Samples"
   ]
  },
  {
   "cell_type": "code",
   "execution_count": null,
   "metadata": {
    "colab": {
     "base_uri": "https://localhost:8080/",
     "height": 1000
    },
    "id": "_s3TZ8-4WzNv",
    "outputId": "73e8a4b1-705b-417f-a28e-402158246abc",
    "scrolled": false
   },
   "outputs": [],
   "source": [
    "for seed in range(10,13):\n",
    "    np.random.seed(seed)\n",
    "    plt.figure(figsize=(16,16))\n",
    "    for i,idx in enumerate(np.random.choice(range(len(train_pos_df)), size=9, replace=False)):    \n",
    "        waves = np.load(train_pos_df.iloc[idx,-1])\n",
    "        idxx = train_pos_df.iloc[idx,0]\n",
    "        pred_rank = train_pos_df.iloc[idx,-2]\n",
    "        waves_whiten = process_wave_a(waves,asd_dct)\n",
    "        waves_whiten_image = get_image(waves_whiten)\n",
    "        waves_image_norm = waves_whiten_image - waves_whiten_image.min()\n",
    "        waves_image_norm = waves_image_norm / waves_image_norm.max()\n",
    "\n",
    "        plt.subplot(3,3,i+1)\n",
    "        plt.imshow(np.flipud(waves_image_norm.transpose(1,2,0)),aspect='auto')\n",
    "        plt.title(f\"{idxx} {pred_rank:.2f}\")\n",
    "    plt.show()"
   ]
  },
  {
   "cell_type": "markdown",
   "metadata": {},
   "source": [
    "# Check False Negative Cases"
   ]
  },
  {
   "cell_type": "code",
   "execution_count": null,
   "metadata": {},
   "outputs": [],
   "source": [
    "train_pos_df.sort_values(\"prediction\",ascending=True,inplace=True)\n",
    "train_pos_df"
   ]
  },
  {
   "cell_type": "code",
   "execution_count": null,
   "metadata": {
    "scrolled": false
   },
   "outputs": [],
   "source": [
    "train_pos_df.sort_values(\"prediction\",ascending=True,inplace=True)\n",
    "for j in range(3):\n",
    "    plt.figure(figsize=(16,16))\n",
    "    for i,idx in enumerate(range(j*9,(j+1)*9)):    \n",
    "        waves = np.load(train_pos_df.iloc[idx,-1])\n",
    "        idxx = train_pos_df.iloc[idx,0]\n",
    "        pred_rank = train_pos_df.iloc[idx,-2]\n",
    "        #waves_whiten = process_wave(waves, window, avr_w)\n",
    "        waves_whiten = process_wave_a(waves,asd_dct)\n",
    "        waves_whiten_image = get_image(waves_whiten)\n",
    "        waves_image_norm = waves_whiten_image - waves_whiten_image.min()\n",
    "        waves_image_norm = waves_image_norm / waves_image_norm.max()\n",
    "\n",
    "        plt.subplot(3,3,i+1)\n",
    "        plt.imshow(np.flipud(waves_image_norm.transpose(1,2,0)),aspect='auto')\n",
    "        plt.title(f\"{idxx} {pred_rank:.2f}\")\n",
    "    plt.show()\n",
    "train_pos_df.sort_values(\"prediction\",ascending=False,inplace=True)"
   ]
  },
  {
   "cell_type": "markdown",
   "metadata": {
    "id": "zMZqBuiFtEY0"
   },
   "source": [
    "# Check Some False Positive Cases"
   ]
  },
  {
   "cell_type": "code",
   "execution_count": null,
   "metadata": {
    "colab": {
     "base_uri": "https://localhost:8080/",
     "height": 1000
    },
    "id": "lN8w3NattG_F",
    "outputId": "d2738c15-a655-4a26-cd83-a54c4d5e39d8",
    "scrolled": false
   },
   "outputs": [],
   "source": [
    "train_neg_df.sort_values(\"prediction\",ascending=False,inplace=True)\n",
    "for j in range(3):\n",
    "    plt.figure(figsize=(16,16))\n",
    "    for i,idx in enumerate(range(j*9,(j+1)*9)):    \n",
    "        waves = np.load(train_neg_df.iloc[idx,-1])\n",
    "        idxx = train_neg_df.iloc[idx,0]\n",
    "        pred_rank = train_neg_df.iloc[idx,-2]\n",
    "        #waves_whiten = process_wave(waves, window, avr_w)\n",
    "        waves_whiten = process_wave_a(waves,asd_dct)\n",
    "        waves_whiten_image = get_image(waves_whiten)\n",
    "        waves_image_norm = waves_whiten_image - waves_whiten_image.min()\n",
    "        waves_image_norm = waves_image_norm / waves_image_norm.max()\n",
    "\n",
    "        plt.subplot(3,3,i+1)\n",
    "        plt.imshow(np.flipud(waves_image_norm.transpose(1,2,0)),aspect='auto')\n",
    "        plt.title(f\"{idxx} {pred_rank:.2f}\")\n",
    "    plt.show()"
   ]
  },
  {
   "cell_type": "markdown",
   "metadata": {},
   "source": [
    "# Check where oof goes wrong"
   ]
  },
  {
   "cell_type": "code",
   "execution_count": null,
   "metadata": {},
   "outputs": [],
   "source": [
    "oof_GW = pd.read_csv(gdrive + \"/fold0_oof_GW.csv\", index_col=0)\n",
    "oof_G2Net = pd.read_csv(gdrive + \"/fold0_oof_G2Net.csv\", index_col = 0)\n",
    "oof_GW.rename(columns={\"prediction\":\"oof_GW\"},inplace=True)\n",
    "oof_GW[\"oof_G2Net\"] = oof_G2Net[\"prediction\"]\n",
    "oof_df = oof_GW.copy()\n",
    "oof_df.head()"
   ]
  },
  {
   "cell_type": "code",
   "execution_count": null,
   "metadata": {},
   "outputs": [],
   "source": [
    "from sklearn.metrics import roc_auc_score\n",
    "from sklearn.metrics import roc_curve"
   ]
  },
  {
   "cell_type": "code",
   "execution_count": null,
   "metadata": {},
   "outputs": [],
   "source": [
    "roc_auc_score(oof_df[\"target\"],oof_df[\"oof_G2Net\"]), roc_auc_score(oof_df[\"target\"],oof_df[\"oof_GW\"])"
   ]
  },
  {
   "cell_type": "code",
   "execution_count": null,
   "metadata": {},
   "outputs": [],
   "source": [
    "oof_df[\"oof_diff\"] = oof_df[\"oof_GW\"] - oof_df[\"oof_G2Net\"]\n",
    "oof_df.sort_values(\"oof_diff\", ascending=True, inplace=True)\n",
    "oof_df.head()"
   ]
  },
  {
   "cell_type": "code",
   "execution_count": null,
   "metadata": {},
   "outputs": [],
   "source": [
    "max_GW_G2Net = oof_df[[\"oof_G2Net\",\"oof_GW\"]].max(axis=1)\n",
    "mean_GW_G2Net = oof_df[[\"oof_G2Net\",\"oof_GW\"]].mean(axis=1)\n",
    "roc_auc_score(oof_df[\"target\"],mean_GW_G2Net)"
   ]
  },
  {
   "cell_type": "code",
   "execution_count": null,
   "metadata": {},
   "outputs": [],
   "source": [
    "oof_df[[\"oof_G2Net\",\"oof_GW\"]].plot(kind='hist',bins=100,alpha=0.5)"
   ]
  },
  {
   "cell_type": "code",
   "execution_count": null,
   "metadata": {},
   "outputs": [],
   "source": [
    "roc_auc = roc_auc_score(oof_df['target'], oof_df['oof_G2Net'])\n",
    "fpr, tpr, thresholds = roc_curve(oof_df['target'], oof_df['oof_G2Net'])\n",
    "plt.figure()\n",
    "lw = 2\n",
    "plt.plot(fpr, tpr, color='darkorange',\n",
    "         lw=lw, label='G2Net ROC curve (area = %0.2f)' % roc_auc,)\n",
    "\n",
    "roc_auc = roc_auc_score(oof_df['target'], oof_df['oof_GW'])\n",
    "fpr, tpr, thresholds = roc_curve(oof_df['target'], oof_df['oof_GW'])\n",
    "\n",
    "plt.plot(fpr, tpr, color='darkblue',\n",
    "         lw=lw, label='GW ROC curve (area = %0.2f)' % roc_auc,)\n",
    "\n",
    "plt.plot([0, 1], [0, 1], color='navy', lw=lw, linestyle='--')\n",
    "plt.xlim([0.0, 1.0])\n",
    "plt.ylim([0.0, 1.05])\n",
    "plt.xlabel('False Positive Rate')\n",
    "plt.ylabel('True Positive Rate')\n",
    "plt.title('Receiver operating characteristic')\n",
    "plt.legend(loc=\"lower right\")\n",
    "plt.show()"
   ]
  },
  {
   "cell_type": "code",
   "execution_count": null,
   "metadata": {},
   "outputs": [],
   "source": [
    "oof_df[\"path\"] = oof_df[\"id\"].apply(get_train_file_path)"
   ]
  },
  {
   "cell_type": "code",
   "execution_count": null,
   "metadata": {
    "scrolled": false
   },
   "outputs": [],
   "source": [
    "oof_df.sort_values(\"oof_diff\", ascending=True, inplace=True)\n",
    "for j in range(3):\n",
    "    np.random.seed(seed)\n",
    "    plt.figure(figsize=(16,16))\n",
    "    for i,idx in enumerate(range(j*9,(j+1)*9)):    \n",
    "        waves = np.load(oof_df.iloc[idx,-1])\n",
    "        idxx = oof_df.iloc[idx,0]\n",
    "        target = oof_df.iloc[idx,1]\n",
    "        pred_G2net = oof_df.iloc[idx,-3]\n",
    "        pred_GW = oof_df.iloc[idx,-4]\n",
    "        waves_whiten = process_wave(waves, window, avr_w)\n",
    "        #waves_whiten = process_wave_a(waves,asd_dct)\n",
    "        waves_whiten_image = get_image(waves_whiten)\n",
    "        waves_image_norm = waves_whiten_image - waves_whiten_image.min()\n",
    "        waves_image_norm = waves_image_norm / waves_image_norm.max()\n",
    "\n",
    "        plt.subplot(3,3,i+1)\n",
    "        plt.imshow(np.flipud(waves_image_norm.transpose(1,2,0)),aspect='auto')\n",
    "        plt.title(f\"{idxx} trgt {target} G2Net {pred_G2net:.2f}, sGW {pred_GW:.2f}\")\n",
    "    plt.show()"
   ]
  },
  {
   "cell_type": "code",
   "execution_count": null,
   "metadata": {
    "scrolled": false
   },
   "outputs": [],
   "source": [
    "oof_df.sort_values(\"oof_diff\", ascending=False, inplace=True)\n",
    "for j in range(3):\n",
    "    np.random.seed(seed)\n",
    "    plt.figure(figsize=(16,16))\n",
    "    for i,idx in enumerate(range(j*9,(j+1)*9)):    \n",
    "        waves = np.load(oof_df.iloc[idx,-1])\n",
    "        idxx = oof_df.iloc[idx,0]\n",
    "        target = oof_df.iloc[idx,1]\n",
    "        pred_G2net = oof_df.iloc[idx,-3]\n",
    "        pred_GW = oof_df.iloc[idx,-4]\n",
    "        waves_whiten = process_wave(waves, window, avr_w)\n",
    "        #waves_whiten = process_wave_a(waves,asd_dct)\n",
    "        waves_whiten_image = get_image(waves_whiten)\n",
    "        waves_image_norm = waves_whiten_image - waves_whiten_image.min()\n",
    "        waves_image_norm = waves_image_norm / waves_image_norm.max()\n",
    "\n",
    "        plt.subplot(3,3,i+1)\n",
    "        plt.imshow(np.flipud(waves_image_norm.transpose(1,2,0)),aspect='auto')\n",
    "        plt.title(f\"{idxx} trgt {target} G2Net {pred_G2net:.2f}, sGW {pred_GW:.2f}\")\n",
    "    plt.show()"
   ]
  },
  {
   "cell_type": "markdown",
   "metadata": {
    "id": "zjgAlSYYUM8V"
   },
   "source": [
    "# Generate Random Simulated GW"
   ]
  },
  {
   "cell_type": "code",
   "execution_count": null,
   "metadata": {
    "colab": {
     "base_uri": "https://localhost:8080/",
     "height": 1000
    },
    "id": "HICx9SYBjDKL",
    "outputId": "e56b2432-0578-47fd-b5c5-5f368615edad",
    "scrolled": false
   },
   "outputs": [],
   "source": [
    "np.random.seed(1)\n",
    "waves = np.load(train_neg_df.iloc[22,-1])\n",
    "waves_1e20 = waves * 1e20\n",
    "waves_whiten = process_wave(waves, window, avr_w)\n",
    "waves_whiten_image = get_image(waves_whiten)\n",
    "waves_image_norm = waves_whiten_image - waves_whiten_image.min()\n",
    "waves_image_norm = waves_image_norm / waves_image_norm.max()\n",
    "\n",
    "gen_dict_tmp = get_random_param()\n",
    "snrp = 10\n",
    "dt = 0\n",
    "for i in range(5):\n",
    "    gen_dict_tmp['dis'] *= 2\n",
    "    gen_dict_tmp = get_random_param()\n",
    "    title = get_title(snrp, dt, gen_dict_tmp)\n",
    "    print(title)\n",
    "    try:\n",
    "        signal_h1, signal_l1, signal_v1 = generate_signal(gen_dict_tmp)\n",
    "    except:\n",
    "        continue\n",
    "    signal_h1_transformed = transform_signal(signal_h1, psds_mean[0], snrp=snrp, dt=dt)\n",
    "    signal_l1_transformed = transform_signal(signal_l1, psds_mean[1], snrp=snrp, dt=dt)\n",
    "    signal_v1_transformed = transform_signal(signal_v1, psds_mean[2], snrp=snrp, dt=dt)\n",
    "    signals = np.array([signal_h1_transformed, signal_l1_transformed, signal_v1_transformed])\n",
    "    signals = signals\n",
    "    plt.figure(figsize=(15,4))\n",
    "    plt.subplot(1,4,1)\n",
    "    for j in range(3):\n",
    "        plt.plot(signals[j], label = sites[j])\n",
    "    plt.legend()\n",
    "    waves_sig = waves + signals\n",
    "    waves_sig_whiten = process_wave(waves_sig, window, avr_w)\n",
    "    waves_sig_image = get_image(waves_sig_whiten)\n",
    "    waves_sig_image_norm = waves_sig_image - waves_sig_image.min()\n",
    "    waves_sig_image_norm = waves_sig_image_norm / waves_sig_image_norm.max()\n",
    "\n",
    "    plt.subplot(1,3,2)\n",
    "    plt.imshow(np.flipud(waves_image_norm.transpose(1,2,0)), aspect='auto')\n",
    "    plt.title(\"Noise\")\n",
    "\n",
    "    plt.subplot(1,3,3)\n",
    "    plt.imshow(np.flipud(waves_sig_image_norm.transpose(1,2,0)), aspect='auto')\n",
    "    plt.title(\" + Signal\")   \n",
    "    plt.show()\n"
   ]
  },
  {
   "cell_type": "markdown",
   "metadata": {
    "id": "wvJbiOmpUSMY"
   },
   "source": [
    "# Check Parameter Effect"
   ]
  },
  {
   "cell_type": "code",
   "execution_count": null,
   "metadata": {},
   "outputs": [],
   "source": [
    "def check_param_effect(waves, param_name, param_vals):\n",
    "    dt=.2\n",
    "    snrp = 3\n",
    "    plt.figure(figsize=(16, 8))\n",
    "    for param_val in param_vals:\n",
    "        if isinstance(param_name, str):\n",
    "            gen_dict_tmp[param_name] = param_val\n",
    "        else:\n",
    "            for param_n in param_name:\n",
    "                gen_dict_tmp[param_n] = param_val\n",
    "        signal_h1, signal_l1, signal_v1 = generate_signal(gen_dict_tmp)\n",
    "        signal_h1_transformed = transform_signal(signal_h1, psds_mean[0], snrp=snrp,dt=dt)\n",
    "        signal_l1_transformed = transform_signal(signal_l1, psds_mean[1], snrp=snrp,dt=dt)\n",
    "        signal_v1_transformed = transform_signal(signal_v1, psds_mean[2], snrp=snrp,dt=dt)\n",
    "        plt.plot(signal_h1_transformed, label=f\"{param_name} {param_val}\")\n",
    "    plt.legend()\n",
    "    plt.show()        "
   ]
  },
  {
   "cell_type": "markdown",
   "metadata": {
    "id": "TnbHN6UjDlf1"
   },
   "source": [
    "### Mass"
   ]
  },
  {
   "cell_type": "code",
   "execution_count": null,
   "metadata": {
    "colab": {
     "base_uri": "https://localhost:8080/",
     "height": 493
    },
    "id": "Wq1rqiB_AJeV",
    "outputId": "86ea4cfb-0d8d-446e-ffcc-77b40c6bd852"
   },
   "outputs": [],
   "source": [
    "# check snrp effect\n",
    "np.random.seed(13)\n",
    "gen_dict_tmp = get_random_param()\n",
    "waves = np.load(train_neg_df.iloc[0,-1])\n",
    "check_param_effect(waves, 'm1', [10,20,30,40,50,60,70])"
   ]
  },
  {
   "cell_type": "markdown",
   "metadata": {},
   "source": [
    "## Distance"
   ]
  },
  {
   "cell_type": "code",
   "execution_count": null,
   "metadata": {},
   "outputs": [],
   "source": [
    "check_param_effect(waves, 'dis', np.exp(np.arange(2,8,2)))"
   ]
  },
  {
   "cell_type": "markdown",
   "metadata": {},
   "source": [
    "## Spinz"
   ]
  },
  {
   "cell_type": "code",
   "execution_count": null,
   "metadata": {},
   "outputs": [],
   "source": [
    "check_param_effect(waves, 'spin1z', np.arange(0,0.98,0.1))"
   ]
  },
  {
   "cell_type": "markdown",
   "metadata": {},
   "source": [
    "## coa_phase\n",
    "1.  ({0.0, <class 'float}) – Coalesence phase of the binary (in rad)."
   ]
  },
  {
   "cell_type": "code",
   "execution_count": null,
   "metadata": {},
   "outputs": [],
   "source": [
    "check_param_effect(waves, 'cp', np.arange(0,2*np.pi,np.pi/3))"
   ]
  },
  {
   "cell_type": "markdown",
   "metadata": {},
   "source": [
    "# Polarization"
   ]
  },
  {
   "cell_type": "code",
   "execution_count": null,
   "metadata": {},
   "outputs": [],
   "source": [
    "check_param_effect(waves, 'pol', np.arange(0,2*np.pi,np.pi/3))"
   ]
  },
  {
   "cell_type": "markdown",
   "metadata": {},
   "source": [
    "## inclination"
   ]
  },
  {
   "cell_type": "code",
   "execution_count": null,
   "metadata": {},
   "outputs": [],
   "source": [
    "check_param_effect(waves, 'inc', np.arange(0,np.pi,np.pi/4))"
   ]
  },
  {
   "cell_type": "markdown",
   "metadata": {},
   "source": [
    "## f_lower"
   ]
  },
  {
   "cell_type": "code",
   "execution_count": null,
   "metadata": {},
   "outputs": [],
   "source": [
    "check_param_effect(waves, 'fl', np.arange(15,25,3))"
   ]
  },
  {
   "cell_type": "markdown",
   "metadata": {
    "id": "iS51DKVuN5xd"
   },
   "source": [
    "# Signal Generation"
   ]
  },
  {
   "cell_type": "code",
   "execution_count": null,
   "metadata": {
    "id": "Y11xQbF_AJgQ"
   },
   "outputs": [],
   "source": [
    "from multiprocessing import Pool\n",
    "def get_signal_before_injection(gen_dict, snrp, psds_mean, dt):\n",
    "    signal_h1, signal_l1, signal_v1 = generate_signal(gen_dict)\n",
    "    signal_h1_transformed = transform_signal(signal_h1, psds_mean[0], snrp=snrp, dt=dt)\n",
    "    signal_l1_transformed = transform_signal(signal_l1, psds_mean[1], snrp=snrp, dt=dt)\n",
    "    signal_v1_transformed = transform_signal(signal_v1, psds_mean[2], snrp=snrp, dt=dt)\n",
    "    signal_transformed = (np.array([signal_h1_transformed, signal_l1_transformed, signal_v1_transformed]) * 1e20).astype(np.float16)\n",
    "    return signal_transformed"
   ]
  },
  {
   "cell_type": "code",
   "execution_count": null,
   "metadata": {
    "colab": {
     "base_uri": "https://localhost:8080/"
    },
    "id": "EbQnihsdAJis",
    "outputId": "1652ff5f-1ef8-4fb1-ed04-bd43c5ee8f5a",
    "scrolled": true
   },
   "outputs": [],
   "source": [
    "%%time\n",
    "jobs = 10\n",
    "sample_size = 300000\n",
    "def func(seed):\n",
    "    np.random.seed(seed)\n",
    "    i = 0\n",
    "    snrp = 1\n",
    "    dt = 0\n",
    "    while i < sample_size // jobs:\n",
    "        gen_temp_dict = get_random_param()\n",
    "        title = get_title(snrp, dt, gen_temp_dict) + f\"@{i}\"\n",
    "        try:\n",
    "            signals = get_signal_before_injection(gen_temp_dict, snrp, psds_mean, dt)\n",
    "        except RuntimeError:\n",
    "            print(\"cannot generate \" + title)\n",
    "            continue\n",
    "        i += 1\n",
    "        np.save(gdrive + f\"/GW_sim_300k/{title}\", signals)\n",
    "    return \n",
    "        \n",
    "with Pool(jobs) as p:\n",
    "    p.map(func, list(range(jobs)))"
   ]
  },
  {
   "cell_type": "code",
   "execution_count": null,
   "metadata": {},
   "outputs": [],
   "source": [
    "%%time\n",
    "import glob\n",
    "import pickle\n",
    "import os\n",
    "\n",
    "files = glob.glob(gdrive + \"/GW_sim_300k/*.npy\")\n",
    "print(len(files))\n",
    "signals_dic = {}\n",
    "for i, file in tqdm(enumerate(files)):\n",
    "    signals = np.load(file)\n",
    "    signals_dic[i] = signals"
   ]
  },
  {
   "cell_type": "code",
   "execution_count": null,
   "metadata": {
    "id": "gt2ch-LIQQ1R",
    "scrolled": false
   },
   "outputs": [],
   "source": [
    "waves = np.load(train_neg_df.iloc[22,-1]) * 1e20\n",
    "waves_whiten = process_wave(waves, window, avr_w)\n",
    "waves_whiten_image = get_image(waves_whiten)\n",
    "waves_image_norm = waves_whiten_image - waves_whiten_image.min()\n",
    "waves_image_norm = waves_image_norm / waves_image_norm.max()\n",
    "for i, (key, signals) in enumerate(signals_dic.items()):\n",
    "    plt.figure(figsize=(21,7))\n",
    "    plt.subplot(1,3,1)\n",
    "    for j in range(3):\n",
    "        plt.plot(signals[j], label = sites[j])\n",
    "    plt.legend()\n",
    "\n",
    "    waves_sig = waves + signals * 10\n",
    "    waves_sig_whiten = process_wave(waves_sig, window, avr_w)\n",
    "    waves_sig_image = get_image(waves_sig_whiten)\n",
    "    waves_sig_image_norm = waves_sig_image - waves_sig_image.min()\n",
    "    waves_sig_image_norm = waves_sig_image_norm / waves_sig_image_norm.max()\n",
    "\n",
    "    plt.subplot(1,3,2)\n",
    "    plt.imshow(np.flipud(waves_image_norm.transpose(1,2,0)))\n",
    "    plt.title(\"Noise\")\n",
    "\n",
    "    plt.subplot(1,3,3)\n",
    "    plt.imshow(np.flipud(waves_sig_image_norm.transpose(1,2,0)))\n",
    "    plt.title(\" + Signal\")\n",
    "    plt.show()\n",
    "    if i == 5:\n",
    "        break"
   ]
  },
  {
   "cell_type": "markdown",
   "metadata": {
    "id": "c1LlKlAkz3Uw"
   },
   "source": [
    "# Save Signals"
   ]
  },
  {
   "cell_type": "code",
   "execution_count": null,
   "metadata": {},
   "outputs": [],
   "source": [
    "len(signals_dic)"
   ]
  },
  {
   "cell_type": "code",
   "execution_count": null,
   "metadata": {
    "id": "KJb_7OGSw8Pe"
   },
   "outputs": [],
   "source": [
    "import pickle\n",
    "import os\n",
    "\n",
    "with open(gdrive + '/GW_sim_300k.pkl', 'wb') as handle:\n",
    "    pickle.dump(signals_dic, handle, protocol=pickle.HIGHEST_PROTOCOL)\n",
    "\n",
    "# with open('./generated_signal_snr8-15.pkl', 'wb') as handle:\n",
    "#     pickle.dump(signals_dic, handle, protocol=pickle.HIGHEST_PROTOCOL)\n",
    "\n",
    "# with open('./generated_signal.pkl', 'rb') as handle:\n",
    "#     signals_dict = pickle.load(handle)"
   ]
  },
  {
   "cell_type": "code",
   "execution_count": null,
   "metadata": {},
   "outputs": [],
   "source": []
  }
 ],
 "metadata": {
  "colab": {
   "collapsed_sections": [],
   "machine_shape": "hm",
   "name": "SyntheticSignal.ipynb",
   "provenance": []
  },
  "kernelspec": {
   "display_name": "Python 3 (ipykernel)",
   "language": "python",
   "name": "python3"
  },
  "language_info": {
   "codemirror_mode": {
    "name": "ipython",
    "version": 3
   },
   "file_extension": ".py",
   "mimetype": "text/x-python",
   "name": "python",
   "nbconvert_exporter": "python",
   "pygments_lexer": "ipython3",
   "version": "3.8.10"
  },
  "toc": {
   "base_numbering": 1,
   "nav_menu": {},
   "number_sections": true,
   "sideBar": true,
   "skip_h1_title": false,
   "title_cell": "Table of Contents",
   "title_sidebar": "Contents",
   "toc_cell": false,
   "toc_position": {
    "height": "calc(100% - 180px)",
    "left": "10px",
    "top": "150px",
    "width": "426.667px"
   },
   "toc_section_display": true,
   "toc_window_display": true
  }
 },
 "nbformat": 4,
 "nbformat_minor": 1
}
