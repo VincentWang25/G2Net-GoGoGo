{
 "cells": [
  {
   "cell_type": "code",
   "execution_count": null,
   "id": "negative-triple",
   "metadata": {},
   "outputs": [],
   "source": [
    "import numpy as np\n",
    "import torch\n",
    "import pycbc\n",
    "from scipy import signal\n",
    "import os\n",
    "import gzip\n",
    "import pickle\n",
    "from tqdm.notebook import tqdm\n",
    "import pandas as pd\n",
    "import matplotlib.pyplot as plt\n",
    "\n",
    "import gc\n",
    "gc.collect()"
   ]
  },
  {
   "cell_type": "code",
   "execution_count": null,
   "id": "whole-johnson",
   "metadata": {
    "scrolled": false
   },
   "outputs": [],
   "source": [
    "specs = []\n",
    "df = pd.read_csv('data/training_labels.csv').set_index('id')\n",
    "\n",
    "PATH = 'data/train'\n",
    "files = os.listdir(PATH)\n",
    "for file in files:\n",
    "    with gzip.open(os.path.join(PATH,file), 'rb') as handle: \n",
    "        data = pickle.load(handle)\n",
    "\n",
    "    window = torch.FloatTensor(signal.windows.tukey(4096+2*2048,0.5))\n",
    "    spec = []\n",
    "    for k in tqdm(data.keys()):\n",
    "        if df.loc[k,'target']: continue\n",
    "        c = data[k]\n",
    "        c = torch.cat([-c.flip(-1)[:,4096-2049:-1]+2*c[:,0].unsqueeze(-1),c,\n",
    "                                   -c.flip(-1)[:,1:2049]+2*c[:,-1].unsqueeze(-1)],1)\n",
    "        spec.append(torch.fft.fft((1e20*c*window).cuda()).abs().cpu())\n",
    "    specs.append(torch.stack(spec,0).mean(0))\n",
    "s = torch.stack(specs,0)\n",
    "torch.save(s.mean(0),'data/avr_w0.pth')"
   ]
  }
 ],
 "metadata": {
  "kernelspec": {
   "display_name": "Python 3",
   "language": "python",
   "name": "python3"
  },
  "language_info": {
   "codemirror_mode": {
    "name": "ipython",
    "version": 3
   },
   "file_extension": ".py",
   "mimetype": "text/x-python",
   "name": "python",
   "nbconvert_exporter": "python",
   "pygments_lexer": "ipython3",
   "version": "3.8.8"
  },
  "toc": {
   "base_numbering": 1,
   "nav_menu": {},
   "number_sections": true,
   "sideBar": true,
   "skip_h1_title": false,
   "title_cell": "Table of Contents",
   "title_sidebar": "Contents",
   "toc_cell": false,
   "toc_position": {},
   "toc_section_display": true,
   "toc_window_display": false
  }
 },
 "nbformat": 4,
 "nbformat_minor": 5
}
