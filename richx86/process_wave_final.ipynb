{
 "cells": [
  {
   "cell_type": "code",
   "execution_count": 105,
   "id": "b7e5a660-1d46-4671-9e1c-36062489c354",
   "metadata": {},
   "outputs": [
    {
     "name": "stdout",
     "output_type": "stream",
     "text": [
      "\u001b[33mWARNING: Running pip as the 'root' user can result in broken permissions and conflicting behaviour with the system package manager. It is recommended to use a virtual environment instead: https://pip.pypa.io/warnings/venv\u001b[0m\n",
      "\u001b[33mWARNING: You are using pip version 21.1.3; however, version 21.2.4 is available.\n",
      "You should consider upgrading via the '/opt/conda/bin/python3.8 -m pip install --upgrade pip' command.\u001b[0m\n"
     ]
    }
   ],
   "source": [
    "# !pip -q install pycbc"
   ]
  },
  {
   "cell_type": "code",
   "execution_count": 106,
   "id": "07ae7f0b-50d3-40e4-84a1-7ac5825cef4c",
   "metadata": {},
   "outputs": [],
   "source": [
    "import os\n",
    "import json\n",
    "import random\n",
    "import collections\n",
    "\n",
    "import numpy as np\n",
    "import pandas as pd\n",
    "import torch\n",
    "\n",
    "\n",
    "\n",
    "import pycbc\n",
    "import pycbc.psd\n",
    "import pylab\n",
    "from pycbc.psd import welch, interpolate\n",
    "\n",
    "from scipy import signal\n",
    "# from scipy.fft import fft, fftshift\n",
    "\n",
    "import joblib\n",
    "from tqdm.auto import tqdm\n",
    "import shutil\n",
    "import matplotlib.pyplot as plt\n",
    "import torch\n"
   ]
  },
  {
   "cell_type": "code",
   "execution_count": 107,
   "id": "11a514c6-7150-45c9-ae8c-7b6a5aab0269",
   "metadata": {},
   "outputs": [],
   "source": [
    "class Config:\n",
    "\n",
    "    input_data_folder = 'data/'\n",
    "    input_train = input_data_folder + 'train/'\n",
    "    input_test = input_data_folder + 'test/'\n",
    "    output_folder = './data/'\n",
    "    output_folder_train = output_folder + 'whiten-train-w0/'\n",
    "    output_folder_test = output_folder + 'whiten-test-w0/'\n",
    "    \n",
    "    debugging_mode = False\n",
    "    whiten_train = True#generate whitened training data or not\n",
    "    whiten_test= True#generate whitened testing data or not\n",
    "\n",
    "\n",
    "    #whiten params\n",
    "    window = 'tukey'\n",
    "    alpha = 0.5\n",
    "    # window = 'planck'\n",
    "    # alpha = 0.25\n",
    "#     window = 'hann'\n",
    "#     alpha = None\n",
    "#     window = 'nuttall'\n",
    "#     alpha = None\n",
    "    #other\n",
    "    fp16 = False\n",
    "np.set_printoptions(precision=7, suppress=False) "
   ]
  },
  {
   "cell_type": "code",
   "execution_count": 108,
   "id": "14a5a755-f44e-48b5-82ef-8390e9178ad4",
   "metadata": {},
   "outputs": [],
   "source": [
    "if not os.path.isdir(Config.input_train):\n",
    "    !mkdir -p $Config.input_train\n",
    "if not os.path.isdir(Config.input_test):\n",
    "    !mkdir -p $Config.input_test\n",
    "if not os.path.isdir(Config.output_folder_train):\n",
    "    !mkdir -p $Config.output_folder_train\n",
    "if not os.path.isdir(Config.output_folder_test):\n",
    "    !mkdir -p $Config.output_folder_test"
   ]
  },
  {
   "cell_type": "code",
   "execution_count": 109,
   "id": "317ff1b3-0791-455a-9a18-f1be61859e93",
   "metadata": {},
   "outputs": [
    {
     "data": {
      "text/html": [
       "<div>\n",
       "<style scoped>\n",
       "    .dataframe tbody tr th:only-of-type {\n",
       "        vertical-align: middle;\n",
       "    }\n",
       "\n",
       "    .dataframe tbody tr th {\n",
       "        vertical-align: top;\n",
       "    }\n",
       "\n",
       "    .dataframe thead th {\n",
       "        text-align: right;\n",
       "    }\n",
       "</style>\n",
       "<table border=\"1\" class=\"dataframe\">\n",
       "  <thead>\n",
       "    <tr style=\"text-align: right;\">\n",
       "      <th></th>\n",
       "      <th>id</th>\n",
       "      <th>target</th>\n",
       "      <th>file_path</th>\n",
       "    </tr>\n",
       "  </thead>\n",
       "  <tbody>\n",
       "    <tr>\n",
       "      <th>0</th>\n",
       "      <td>00000e74ad</td>\n",
       "      <td>1</td>\n",
       "      <td>train/0/0/0/00000e74ad.npy</td>\n",
       "    </tr>\n",
       "    <tr>\n",
       "      <th>1</th>\n",
       "      <td>00001f4945</td>\n",
       "      <td>0</td>\n",
       "      <td>train/0/0/0/00001f4945.npy</td>\n",
       "    </tr>\n",
       "    <tr>\n",
       "      <th>2</th>\n",
       "      <td>0000661522</td>\n",
       "      <td>0</td>\n",
       "      <td>train/0/0/0/0000661522.npy</td>\n",
       "    </tr>\n",
       "    <tr>\n",
       "      <th>3</th>\n",
       "      <td>00007a006a</td>\n",
       "      <td>0</td>\n",
       "      <td>train/0/0/0/00007a006a.npy</td>\n",
       "    </tr>\n",
       "    <tr>\n",
       "      <th>4</th>\n",
       "      <td>0000a38978</td>\n",
       "      <td>1</td>\n",
       "      <td>train/0/0/0/0000a38978.npy</td>\n",
       "    </tr>\n",
       "  </tbody>\n",
       "</table>\n",
       "</div>"
      ],
      "text/plain": [
       "           id  target                   file_path\n",
       "0  00000e74ad       1  train/0/0/0/00000e74ad.npy\n",
       "1  00001f4945       0  train/0/0/0/00001f4945.npy\n",
       "2  0000661522       0  train/0/0/0/0000661522.npy\n",
       "3  00007a006a       0  train/0/0/0/00007a006a.npy\n",
       "4  0000a38978       1  train/0/0/0/0000a38978.npy"
      ]
     },
     "metadata": {},
     "output_type": "display_data"
    }
   ],
   "source": [
    "def get_train_file_path(image_id):\n",
    "    return \"{}train/{}/{}/{}/{}.npy\".format(Config.input_data_folder,\n",
    "        image_id[0], image_id[1], image_id[2], image_id)\n",
    "def get_test_file_path(image_id):\n",
    "    return \"{}test/{}/{}/{}/{}.npy\".format(Config.input_data_folder,\n",
    "        image_id[0], image_id[1], image_id[2], image_id)\n",
    "if Config.whiten_train:\n",
    "    train = pd.read_csv(f'training_labels.csv')\n",
    "    train['file_path'] = train['id'].apply(get_train_file_path)\n",
    "    display(train.head())\n",
    "if Config.whiten_test:\n",
    "    test = pd.read_csv(f'sample_submission.csv')\n",
    "    test['file_path'] = test['id'].apply(get_test_file_path)\n",
    "    display(test.head())"
   ]
  },
  {
   "cell_type": "code",
   "execution_count": 110,
   "id": "579aa1e8-a5f5-4280-8460-d63613d7a255",
   "metadata": {},
   "outputs": [],
   "source": [
    "if Config.debugging_mode:\n",
    "    if Config.whiten_train:\n",
    "        train = train[:5000]\n",
    "        print(len(train))\n",
    "    if Config.whiten_test:\n",
    "        test = test[:5000]\n",
    "        print(len(test))"
   ]
  },
  {
   "cell_type": "code",
   "execution_count": null,
   "id": "e801bf9b",
   "metadata": {},
   "outputs": [],
   "source": [
    "#for planck window"
   ]
  },
  {
   "cell_type": "code",
   "execution_count": 133,
   "id": "895dc967-ff9e-4057-9055-75e4cdaa2168",
   "metadata": {},
   "outputs": [],
   "source": [
    "\"\"\"The suite of window functions.\"\"\"\n",
    "\n",
    "import operator\n",
    "import warnings\n",
    "\n",
    "import numpy as np\n",
    "from scipy import linalg, special, fft as sp_fft\n",
    "\n",
    "__all__ = ['boxcar', 'triang', 'parzen', 'bohman', 'blackman', 'nuttall',\n",
    "           'blackmanharris', 'flattop', 'bartlett', 'hanning', 'barthann',\n",
    "           'hamming', 'kaiser', 'gaussian', 'general_cosine',\n",
    "           'general_gaussian', 'general_hamming', 'chebwin', 'cosine',\n",
    "           'hann', 'exponential', 'tukey', 'taylor', 'dpss', 'get_window']\n",
    "\n",
    "\n",
    "def _len_guards(M):\n",
    "    \"\"\"Handle small or incorrect window lengths\"\"\"\n",
    "    if int(M) != M or M < 0:\n",
    "        raise ValueError('Window length M must be a non-negative integer')\n",
    "    return M <= 1\n",
    "\n",
    "\n",
    "def _extend(M, sym):\n",
    "    \"\"\"Extend window by 1 sample if needed for DFT-even symmetry\"\"\"\n",
    "    if not sym:\n",
    "        return M + 1, True\n",
    "    else:\n",
    "        return M, False\n",
    "\n",
    "\n",
    "def _truncate(w, needed):\n",
    "    \"\"\"Truncate window by 1 sample if needed for DFT-even symmetry\"\"\"\n",
    "    if needed:\n",
    "        return w[:-1]\n",
    "    else:\n",
    "        return w\n",
    "\n",
    "def planck(M, alpha=0.5, sym=True):\n",
    "    r\"\"\"Return a Tukey window, also known as a tapered cosine window.\n",
    "    Parameters\n",
    "    ----------\n",
    "    M : int\n",
    "        Number of points in the output window. If zero or less, an empty\n",
    "        array is returned.\n",
    "    alpha : float, optional\n",
    "        Shape parameter of the Tukey window, representing the fraction of the\n",
    "        window inside the cosine tapered region.\n",
    "        If zero, the Tukey window is equivalent to a rectangular window.\n",
    "        If one, the Tukey window is equivalent to a Hann window.\n",
    "    sym : bool, optional\n",
    "        When True (default), generates a symmetric window, for use in filter\n",
    "        design.\n",
    "        When False, generates a periodic window, for use in spectral analysis.\n",
    "    Returns\n",
    "    -------\n",
    "    w : ndarray\n",
    "        The window, with the maximum value normalized to 1 (though the value 1\n",
    "        does not appear if `M` is even and `sym` is True).\n",
    "    References\n",
    "    ----------\n",
    "    .. [1] Harris, Fredric J. (Jan 1978). \"On the use of Windows for Harmonic\n",
    "           Analysis with the Discrete Fourier Transform\". Proceedings of the\n",
    "           IEEE 66 (1): 51-83. :doi:`10.1109/PROC.1978.10837`\n",
    "    .. [2] Wikipedia, \"Window function\",\n",
    "           https://en.wikipedia.org/wiki/Window_function#Tukey_window\n",
    "    Examples\n",
    "    --------\n",
    "    Plot the window and its frequency response:\n",
    "    >>> from scipy import signal\n",
    "    >>> from scipy.fft import fft, fftshift\n",
    "    >>> import matplotlib.pyplot as plt\n",
    "    >>> window = signal.windows.tukey(51)\n",
    "    >>> plt.plot(window)\n",
    "    >>> plt.title(\"Tukey window\")\n",
    "    >>> plt.ylabel(\"Amplitude\")\n",
    "    >>> plt.xlabel(\"Sample\")\n",
    "    >>> plt.ylim([0, 1.1])\n",
    "    >>> plt.figure()\n",
    "    >>> A = fft(window, 2048) / (len(window)/2.0)\n",
    "    >>> freq = np.linspace(-0.5, 0.5, len(A))\n",
    "    >>> response = 20 * np.log10(np.abs(fftshift(A / abs(A).max())))\n",
    "    >>> plt.plot(freq, response)\n",
    "    >>> plt.axis([-0.5, 0.5, -120, 0])\n",
    "    >>> plt.title(\"Frequency response of the Tukey window\")\n",
    "    >>> plt.ylabel(\"Normalized magnitude [dB]\")\n",
    "    >>> plt.xlabel(\"Normalized frequency [cycles per sample]\")\n",
    "    \"\"\"\n",
    "    if _len_guards(M):\n",
    "        return np.ones(M)\n",
    "\n",
    "    if alpha <= 0:\n",
    "        return np.ones(M, 'd')\n",
    "    elif alpha >= 1.0:\n",
    "        return hann(M, sym=sym)\n",
    "\n",
    "    M, needs_trunc = _extend(M, sym)\n",
    "\n",
    "    n = np.arange(0, M)\n",
    "    width = int(np.floor(alpha*(M-1)))\n",
    "    n1 = n[1:width+1]\n",
    "    n2 = n[width+1:M-width-1]\n",
    "    n3 = n[M-width-1:-1]\n",
    "    N = M - 1\n",
    "    w1 = 1/(1+np.exp(alpha*N/n1-alpha*N/(alpha*N-n1)))#0.5 * (1 + np.cos(np.pi * (-1 + 2.0*n1/alpha/(M-1))))\n",
    "    w2 = np.ones(n2.shape)\n",
    "    w3 = 1/(1+np.exp(alpha*N/(N-n3)-alpha*N/(alpha*N-N+n3)))#0.5 * (1 + np.cos(np.pi * (-2.0/alpha + 1 + 2.0*n3/alpha/(M-1))))\n",
    "\n",
    "    w = np.concatenate((np.array([0]),w1, w2, w3, np.array([0])))\n",
    "\n",
    "    return _truncate(w, needs_trunc)"
   ]
  },
  {
   "cell_type": "code",
   "execution_count": 134,
   "id": "7227c468-bf92-498d-a4b5-5f9e0efaaeb6",
   "metadata": {},
   "outputs": [],
   "source": [
    "if Config.window=='tukey':\n",
    "    window = signal.windows.tukey(4096+2*2048,Config.alpha)\n",
    "elif Config.window=='planck':\n",
    "    window = planck(4096+2*2048,Config.alpha)\n",
    "elif Config.window=='hann':\n",
    "    window = signal.windows.hann(4096+2*2048)\n",
    "elif Config.window=='nuttall':\n",
    "    window = signal.windows.nuttall(4096+2*2048)"
   ]
  },
  {
   "cell_type": "code",
   "execution_count": 135,
   "id": "4d91089f-e534-479b-9f51-6218b83fb763",
   "metadata": {},
   "outputs": [
    {
     "data": {
      "text/plain": [
       "array([0.0000000e+00, 1.4710447e-07, 5.8841780e-07, ..., 5.8841780e-07,\n",
       "       1.4710447e-07, 0.0000000e+00])"
      ]
     },
     "execution_count": 135,
     "metadata": {},
     "output_type": "execute_result"
    }
   ],
   "source": [
    "window"
   ]
  },
  {
   "cell_type": "code",
   "execution_count": 136,
   "id": "3bf26702-bf02-4c59-8267-f0f46a1200ba",
   "metadata": {},
   "outputs": [
    {
     "data": {
      "text/plain": [
       "8192"
      ]
     },
     "execution_count": 136,
     "metadata": {},
     "output_type": "execute_result"
    }
   ],
   "source": [
    "len(window)"
   ]
  },
  {
   "cell_type": "code",
   "execution_count": 137,
   "id": "abe99ec1-3980-48ca-825a-49046a7574fd",
   "metadata": {},
   "outputs": [],
   "source": [
    "# avr_w_all = torch.load(\"./avr_w_all.pth\")\n",
    "# avr_w = torch.load(\"./avr_w.pth\")\n",
    "avr_w0 = torch.load(\"./avr_w0.pth\")\n",
    "window = torch.FloatTensor(window)\n",
    "def process_wave(waves, window, avr_w):\n",
    "    c = torch.FloatTensor(waves)\n",
    "    c = torch.cat([-c.flip(-1)[:,4096-2049:-1]+2*c[:,0].unsqueeze(-1),c,\n",
    "                                      -c.flip(-1)[:,1:2049]+2*c[:,-1].unsqueeze(-1)],1)    \n",
    "    c = torch.fft.ifft(torch.fft.fft((1e20*c*window))/avr_w0).real[:,2048:-2048]\n",
    "    return c.numpy()\n",
    "# waves = np.load(train.iloc[0,-1])\n",
    "\n"
   ]
  },
  {
   "cell_type": "code",
   "execution_count": 138,
   "id": "70914274-f16e-49ab-a446-4a3e6223143c",
   "metadata": {},
   "outputs": [],
   "source": [
    "def save_processed_waves(input_file_path, output_folder, avg_asd=None):\n",
    "    file_name = input_file_path.split('/')[-1].split('.npy')[0]\n",
    "    waves = np.load(input_file_path).astype(np.float32) # (3, 4096)\n",
    "    processed_waves = process_wave(waves, window, avr_w0).astype(np.float32)\n",
    "    np.save(output_folder + file_name, processed_waves)"
   ]
  },
  {
   "cell_type": "code",
   "execution_count": 139,
   "id": "cdb28e3e-cdc9-4e91-8531-f64cade1cdbf",
   "metadata": {},
   "outputs": [
    {
     "data": {
      "application/vnd.jupyter.widget-view+json": {
       "model_id": "9b10a3afe1744e9f9c8ad0bf023edcb7",
       "version_major": 2,
       "version_minor": 0
      },
      "text/plain": [
       "HBox(children=(HTML(value=''), FloatProgress(value=0.0, max=560000.0), HTML(value='')))"
      ]
     },
     "metadata": {},
     "output_type": "display_data"
    },
    {
     "name": "stdout",
     "output_type": "stream",
     "text": [
      "\n"
     ]
    }
   ],
   "source": [
    "if Config.whiten_train:\n",
    "    _ = joblib.Parallel(n_jobs=8)(\n",
    "        joblib.delayed(save_processed_waves)(input_file_path,Config.output_folder_train) for input_file_path in tqdm(train['file_path'].values)\n",
    "    )\n",
    "if Config.whiten_test:\n",
    "    _ = joblib.Parallel(n_jobs=8)(\n",
    "        joblib.delayed(save_processed_waves)(input_file_path,Config.output_folder_test) for input_file_path in tqdm(test['file_path'].values)\n",
    "    )"
   ]
  }
 ],
 "metadata": {
  "kernelspec": {
   "display_name": "Python 3",
   "language": "python",
   "name": "python3"
  },
  "language_info": {
   "codemirror_mode": {
    "name": "ipython",
    "version": 3
   },
   "file_extension": ".py",
   "mimetype": "text/x-python",
   "name": "python",
   "nbconvert_exporter": "python",
   "pygments_lexer": "ipython3",
   "version": "3.8.8"
  },
  "toc": {
   "base_numbering": 1,
   "nav_menu": {},
   "number_sections": true,
   "sideBar": true,
   "skip_h1_title": false,
   "title_cell": "Table of Contents",
   "title_sidebar": "Contents",
   "toc_cell": false,
   "toc_position": {},
   "toc_section_display": true,
   "toc_window_display": false
  },
  "toc-autonumbering": true,
  "toc-showcode": false
 },
 "nbformat": 4,
 "nbformat_minor": 5
}
