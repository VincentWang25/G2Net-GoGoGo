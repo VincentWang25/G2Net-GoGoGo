{
 "cells": [
  {
   "cell_type": "code",
   "execution_count": 84,
   "id": "33022ab1-fc76-4842-b103-5158e7dc53c2",
   "metadata": {},
   "outputs": [
    {
     "name": "stdout",
     "output_type": "stream",
     "text": [
      "Requirement already satisfied: update in /opt/conda/lib/python3.8/site-packages (0.0.1)\n",
      "Requirement already satisfied: scipy==1.7 in /opt/conda/lib/python3.8/site-packages (1.7.0)\n",
      "Requirement already satisfied: numpy<1.23.0,>=1.16.5 in /opt/conda/lib/python3.8/site-packages (from scipy==1.7) (1.20.3)\n",
      "Requirement already satisfied: style==1.1.0 in /opt/conda/lib/python3.8/site-packages (from update) (1.1.0)\n",
      "\u001b[33mWARNING: Running pip as the 'root' user can result in broken permissions and conflicting behaviour with the system package manager. It is recommended to use a virtual environment instead: https://pip.pypa.io/warnings/venv\u001b[0m\n",
      "\u001b[33mWARNING: You are using pip version 21.1.3; however, version 21.2.4 is available.\n",
      "You should consider upgrading via the '/opt/conda/bin/python3.8 -m pip install --upgrade pip' command.\u001b[0m\n"
     ]
    }
   ],
   "source": [
    "!pip install update scipy==1.7"
   ]
  },
  {
   "cell_type": "code",
   "execution_count": 85,
   "id": "feee8d64-9aa6-4380-aff1-a27af890765e",
   "metadata": {},
   "outputs": [],
   "source": [
    "import pandas as pd\n",
    "import numpy as np\n",
    "import matplotlib.pyplot as plt\n",
    "import torch\n",
    "from scipy.stats import rankdata\n",
    "from sklearn.metrics import roc_auc_score\n",
    "from scipy.optimize import minimize\n",
    "from scipy.special import expit as sigmoid\n",
    "from pathlib import Path\n",
    "# import seaborn as sns\n",
    "from scipy.optimize import minimize, fsolve\n",
    "import os"
   ]
  },
  {
   "cell_type": "code",
   "execution_count": 86,
   "id": "33474714-a574-47a9-a0d7-0fb1eb121d3e",
   "metadata": {},
   "outputs": [
    {
     "data": {
      "text/plain": [
       "'1.7.0'"
      ]
     },
     "execution_count": 86,
     "metadata": {},
     "output_type": "execute_result"
    }
   ],
   "source": [
    "import scipy\n",
    "scipy.__version__"
   ]
  },
  {
   "cell_type": "code",
   "execution_count": 87,
   "id": "03399c4d-8cd7-4d53-bf86-54dc22b6a9ed",
   "metadata": {},
   "outputs": [
    {
     "data": {
      "text/plain": [
       "'G2Net-Model/121st_V2SD_PL_6ep_2em3lr_32ch_vf+gn+sc01+tm+ts/'"
      ]
     },
     "metadata": {},
     "output_type": "display_data"
    }
   ],
   "source": [
    "class Config:\n",
    "\n",
    "    #frequently changed \n",
    "\n",
    "    model_version = \"124th_V2SDCBAM_PL_6ep_2em3lr_32ch_vf+gn+sc01+tm+ts\"#\n",
    "    \n",
    "\n",
    "\n",
    "    output_dir = \"G2Net-Model/\"\n",
    "    kaggle_json_path = 'kaggle/kaggle.json'\n",
    "    train_folds = [0]\n",
    "\n",
    "\n",
    "# no need to change below\n",
    "Config.model_output_folder = Config.output_dir + Config.model_version + \"/\"\n",
    "if not os.path.exists(Config.output_dir):\n",
    "    os.mkdir(Config.output_dir)\n",
    "if not os.path.exists(Config.model_output_folder):\n",
    "    os.mkdir(Config.model_output_folder)\n",
    "\n",
    "    \n",
    "\n",
    "display(Config.model_output_folder)"
   ]
  },
  {
   "cell_type": "code",
   "execution_count": 88,
   "id": "57de26e3-48f3-43ac-bbfe-ce8f9d24e073",
   "metadata": {},
   "outputs": [],
   "source": [
    "oof_all = pd.read_csv(f'{Config.model_output_folder}/oof_all.csv')"
   ]
  },
  {
   "cell_type": "code",
   "execution_count": 89,
   "id": "e55bf9eb-5b03-44c0-9851-afd7f71f22f9",
   "metadata": {},
   "outputs": [
    {
     "data": {
      "text/html": [
       "<div>\n",
       "<style scoped>\n",
       "    .dataframe tbody tr th:only-of-type {\n",
       "        vertical-align: middle;\n",
       "    }\n",
       "\n",
       "    .dataframe tbody tr th {\n",
       "        vertical-align: top;\n",
       "    }\n",
       "\n",
       "    .dataframe thead th {\n",
       "        text-align: right;\n",
       "    }\n",
       "</style>\n",
       "<table border=\"1\" class=\"dataframe\">\n",
       "  <thead>\n",
       "    <tr style=\"text-align: right;\">\n",
       "      <th></th>\n",
       "      <th>id</th>\n",
       "      <th>target</th>\n",
       "      <th>file_path</th>\n",
       "      <th>fold</th>\n",
       "      <th>preds</th>\n",
       "      <th>tta__vflip</th>\n",
       "      <th>tta__add_gaussian_noise</th>\n",
       "      <th>tta__timemask</th>\n",
       "      <th>tta__shuffle01</th>\n",
       "      <th>tta__time_shift</th>\n",
       "      <th>avg</th>\n",
       "    </tr>\n",
       "  </thead>\n",
       "  <tbody>\n",
       "    <tr>\n",
       "      <th>0</th>\n",
       "      <td>00001f4945</td>\n",
       "      <td>0</td>\n",
       "      <td>./output/whiten-train-w0/00001f4945.npy</td>\n",
       "      <td>0</td>\n",
       "      <td>0.099930</td>\n",
       "      <td>0.089354</td>\n",
       "      <td>0.097569</td>\n",
       "      <td>0.118715</td>\n",
       "      <td>0.082655</td>\n",
       "      <td>0.089527</td>\n",
       "      <td>0.091259</td>\n",
       "    </tr>\n",
       "    <tr>\n",
       "      <th>1</th>\n",
       "      <td>00007a006a</td>\n",
       "      <td>0</td>\n",
       "      <td>./output/whiten-train-w0/00007a006a.npy</td>\n",
       "      <td>0</td>\n",
       "      <td>0.109531</td>\n",
       "      <td>0.100988</td>\n",
       "      <td>0.111113</td>\n",
       "      <td>0.116100</td>\n",
       "      <td>0.129147</td>\n",
       "      <td>0.102913</td>\n",
       "      <td>0.110756</td>\n",
       "    </tr>\n",
       "    <tr>\n",
       "      <th>2</th>\n",
       "      <td>0000bb9f3e</td>\n",
       "      <td>1</td>\n",
       "      <td>./output/whiten-train-w0/0000bb9f3e.npy</td>\n",
       "      <td>0</td>\n",
       "      <td>0.999744</td>\n",
       "      <td>0.999815</td>\n",
       "      <td>0.999741</td>\n",
       "      <td>0.999732</td>\n",
       "      <td>0.999753</td>\n",
       "      <td>0.999703</td>\n",
       "      <td>0.999782</td>\n",
       "    </tr>\n",
       "    <tr>\n",
       "      <th>3</th>\n",
       "      <td>0000c3b9c9</td>\n",
       "      <td>0</td>\n",
       "      <td>./output/whiten-train-w0/0000c3b9c9.npy</td>\n",
       "      <td>0</td>\n",
       "      <td>0.161823</td>\n",
       "      <td>0.157209</td>\n",
       "      <td>0.166805</td>\n",
       "      <td>0.160586</td>\n",
       "      <td>0.191369</td>\n",
       "      <td>0.116280</td>\n",
       "      <td>0.167433</td>\n",
       "    </tr>\n",
       "    <tr>\n",
       "      <th>4</th>\n",
       "      <td>00014b7a9d</td>\n",
       "      <td>1</td>\n",
       "      <td>./output/whiten-train-w0/00014b7a9d.npy</td>\n",
       "      <td>0</td>\n",
       "      <td>0.131049</td>\n",
       "      <td>0.099187</td>\n",
       "      <td>0.131330</td>\n",
       "      <td>0.145078</td>\n",
       "      <td>0.140381</td>\n",
       "      <td>0.122459</td>\n",
       "      <td>0.117907</td>\n",
       "    </tr>\n",
       "    <tr>\n",
       "      <th>...</th>\n",
       "      <td>...</td>\n",
       "      <td>...</td>\n",
       "      <td>...</td>\n",
       "      <td>...</td>\n",
       "      <td>...</td>\n",
       "      <td>...</td>\n",
       "      <td>...</td>\n",
       "      <td>...</td>\n",
       "      <td>...</td>\n",
       "      <td>...</td>\n",
       "      <td>...</td>\n",
       "    </tr>\n",
       "    <tr>\n",
       "      <th>559995</th>\n",
       "      <td>fffe39b914</td>\n",
       "      <td>1</td>\n",
       "      <td>./output/whiten-train-w0/fffe39b914.npy</td>\n",
       "      <td>4</td>\n",
       "      <td>0.999987</td>\n",
       "      <td>0.999988</td>\n",
       "      <td>0.999987</td>\n",
       "      <td>0.999988</td>\n",
       "      <td>0.999988</td>\n",
       "      <td>0.999986</td>\n",
       "      <td>0.999987</td>\n",
       "    </tr>\n",
       "    <tr>\n",
       "      <th>559996</th>\n",
       "      <td>fffe76e415</td>\n",
       "      <td>1</td>\n",
       "      <td>./output/whiten-train-w0/fffe76e415.npy</td>\n",
       "      <td>4</td>\n",
       "      <td>0.217293</td>\n",
       "      <td>0.196383</td>\n",
       "      <td>0.218607</td>\n",
       "      <td>0.218664</td>\n",
       "      <td>0.172150</td>\n",
       "      <td>0.246506</td>\n",
       "      <td>0.195296</td>\n",
       "    </tr>\n",
       "    <tr>\n",
       "      <th>559997</th>\n",
       "      <td>fffe81f2ec</td>\n",
       "      <td>0</td>\n",
       "      <td>./output/whiten-train-w0/fffe81f2ec.npy</td>\n",
       "      <td>4</td>\n",
       "      <td>0.071158</td>\n",
       "      <td>0.076111</td>\n",
       "      <td>0.071729</td>\n",
       "      <td>0.070844</td>\n",
       "      <td>0.050760</td>\n",
       "      <td>0.062879</td>\n",
       "      <td>0.068675</td>\n",
       "    </tr>\n",
       "    <tr>\n",
       "      <th>559998</th>\n",
       "      <td>ffff1a0fee</td>\n",
       "      <td>1</td>\n",
       "      <td>./output/whiten-train-w0/ffff1a0fee.npy</td>\n",
       "      <td>4</td>\n",
       "      <td>0.983958</td>\n",
       "      <td>0.974472</td>\n",
       "      <td>0.983982</td>\n",
       "      <td>0.987609</td>\n",
       "      <td>0.986911</td>\n",
       "      <td>0.988522</td>\n",
       "      <td>0.980039</td>\n",
       "    </tr>\n",
       "    <tr>\n",
       "      <th>559999</th>\n",
       "      <td>fffff2180b</td>\n",
       "      <td>0</td>\n",
       "      <td>./output/whiten-train-w0/fffff2180b.npy</td>\n",
       "      <td>4</td>\n",
       "      <td>0.164821</td>\n",
       "      <td>0.174037</td>\n",
       "      <td>0.164269</td>\n",
       "      <td>0.138648</td>\n",
       "      <td>0.173726</td>\n",
       "      <td>0.170400</td>\n",
       "      <td>0.169650</td>\n",
       "    </tr>\n",
       "  </tbody>\n",
       "</table>\n",
       "<p>560000 rows × 11 columns</p>\n",
       "</div>"
      ],
      "text/plain": [
       "                id  target                                file_path  fold  \\\n",
       "0       00001f4945       0  ./output/whiten-train-w0/00001f4945.npy     0   \n",
       "1       00007a006a       0  ./output/whiten-train-w0/00007a006a.npy     0   \n",
       "2       0000bb9f3e       1  ./output/whiten-train-w0/0000bb9f3e.npy     0   \n",
       "3       0000c3b9c9       0  ./output/whiten-train-w0/0000c3b9c9.npy     0   \n",
       "4       00014b7a9d       1  ./output/whiten-train-w0/00014b7a9d.npy     0   \n",
       "...            ...     ...                                      ...   ...   \n",
       "559995  fffe39b914       1  ./output/whiten-train-w0/fffe39b914.npy     4   \n",
       "559996  fffe76e415       1  ./output/whiten-train-w0/fffe76e415.npy     4   \n",
       "559997  fffe81f2ec       0  ./output/whiten-train-w0/fffe81f2ec.npy     4   \n",
       "559998  ffff1a0fee       1  ./output/whiten-train-w0/ffff1a0fee.npy     4   \n",
       "559999  fffff2180b       0  ./output/whiten-train-w0/fffff2180b.npy     4   \n",
       "\n",
       "           preds  tta__vflip  tta__add_gaussian_noise  tta__timemask  \\\n",
       "0       0.099930    0.089354                 0.097569       0.118715   \n",
       "1       0.109531    0.100988                 0.111113       0.116100   \n",
       "2       0.999744    0.999815                 0.999741       0.999732   \n",
       "3       0.161823    0.157209                 0.166805       0.160586   \n",
       "4       0.131049    0.099187                 0.131330       0.145078   \n",
       "...          ...         ...                      ...            ...   \n",
       "559995  0.999987    0.999988                 0.999987       0.999988   \n",
       "559996  0.217293    0.196383                 0.218607       0.218664   \n",
       "559997  0.071158    0.076111                 0.071729       0.070844   \n",
       "559998  0.983958    0.974472                 0.983982       0.987609   \n",
       "559999  0.164821    0.174037                 0.164269       0.138648   \n",
       "\n",
       "        tta__shuffle01  tta__time_shift       avg  \n",
       "0             0.082655         0.089527  0.091259  \n",
       "1             0.129147         0.102913  0.110756  \n",
       "2             0.999753         0.999703  0.999782  \n",
       "3             0.191369         0.116280  0.167433  \n",
       "4             0.140381         0.122459  0.117907  \n",
       "...                ...              ...       ...  \n",
       "559995        0.999988         0.999986  0.999987  \n",
       "559996        0.172150         0.246506  0.195296  \n",
       "559997        0.050760         0.062879  0.068675  \n",
       "559998        0.986911         0.988522  0.980039  \n",
       "559999        0.173726         0.170400  0.169650  \n",
       "\n",
       "[560000 rows x 11 columns]"
      ]
     },
     "execution_count": 89,
     "metadata": {},
     "output_type": "execute_result"
    }
   ],
   "source": [
    "oof_all"
   ]
  },
  {
   "cell_type": "code",
   "execution_count": 90,
   "id": "a26927cb-4e97-431c-b86b-02c5a3aa6e78",
   "metadata": {},
   "outputs": [
    {
     "data": {
      "text/plain": [
       "target\n",
       "0    AxesSubplot(0.125,0.125;0.775x0.755)\n",
       "1    AxesSubplot(0.125,0.125;0.775x0.755)\n",
       "Name: preds, dtype: object"
      ]
     },
     "execution_count": 90,
     "metadata": {},
     "output_type": "execute_result"
    },
    {
     "data": {
      "image/png": "[encoded data removed]",
      "text/plain": [
       "<Figure size 432x288 with 1 Axes>"
      ]
     },
     "metadata": {
      "needs_background": "light"
     },
     "output_type": "display_data"
    }
   ],
   "source": [
    "oof_all.groupby(\"target\")[\"preds\"].hist(bins=100, alpha=0.5, range=[0, 1],log=True)"
   ]
  },
  {
   "cell_type": "code",
   "execution_count": 91,
   "id": "3dca4676-307c-4cf8-93b8-23ea77ee613a",
   "metadata": {},
   "outputs": [],
   "source": [
    "# plt.figure(figsize=(8,6))\n",
    "# plt.hist(oof, bins=100, alpha=0.5, range=[0, 1])\n",
    "# plt.suptitle(f\"Unit: {pre_method}\")\n",
    "# plt.legend(loc='upper right');"
   ]
  },
  {
   "cell_type": "code",
   "execution_count": 92,
   "id": "39cea9a1-e3be-4813-a7e7-f525848cecbf",
   "metadata": {},
   "outputs": [
    {
     "name": "stdout",
     "output_type": "stream",
     "text": [
      "              total        used        free      shared  buff/cache   available\n",
      "Mem:            251          50          12           1         188         197\n",
      "Swap:             1           1           0\n"
     ]
    }
   ],
   "source": [
    "!free -g"
   ]
  },
  {
   "cell_type": "code",
   "execution_count": 93,
   "id": "be13ef34-7c3b-4969-9537-4fe89143c1fe",
   "metadata": {},
   "outputs": [],
   "source": [
    "oof_df = oof_all"
   ]
  },
  {
   "cell_type": "code",
   "execution_count": 94,
   "id": "33d106df-15ab-4ab9-9045-1d14af526f2e",
   "metadata": {},
   "outputs": [],
   "source": [
    "def score_oof(oof, full=False, col=None, get_list=False):\n",
    "    if col is None:\n",
    "        col = \"prediction\"\n",
    "    if full:\n",
    "        return round(roc_auc_score(oof[\"target\"], oof[col]),6)\n",
    "    else:\n",
    "        scores = [roc_auc_score(df[\"target\"], df[col]) for _, df in oof.groupby(\"fold\")]\n",
    "        if get_list:\n",
    "            return scores\n",
    "        return round(np.mean(scores),6)\n",
    "    \n",
    "def score_oof_fast(oof, full=False, col=None, get_list=False):\n",
    "    if col is None:\n",
    "        col = \"prediction\"\n",
    "    if full:\n",
    "        return round(fast_auc(oof[\"target\"], oof[col]),6)\n",
    "    else:\n",
    "        scores = [fast_auc(df[\"target\"], df[col]) for _, df in oof.groupby(\"fold\")]\n",
    "        if get_list:\n",
    "            return scores\n",
    "        return round(np.mean(scores),6)\n",
    "\n",
    "from numba import jit\n",
    "\n",
    "@jit\n",
    "def fast_auc(y_true, y_prob):\n",
    "    y_true = np.asarray(y_true)\n",
    "    y_true = y_true[np.argsort(y_prob)]\n",
    "    nfalse = 0\n",
    "    auc = 0\n",
    "    n = len(y_true)\n",
    "    for i in range(n):\n",
    "        y_i = y_true[i]\n",
    "        nfalse += (1 - y_i)\n",
    "        auc += y_i * nfalse\n",
    "    auc /= (nfalse * (n - nfalse))\n",
    "    return auc"
   ]
  },
  {
   "cell_type": "code",
   "execution_count": 95,
   "id": "a851ee53-72be-40b2-9015-36e072a998b3",
   "metadata": {},
   "outputs": [
    {
     "name": "stdout",
     "output_type": "stream",
     "text": [
      "Index(['preds', 'tta__vflip', 'tta__add_gaussian_noise', 'tta__timemask',\n",
      "       'tta__shuffle01', 'tta__time_shift'],\n",
      "      dtype='object') (560000, 11)\n"
     ]
    },
    {
     "name": "stderr",
     "output_type": "stream",
     "text": [
      "/tmp/ipykernel_381/3537683612.py:25: NumbaWarning: \u001b[1m\n",
      "Compilation is falling back to object mode WITH looplifting enabled because Function \"fast_auc\" failed type inference due to: \u001b[1m\u001b[1mnon-precise type pyobject\u001b[0m\n",
      "\u001b[0m\u001b[1mDuring: typing of argument at /tmp/ipykernel_381/3537683612.py (27)\u001b[0m\n",
      "\u001b[1m\n",
      "File \"../tmp/ipykernel_381/3537683612.py\", line 27:\u001b[0m\n",
      "\u001b[1m<source missing, REPL/exec in use?>\u001b[0m\n",
      "\u001b[0m\n",
      "  @jit\n",
      "/tmp/ipykernel_381/3537683612.py:25: NumbaWarning: \u001b[1m\n",
      "Compilation is falling back to object mode WITHOUT looplifting enabled because Function \"fast_auc\" failed type inference due to: \u001b[1m\u001b[1mCannot determine Numba type of <class 'numba.core.dispatcher.LiftedLoop'>\u001b[0m\n",
      "\u001b[1m\n",
      "File \"../tmp/ipykernel_381/3537683612.py\", line 32:\u001b[0m\n",
      "\u001b[1m<source missing, REPL/exec in use?>\u001b[0m\n",
      "\u001b[0m\u001b[0m\n",
      "  @jit\n",
      "/opt/conda/lib/python3.8/site-packages/numba/core/object_mode_passes.py:151: NumbaWarning: \u001b[1mFunction \"fast_auc\" was compiled in object mode without forceobj=True, but has lifted loops.\n",
      "\u001b[1m\n",
      "File \"../tmp/ipykernel_381/3537683612.py\", line 27:\u001b[0m\n",
      "\u001b[1m<source missing, REPL/exec in use?>\u001b[0m\n",
      "\u001b[0m\n",
      "  warnings.warn(errors.NumbaWarning(warn_msg,\n",
      "/opt/conda/lib/python3.8/site-packages/numba/core/object_mode_passes.py:161: NumbaDeprecationWarning: \u001b[1m\n",
      "Fall-back from the nopython compilation path to the object mode compilation path has been detected, this is deprecated behaviour.\n",
      "\n",
      "For more information visit https://numba.pydata.org/numba-doc/latest/reference/deprecation.html#deprecation-of-object-mode-fall-back-behaviour-when-using-jit\n",
      "\u001b[1m\n",
      "File \"../tmp/ipykernel_381/3537683612.py\", line 27:\u001b[0m\n",
      "\u001b[1m<source missing, REPL/exec in use?>\u001b[0m\n",
      "\u001b[0m\n",
      "  warnings.warn(errors.NumbaDeprecationWarning(msg,\n"
     ]
    },
    {
     "name": "stdout",
     "output_type": "stream",
     "text": [
      "Inital Blend OOF: 0.880928\n",
      "Optimised Blend OOF: 0.881107\n",
      "----------------------------------------------------------------------\n",
      "preds                                    Optimised Weights: 7.797196678443609e-05\n",
      "tta__vflip                               Optimised Weights: 0.6033792167851374\n",
      "tta__add_gaussian_noise                  Optimised Weights: 0.16364701185297326\n",
      "tta__timemask                            Optimised Weights: 0.0950746165241953\n",
      "tta__shuffle01                           Optimised Weights: 0.28977677405259084\n",
      "tta__time_shift                          Optimised Weights: 0.00025781355844289427\n",
      "CPU times: user 31.6 s, sys: 1.15 s, total: 32.7 s\n",
      "Wall time: 32.8 s\n"
     ]
    },
    {
     "data": {
      "text/plain": [
       "<AxesSubplot:>"
      ]
     },
     "execution_count": 95,
     "metadata": {},
     "output_type": "execute_result"
    },
    {
     "data": {
      "image/png": "[encoded data removed]",
      "text/plain": [
       "<Figure size 720x1152 with 1 Axes>"
      ]
     },
     "metadata": {
      "needs_background": "light"
     },
     "output_type": "display_data"
    }
   ],
   "source": [
    "%%time\n",
    "sci_opt_preds = oof_df.copy() \n",
    "model_cols = oof_df.columns[4:-1]\n",
    "X = sci_opt_preds[model_cols].values\n",
    "print(model_cols, sci_opt_preds.shape)\n",
    "def get_score(weights, oof=sci_opt_preds):\n",
    "    weights = np.array(weights)\n",
    "    sci_opt_preds[\"prediction\"] = (weights * X).sum(axis=1)\n",
    "    return -score_oof_fast(sci_opt_preds)\n",
    "\n",
    "tol = 1e-10\n",
    "init_guess = [1 / len(model_cols)] * len(model_cols)\n",
    "bnds = [(0, 1) for _ in range(len(model_cols))]\n",
    "print('Inital Blend OOF: {:.6f}'.format(-get_score(init_guess)))\n",
    "res_scipy = minimize(fun = get_score, \n",
    "                    x0 = init_guess, \n",
    "                    method = 'Nelder-Mead', \n",
    "                    bounds = bnds, \n",
    "                    tol = tol)\n",
    "print('Optimised Blend OOF: {:.6f}'.format(-res_scipy.fun))\n",
    "sci_cv_score = -res_scipy.fun\n",
    "print('-' * 70)\n",
    "for n, key in enumerate(model_cols):\n",
    "    print(f'{key:40s} Optimised Weights:', res_scipy.x[n])\n",
    "ws = res_scipy.x \n",
    "ws = ws / np.sum(ws) # The nelder-mead method requires normalization because the sum of the weights does not equal 1.\n",
    "pd.DataFrame(dict(zip(model_cols,ws)),index=[\"weight\"]).T.plot(kind=\"barh\",figsize=(10,16))"
   ]
  },
  {
   "cell_type": "code",
   "execution_count": 96,
   "id": "b604c9f9-b0ef-43f3-af64-b0f0c3c64f1d",
   "metadata": {},
   "outputs": [
    {
     "data": {
      "text/plain": [
       "1.0000000000000004"
      ]
     },
     "execution_count": 96,
     "metadata": {},
     "output_type": "execute_result"
    }
   ],
   "source": [
    "np.sum(ws) "
   ]
  },
  {
   "cell_type": "code",
   "execution_count": 97,
   "id": "9178c75b-0fba-41d3-9f1e-ca9d85d3126f",
   "metadata": {},
   "outputs": [
    {
     "name": "stdout",
     "output_type": "stream",
     "text": [
      "preds                                    Optimised Weights: 6.767146299779623e-05\n",
      "tta__vflip                               Optimised Weights: 0.5236696729120477\n",
      "tta__add_gaussian_noise                  Optimised Weights: 0.14202838743217283\n",
      "tta__timemask                            Optimised Weights: 0.082514763439711\n",
      "tta__shuffle01                           Optimised Weights: 0.2514957497113554\n",
      "tta__time_shift                          Optimised Weights: 0.0002237550417155951\n"
     ]
    }
   ],
   "source": [
    "for n, key in enumerate(model_cols):\n",
    "    print(f'{key:40s} Optimised Weights:', ws[n])"
   ]
  },
  {
   "cell_type": "code",
   "execution_count": 98,
   "id": "b39e8906-0ead-42b0-94dc-ff8477e5fe93",
   "metadata": {},
   "outputs": [],
   "source": [
    "oof_weight = {key:ws[n] for n, key in enumerate(model_cols) }"
   ]
  },
  {
   "cell_type": "code",
   "execution_count": 99,
   "id": "e1775b08-5520-457d-be3d-abfab81cf145",
   "metadata": {},
   "outputs": [
    {
     "data": {
      "text/plain": [
       "{'preds': 6.767146299779623e-05,\n",
       " 'tta__vflip': 0.5236696729120477,\n",
       " 'tta__add_gaussian_noise': 0.14202838743217283,\n",
       " 'tta__timemask': 0.082514763439711,\n",
       " 'tta__shuffle01': 0.2514957497113554,\n",
       " 'tta__time_shift': 0.0002237550417155951}"
      ]
     },
     "execution_count": 99,
     "metadata": {},
     "output_type": "execute_result"
    }
   ],
   "source": [
    "oof_weight"
   ]
  },
  {
   "cell_type": "code",
   "execution_count": 100,
   "id": "9490feab-7cc6-4af4-8562-8b5625525bbd",
   "metadata": {},
   "outputs": [
    {
     "name": "stdout",
     "output_type": "stream",
     "text": [
      "{'preds': 6.767146299779623e-05, 'tta__vflip': 0.5236696729120477, 'tta__add_gaussian_noise': 0.14202838743217283, 'tta__timemask': 0.082514763439711, 'tta__shuffle01': 0.2514957497113554, 'tta__time_shift': 0.0002237550417155951}\n",
      "preds 6.767146299779623e-05\n",
      "tta__vflip 0.5236696729120477\n",
      "tta__add_gaussian_noise 0.14202838743217283\n",
      "tta__timemask 0.082514763439711\n",
      "tta__shuffle01 0.2514957497113554\n",
      "tta__time_shift 0.0002237550417155951\n",
      "preds\n",
      "tta__vflip\n",
      "tta__add_gaussian_noise\n",
      "tta__timemask\n",
      "tta__shuffle01\n",
      "tta__time_shift\n",
      "preds_tta_avg: 0.8807862777149587\n"
     ]
    }
   ],
   "source": [
    "oof_all['avg']=0\n",
    "\n",
    "print(oof_weight)\n",
    "total_weight = 0\n",
    "for key,value in oof_weight.items():\n",
    "    print(key,value)\n",
    "\n",
    "for col in oof_all.columns:\n",
    "    if ('tta_' in col or 'preds' in col): # and 'time_shift' not in col and 'timemask' not in col\n",
    "        print(col)\n",
    "        total_weight+=oof_weight[col]\n",
    "        oof_all['avg'] += oof_all[col]*oof_weight[col]\n",
    "oof_all['avg'] /= total_weight\n",
    "\n",
    "print(\"preds_tta_avg:\",roc_auc_score(oof_all['target'], oof_all['avg']))\n",
    "\n",
    "oof_all.to_csv(Config.model_output_folder + \"/oof_all.csv\", index=False)\n",
    "oof_all[['id','fold','avg']].rename(columns={'id':'id','fold':'fold','avg':'prediction'}).to_csv(Config.model_output_folder + \"/oof_final.csv\", index=False)"
   ]
  },
  {
   "cell_type": "code",
   "execution_count": 101,
   "id": "a9afcecd-26be-47cd-a662-7a4852845f7d",
   "metadata": {},
   "outputs": [
    {
     "data": {
      "text/plain": [
       "fold\n",
       "0    0.881936\n",
       "1    0.880532\n",
       "2    0.880460\n",
       "3    0.882030\n",
       "4    0.880576\n",
       "dtype: float64"
      ]
     },
     "execution_count": 101,
     "metadata": {},
     "output_type": "execute_result"
    }
   ],
   "source": [
    "oof_all.groupby(\"fold\").apply(lambda df: roc_auc_score(df['target'],df['avg']))"
   ]
  },
  {
   "cell_type": "code",
   "execution_count": 102,
   "id": "714c6883-ad92-41c8-9aab-9be5f6789d66",
   "metadata": {},
   "outputs": [],
   "source": [
    "def id_2_path(file_id: str, train=True) -> str:\n",
    "    if train:\n",
    "        return \"./output/whiten-train-w0/{}.npy\".format(file_id)\n",
    "    else:\n",
    "        return \"./output/whiten-test-w0/{}.npy\".format(file_id)"
   ]
  },
  {
   "cell_type": "code",
   "execution_count": 103,
   "id": "9b611081-0a5b-4840-8e9f-6d1a56577f50",
   "metadata": {},
   "outputs": [],
   "source": [
    "train_df = pd.read_csv('training_labels.csv')\n",
    "test_df = pd.read_csv('sample_submission.csv')\n",
    "train_df['file_path'] = train_df['id'].apply(lambda x :id_2_path(x))\n",
    "test_df['file_path'] = test_df['id'].apply(lambda x :id_2_path(x,False))"
   ]
  },
  {
   "cell_type": "code",
   "execution_count": 104,
   "id": "a155b92f-e3a7-4333-bff9-9f421f6366a7",
   "metadata": {},
   "outputs": [
    {
     "name": "stdout",
     "output_type": "stream",
     "text": [
      "              target\n",
      "count  226000.000000\n",
      "mean        0.443313\n",
      "std         0.379427\n",
      "min         0.013887\n",
      "25%         0.107400\n",
      "50%         0.266901\n",
      "75%         0.952560\n",
      "max         1.000000\n",
      "AxesSubplot(0.125,0.125;0.775x0.755)\n",
      "                id    target\n",
      "0       00005bced6  0.999836\n",
      "1       0000806717  0.944775\n",
      "2       0000ef4fe1  0.293522\n",
      "3       00020de251  0.963577\n",
      "4       00024887b5  0.050008\n",
      "...            ...       ...\n",
      "225995  ffff4125f1  0.147693\n",
      "225996  ffff9d32a6  0.207015\n",
      "225997  ffff9f4c1f  0.162197\n",
      "225998  ffffa19693  0.999974\n",
      "225999  ffffebbfe2  0.039038\n",
      "\n",
      "[226000 rows x 2 columns]\n",
      "1.0000000000000004\n"
     ]
    },
    {
     "data": {
      "image/png": "[encoded data removed]",
      "text/plain": [
       "<Figure size 432x288 with 1 Axes>"
      ]
     },
     "metadata": {
      "needs_background": "light"
     },
     "output_type": "display_data"
    }
   ],
   "source": [
    "test_avg = test_df[['id', 'target']].copy()\n",
    "test_avg['target'] = 0\n",
    "# print(test_avg.describe())\n",
    "\n",
    "total_weight = 0\n",
    "for fold in Config.train_folds:\n",
    "#     test_weight = {key+f'_Fold_{fold}':value for key,value in oof_weight.items()}\n",
    "    test_weight = oof_weight #defaultdict(lambda:1)\n",
    "    test_df2 = pd.read_csv(Config.model_output_folder + f\"/test_Fold_{fold}.csv\")\n",
    "#     print(test_df2.describe())\n",
    "    for col in test_df2.columns:\n",
    "        col_weight = col.split('_Fold_')[0]\n",
    "        if ('tta_' in col or 'preds' in col): \n",
    "#             print(col)\n",
    "#             print(test_weight[col_weight])\n",
    "            total_weight+=test_weight[col_weight]\n",
    "            test_avg['target'] += test_df2[col]*test_weight[col_weight]\n",
    "test_avg['target'] /= total_weight\n",
    "print(test_avg.describe())\n",
    "print(test_avg[\"target\"].hist(bins=100))\n",
    "print(test_avg)\n",
    "print(total_weight)\n",
    "test_avg.to_csv(Config.model_output_folder + \"/test_avg.csv\", index=False)"
   ]
  },
  {
   "cell_type": "code",
   "execution_count": 105,
   "id": "390074c4-a172-4221-8a93-782a425d4173",
   "metadata": {},
   "outputs": [
    {
     "data": {
      "text/html": [
       "<div>\n",
       "<style scoped>\n",
       "    .dataframe tbody tr th:only-of-type {\n",
       "        vertical-align: middle;\n",
       "    }\n",
       "\n",
       "    .dataframe tbody tr th {\n",
       "        vertical-align: top;\n",
       "    }\n",
       "\n",
       "    .dataframe thead th {\n",
       "        text-align: right;\n",
       "    }\n",
       "</style>\n",
       "<table border=\"1\" class=\"dataframe\">\n",
       "  <thead>\n",
       "    <tr style=\"text-align: right;\">\n",
       "      <th></th>\n",
       "      <th>target</th>\n",
       "    </tr>\n",
       "  </thead>\n",
       "  <tbody>\n",
       "    <tr>\n",
       "      <th>count</th>\n",
       "      <td>226000.000000</td>\n",
       "    </tr>\n",
       "    <tr>\n",
       "      <th>mean</th>\n",
       "      <td>0.443313</td>\n",
       "    </tr>\n",
       "    <tr>\n",
       "      <th>std</th>\n",
       "      <td>0.379427</td>\n",
       "    </tr>\n",
       "    <tr>\n",
       "      <th>min</th>\n",
       "      <td>0.013887</td>\n",
       "    </tr>\n",
       "    <tr>\n",
       "      <th>25%</th>\n",
       "      <td>0.107400</td>\n",
       "    </tr>\n",
       "    <tr>\n",
       "      <th>50%</th>\n",
       "      <td>0.266901</td>\n",
       "    </tr>\n",
       "    <tr>\n",
       "      <th>75%</th>\n",
       "      <td>0.952560</td>\n",
       "    </tr>\n",
       "    <tr>\n",
       "      <th>max</th>\n",
       "      <td>1.000000</td>\n",
       "    </tr>\n",
       "  </tbody>\n",
       "</table>\n",
       "</div>"
      ],
      "text/plain": [
       "              target\n",
       "count  226000.000000\n",
       "mean        0.443313\n",
       "std         0.379427\n",
       "min         0.013887\n",
       "25%         0.107400\n",
       "50%         0.266901\n",
       "75%         0.952560\n",
       "max         1.000000"
      ]
     },
     "execution_count": 105,
     "metadata": {},
     "output_type": "execute_result"
    }
   ],
   "source": [
    "test_avg.describe()"
   ]
  },
  {
   "cell_type": "code",
   "execution_count": 106,
   "id": "9d893747-cefa-4192-ab08-239fb79f4dce",
   "metadata": {},
   "outputs": [],
   "source": [
    "test_avg[['id', 'target']].to_csv(\"./submission.csv\", index=False)\n",
    "\n",
    "test_avg[['id', 'target']].to_csv(Config.model_output_folder + \"/submission.csv\", index=False)\n",
    "\n",
    "!mkdir -p ~/.kaggle/ && cp $Config.kaggle_json_path ~/.kaggle/ && chmod 600 ~/.kaggle/kaggle.json"
   ]
  },
  {
   "cell_type": "code",
   "execution_count": 107,
   "id": "9935a2a0-83ca-4031-b6c5-41bcf3a72a52",
   "metadata": {},
   "outputs": [],
   "source": [
    "# !kaggle competitions submit -c g2net-gravitational-wave-detection -f ./submission.csv -m $Config.model_version"
   ]
  },
  {
   "cell_type": "code",
   "execution_count": null,
   "id": "ce6086e5-4f22-4ff7-a19b-62acbc9d393f",
   "metadata": {},
   "outputs": [],
   "source": []
  }
 ],
 "metadata": {
  "kernelspec": {
   "display_name": "Python 3",
   "language": "python",
   "name": "python3"
  },
  "language_info": {
   "codemirror_mode": {
    "name": "ipython",
    "version": 3
   },
   "file_extension": ".py",
   "mimetype": "text/x-python",
   "name": "python",
   "nbconvert_exporter": "python",
   "pygments_lexer": "ipython3",
   "version": "3.8.8"
  },
  "toc": {
   "base_numbering": 1,
   "nav_menu": {},
   "number_sections": true,
   "sideBar": true,
   "skip_h1_title": false,
   "title_cell": "Table of Contents",
   "title_sidebar": "Contents",
   "toc_cell": false,
   "toc_position": {},
   "toc_section_display": true,
   "toc_window_display": false
  }
 },
 "nbformat": 4,
 "nbformat_minor": 5
}
