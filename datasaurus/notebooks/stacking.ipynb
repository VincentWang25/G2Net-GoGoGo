{
 "cells": [
  {
   "cell_type": "code",
   "execution_count": 1,
   "metadata": {
    "ExecuteTime": {
     "end_time": "2021-09-22T13:00:32.612683Z",
     "start_time": "2021-09-22T13:00:31.443816Z"
    }
   },
   "outputs": [],
   "source": [
    "import numpy as np\n",
    "import pandas as pd\n",
    "import matplotlib.pyplot as plt\n",
    "import torch\n",
    "from scipy.stats import rankdata\n",
    "from sklearn.metrics import roc_auc_score\n",
    "from scipy.optimize import minimize\n",
    "from scipy.special import expit as sigmoid\n",
    "from scipy.special import logit\n",
    "from pathlib import Path\n",
    "import sys\n",
    "\n",
    "COMP_NAME = \"g2net-gravitational-wave-detection\"\n",
    "\n",
    "INPUT_PATH = Path(f\"/mnt/storage_dimm2/kaggle_data/{COMP_NAME}/\")\n",
    "OUTPUT_PATH = Path(f\"/mnt/storage_dimm2/kaggle_output/{COMP_NAME}/\")\n",
    "\n",
    "SAVE_FILES = False"
   ]
  },
  {
   "cell_type": "code",
   "execution_count": 2,
   "metadata": {
    "ExecuteTime": {
     "end_time": "2021-09-22T13:00:32.616236Z",
     "start_time": "2021-09-22T13:00:32.613924Z"
    }
   },
   "outputs": [],
   "source": [
    "sys.path.append(f\"/home/anjum/kaggle/{COMP_NAME}\")\n",
    "\n",
    "from src.stacking import OptimizeAUC"
   ]
  },
  {
   "cell_type": "code",
   "execution_count": 3,
   "metadata": {
    "ExecuteTime": {
     "end_time": "2021-09-22T13:00:35.578805Z",
     "start_time": "2021-09-22T13:00:32.617248Z"
    }
   },
   "outputs": [],
   "source": [
    "gt = pd.read_csv(INPUT_PATH / \"training_labels.csv\")\n",
    "\n",
    "\n",
    "# With TTA\n",
    "oof_files = [\n",
    "    \"oofs_20210830-191530_CV-0.87733.csv\", # ResNet200d\n",
    "    \"oofs_20210901-130913_CV-0.87749.csv\", # EfficientNet B5\n",
    "    \"oofs_20210902-200442_CV-0.87733.csv\", # EfficientNet V2 M\n",
    "    \"oofs_20210915-003751_CV-0.87393.csv\", # 1D CNN\n",
    "    \"oofs_20210915-072731_CV-0.87707.csv\", # EfficientNet B5 CWT\n",
    "    \"oofs_20210918-112751_CV-0.87870.csv\", # EfficientNet B5 PL\n",
    "    \"oofs_20210920-134112_CV-0.87875.csv\", # EfficientNet B5 PL (selective harden)\n",
    "]\n",
    "\n",
    "oof_paths = [OUTPUT_PATH / f.split(\"_\")[1] / f for f in oof_files]\n",
    "sub_paths = [OUTPUT_PATH / f.split(\"_\")[1] / f.replace(\"oofs\", \"sub\") for f in oof_files]\n",
    "\n",
    "oof_list = [pd.read_csv(p) for p in oof_paths]\n",
    "sub_list = [pd.read_csv(p) for p in sub_paths]\n",
    "\n",
    "oof1 = oof_list[0]\n",
    "sub1 = sub_list[0]\n",
    "\n",
    "oof_df = pd.DataFrame({f\"oof{i+1}\": o[\"prediction\"] for i, o in enumerate(oof_list)})\n",
    "oof_df[[\"id\", \"target\", \"fold\"]] = oof1[[\"id\", \"target\", \"fold\"]]\n",
    "\n",
    "\n",
    "sub_df = pd.DataFrame({f\"sub{i+1}\": s[\"target\"] for i, s in enumerate(sub_list)})\n",
    "sub_df[\"id\"] = sub1[\"id\"]"
   ]
  },
  {
   "cell_type": "code",
   "execution_count": 4,
   "metadata": {
    "ExecuteTime": {
     "end_time": "2021-09-22T13:00:35.758064Z",
     "start_time": "2021-09-22T13:00:35.580165Z"
    }
   },
   "outputs": [
    {
     "data": {
      "text/html": [
       "<div>\n",
       "<style scoped>\n",
       "    .dataframe tbody tr th:only-of-type {\n",
       "        vertical-align: middle;\n",
       "    }\n",
       "\n",
       "    .dataframe tbody tr th {\n",
       "        vertical-align: top;\n",
       "    }\n",
       "\n",
       "    .dataframe thead th {\n",
       "        text-align: right;\n",
       "    }\n",
       "</style>\n",
       "<table border=\"1\" class=\"dataframe\">\n",
       "  <thead>\n",
       "    <tr style=\"text-align: right;\">\n",
       "      <th></th>\n",
       "      <th>oof1</th>\n",
       "      <th>oof2</th>\n",
       "      <th>oof3</th>\n",
       "      <th>oof4</th>\n",
       "      <th>oof5</th>\n",
       "      <th>oof6</th>\n",
       "      <th>oof7</th>\n",
       "      <th>target</th>\n",
       "      <th>fold</th>\n",
       "    </tr>\n",
       "  </thead>\n",
       "  <tbody>\n",
       "    <tr>\n",
       "      <th>count</th>\n",
       "      <td>560000.000000</td>\n",
       "      <td>560000.000000</td>\n",
       "      <td>560000.000000</td>\n",
       "      <td>560000.000000</td>\n",
       "      <td>560000.000000</td>\n",
       "      <td>560000.000000</td>\n",
       "      <td>560000.000000</td>\n",
       "      <td>560000.000000</td>\n",
       "      <td>560000.000000</td>\n",
       "    </tr>\n",
       "    <tr>\n",
       "      <th>mean</th>\n",
       "      <td>0.046828</td>\n",
       "      <td>0.106662</td>\n",
       "      <td>0.101230</td>\n",
       "      <td>0.036813</td>\n",
       "      <td>0.065030</td>\n",
       "      <td>-0.058198</td>\n",
       "      <td>0.053668</td>\n",
       "      <td>0.499875</td>\n",
       "      <td>2.000000</td>\n",
       "    </tr>\n",
       "    <tr>\n",
       "      <th>std</th>\n",
       "      <td>1.481512</td>\n",
       "      <td>1.685370</td>\n",
       "      <td>1.497658</td>\n",
       "      <td>2.043871</td>\n",
       "      <td>1.502482</td>\n",
       "      <td>1.726563</td>\n",
       "      <td>1.592575</td>\n",
       "      <td>0.500000</td>\n",
       "      <td>1.414215</td>\n",
       "    </tr>\n",
       "    <tr>\n",
       "      <th>min</th>\n",
       "      <td>-2.612311</td>\n",
       "      <td>-36.039394</td>\n",
       "      <td>-2.466414</td>\n",
       "      <td>-3.281515</td>\n",
       "      <td>-2.409353</td>\n",
       "      <td>-2.920961</td>\n",
       "      <td>-4.221889</td>\n",
       "      <td>0.000000</td>\n",
       "      <td>0.000000</td>\n",
       "    </tr>\n",
       "    <tr>\n",
       "      <th>25%</th>\n",
       "      <td>-1.148762</td>\n",
       "      <td>-1.134825</td>\n",
       "      <td>-1.116461</td>\n",
       "      <td>-1.618619</td>\n",
       "      <td>-1.129007</td>\n",
       "      <td>-1.457553</td>\n",
       "      <td>-1.239930</td>\n",
       "      <td>0.000000</td>\n",
       "      <td>1.000000</td>\n",
       "    </tr>\n",
       "    <tr>\n",
       "      <th>50%</th>\n",
       "      <td>-0.542804</td>\n",
       "      <td>-0.505731</td>\n",
       "      <td>-0.501343</td>\n",
       "      <td>-0.796667</td>\n",
       "      <td>-0.525964</td>\n",
       "      <td>-0.758978</td>\n",
       "      <td>-0.637450</td>\n",
       "      <td>0.000000</td>\n",
       "      <td>2.000000</td>\n",
       "    </tr>\n",
       "    <tr>\n",
       "      <th>75%</th>\n",
       "      <td>1.659993</td>\n",
       "      <td>1.795110</td>\n",
       "      <td>1.860344</td>\n",
       "      <td>1.987943</td>\n",
       "      <td>1.790570</td>\n",
       "      <td>1.922530</td>\n",
       "      <td>1.929703</td>\n",
       "      <td>1.000000</td>\n",
       "      <td>3.000000</td>\n",
       "    </tr>\n",
       "    <tr>\n",
       "      <th>max</th>\n",
       "      <td>7.474235</td>\n",
       "      <td>241.051575</td>\n",
       "      <td>26.659441</td>\n",
       "      <td>5.508315</td>\n",
       "      <td>42.650219</td>\n",
       "      <td>109.516266</td>\n",
       "      <td>9.551527</td>\n",
       "      <td>1.000000</td>\n",
       "      <td>4.000000</td>\n",
       "    </tr>\n",
       "  </tbody>\n",
       "</table>\n",
       "</div>"
      ],
      "text/plain": [
       "                oof1           oof2           oof3           oof4  \\\n",
       "count  560000.000000  560000.000000  560000.000000  560000.000000   \n",
       "mean        0.046828       0.106662       0.101230       0.036813   \n",
       "std         1.481512       1.685370       1.497658       2.043871   \n",
       "min        -2.612311     -36.039394      -2.466414      -3.281515   \n",
       "25%        -1.148762      -1.134825      -1.116461      -1.618619   \n",
       "50%        -0.542804      -0.505731      -0.501343      -0.796667   \n",
       "75%         1.659993       1.795110       1.860344       1.987943   \n",
       "max         7.474235     241.051575      26.659441       5.508315   \n",
       "\n",
       "                oof5           oof6           oof7         target  \\\n",
       "count  560000.000000  560000.000000  560000.000000  560000.000000   \n",
       "mean        0.065030      -0.058198       0.053668       0.499875   \n",
       "std         1.502482       1.726563       1.592575       0.500000   \n",
       "min        -2.409353      -2.920961      -4.221889       0.000000   \n",
       "25%        -1.129007      -1.457553      -1.239930       0.000000   \n",
       "50%        -0.525964      -0.758978      -0.637450       0.000000   \n",
       "75%         1.790570       1.922530       1.929703       1.000000   \n",
       "max        42.650219     109.516266       9.551527       1.000000   \n",
       "\n",
       "                fold  \n",
       "count  560000.000000  \n",
       "mean        2.000000  \n",
       "std         1.414215  \n",
       "min         0.000000  \n",
       "25%         1.000000  \n",
       "50%         2.000000  \n",
       "75%         3.000000  \n",
       "max         4.000000  "
      ]
     },
     "execution_count": 4,
     "metadata": {},
     "output_type": "execute_result"
    }
   ],
   "source": [
    "oof_df.describe()"
   ]
  },
  {
   "cell_type": "code",
   "execution_count": 5,
   "metadata": {
    "ExecuteTime": {
     "end_time": "2021-09-22T13:00:35.821617Z",
     "start_time": "2021-09-22T13:00:35.759076Z"
    }
   },
   "outputs": [
    {
     "data": {
      "text/html": [
       "<div>\n",
       "<style scoped>\n",
       "    .dataframe tbody tr th:only-of-type {\n",
       "        vertical-align: middle;\n",
       "    }\n",
       "\n",
       "    .dataframe tbody tr th {\n",
       "        vertical-align: top;\n",
       "    }\n",
       "\n",
       "    .dataframe thead th {\n",
       "        text-align: right;\n",
       "    }\n",
       "</style>\n",
       "<table border=\"1\" class=\"dataframe\">\n",
       "  <thead>\n",
       "    <tr style=\"text-align: right;\">\n",
       "      <th></th>\n",
       "      <th>sub1</th>\n",
       "      <th>sub2</th>\n",
       "      <th>sub3</th>\n",
       "      <th>sub4</th>\n",
       "      <th>sub5</th>\n",
       "      <th>sub6</th>\n",
       "      <th>sub7</th>\n",
       "    </tr>\n",
       "  </thead>\n",
       "  <tbody>\n",
       "    <tr>\n",
       "      <th>count</th>\n",
       "      <td>226000.000000</td>\n",
       "      <td>226000.000000</td>\n",
       "      <td>226000.000000</td>\n",
       "      <td>226000.000000</td>\n",
       "      <td>226000.000000</td>\n",
       "      <td>226000.000000</td>\n",
       "      <td>226000.000000</td>\n",
       "    </tr>\n",
       "    <tr>\n",
       "      <th>mean</th>\n",
       "      <td>-0.013878</td>\n",
       "      <td>0.044970</td>\n",
       "      <td>0.039600</td>\n",
       "      <td>-0.046625</td>\n",
       "      <td>0.004683</td>\n",
       "      <td>-0.130381</td>\n",
       "      <td>-0.013236</td>\n",
       "    </tr>\n",
       "    <tr>\n",
       "      <th>std</th>\n",
       "      <td>1.453328</td>\n",
       "      <td>1.573125</td>\n",
       "      <td>1.467607</td>\n",
       "      <td>2.005636</td>\n",
       "      <td>1.455384</td>\n",
       "      <td>1.667306</td>\n",
       "      <td>1.563425</td>\n",
       "    </tr>\n",
       "    <tr>\n",
       "      <th>min</th>\n",
       "      <td>-2.485015</td>\n",
       "      <td>-2.308764</td>\n",
       "      <td>-2.208016</td>\n",
       "      <td>-3.021012</td>\n",
       "      <td>-2.192105</td>\n",
       "      <td>-2.579532</td>\n",
       "      <td>-3.459284</td>\n",
       "    </tr>\n",
       "    <tr>\n",
       "      <th>25%</th>\n",
       "      <td>-1.165660</td>\n",
       "      <td>-1.154036</td>\n",
       "      <td>-1.132633</td>\n",
       "      <td>-1.633426</td>\n",
       "      <td>-1.142866</td>\n",
       "      <td>-1.475116</td>\n",
       "      <td>-1.253806</td>\n",
       "    </tr>\n",
       "    <tr>\n",
       "      <th>50%</th>\n",
       "      <td>-0.599527</td>\n",
       "      <td>-0.573852</td>\n",
       "      <td>-0.558589</td>\n",
       "      <td>-0.872813</td>\n",
       "      <td>-0.587209</td>\n",
       "      <td>-0.831122</td>\n",
       "      <td>-0.699544</td>\n",
       "    </tr>\n",
       "    <tr>\n",
       "      <th>75%</th>\n",
       "      <td>1.512126</td>\n",
       "      <td>1.674070</td>\n",
       "      <td>1.621865</td>\n",
       "      <td>1.652125</td>\n",
       "      <td>1.551509</td>\n",
       "      <td>1.759078</td>\n",
       "      <td>1.766249</td>\n",
       "    </tr>\n",
       "    <tr>\n",
       "      <th>max</th>\n",
       "      <td>7.742320</td>\n",
       "      <td>65.547010</td>\n",
       "      <td>16.921555</td>\n",
       "      <td>5.073774</td>\n",
       "      <td>20.982845</td>\n",
       "      <td>31.386963</td>\n",
       "      <td>4.690827</td>\n",
       "    </tr>\n",
       "  </tbody>\n",
       "</table>\n",
       "</div>"
      ],
      "text/plain": [
       "                sub1           sub2           sub3           sub4  \\\n",
       "count  226000.000000  226000.000000  226000.000000  226000.000000   \n",
       "mean       -0.013878       0.044970       0.039600      -0.046625   \n",
       "std         1.453328       1.573125       1.467607       2.005636   \n",
       "min        -2.485015      -2.308764      -2.208016      -3.021012   \n",
       "25%        -1.165660      -1.154036      -1.132633      -1.633426   \n",
       "50%        -0.599527      -0.573852      -0.558589      -0.872813   \n",
       "75%         1.512126       1.674070       1.621865       1.652125   \n",
       "max         7.742320      65.547010      16.921555       5.073774   \n",
       "\n",
       "                sub5           sub6           sub7  \n",
       "count  226000.000000  226000.000000  226000.000000  \n",
       "mean        0.004683      -0.130381      -0.013236  \n",
       "std         1.455384       1.667306       1.563425  \n",
       "min        -2.192105      -2.579532      -3.459284  \n",
       "25%        -1.142866      -1.475116      -1.253806  \n",
       "50%        -0.587209      -0.831122      -0.699544  \n",
       "75%         1.551509       1.759078       1.766249  \n",
       "max        20.982845      31.386963       4.690827  "
      ]
     },
     "execution_count": 5,
     "metadata": {},
     "output_type": "execute_result"
    }
   ],
   "source": [
    "sub_df.describe()"
   ]
  },
  {
   "cell_type": "code",
   "execution_count": 6,
   "metadata": {
    "ExecuteTime": {
     "end_time": "2021-09-22T13:00:35.827161Z",
     "start_time": "2021-09-22T13:00:35.822558Z"
    }
   },
   "outputs": [
    {
     "data": {
      "text/plain": [
       "id            aeba158072\n",
       "target                 1\n",
       "prediction    241.051575\n",
       "fold                   2\n",
       "Name: 382028, dtype: object"
      ]
     },
     "execution_count": 6,
     "metadata": {},
     "output_type": "execute_result"
    }
   ],
   "source": [
    "oof_list[1].loc[oof_list[1][\"prediction\"].idxmax()]"
   ]
  },
  {
   "cell_type": "code",
   "execution_count": 7,
   "metadata": {
    "ExecuteTime": {
     "end_time": "2021-09-22T13:00:35.834075Z",
     "start_time": "2021-09-22T13:00:35.829084Z"
    }
   },
   "outputs": [
    {
     "data": {
      "text/plain": [
       "id            af931f4263\n",
       "target                 1\n",
       "prediction    -36.039394\n",
       "fold                   1\n",
       "Name: 383847, dtype: object"
      ]
     },
     "execution_count": 7,
     "metadata": {},
     "output_type": "execute_result"
    }
   ],
   "source": [
    "oof_list[1].loc[oof_list[1][\"prediction\"].idxmin()]"
   ]
  },
  {
   "cell_type": "code",
   "execution_count": 8,
   "metadata": {
    "ExecuteTime": {
     "end_time": "2021-09-22T13:00:36.825728Z",
     "start_time": "2021-09-22T13:00:35.835553Z"
    }
   },
   "outputs": [
    {
     "data": {
      "image/png": "[encoded data removed]",
      "text/plain": [
       "<Figure size 576x432 with 1 Axes>"
      ]
     },
     "metadata": {
      "needs_background": "light"
     },
     "output_type": "display_data"
    }
   ],
   "source": [
    "plt.figure(figsize=(8,6))\n",
    "for o in oof_df.columns[:-3]:\n",
    "    plt.hist(oof_df[o], bins=100, alpha=0.5, range=[-5, 5], label=o)\n",
    "plt.legend(loc='upper right');"
   ]
  },
  {
   "cell_type": "code",
   "execution_count": 9,
   "metadata": {
    "ExecuteTime": {
     "end_time": "2021-09-22T13:00:37.823282Z",
     "start_time": "2021-09-22T13:00:36.826915Z"
    }
   },
   "outputs": [
    {
     "data": {
      "image/png": "[encoded data removed]",
      "text/plain": [
       "<Figure size 576x432 with 1 Axes>"
      ]
     },
     "metadata": {
      "needs_background": "light"
     },
     "output_type": "display_data"
    }
   ],
   "source": [
    "plt.figure(figsize=(8,6))\n",
    "for s in sub_df.columns[:-1]:\n",
    "    plt.hist(sub_df[s], bins=100, alpha=0.5, range=[-5, 5], label=s)\n",
    "plt.legend(loc='upper right');"
   ]
  },
  {
   "cell_type": "code",
   "execution_count": 10,
   "metadata": {
    "ExecuteTime": {
     "end_time": "2021-09-22T13:00:38.215595Z",
     "start_time": "2021-09-22T13:00:37.824439Z"
    }
   },
   "outputs": [
    {
     "data": {
      "image/png": "[encoded data removed]",
      "text/plain": [
       "<Figure size 432x288 with 1 Axes>"
      ]
     },
     "metadata": {
      "needs_background": "light"
     },
     "output_type": "display_data"
    }
   ],
   "source": [
    "oof_df[\"mean\"] = sigmoid(oof_df[oof_df.columns[:-3]].mean(axis=1))\n",
    "oof_df[oof_df[\"target\"] == 0][\"mean\"].hist(bins=100, alpha=0.5);\n",
    "oof_df[oof_df[\"target\"] == 1][\"mean\"].hist(bins=100, alpha=0.5);"
   ]
  },
  {
   "cell_type": "code",
   "execution_count": 11,
   "metadata": {
    "ExecuteTime": {
     "end_time": "2021-09-22T13:00:38.571871Z",
     "start_time": "2021-09-22T13:00:38.216599Z"
    }
   },
   "outputs": [
    {
     "data": {
      "image/png": "[encoded data removed]",
      "text/plain": [
       "<Figure size 432x288 with 1 Axes>"
      ]
     },
     "metadata": {
      "needs_background": "light"
     },
     "output_type": "display_data"
    }
   ],
   "source": [
    "sigmoid(oof_df[oof_df[\"target\"] == 0][\"oof2\"]).hist(bins=100, alpha=0.5);\n",
    "sigmoid(oof_df[oof_df[\"target\"] == 1][\"oof2\"]).hist(bins=100, alpha=0.5);"
   ]
  },
  {
   "cell_type": "code",
   "execution_count": 12,
   "metadata": {
    "ExecuteTime": {
     "end_time": "2021-09-22T13:00:39.187483Z",
     "start_time": "2021-09-22T13:00:38.572965Z"
    }
   },
   "outputs": [
    {
     "data": {
      "image/png": "[encoded data removed]",
      "text/plain": [
       "<Figure size 432x288 with 1 Axes>"
      ]
     },
     "metadata": {
      "needs_background": "light"
     },
     "output_type": "display_data"
    }
   ],
   "source": [
    "sigmoid(oof_df[oof_df[\"target\"] == 0][\"oof6\"]).hist(bins=100, alpha=0.5);\n",
    "sigmoid(oof_df[oof_df[\"target\"] == 1][\"oof6\"]).hist(bins=100, alpha=0.5);\n",
    "sigmoid(oof_df[oof_df[\"target\"] == 1][\"oof7\"]).hist(bins=100, alpha=0.5);"
   ]
  },
  {
   "cell_type": "code",
   "execution_count": 13,
   "metadata": {
    "ExecuteTime": {
     "end_time": "2021-09-22T13:00:39.677229Z",
     "start_time": "2021-09-22T13:00:39.188694Z"
    }
   },
   "outputs": [
    {
     "data": {
      "image/png": "[encoded data removed]",
      "text/plain": [
       "<Figure size 432x288 with 1 Axes>"
      ]
     },
     "metadata": {
      "needs_background": "light"
     },
     "output_type": "display_data"
    }
   ],
   "source": [
    "sigmoid(oof_df[oof_df[\"target\"] == 0][\"oof2\"]).hist(bins=100, alpha=0.5);\n",
    "sigmoid(oof_df[oof_df[\"target\"] == 0][\"oof6\"]).hist(bins=100, alpha=0.5);\n",
    "sigmoid(oof_df[oof_df[\"target\"] == 0][\"oof7\"]).hist(bins=100, alpha=0.5);"
   ]
  },
  {
   "cell_type": "code",
   "execution_count": 14,
   "metadata": {
    "ExecuteTime": {
     "end_time": "2021-09-22T13:00:40.029104Z",
     "start_time": "2021-09-22T13:00:39.678410Z"
    }
   },
   "outputs": [
    {
     "data": {
      "image/png": "[encoded data removed]",
      "text/plain": [
       "<Figure size 432x288 with 1 Axes>"
      ]
     },
     "metadata": {
      "needs_background": "light"
     },
     "output_type": "display_data"
    }
   ],
   "source": [
    "sigmoid(oof_df[oof_df[\"target\"] == 1][\"oof2\"]).hist(bins=100, alpha=0.5);\n",
    "sigmoid(oof_df[oof_df[\"target\"] == 1][\"oof6\"]).hist(bins=100, alpha=0.5);"
   ]
  },
  {
   "cell_type": "code",
   "execution_count": 15,
   "metadata": {
    "ExecuteTime": {
     "end_time": "2021-09-22T13:00:40.126065Z",
     "start_time": "2021-09-22T13:00:40.030173Z"
    }
   },
   "outputs": [
    {
     "data": {
      "text/html": [
       "<div>\n",
       "<style scoped>\n",
       "    .dataframe tbody tr th:only-of-type {\n",
       "        vertical-align: middle;\n",
       "    }\n",
       "\n",
       "    .dataframe tbody tr th {\n",
       "        vertical-align: top;\n",
       "    }\n",
       "\n",
       "    .dataframe thead th {\n",
       "        text-align: right;\n",
       "    }\n",
       "</style>\n",
       "<table border=\"1\" class=\"dataframe\">\n",
       "  <thead>\n",
       "    <tr style=\"text-align: right;\">\n",
       "      <th></th>\n",
       "      <th>oof1</th>\n",
       "      <th>oof2</th>\n",
       "      <th>oof3</th>\n",
       "      <th>oof4</th>\n",
       "      <th>oof5</th>\n",
       "      <th>oof6</th>\n",
       "      <th>oof7</th>\n",
       "    </tr>\n",
       "  </thead>\n",
       "  <tbody>\n",
       "    <tr>\n",
       "      <th>oof1</th>\n",
       "      <td>1.000000</td>\n",
       "      <td>0.898707</td>\n",
       "      <td>0.982670</td>\n",
       "      <td>0.968708</td>\n",
       "      <td>0.957271</td>\n",
       "      <td>0.958641</td>\n",
       "      <td>0.983501</td>\n",
       "    </tr>\n",
       "    <tr>\n",
       "      <th>oof2</th>\n",
       "      <td>0.898707</td>\n",
       "      <td>1.000000</td>\n",
       "      <td>0.891119</td>\n",
       "      <td>0.876754</td>\n",
       "      <td>0.914805</td>\n",
       "      <td>0.874409</td>\n",
       "      <td>0.893965</td>\n",
       "    </tr>\n",
       "    <tr>\n",
       "      <th>oof3</th>\n",
       "      <td>0.982670</td>\n",
       "      <td>0.891119</td>\n",
       "      <td>1.000000</td>\n",
       "      <td>0.965701</td>\n",
       "      <td>0.957415</td>\n",
       "      <td>0.959846</td>\n",
       "      <td>0.983137</td>\n",
       "    </tr>\n",
       "    <tr>\n",
       "      <th>oof4</th>\n",
       "      <td>0.968708</td>\n",
       "      <td>0.876754</td>\n",
       "      <td>0.965701</td>\n",
       "      <td>1.000000</td>\n",
       "      <td>0.944340</td>\n",
       "      <td>0.944949</td>\n",
       "      <td>0.966353</td>\n",
       "    </tr>\n",
       "    <tr>\n",
       "      <th>oof5</th>\n",
       "      <td>0.957271</td>\n",
       "      <td>0.914805</td>\n",
       "      <td>0.957415</td>\n",
       "      <td>0.944340</td>\n",
       "      <td>1.000000</td>\n",
       "      <td>0.971048</td>\n",
       "      <td>0.962318</td>\n",
       "    </tr>\n",
       "    <tr>\n",
       "      <th>oof6</th>\n",
       "      <td>0.958641</td>\n",
       "      <td>0.874409</td>\n",
       "      <td>0.959846</td>\n",
       "      <td>0.944949</td>\n",
       "      <td>0.971048</td>\n",
       "      <td>1.000000</td>\n",
       "      <td>0.973033</td>\n",
       "    </tr>\n",
       "    <tr>\n",
       "      <th>oof7</th>\n",
       "      <td>0.983501</td>\n",
       "      <td>0.893965</td>\n",
       "      <td>0.983137</td>\n",
       "      <td>0.966353</td>\n",
       "      <td>0.962318</td>\n",
       "      <td>0.973033</td>\n",
       "      <td>1.000000</td>\n",
       "    </tr>\n",
       "  </tbody>\n",
       "</table>\n",
       "</div>"
      ],
      "text/plain": [
       "          oof1      oof2      oof3      oof4      oof5      oof6      oof7\n",
       "oof1  1.000000  0.898707  0.982670  0.968708  0.957271  0.958641  0.983501\n",
       "oof2  0.898707  1.000000  0.891119  0.876754  0.914805  0.874409  0.893965\n",
       "oof3  0.982670  0.891119  1.000000  0.965701  0.957415  0.959846  0.983137\n",
       "oof4  0.968708  0.876754  0.965701  1.000000  0.944340  0.944949  0.966353\n",
       "oof5  0.957271  0.914805  0.957415  0.944340  1.000000  0.971048  0.962318\n",
       "oof6  0.958641  0.874409  0.959846  0.944949  0.971048  1.000000  0.973033\n",
       "oof7  0.983501  0.893965  0.983137  0.966353  0.962318  0.973033  1.000000"
      ]
     },
     "execution_count": 15,
     "metadata": {},
     "output_type": "execute_result"
    }
   ],
   "source": [
    "oof_df[oof_df.columns[:-3]].corr()"
   ]
  },
  {
   "cell_type": "markdown",
   "metadata": {},
   "source": [
    "# Sum, rank & power ensemble"
   ]
  },
  {
   "cell_type": "code",
   "execution_count": 16,
   "metadata": {
    "ExecuteTime": {
     "end_time": "2021-09-22T13:00:40.129547Z",
     "start_time": "2021-09-22T13:00:40.127017Z"
    }
   },
   "outputs": [],
   "source": [
    "def score_oof(oof, full=False):\n",
    "    if full:\n",
    "        return roc_auc_score(oof[\"target\"], oof[\"prediction\"])\n",
    "    else:\n",
    "        scores = [roc_auc_score(df[\"target\"], df[\"prediction\"]) for _, df in oof.groupby(\"fold\")]\n",
    "        return np.mean(scores)"
   ]
  },
  {
   "cell_type": "code",
   "execution_count": 17,
   "metadata": {
    "ExecuteTime": {
     "end_time": "2021-09-22T13:00:42.460875Z",
     "start_time": "2021-09-22T13:00:40.130487Z"
    }
   },
   "outputs": [
    {
     "name": "stdout",
     "output_type": "stream",
     "text": [
      "0.877331692811547 0.8771328726715698\n",
      "0.8774939366992385 0.8760220004337729\n",
      "0.8773306931303623 0.8772440586542842\n",
      "0.8739256392185666 0.8734175738105372\n",
      "0.8770651000334055 0.8765776760297274\n",
      "0.8786987779735206 0.8783552028882716\n",
      "0.878750927562239 0.8781646062628389\n"
     ]
    }
   ],
   "source": [
    "for o in oof_list:\n",
    "    print(score_oof(o), score_oof(o, True))"
   ]
  },
  {
   "cell_type": "code",
   "execution_count": 18,
   "metadata": {
    "ExecuteTime": {
     "end_time": "2021-09-22T13:00:42.668413Z",
     "start_time": "2021-09-22T13:00:42.462006Z"
    }
   },
   "outputs": [
    {
     "data": {
      "text/plain": [
       "0.8795515720319222"
      ]
     },
     "execution_count": 18,
     "metadata": {},
     "output_type": "execute_result"
    }
   ],
   "source": [
    "sum_preds = oof1.copy()\n",
    "sum_preds[\"prediction\"] = 0\n",
    "\n",
    "for o in oof_list:\n",
    "    sum_preds[\"prediction\"] += o[\"prediction\"]\n",
    "    \n",
    "score_oof(sum_preds)"
   ]
  },
  {
   "cell_type": "code",
   "execution_count": 19,
   "metadata": {
    "ExecuteTime": {
     "end_time": "2021-09-22T13:00:42.913906Z",
     "start_time": "2021-09-22T13:00:42.669564Z"
    }
   },
   "outputs": [
    {
     "data": {
      "text/plain": [
       "0.8795347850729648"
      ]
     },
     "execution_count": 19,
     "metadata": {},
     "output_type": "execute_result"
    }
   ],
   "source": [
    "prob_sum_preds = oof1.copy()\n",
    "prob_sum_preds[\"prediction\"] = 0\n",
    "\n",
    "for o in oof_list:\n",
    "    prob_sum_preds[\"prediction\"] += sigmoid(o[\"prediction\"])\n",
    "    \n",
    "score_oof(prob_sum_preds)"
   ]
  },
  {
   "cell_type": "code",
   "execution_count": 20,
   "metadata": {
    "ExecuteTime": {
     "end_time": "2021-09-22T13:00:43.627018Z",
     "start_time": "2021-09-22T13:00:42.914897Z"
    }
   },
   "outputs": [
    {
     "data": {
      "text/plain": [
       "0.879437559971225"
      ]
     },
     "execution_count": 20,
     "metadata": {},
     "output_type": "execute_result"
    }
   ],
   "source": [
    "rank_preds = oof1.copy()\n",
    "rank_preds[\"prediction\"] = 0\n",
    "\n",
    "for o in oof_list:\n",
    "    rank_preds[\"prediction\"] += o[\"prediction\"].rank()\n",
    "    \n",
    "score_oof(rank_preds)"
   ]
  },
  {
   "cell_type": "code",
   "execution_count": 21,
   "metadata": {
    "ExecuteTime": {
     "end_time": "2021-09-22T13:00:45.743688Z",
     "start_time": "2021-09-22T13:00:43.627963Z"
    }
   },
   "outputs": [
    {
     "name": "stdout",
     "output_type": "stream",
     "text": [
      "0.2, 0.879529\n",
      "0.5, 0.879533\n",
      "1.0, 0.879535\n",
      "1.5, 0.879532\n",
      "2.0, 0.879526\n",
      "4.0, 0.879476\n",
      "8.0, 0.879316\n"
     ]
    }
   ],
   "source": [
    "for power in [0.25, 0.5, 1.0, 1.5, 2, 4, 8]:\n",
    "    pow_preds = oof1.copy()\n",
    "    pow_preds[\"prediction\"] = 0\n",
    "    for o in oof_list:\n",
    "        pow_preds[\"prediction\"] += sigmoid(o[\"prediction\"]) ** power\n",
    "\n",
    "    print(f\"{power:0.1f}, {score_oof(pow_preds):0.6f}\")\n",
    "\n",
    "power = 1.5\n",
    "pow_preds = oof1.copy()\n",
    "pow_preds[\"prediction\"] = 0\n",
    "for o in oof_list:\n",
    "    pow_preds[\"prediction\"] += sigmoid(o[\"prediction\"]) ** power"
   ]
  },
  {
   "cell_type": "code",
   "execution_count": null,
   "metadata": {},
   "outputs": [],
   "source": []
  },
  {
   "cell_type": "code",
   "execution_count": 22,
   "metadata": {
    "ExecuteTime": {
     "end_time": "2021-09-22T13:00:45.758801Z",
     "start_time": "2021-09-22T13:00:45.744733Z"
    }
   },
   "outputs": [
    {
     "data": {
      "text/html": [
       "<div>\n",
       "<style scoped>\n",
       "    .dataframe tbody tr th:only-of-type {\n",
       "        vertical-align: middle;\n",
       "    }\n",
       "\n",
       "    .dataframe tbody tr th {\n",
       "        vertical-align: top;\n",
       "    }\n",
       "\n",
       "    .dataframe thead th {\n",
       "        text-align: right;\n",
       "    }\n",
       "</style>\n",
       "<table border=\"1\" class=\"dataframe\">\n",
       "  <thead>\n",
       "    <tr style=\"text-align: right;\">\n",
       "      <th></th>\n",
       "      <th>id</th>\n",
       "      <th>target</th>\n",
       "    </tr>\n",
       "  </thead>\n",
       "  <tbody>\n",
       "    <tr>\n",
       "      <th>0</th>\n",
       "      <td>00005bced6</td>\n",
       "      <td>16.849035</td>\n",
       "    </tr>\n",
       "    <tr>\n",
       "      <th>1</th>\n",
       "      <td>0000806717</td>\n",
       "      <td>11.064513</td>\n",
       "    </tr>\n",
       "    <tr>\n",
       "      <th>2</th>\n",
       "      <td>0000ef4fe1</td>\n",
       "      <td>-4.880571</td>\n",
       "    </tr>\n",
       "    <tr>\n",
       "      <th>3</th>\n",
       "      <td>00020de251</td>\n",
       "      <td>9.812994</td>\n",
       "    </tr>\n",
       "    <tr>\n",
       "      <th>4</th>\n",
       "      <td>00024887b5</td>\n",
       "      <td>-10.928978</td>\n",
       "    </tr>\n",
       "  </tbody>\n",
       "</table>\n",
       "</div>"
      ],
      "text/plain": [
       "           id     target\n",
       "0  00005bced6  16.849035\n",
       "1  0000806717  11.064513\n",
       "2  0000ef4fe1  -4.880571\n",
       "3  00020de251   9.812994\n",
       "4  00024887b5 -10.928978"
      ]
     },
     "execution_count": 22,
     "metadata": {},
     "output_type": "execute_result"
    }
   ],
   "source": [
    "# Make a summed submission\n",
    "sum_sub = sub1.copy()\n",
    "sum_sub[\"target\"] = 0\n",
    "for s in sub_list:\n",
    "    sum_sub[\"target\"] += s[\"target\"]\n",
    "\n",
    "if SAVE_FILES:\n",
    "    sum_sub.to_csv(f\"stack_subs/summed_ensemble_{score_oof(sum_preds):0.5f}.csv\", index=False)\n",
    "\n",
    "sum_sub.head()"
   ]
  },
  {
   "cell_type": "code",
   "execution_count": 23,
   "metadata": {
    "ExecuteTime": {
     "end_time": "2021-09-22T13:00:45.946776Z",
     "start_time": "2021-09-22T13:00:45.760028Z"
    }
   },
   "outputs": [
    {
     "data": {
      "text/html": [
       "<div>\n",
       "<style scoped>\n",
       "    .dataframe tbody tr th:only-of-type {\n",
       "        vertical-align: middle;\n",
       "    }\n",
       "\n",
       "    .dataframe tbody tr th {\n",
       "        vertical-align: top;\n",
       "    }\n",
       "\n",
       "    .dataframe thead th {\n",
       "        text-align: right;\n",
       "    }\n",
       "</style>\n",
       "<table border=\"1\" class=\"dataframe\">\n",
       "  <thead>\n",
       "    <tr style=\"text-align: right;\">\n",
       "      <th></th>\n",
       "      <th>id</th>\n",
       "      <th>target</th>\n",
       "    </tr>\n",
       "  </thead>\n",
       "  <tbody>\n",
       "    <tr>\n",
       "      <th>0</th>\n",
       "      <td>00005bced6</td>\n",
       "      <td>1380937.0</td>\n",
       "    </tr>\n",
       "    <tr>\n",
       "      <th>1</th>\n",
       "      <td>0000806717</td>\n",
       "      <td>1181002.0</td>\n",
       "    </tr>\n",
       "    <tr>\n",
       "      <th>2</th>\n",
       "      <td>0000ef4fe1</td>\n",
       "      <td>778670.0</td>\n",
       "    </tr>\n",
       "    <tr>\n",
       "      <th>3</th>\n",
       "      <td>00020de251</td>\n",
       "      <td>1167162.0</td>\n",
       "    </tr>\n",
       "    <tr>\n",
       "      <th>4</th>\n",
       "      <td>00024887b5</td>\n",
       "      <td>190787.0</td>\n",
       "    </tr>\n",
       "  </tbody>\n",
       "</table>\n",
       "</div>"
      ],
      "text/plain": [
       "           id     target\n",
       "0  00005bced6  1380937.0\n",
       "1  0000806717  1181002.0\n",
       "2  0000ef4fe1   778670.0\n",
       "3  00020de251  1167162.0\n",
       "4  00024887b5   190787.0"
      ]
     },
     "execution_count": 23,
     "metadata": {},
     "output_type": "execute_result"
    }
   ],
   "source": [
    "# Make a ranked submission\n",
    "rank_sub = sub1.copy()\n",
    "rank_sub[\"target\"] = 0\n",
    "for s in sub_list:\n",
    "    rank_sub[\"target\"] += s[\"target\"].rank()\n",
    "\n",
    "if SAVE_FILES:\n",
    "    rank_sub.to_csv(f\"stack_subs/ranked_ensemble_{score_oof(rank_preds):0.5f}.csv\", index=False)\n",
    "\n",
    "rank_sub.head()"
   ]
  },
  {
   "cell_type": "code",
   "execution_count": 24,
   "metadata": {
    "ExecuteTime": {
     "end_time": "2021-09-22T13:00:46.010969Z",
     "start_time": "2021-09-22T13:00:45.947887Z"
    }
   },
   "outputs": [
    {
     "data": {
      "text/html": [
       "<div>\n",
       "<style scoped>\n",
       "    .dataframe tbody tr th:only-of-type {\n",
       "        vertical-align: middle;\n",
       "    }\n",
       "\n",
       "    .dataframe tbody tr th {\n",
       "        vertical-align: top;\n",
       "    }\n",
       "\n",
       "    .dataframe thead th {\n",
       "        text-align: right;\n",
       "    }\n",
       "</style>\n",
       "<table border=\"1\" class=\"dataframe\">\n",
       "  <thead>\n",
       "    <tr style=\"text-align: right;\">\n",
       "      <th></th>\n",
       "      <th>id</th>\n",
       "      <th>target</th>\n",
       "    </tr>\n",
       "  </thead>\n",
       "  <tbody>\n",
       "    <tr>\n",
       "      <th>0</th>\n",
       "      <td>00005bced6</td>\n",
       "      <td>6.129619</td>\n",
       "    </tr>\n",
       "    <tr>\n",
       "      <th>1</th>\n",
       "      <td>0000806717</td>\n",
       "      <td>5.281842</td>\n",
       "    </tr>\n",
       "    <tr>\n",
       "      <th>2</th>\n",
       "      <td>0000ef4fe1</td>\n",
       "      <td>1.349487</td>\n",
       "    </tr>\n",
       "    <tr>\n",
       "      <th>3</th>\n",
       "      <td>00020de251</td>\n",
       "      <td>5.020445</td>\n",
       "    </tr>\n",
       "    <tr>\n",
       "      <th>4</th>\n",
       "      <td>00024887b5</td>\n",
       "      <td>0.521658</td>\n",
       "    </tr>\n",
       "  </tbody>\n",
       "</table>\n",
       "</div>"
      ],
      "text/plain": [
       "           id    target\n",
       "0  00005bced6  6.129619\n",
       "1  0000806717  5.281842\n",
       "2  0000ef4fe1  1.349487\n",
       "3  00020de251  5.020445\n",
       "4  00024887b5  0.521658"
      ]
     },
     "execution_count": 24,
     "metadata": {},
     "output_type": "execute_result"
    }
   ],
   "source": [
    "# Make a power submission\n",
    "pow_sub = sub1.copy()\n",
    "pow_sub[\"target\"] = 0\n",
    "for s in sub_list:\n",
    "    pow_sub[\"target\"] += sigmoid(s[\"target\"]) ** power\n",
    "\n",
    "if SAVE_FILES:\n",
    "    pow_sub.to_csv(f\"stack_subs/power_ensemble_{score_oof(pow_preds):0.5f}.csv\", index=False)\n",
    "\n",
    "pow_sub.head()"
   ]
  },
  {
   "cell_type": "markdown",
   "metadata": {},
   "source": [
    "# Use `LogisticRegressionCV`"
   ]
  },
  {
   "cell_type": "code",
   "execution_count": 25,
   "metadata": {
    "ExecuteTime": {
     "end_time": "2021-09-22T13:00:46.029141Z",
     "start_time": "2021-09-22T13:00:46.013203Z"
    }
   },
   "outputs": [],
   "source": [
    "from sklearn.linear_model import LogisticRegressionCV"
   ]
  },
  {
   "cell_type": "code",
   "execution_count": 26,
   "metadata": {
    "ExecuteTime": {
     "end_time": "2021-09-22T13:00:46.032275Z",
     "start_time": "2021-09-22T13:00:46.030308Z"
    }
   },
   "outputs": [],
   "source": [
    "cols = oof_df.columns[:len(oof_files)]\n",
    "\n",
    "# opt = LogisticRegressionCV(Cs=50, n_jobs=16, scoring=\"roc_auc\", penalty=\"elasticnet\", solver=\"saga\", l1_ratios=np.linspace(0, 1, 10))\n",
    "# opt.fit(oof_df[cols], oof_df[\"target\"])\n",
    "# opt.scores_[1].mean(0).max()"
   ]
  },
  {
   "cell_type": "markdown",
   "metadata": {},
   "source": [
    "# Use `OptimizeAUC`"
   ]
  },
  {
   "cell_type": "code",
   "execution_count": 27,
   "metadata": {
    "ExecuteTime": {
     "end_time": "2021-09-22T13:00:46.036755Z",
     "start_time": "2021-09-22T13:00:46.033196Z"
    }
   },
   "outputs": [],
   "source": [
    "# scores = []\n",
    "# cols = oof_df.columns[:len(oof_files)]\n",
    "\n",
    "# # poly = PolynomialFeatures(2)\n",
    "\n",
    "# for fold in range(5):\n",
    "#     trn_df = oof_df.query(f\"fold != {fold}\").copy()\n",
    "#     val_df = oof_df.query(f\"fold == {fold}\").copy()\n",
    "    \n",
    "#     trn_X = sigmoid(trn_df[cols])\n",
    "#     val_X = sigmoid(val_df[cols])\n",
    "\n",
    "#     opt = OptimizeAUC(\"Nelder-Mead\")\n",
    "#     opt.fit(trn_X, trn_df[\"target\"])\n",
    "#     y_pred = opt.predict(val_df[cols])\n",
    "# #     y_pred = opt.predict_proba(val_X)[:, 1]\n",
    "#     scores.append(roc_auc_score(val_df[\"target\"], y_pred))\n",
    "#     print(f\"Fold {fold}, validation score: {scores[-1]:0.6f}\") # , opt.res_.x)\n",
    "#     print()\n",
    "    \n",
    "# print()\n",
    "# print(f\"Mean score: {np.mean(scores):0.6f}\")\n",
    "\n",
    "# # Fit on full OOFs and predict on test\n",
    "# opt = OptimizeAUC()\n",
    "# opt.fit(oof_df[cols], oof_df[\"target\"])\n",
    "# print()\n",
    "# print(\"Weights\", opt.coef_)\n",
    "# test_preds = opt.predict(sub_df.iloc[:, :-1])\n",
    "\n",
    "\n",
    "# Mean score: 0.879274\n",
    "# Mean score: 0.879286"
   ]
  },
  {
   "cell_type": "markdown",
   "metadata": {},
   "source": [
    "# Create Pseudo-labels"
   ]
  },
  {
   "cell_type": "code",
   "execution_count": 28,
   "metadata": {
    "ExecuteTime": {
     "end_time": "2021-09-22T13:00:47.332665Z",
     "start_time": "2021-09-22T13:00:46.038261Z"
    }
   },
   "outputs": [
    {
     "data": {
      "text/html": [
       "<div>\n",
       "<style scoped>\n",
       "    .dataframe tbody tr th:only-of-type {\n",
       "        vertical-align: middle;\n",
       "    }\n",
       "\n",
       "    .dataframe tbody tr th {\n",
       "        vertical-align: top;\n",
       "    }\n",
       "\n",
       "    .dataframe thead th {\n",
       "        text-align: right;\n",
       "    }\n",
       "</style>\n",
       "<table border=\"1\" class=\"dataframe\">\n",
       "  <thead>\n",
       "    <tr style=\"text-align: right;\">\n",
       "      <th></th>\n",
       "      <th>id</th>\n",
       "      <th>fold_0</th>\n",
       "      <th>fold_1</th>\n",
       "      <th>fold_2</th>\n",
       "      <th>fold_3</th>\n",
       "      <th>fold_4</th>\n",
       "      <th>mean</th>\n",
       "    </tr>\n",
       "  </thead>\n",
       "  <tbody>\n",
       "    <tr>\n",
       "      <th>0</th>\n",
       "      <td>00005bced6</td>\n",
       "      <td>0.917028</td>\n",
       "      <td>0.915698</td>\n",
       "      <td>0.923584</td>\n",
       "      <td>0.906600</td>\n",
       "      <td>0.922888</td>\n",
       "      <td>0.917159</td>\n",
       "    </tr>\n",
       "    <tr>\n",
       "      <th>1</th>\n",
       "      <td>0000806717</td>\n",
       "      <td>0.828213</td>\n",
       "      <td>0.834357</td>\n",
       "      <td>0.840458</td>\n",
       "      <td>0.834877</td>\n",
       "      <td>0.807080</td>\n",
       "      <td>0.828997</td>\n",
       "    </tr>\n",
       "    <tr>\n",
       "      <th>2</th>\n",
       "      <td>0000ef4fe1</td>\n",
       "      <td>0.326089</td>\n",
       "      <td>0.315983</td>\n",
       "      <td>0.356387</td>\n",
       "      <td>0.326407</td>\n",
       "      <td>0.337975</td>\n",
       "      <td>0.332568</td>\n",
       "    </tr>\n",
       "    <tr>\n",
       "      <th>3</th>\n",
       "      <td>00020de251</td>\n",
       "      <td>0.808227</td>\n",
       "      <td>0.791323</td>\n",
       "      <td>0.799086</td>\n",
       "      <td>0.814901</td>\n",
       "      <td>0.798198</td>\n",
       "      <td>0.802347</td>\n",
       "    </tr>\n",
       "    <tr>\n",
       "      <th>4</th>\n",
       "      <td>00024887b5</td>\n",
       "      <td>0.172984</td>\n",
       "      <td>0.168963</td>\n",
       "      <td>0.170359</td>\n",
       "      <td>0.181313</td>\n",
       "      <td>0.173900</td>\n",
       "      <td>0.173504</td>\n",
       "    </tr>\n",
       "  </tbody>\n",
       "</table>\n",
       "</div>"
      ],
      "text/plain": [
       "           id    fold_0    fold_1    fold_2    fold_3    fold_4      mean\n",
       "0  00005bced6  0.917028  0.915698  0.923584  0.906600  0.922888  0.917159\n",
       "1  0000806717  0.828213  0.834357  0.840458  0.834877  0.807080  0.828997\n",
       "2  0000ef4fe1  0.326089  0.315983  0.356387  0.326407  0.337975  0.332568\n",
       "3  00020de251  0.808227  0.791323  0.799086  0.814901  0.798198  0.802347\n",
       "4  00024887b5  0.172984  0.168963  0.170359  0.181313  0.173900  0.173504"
      ]
     },
     "execution_count": 28,
     "metadata": {},
     "output_type": "execute_result"
    }
   ],
   "source": [
    "test_paths = [OUTPUT_PATH / f.split(\"_\")[1] / f.replace(\"oofs\", \"test\") for f in oof_files]\n",
    "\n",
    "test_list = [pd.read_csv(p) for p in test_paths]\n",
    "\n",
    "test1 = test_list[0]\n",
    "pl_df = pd.DataFrame(test_list[0][[\"id\"]])\n",
    "\n",
    "for i in range(5):\n",
    "    fold_labels = 0\n",
    "    for t in test_list:\n",
    "        fold_labels += t[f\"fold_{i}\"]\n",
    "        \n",
    "    pl_df[f\"fold_{i}\"] = sigmoid(fold_labels / len(test_list))\n",
    "    \n",
    "\n",
    "pl_df[\"mean\"] = pl_df[pl_df.columns[1:]].mean(axis=1)\n",
    "\n",
    "if SAVE_FILES:\n",
    "    pl_df.to_csv(INPUT_PATH / \"pl_5_model_ensemble.csv\", index=False)\n",
    "        \n",
    "pl_df.head()"
   ]
  },
  {
   "cell_type": "code",
   "execution_count": 29,
   "metadata": {
    "ExecuteTime": {
     "end_time": "2021-09-22T13:00:48.228991Z",
     "start_time": "2021-09-22T13:00:47.333665Z"
    }
   },
   "outputs": [
    {
     "data": {
      "image/png": "[encoded data removed]",
      "text/plain": [
       "<Figure size 576x432 with 1 Axes>"
      ]
     },
     "metadata": {
      "needs_background": "light"
     },
     "output_type": "display_data"
    }
   ],
   "source": [
    "pl_df_filtered = pl_df # .query(\"(mean < 0.4) | (mean > 0.8 & mean < 0.99)\")\n",
    "\n",
    "plt.figure(figsize=(8,6))\n",
    "for c in pl_df.columns[1:]:\n",
    "    plt.hist(pl_df_filtered[c], bins=100, alpha=0.5, label=c)\n",
    "plt.legend(loc='upper right');"
   ]
  },
  {
   "cell_type": "code",
   "execution_count": 40,
   "metadata": {
    "ExecuteTime": {
     "end_time": "2021-09-22T13:14:26.067800Z",
     "start_time": "2021-09-22T13:14:25.223856Z"
    }
   },
   "outputs": [
    {
     "data": {
      "image/png": "[encoded data removed]",
      "text/plain": [
       "<Figure size 576x432 with 1 Axes>"
      ]
     },
     "metadata": {
      "needs_background": "light"
     },
     "output_type": "display_data"
    }
   ],
   "source": [
    "# Harden PLs\n",
    "cols = [f\"fold_{i}\" for i in range(5)]\n",
    "pl_df_hard = pl_df.copy()\n",
    "idxs = pl_df_hard[\"mean\"] > 0\n",
    "pl_df_hard.loc[idxs, cols] = sigmoid(logit(pl_df_hard.loc[idxs, cols]) * 2)\n",
    "\n",
    "\n",
    "plt.figure(figsize=(8,6))\n",
    "for c in pl_df.columns[1:]:\n",
    "    plt.hist(pl_df_hard[c], bins=100, alpha=0.5, label=c)\n",
    "plt.legend(loc='upper right');"
   ]
  },
  {
   "cell_type": "code",
   "execution_count": 37,
   "metadata": {
    "ExecuteTime": {
     "end_time": "2021-09-22T13:05:18.015007Z",
     "start_time": "2021-09-22T13:05:17.650017Z"
    }
   },
   "outputs": [
    {
     "name": "stdout",
     "output_type": "stream",
     "text": [
      "0.006448414634840949 1.0\n"
     ]
    },
    {
     "data": {
      "image/png": "[encoded data removed]",
      "text/plain": [
       "<Figure size 432x288 with 1 Axes>"
      ]
     },
     "metadata": {
      "needs_background": "light"
     },
     "output_type": "display_data"
    }
   ],
   "source": [
    "oof_df[\"mean_hard\"] = sigmoid(logit(oof_df[\"mean\"]) * 2)\n",
    "\n",
    "print(oof_df[\"mean_hard\"].min(), oof_df[\"mean_hard\"].max())\n",
    "\n",
    "oof_df[oof_df[\"target\"] == 0][\"mean_hard\"].hist(bins=100, alpha=0.5);\n",
    "oof_df[oof_df[\"target\"] == 1][\"mean_hard\"].hist(bins=100, alpha=0.5);"
   ]
  },
  {
   "cell_type": "code",
   "execution_count": 41,
   "metadata": {
    "ExecuteTime": {
     "end_time": "2021-09-22T13:14:56.450803Z",
     "start_time": "2021-09-22T13:14:56.409021Z"
    }
   },
   "outputs": [
    {
     "data": {
      "text/plain": [
       "0.3045154145679277"
      ]
     },
     "execution_count": 41,
     "metadata": {},
     "output_type": "execute_result"
    }
   ],
   "source": [
    "oof_df[(oof_df[\"target\"] == 1) & (oof_df[\"mean\"] < 0.5)].shape[0] / oof_df[oof_df[\"target\"] == 1].shape[0]"
   ]
  },
  {
   "cell_type": "markdown",
   "metadata": {},
   "source": [
    "# Linear weighting"
   ]
  },
  {
   "cell_type": "code",
   "execution_count": 32,
   "metadata": {
    "ExecuteTime": {
     "end_time": "2021-09-22T13:00:49.534986Z",
     "start_time": "2021-09-22T13:00:49.533157Z"
    }
   },
   "outputs": [],
   "source": [
    "# def calc_weights(df1, df2):\n",
    "    \n",
    "#     def func(weight):\n",
    "#         return score_oof(weight_dfs(df1, df2, weight))\n",
    "\n",
    "#     weights = []\n",
    "#     sweep = np.linspace(0, 1, 101)\n",
    "\n",
    "#     scores = np.array([func(w) for w in sweep])\n",
    "#     weights.append(sweep[np.argmax(scores)])\n",
    "        \n",
    "#     return weights\n",
    "\n",
    "\n",
    "# def weight_dfs(df1, df2, w):\n",
    "#     df_out = df1.copy()\n",
    "#     df_out[\"prediction\"] = w * df1[\"prediction\"] + (1 - w) * df2[\"prediction\"]\n",
    "#     return df_out\n",
    "\n",
    "\n",
    "# def stack(df1, df2):\n",
    "#     weights = calc_weights(df1, df2)\n",
    "#     print(list(np.round(weights, 2)))\n",
    "    \n",
    "#     sub = weight_dfs(df1, df2, weights)\n",
    "#     print(score_df(sub, gt))\n",
    "#     return sub"
   ]
  },
  {
   "cell_type": "code",
   "execution_count": 33,
   "metadata": {
    "ExecuteTime": {
     "end_time": "2021-09-22T13:00:49.540510Z",
     "start_time": "2021-09-22T13:00:49.535944Z"
    }
   },
   "outputs": [],
   "source": [
    "# calc_weights(oof1, oof3)"
   ]
  },
  {
   "cell_type": "code",
   "execution_count": null,
   "metadata": {},
   "outputs": [],
   "source": []
  }
 ],
 "metadata": {
  "kernelspec": {
   "display_name": "Python 3.8.8 64-bit ('kaggle': conda)",
   "language": "python",
   "name": "python388jvsc74a57bd0324064526588904db53d8c1754501a1e17277e16e25f64624bf6abfe73e224f9"
  },
  "language_info": {
   "codemirror_mode": {
    "name": "ipython",
    "version": 3
   },
   "file_extension": ".py",
   "mimetype": "text/x-python",
   "name": "python",
   "nbconvert_exporter": "python",
   "pygments_lexer": "ipython3",
   "version": "3.8.8"
  },
  "toc": {
   "base_numbering": 1,
   "nav_menu": {},
   "number_sections": true,
   "sideBar": true,
   "skip_h1_title": false,
   "title_cell": "Table of Contents",
   "title_sidebar": "Contents",
   "toc_cell": false,
   "toc_position": {},
   "toc_section_display": true,
   "toc_window_display": false
  }
 },
 "nbformat": 4,
 "nbformat_minor": 4
}
